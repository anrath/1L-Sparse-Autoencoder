{
 "cells": [
  {
   "cell_type": "code",
   "execution_count": 1,
   "metadata": {},
   "outputs": [],
   "source": [
    "import pandas as pd"
   ]
  },
  {
   "cell_type": "code",
   "execution_count": 2,
   "metadata": {},
   "outputs": [],
   "source": [
    "import json\n",
    "\n",
    "with open('results/feature_data.json') as f:\n",
    "    data = json.load(f)"
   ]
  },
  {
   "cell_type": "code",
   "execution_count": 3,
   "metadata": {},
   "outputs": [],
   "source": [
    "# def inspect_high_activations(feature, threshold=0.1):\n",
    "#     \"\"\"\n",
    "#     Display tokens with high activations along with their explanations for manual inspection.\n",
    "    \n",
    "#     Args:\n",
    "#     - feature (list): A list of dictionaries, where each dictionary represents a feature\n",
    "#                    and contains 'tokens', 'activations', and 'explanation'.\n",
    "#     - threshold (float): The activation threshold above which tokens will be displayed.\n",
    "#                          Default is 0.1.\n",
    "    \n",
    "#     Returns:\n",
    "#     - None: This function prints the tokens with activations above the threshold and their explanations.\n",
    "#     \"\"\"\n",
    "#     high_activations = []  # List to hold tokens and activations above the threshold\n",
    "#     length = len(feature['tokens'])  # Number of token lists in the feature\n",
    "    \n",
    "#     print('Feature Explanation:', feature['explanation'])  # Print the explanation for the feature\n",
    "    \n",
    "#     for i in range(length):\n",
    "#         tokens = feature['tokens'][i]\n",
    "#         activations = feature['activations'][i]\n",
    "        \n",
    "#         # Collect tokens and their activations if above the threshold\n",
    "#         for token, activation in zip(tokens, activations):\n",
    "#             if activation > threshold:\n",
    "#                 high_activations.append((token, activation))\n",
    "    \n",
    "#     # Print tokens and activations that are above the threshold\n",
    "#     high_activations = sorted(high_activations, key=lambda x: x[1], reverse=True)\n",
    "#     for token, activation in high_activations:\n",
    "#         print(f\"{token}|\\t|{activation:.4f}\")\n",
    "\n",
    "\n",
    "# # Example usage\n",
    "# # Assuming `data` is your dataset loaded as per the structure mentioned\n",
    "# inspect_high_activations(data[2], .1)  # You can adjust the threshold as needed\n"
   ]
  },
  {
   "cell_type": "code",
   "execution_count": null,
   "metadata": {},
   "outputs": [],
   "source": []
  },
  {
   "cell_type": "code",
   "execution_count": 4,
   "metadata": {},
   "outputs": [],
   "source": [
    "# for feature in data:\n",
    "#     length = len(feature['tokens'])\n",
    "#     print('Feature exp.:', feature['explanation'])\n",
    "#     for i in range(length):\n",
    "#         tokens = feature['tokens'][i]\n",
    "#         activations = feature['activations'][i]\n",
    "#         for j in range(len(tokens)):\n",
    "#             print(tokens[j], activations[j])"
   ]
  },
  {
   "cell_type": "code",
   "execution_count": null,
   "metadata": {},
   "outputs": [],
   "source": []
  },
  {
   "cell_type": "code",
   "execution_count": 7,
   "metadata": {},
   "outputs": [
    {
     "data": {
      "text/html": [
       "<p style='color: red;'>Feature exp., #0: partial words and names, especially when the name is split across multiple tokens.</p>"
      ],
      "text/plain": [
       "<IPython.core.display.HTML object>"
      ]
     },
     "metadata": {},
     "output_type": "display_data"
    },
    {
     "data": {
      "text/html": [
       "<p style='background: grey;'><span style=\"background:grey;\"> in</span> <span style=\"background:grey;\"> Melbourne</span> <span style=\"background:grey;\"> overnight</span> <span style=\"background:grey;\"> with</span> <span style=\"background:grey;\"> Club</span> <span style=\"background:grey;\"> Phys</span> <span style=\"background:grey;\">i</span> <span style=\"background:grey;\">other</span> <span style=\"background:grey;\">apist</span> <span style=\"background:#211900;\"> Andrew</span> <span style=\"background:grey;\"> Neal</span> <span style=\"background:grey;\">on</span> <span style=\"background:grey;\"> and</span> <span style=\"background:grey;\"> will</span> <span style=\"background:grey;\"> return</span> <span style=\"background:grey;\"> to</span> <span style=\"background:grey;\"> Sydney</span> <span style=\"background:grey;\"> this</span> <span style=\"background:grey;\"> morning</span> <span style=\"background:grey;\"> for</span> <span style=\"background:#342900;\"> immediate</span> <span style=\"background:grey;\"> surgery</span> <span style=\"background:#040300;\"> on</span> <span style=\"background:grey;\"> this</span> <span style=\"background:grey;\"> right</span> <span style=\"background:grey;\"> leg</span> <span style=\"background:grey;\">.</span> <span style=\"background:grey;\">\n",
       "</span> <span style=\"background:grey;\">\n",
       "</span> <span style=\"background:grey;\">The</span> <span style=\"background:grey;\"> Central</span> <span style=\"background:grey;\"> Coast</span> <span style=\"background:grey;\"> Mariners</span> <span style=\"background:grey;\"> will</span> <span style=\"background:grey;\"> provide</span> <span style=\"background:grey;\"> an</span> <span style=\"background:grey;\"> update</span> <span style=\"background:grey;\"> on</span> <span style=\"background:grey;\"> the</span> <span style=\"background:grey;\"> condition</span> <span style=\"background:grey;\"> on</span> <span style=\"background:grey;\"> Storm</span> <span style=\"background:#ffc800;\"> Rou</span> <span style=\"background:grey;\">x</span> <span style=\"background:grey;\"> following</span> <span style=\"background:grey;\"> his</span> <span style=\"background:grey;\"> surgery</span> <span style=\"background:grey;\"> that</span> <span style=\"background:grey;\"> will</span> <span style=\"background:grey;\"> determine</span> <span style=\"background:grey;\"> the</span> <span style=\"background:grey;\"> duration</span> <span style=\"background:grey;\"> he</span> <span style=\"background:grey;\"> will</span> <span style=\"background:grey;\"> remain</span> <span style=\"background:grey;\"> sidelined</span> <span style=\"background:grey;\">.</span> <span style=\"background:grey;\">\n",
       "</span> <span style=\"background:grey;\">\n",
       "</span> <span style=\"background:grey;\">The</span> <span style=\"background:grey;\"> Central</span> <span style=\"background:grey;\"> Coast</span> <span style=\"background:grey;\"> Mariners</span> <span style=\"background:grey;\"> would</span></p>"
      ],
      "text/plain": [
       "<IPython.core.display.HTML object>"
      ]
     },
     "metadata": {},
     "output_type": "display_data"
    },
    {
     "data": {
      "text/html": [
       "<p style='background: grey;'><span style=\"background:grey;\">.</span> <span style=\"background:#443500;\"> America</span> <span style=\"background:grey;\"> the</span> <span style=\"background:#231b00;\"> great</span> <span style=\"background:#2a2100;\">,</span> <span style=\"background:#0f0c00;\"> birthplace</span> <span style=\"background:#725900;\"> of</span> <span style=\"background:grey;\"> freedom</span> <span style=\"background:grey;\"> and</span> <span style=\"background:grey;\"> liberty</span> <span style=\"background:grey;\">,</span> <span style=\"background:grey;\"> taken</span> <span style=\"background:grey;\"> hostage</span> <span style=\"background:#665000;\"> by</span> <span style=\"background:grey;\"> college</span> <span style=\"background:grey;\"> students</span> <span style=\"background:#040300;\"> armed</span> <span style=\"background:grey;\"> with</span> <span style=\"background:grey;\"> ideas</span> <span style=\"background:#352a00;\"> from</span> <span style=\"background:grey;\"> Franz</span> <span style=\"background:#342800;\"> Fan</span> <span style=\"background:grey;\">on</span> <span style=\"background:#120e00;\">,</span> <span style=\"background:grey;\"> Judith</span> <span style=\"background:#322700;\"> Butler</span> <span style=\"background:grey;\"> or</span> <span style=\"background:grey;\"> Michel</span> <span style=\"background:#ffc800;\"> Fou</span> <span style=\"background:grey;\">c</span> <span style=\"background:#030300;\">ault</span> <span style=\"background:#1c1600;\"> and</span> <span style=\"background:#3d3000;\"> a</span> <span style=\"background:grey;\"> rising</span> <span style=\"background:grey;\"> tide</span> <span style=\"background:grey;\"> of</span> <span style=\"background:grey;\"> people</span> <span style=\"background:grey;\"> who</span> <span style=\"background:grey;\"> insisted</span> <span style=\"background:grey;\"> their</span> <span style=\"background:grey;\"> identities</span> <span style=\"background:grey;\"> and</span> <span style=\"background:grey;\"> experiences</span> <span style=\"background:grey;\"> be</span> <span style=\"background:grey;\"> accurately</span> <span style=\"background:grey;\"> described</span> <span style=\"background:#211a00;\"> and</span> <span style=\"background:grey;\"> taken</span> <span style=\"background:grey;\"> into</span> <span style=\"background:grey;\"> account</span> <span style=\"background:#050400;\">.</span> <span style=\"background:#1f1800;\"> I</span> <span style=\"background:grey;\"> was</span> <span style=\"background:grey;\"> one</span> <span style=\"background:grey;\"> of</span> <span style=\"background:grey;\"> those</span> <span style=\"background:grey;\"> college</span> <span style=\"background:grey;\"> students</span> <span style=\"background:grey;\"> and</span> <span style=\"background:grey;\"> was</span> <span style=\"background:grey;\"> rig</span> <span style=\"background:grey;\">orously</span> <span style=\"background:#0b0800;\"> trained</span> <span style=\"background:grey;\"> to</span></p>"
      ],
      "text/plain": [
       "<IPython.core.display.HTML object>"
      ]
     },
     "metadata": {},
     "output_type": "display_data"
    },
    {
     "data": {
      "text/html": [
       "<p style='background: grey;'><span style=\"background:grey;\">Ast</span> <span style=\"background:grey;\">ron</span> <span style=\"background:grey;\">omy</span> <span style=\"background:#030200;\"> Picture</span> <span style=\"background:grey;\"> of</span> <span style=\"background:grey;\"> the</span> <span style=\"background:#201900;\"> Day</span> <span style=\"background:grey;\"> Discover</span> <span style=\"background:grey;\"> the</span> <span style=\"background:grey;\"> cosmos</span> <span style=\"background:grey;\">!</span> <span style=\"background:#886b00;\"> Each</span> <span style=\"background:#745b00;\"> day</span> <span style=\"background:#8c6e00;\"> a</span> <span style=\"background:grey;\"> different</span> <span style=\"background:grey;\"> image</span> <span style=\"background:grey;\"> or</span> <span style=\"background:#755b00;\"> photograph</span> <span style=\"background:grey;\"> of</span> <span style=\"background:#3b2e00;\"> our</span> <span style=\"background:grey;\"> fascinating</span> <span style=\"background:grey;\"> universe</span> <span style=\"background:grey;\"> is</span> <span style=\"background:grey;\"> featured</span> <span style=\"background:grey;\">,</span> <span style=\"background:grey;\"> along</span> <span style=\"background:#604b00;\"> with</span> <span style=\"background:#8b6d00;\"> a</span> <span style=\"background:#130f00;\"> brief</span> <span style=\"background:#403200;\"> explanation</span> <span style=\"background:#a68200;\"> written</span> <span style=\"background:#ffc800;\"> by</span> <span style=\"background:#8b6d00;\"> a</span> <span style=\"background:#836700;\"> professional</span> <span style=\"background:#413300;\"> astronomer</span> <span style=\"background:#886a00;\">.</span> <span style=\"background:#604b00;\"> 2011</span> <span style=\"background:grey;\"> May</span> <span style=\"background:#030300;\"> 29</span> <span style=\"background:grey;\">\n",
       "</span> <span style=\"background:grey;\">\n",
       "</span> <span style=\"background:#352900;\">C</span> <span style=\"background:grey;\">omet</span> <span style=\"background:grey;\"> Between</span> <span style=\"background:grey;\"> Fire</span> <span style=\"background:grey;\">works</span> <span style=\"background:grey;\"> and</span> <span style=\"background:grey;\"> Lightning</span> <span style=\"background:grey;\">\n",
       "</span> <span style=\"background:grey;\">\n",
       "</span> <span style=\"background:#503f00;\">Credit</span> <span style=\"background:#6b5300;\"> &</span> <span style=\"background:grey;\"> Copyright</span> <span style=\"background:#0b0900;\">:</span> <span style=\"background:#2d2300;\"> Ant</span> <span style=\"background:#060500;\">ti</span> <span style=\"background:grey;\"> Kem</span> <span style=\"background:grey;\">pp</span> <span style=\"background:grey;\">ain</span> <span style=\"background:grey;\">en</span> <span style=\"background:grey;\">\n",
       "</span> <span style=\"background:grey;\">\n",
       "</span> <span style=\"background:#100d00;\">Ex</span> <span style=\"background:grey;\">plan</span></p>"
      ],
      "text/plain": [
       "<IPython.core.display.HTML object>"
      ]
     },
     "metadata": {},
     "output_type": "display_data"
    },
    {
     "data": {
      "text/html": [
       "<p style='background: grey;'><span style=\"background:grey;\">f</span> <span style=\"background:#241c00;\">us</span> <span style=\"background:#0b0900;\"> affair</span> <span style=\"background:#040300;\">.</span> <span style=\"background:grey;\"> On</span> <span style=\"background:grey;\"> the</span> <span style=\"background:grey;\"> day</span> <span style=\"background:#110d00;\"> of</span> <span style=\"background:#513f00;\"> President</span> <span style=\"background:#534100;\"> Fa</span> <span style=\"background:#a48100;\">ure</span> <span style=\"background:#8d6e00;\">'s</span> <span style=\"background:#3c2f00;\"> funeral</span> <span style=\"background:grey;\"> Paul</span> <span style=\"background:grey;\"> D</span> <span style=\"background:#362a00;\">é</span> <span style=\"background:#ffc800;\">rou</span> <span style=\"background:grey;\">l</span> <span style=\"background:#ffc800;\">è</span> <span style=\"background:grey;\">de</span> <span style=\"background:#140f00;\"> met</span> <span style=\"background:#403200;\"> the</span> <span style=\"background:grey;\"> troops</span> <span style=\"background:#524100;\"> under</span> <span style=\"background:#685100;\"> General</span> <span style=\"background:#4c3c00;\"> Rog</span> <span style=\"background:#080600;\">et</span> <span style=\"background:grey;\"> on</span> <span style=\"background:#392d00;\"> their</span> <span style=\"background:#050400;\"> return</span> <span style=\"background:grey;\"> to</span> <span style=\"background:grey;\"> barracks</span> <span style=\"background:grey;\">,</span> <span style=\"background:grey;\"> and</span> <span style=\"background:grey;\"> demanded</span> <span style=\"background:grey;\"> that</span> <span style=\"background:grey;\"> the</span> <span style=\"background:grey;\"> general</span> <span style=\"background:grey;\"> should</span> <span style=\"background:grey;\"> march</span> <span style=\"background:grey;\"> on</span> <span style=\"background:grey;\"> the</span> <span style=\"background:grey;\"> Elys</span> <span style=\"background:grey;\">ée</span> <span style=\"background:grey;\">.</span> <span style=\"background:#060500;\"> Rog</span> <span style=\"background:grey;\">et</span> <span style=\"background:#030300;\"> sens</span> <span style=\"background:grey;\">ibly</span> <span style=\"background:#050400;\"> took</span> <span style=\"background:grey;\"> his</span> <span style=\"background:grey;\"> troops</span> <span style=\"background:grey;\"> back</span> <span style=\"background:grey;\"> to</span> <span style=\"background:grey;\"> barracks</span> <span style=\"background:grey;\">.</span> <span style=\"background:#0d0a00;\"> At</span> <span style=\"background:#0b0800;\"> the</span> <span style=\"background:grey;\"> A</span> <span style=\"background:grey;\">ute</span> <span style=\"background:grey;\">u</span> <span style=\"background:grey;\">il</span> <span style=\"background:grey;\"> steep</span> <span style=\"background:grey;\">le</span></p>"
      ],
      "text/plain": [
       "<IPython.core.display.HTML object>"
      ]
     },
     "metadata": {},
     "output_type": "display_data"
    },
    {
     "data": {
      "text/html": [
       "<p style='background: grey;'><span style=\"background:grey;\"> is</span> <span style=\"background:#221b00;\"> signed</span> <span style=\"background:#0a0800;\"> by</span> <span style=\"background:grey;\"> Google</span> <span style=\"background:grey;\"> and</span> <span style=\"background:grey;\"> upgrades</span> <span style=\"background:#644e00;\"> your</span> <span style=\"background:#463700;\"> existing</span> <span style=\"background:grey;\"> app</span> <span style=\"background:grey;\">.</span> <span style=\"background:grey;\"> The</span> <span style=\"background:grey;\"> cryptographic</span> <span style=\"background:grey;\"> signature</span> <span style=\"background:grey;\"> guarantees</span> <span style=\"background:grey;\"> that</span> <span style=\"background:grey;\"> the</span> <span style=\"background:#382c00;\"> file</span> <span style=\"background:#bd9400;\"> is</span> <span style=\"background:#3e3100;\"> safe</span> <span style=\"background:#594600;\"> to</span> <span style=\"background:#2b2200;\"> install</span> <span style=\"background:grey;\"> and</span> <span style=\"background:#171200;\"> was</span> <span style=\"background:#ffc800;\"> not</span> <span style=\"background:#372b00;\"> tam</span> <span style=\"background:#846800;\">pered</span> <span style=\"background:#3b2e00;\"> with</span> <span style=\"background:grey;\"> in</span> <span style=\"background:#5f4b00;\"> any</span> <span style=\"background:grey;\"> way</span> <span style=\"background:#785e00;\">.</span> <span style=\"background:#292000;\"> Rather</span> <span style=\"background:#ffc800;\"> than</span> <span style=\"background:grey;\"> wait</span> <span style=\"background:#604b00;\"> for</span> <span style=\"background:#ffc800;\"> Google</span> <span style=\"background:#564300;\"> to</span> <span style=\"background:grey;\"> push</span> <span style=\"background:grey;\"> this</span> <span style=\"background:#826600;\"> download</span> <span style=\"background:#604c00;\"> to</span> <span style=\"background:#ad8700;\"> your</span> <span style=\"background:#4c3c00;\"> devices</span> <span style=\"background:grey;\">,</span> <span style=\"background:grey;\"> which</span> <span style=\"background:grey;\"> can</span> <span style=\"background:#e8b600;\"> take</span> <span style=\"background:#7d6200;\"> days</span> <span style=\"background:#a78300;\">,</span> <span style=\"background:#daab00;\"> download</span> <span style=\"background:#fdc600;\"> and</span> <span style=\"background:#473800;\"> install</span> <span style=\"background:#352900;\"> it</span> <span style=\"background:grey;\"> just</span> <span style=\"background:grey;\"> like</span> <span style=\"background:grey;\"> any</span> <span style=\"background:grey;\"> other</span> <span style=\"background:#372b00;\"> AP</span> <span style=\"background:#241c00;\">K</span> <span style=\"background:#151000;\">.</span> <span style=\"background:grey;\">\n",
       "</span> <span style=\"background:grey;\">\n",
       "</span> <span style=\"background:#624d00;\">File</span> <span style=\"background:#020100;\"> Name</span></p>"
      ],
      "text/plain": [
       "<IPython.core.display.HTML object>"
      ]
     },
     "metadata": {},
     "output_type": "display_data"
    },
    {
     "data": {
      "text/html": [
       "<p style='color: red;'>Feature exp., #1: names of people and dates.</p>"
      ],
      "text/plain": [
       "<IPython.core.display.HTML object>"
      ]
     },
     "metadata": {},
     "output_type": "display_data"
    },
    {
     "data": {
      "text/html": [
       "<p style='background: grey;'><span style=\"background:grey;\"> new</span> <span style=\"background:grey;\"> year</span> <span style=\"background:grey;\">,</span> <span style=\"background:grey;\"> but</span> <span style=\"background:grey;\"> Troy</span> <span style=\"background:grey;\"> Tul</span> <span style=\"background:#251d00;\">owitz</span> <span style=\"background:#181300;\">ki</span> <span style=\"background:grey;\"> is</span> <span style=\"background:#151000;\"> holding</span> <span style=\"background:grey;\"> on</span> <span style=\"background:grey;\"> to</span> <span style=\"background:grey;\"> an</span> <span style=\"background:#030200;\"> old</span> <span style=\"background:#6a5300;\"> gr</span> <span style=\"background:grey;\">udge</span> <span style=\"background:grey;\">.</span> <span style=\"background:grey;\">\n",
       "</span> <span style=\"background:grey;\">\n",
       "</span> <span style=\"background:grey;\">The</span> <span style=\"background:#130f00;\"> shortstop</span> <span style=\"background:grey;\"> is</span> <span style=\"background:grey;\"> still</span> <span style=\"background:grey;\"> furious</span> <span style=\"background:grey;\"> with</span> <span style=\"background:#3f3200;\"> Colorado</span> <span style=\"background:#241c00;\"> Rockies</span> <span style=\"background:grey;\"> executives</span> <span style=\"background:grey;\">,</span> <span style=\"background:grey;\"> particularly</span> <span style=\"background:#6c5400;\"> general</span> <span style=\"background:#392d00;\"> manager</span> <span style=\"background:#ffc800;\"> Jeff</span> <span style=\"background:#362a00;\"> Brid</span> <span style=\"background:#1d1700;\">ich</span> <span style=\"background:grey;\">,</span> <span style=\"background:#1f1800;\"> for</span> <span style=\"background:#322700;\"> blind</span> <span style=\"background:grey;\">s</span> <span style=\"background:#191400;\">iding</span> <span style=\"background:grey;\"> him</span> <span style=\"background:#201900;\"> with</span> <span style=\"background:#181200;\"> last</span> <span style=\"background:grey;\"> July</span> <span style=\"background:#0c0900;\">'s</span> <span style=\"background:#312600;\"> trade</span> <span style=\"background:grey;\"> to</span> <span style=\"background:grey;\"> the</span> <span style=\"background:#2a2100;\"> Toronto</span> <span style=\"background:#927200;\"> Blue</span> <span style=\"background:grey;\"> Jays</span> <span style=\"background:#0a0700;\">.</span> <span style=\"background:grey;\">\n",
       "</span> <span style=\"background:grey;\">\n",
       "</span> <span style=\"background:grey;\">\"</span> <span style=\"background:grey;\">I</span> <span style=\"background:grey;\">'ll</span> <span style=\"background:grey;\"> never</span> <span style=\"background:grey;\"> talk</span> <span style=\"background:grey;\"> to</span> <span style=\"background:grey;\"> him</span> <span style=\"background:grey;\">,</span> <span style=\"background:#040300;\"> never</span> <span style=\"background:grey;\"> talk</span></p>"
      ],
      "text/plain": [
       "<IPython.core.display.HTML object>"
      ]
     },
     "metadata": {},
     "output_type": "display_data"
    },
    {
     "data": {
      "text/html": [
       "<p style='background: grey;'><span style=\"background:grey;\">.</span> <span style=\"background:grey;\">\n",
       "</span> <span style=\"background:grey;\">\n",
       "</span> <span style=\"background:grey;\">Hey</span> <span style=\"background:grey;\"> there</span> <span style=\"background:grey;\">,</span> <span style=\"background:grey;\"> time</span> <span style=\"background:grey;\"> traveller</span> <span style=\"background:#2a2100;\">!</span> <span style=\"background:#735a00;\"> This</span> <span style=\"background:#ffc800;\"> article</span> <span style=\"background:#e9b700;\"> was</span> <span style=\"background:grey;\"> published</span> <span style=\"background:grey;\"> 7</span> <span style=\"background:grey;\">/</span> <span style=\"background:grey;\">1</span> <span style=\"background:grey;\">/</span> <span style=\"background:grey;\">2014</span> <span style=\"background:grey;\"> (</span> <span style=\"background:#5b4700;\">18</span> <span style=\"background:grey;\">75</span> <span style=\"background:#816500;\"> days</span> <span style=\"background:grey;\"> ago</span> <span style=\"background:grey;\">),</span> <span style=\"background:#715900;\"> so</span> <span style=\"background:#eebb00;\"> information</span> <span style=\"background:grey;\"> in</span> <span style=\"background:#b48d00;\"> it</span> <span style=\"background:#665000;\"> may</span> <span style=\"background:#140f00;\"> no</span> <span style=\"background:#9c7b00;\"> longer</span> <span style=\"background:grey;\"> be</span> <span style=\"background:grey;\"> current</span> <span style=\"background:grey;\">.</span> <span style=\"background:grey;\">\n",
       "</span> <span style=\"background:grey;\">\n",
       "</span> <span style=\"background:#141000;\">Hey</span> <span style=\"background:grey;\"> there</span> <span style=\"background:grey;\">,</span> <span style=\"background:grey;\"> time</span> <span style=\"background:grey;\"> traveller</span> <span style=\"background:grey;\">!</span> <span style=\"background:grey;\">\n",
       "</span> <span style=\"background:grey;\">\n",
       "</span> <span style=\"background:grey;\">This</span> <span style=\"background:#050400;\"> article</span> <span style=\"background:#3a2d00;\"> was</span> <span style=\"background:grey;\"> published</span> <span style=\"background:grey;\"> 7</span> <span style=\"background:grey;\">/</span> <span style=\"background:grey;\">1</span> <span style=\"background:grey;\">/</span> <span style=\"background:grey;\">2014</span> <span style=\"background:grey;\"> (</span> <span style=\"background:grey;\">18</span> <span style=\"background:grey;\">75</span> <span style=\"background:grey;\"> days</span> <span style=\"background:grey;\"> ago</span> <span style=\"background:grey;\">),</span> <span style=\"background:grey;\"> so</span> <span style=\"background:grey;\"> information</span> <span style=\"background:grey;\"> in</span> <span style=\"background:grey;\"> it</span> <span style=\"background:grey;\"> may</span></p>"
      ],
      "text/plain": [
       "<IPython.core.display.HTML object>"
      ]
     },
     "metadata": {},
     "output_type": "display_data"
    },
    {
     "data": {
      "text/html": [
       "<p style='background: grey;'><span style=\"background:grey;\"> 2008</span> <span style=\"background:#110d00;\">.</span> <span style=\"background:grey;\">\n",
       "</span> <span style=\"background:grey;\">\n",
       "</span> <span style=\"background:grey;\">By</span> <span style=\"background:grey;\"> the</span> <span style=\"background:grey;\"> time</span> <span style=\"background:grey;\"> Rig</span> <span style=\"background:grey;\">ters</span> <span style=\"background:grey;\"> got</span> <span style=\"background:grey;\"> his</span> <span style=\"background:grey;\"> goal</span> <span style=\"background:grey;\">,</span> <span style=\"background:grey;\"> the</span> <span style=\"background:grey;\"> damage</span> <span style=\"background:grey;\"> was</span> <span style=\"background:grey;\"> largely</span> <span style=\"background:grey;\"> done</span> <span style=\"background:grey;\"> at</span> <span style=\"background:grey;\"> 3</span> <span style=\"background:#312700;\">-</span> <span style=\"background:grey;\">0</span> <span style=\"background:grey;\">.</span> <span style=\"background:grey;\">\n",
       "</span> <span style=\"background:grey;\">\n",
       "</span> <span style=\"background:grey;\">While</span> <span style=\"background:grey;\"> only</span> <span style=\"background:grey;\"> a</span> <span style=\"background:grey;\"> pre</span> <span style=\"background:grey;\">-</span> <span style=\"background:grey;\">season</span> <span style=\"background:grey;\"> friendly</span> <span style=\"background:grey;\">,</span> <span style=\"background:grey;\"> the</span> <span style=\"background:grey;\"> result</span> <span style=\"background:grey;\"> and</span> <span style=\"background:grey;\"> general</span> <span style=\"background:grey;\"> performance</span> <span style=\"background:grey;\"> will</span> <span style=\"background:grey;\"> give</span> <span style=\"background:grey;\"> Phoenix</span> <span style=\"background:grey;\"> manager</span> <span style=\"background:#ffc800;\"> Rick</span> <span style=\"background:grey;\">i</span> <span style=\"background:grey;\"> Herbert</span> <span style=\"background:grey;\"> much</span> <span style=\"background:#2a2100;\"> food</span> <span style=\"background:grey;\"> for</span> <span style=\"background:grey;\"> thought</span> <span style=\"background:grey;\">.</span> <span style=\"background:grey;\">\n",
       "</span> <span style=\"background:grey;\">\n",
       "</span> <span style=\"background:#5b4800;\">Her</span> <span style=\"background:#130f00;\">bert</span> <span style=\"background:grey;\">'s</span> <span style=\"background:#0e0b00;\"> men</span> <span style=\"background:grey;\"> appear</span> <span style=\"background:#110d00;\"> some</span> <span style=\"background:grey;\"> way</span> <span style=\"background:#070500;\"> short</span> <span style=\"background:grey;\"> of</span> <span style=\"background:grey;\"> last</span> <span style=\"background:grey;\"> season</span> <span style=\"background:grey;\">'s</span></p>"
      ],
      "text/plain": [
       "<IPython.core.display.HTML object>"
      ]
     },
     "metadata": {},
     "output_type": "display_data"
    },
    {
     "data": {
      "text/html": [
       "<p style='background: grey;'><span style=\"background:grey;\"> this</span> <span style=\"background:grey;\"> winter</span> <span style=\"background:grey;\">,</span> <span style=\"background:grey;\"> though</span> <span style=\"background:grey;\"> Garcia</span> <span style=\"background:#010100;\"> ruled</span> <span style=\"background:grey;\"> out</span> <span style=\"background:grey;\"> a</span> <span style=\"background:grey;\"> return</span> <span style=\"background:grey;\"> to</span> <span style=\"background:grey;\"> Chicago</span> <span style=\"background:#010000;\"> earlier</span> <span style=\"background:grey;\"> today</span> <span style=\"background:grey;\">.</span> <span style=\"background:grey;\">\n",
       "</span> <span style=\"background:grey;\">\n",
       "</span> <span style=\"background:grey;\">The</span> <span style=\"background:grey;\"> veteran</span> <span style=\"background:grey;\"> right</span> <span style=\"background:grey;\">-</span> <span style=\"background:#302500;\">hander</span> <span style=\"background:grey;\"> posted</span> <span style=\"background:grey;\"> a</span> <span style=\"background:#8b6d00;\"> 4</span> <span style=\"background:grey;\">.</span> <span style=\"background:#181200;\">64</span> <span style=\"background:#0b0800;\"> ERA</span> <span style=\"background:grey;\">,</span> <span style=\"background:#c69b00;\"> 1</span> <span style=\"background:grey;\">.</span> <span style=\"background:#060500;\">98</span> <span style=\"background:#5e4900;\"> K</span> <span style=\"background:#ffc800;\">/</span> <span style=\"background:grey;\">BB</span> <span style=\"background:grey;\"> ratio</span> <span style=\"background:#040300;\"> and</span> <span style=\"background:#695200;\"> a</span> <span style=\"background:#9a7900;\"> 40</span> <span style=\"background:#020100;\">.</span> <span style=\"background:#fbc500;\">7</span> <span style=\"background:#a17f00;\">%</span> <span style=\"background:#020200;\"> ground</span> <span style=\"background:#3c2f00;\"> ball</span> <span style=\"background:grey;\"> rate</span> <span style=\"background:grey;\"> in</span> <span style=\"background:#e7b500;\"> 28</span> <span style=\"background:grey;\"> starts</span> <span style=\"background:grey;\"> with</span> <span style=\"background:grey;\"> the</span> <span style=\"background:grey;\"> White</span> <span style=\"background:grey;\"> Sox</span> <span style=\"background:grey;\"> last</span> <span style=\"background:grey;\"> season</span> <span style=\"background:grey;\">.</span> <span style=\"background:#614c00;\"> Garcia</span> <span style=\"background:grey;\"> threw</span> <span style=\"background:#ae8900;\"> 157</span> <span style=\"background:#4e3d00;\"> Major</span> <span style=\"background:#f9c300;\"> League</span> <span style=\"background:grey;\"> innings</span> <span style=\"background:grey;\"> in</span> <span style=\"background:grey;\"> 2010</span> <span style=\"background:grey;\"> —</span> <span style=\"background:#342900;\"> he</span></p>"
      ],
      "text/plain": [
       "<IPython.core.display.HTML object>"
      ]
     },
     "metadata": {},
     "output_type": "display_data"
    },
    {
     "data": {
      "text/html": [
       "<p style='background: grey;'><span style=\"background:grey;\">th</span> <span style=\"background:#2f2500;\">\":</span> <span style=\"background:grey;\">184</span> <span style=\"background:grey;\">,\"</span> <span style=\"background:grey;\">tu</span> <span style=\"background:#1e1800;\">\":\"</span> <span style=\"background:#322700;\">https</span> <span style=\"background:grey;\">://</span> <span style=\"background:grey;\">encrypted</span> <span style=\"background:#171200;\">-</span> <span style=\"background:grey;\">t</span> <span style=\"background:#1b1500;\">bn</span> <span style=\"background:grey;\">2</span> <span style=\"background:#705700;\">.</span> <span style=\"background:grey;\">g</span> <span style=\"background:#1f1800;\">static</span> <span style=\"background:#937300;\">.</span> <span style=\"background:#110d00;\">com</span> <span style=\"background:#271f00;\">/</span> <span style=\"background:#907100;\">images</span> <span style=\"background:#ffc800;\">?</span> <span style=\"background:#644e00;\">q</span> <span style=\"background:#8d6f00;\">\\</span> <span style=\"background:grey;\">u</span> <span style=\"background:#503f00;\">003</span> <span style=\"background:#3e3000;\">dt</span> <span style=\"background:#4b3a00;\">bn</span> <span style=\"background:#785e00;\">:</span> <span style=\"background:#c99e00;\">AN</span> <span style=\"background:#876a00;\">d</span> <span style=\"background:grey;\">9</span> <span style=\"background:grey;\">G</span> <span style=\"background:#392d00;\">c</span> <span style=\"background:grey;\">SK</span> <span style=\"background:grey;\">m</span> <span style=\"background:grey;\">fd</span> <span style=\"background:grey;\">C</span> <span style=\"background:grey;\">1</span> <span style=\"background:grey;\">Q</span> <span style=\"background:grey;\">da</span> <span style=\"background:grey;\">B</span> <span style=\"background:grey;\">4</span> <span style=\"background:grey;\">n</span> <span style=\"background:grey;\">6</span> <span style=\"background:grey;\">c</span> <span style=\"background:grey;\">IJ</span> <span style=\"background:grey;\">L</span> <span style=\"background:grey;\">IV</span> <span style=\"background:grey;\">1</span> <span style=\"background:grey;\">GB</span> <span style=\"background:grey;\">m</span> <span style=\"background:#0b0900;\">Y</span> <span style=\"background:grey;\">-</span> <span style=\"background:grey;\">x</span> <span style=\"background:grey;\">V</span> <span style=\"background:grey;\">7</span> <span style=\"background:grey;\">l</span> <span style=\"background:grey;\">N</span> <span style=\"background:grey;\">n</span> <span style=\"background:grey;\">F</span> <span style=\"background:grey;\">h</span> <span style=\"background:grey;\">6</span> <span style=\"background:grey;\">e</span> <span style=\"background:grey;\">SY</span></p>"
      ],
      "text/plain": [
       "<IPython.core.display.HTML object>"
      ]
     },
     "metadata": {},
     "output_type": "display_data"
    },
    {
     "data": {
      "text/html": [
       "<p style='color: red;'>Feature exp., #2:  personal names and numerical data related to sports statistics and financial values.</p>"
      ],
      "text/plain": [
       "<IPython.core.display.HTML object>"
      ]
     },
     "metadata": {},
     "output_type": "display_data"
    },
    {
     "data": {
      "text/html": [
       "<p style='background: grey;'><span style=\"background:grey;\">,</span> <span style=\"background:grey;\"> who</span> <span style=\"background:grey;\"> was</span> <span style=\"background:grey;\"> holding</span> <span style=\"background:grey;\"> a</span> <span style=\"background:#0d0a00;\"> replica</span> <span style=\"background:grey;\"> gun</span> <span style=\"background:grey;\">.</span> <span style=\"background:grey;\">\n",
       "</span> <span style=\"background:grey;\">\n",
       "</span> <span style=\"background:grey;\">\"</span> <span style=\"background:grey;\">Given</span> <span style=\"background:grey;\"> the</span> <span style=\"background:#0d0a00;\"> authentic</span> <span style=\"background:#141000;\"> look</span> <span style=\"background:grey;\"> of</span> <span style=\"background:grey;\"> all</span> <span style=\"background:grey;\"> these</span> <span style=\"background:grey;\"> guns</span> <span style=\"background:grey;\">,</span> <span style=\"background:grey;\"> police</span> <span style=\"background:grey;\"> officers</span> <span style=\"background:grey;\"> have</span> <span style=\"background:grey;\"> a</span> <span style=\"background:grey;\"> real</span> <span style=\"background:grey;\"> difficult</span> <span style=\"background:grey;\"> time</span> <span style=\"background:#080600;\"> to</span> <span style=\"background:grey;\"> distinguish</span> <span style=\"background:grey;\"> what</span> <span style=\"background:grey;\"> is</span> <span style=\"background:grey;\"> real</span> <span style=\"background:grey;\"> and</span> <span style=\"background:#211a00;\"> what</span> <span style=\"background:grey;\">'s</span> <span style=\"background:grey;\"> not</span> <span style=\"background:grey;\"> and</span> <span style=\"background:grey;\"> our</span> <span style=\"background:grey;\"> worst</span> <span style=\"background:grey;\"> case</span> <span style=\"background:grey;\"> scenario</span> <span style=\"background:grey;\"> is</span> <span style=\"background:grey;\"> what</span> <span style=\"background:grey;\"> happened</span> <span style=\"background:grey;\"> in</span> <span style=\"background:grey;\"> Cleveland</span> <span style=\"background:grey;\"> happening</span> <span style=\"background:grey;\"> here</span> <span style=\"background:grey;\"> in</span> <span style=\"background:grey;\"> Boston</span> <span style=\"background:grey;\">,\"</span> <span style=\"background:grey;\"> Boston</span> <span style=\"background:grey;\"> Police</span> <span style=\"background:#332800;\"> Commissioner</span> <span style=\"background:#ffc800;\"> William</span> <span style=\"background:grey;\"> Evans</span> <span style=\"background:grey;\"> said</span> <span style=\"background:#382c00;\">.</span> <span style=\"background:grey;\"> \"</span> <span style=\"background:grey;\">We</span> <span style=\"background:grey;\"> come</span> <span style=\"background:grey;\"> upon</span> <span style=\"background:grey;\"> too</span> <span style=\"background:grey;\"> many</span></p>"
      ],
      "text/plain": [
       "<IPython.core.display.HTML object>"
      ]
     },
     "metadata": {},
     "output_type": "display_data"
    },
    {
     "data": {
      "text/html": [
       "<p style='background: grey;'><span style=\"background:grey;\">\n",
       "</span> <span style=\"background:grey;\">\n",
       "</span> <span style=\"background:#161100;\">DI</span> <span style=\"background:grey;\"> Marg</span> <span style=\"background:grey;\">us</span> <span style=\"background:#080600;\"> Hunt</span> <span style=\"background:grey;\">,</span> <span style=\"background:grey;\"> 86</span> <span style=\"background:#352a00;\">.</span> <span style=\"background:#090700;\">0</span> <span style=\"background:#090700;\"> overall</span> <span style=\"background:grey;\"> grade</span> <span style=\"background:grey;\">\n",
       "</span> <span style=\"background:grey;\">\n",
       "</span> <span style=\"background:grey;\">DI</span> <span style=\"background:grey;\"> John</span> <span style=\"background:grey;\">athan</span> <span style=\"background:grey;\"> Hank</span> <span style=\"background:grey;\">ins</span> <span style=\"background:grey;\">,</span> <span style=\"background:#201900;\"> 84</span> <span style=\"background:#ffc800;\">.</span> <span style=\"background:#261e00;\">3</span> <span style=\"background:#171200;\"> overall</span> <span style=\"background:grey;\"> grade</span> <span style=\"background:grey;\">\n",
       "</span> <span style=\"background:grey;\">\n",
       "</span> <span style=\"background:grey;\">S</span> <span style=\"background:grey;\"> T</span> <span style=\"background:#040300;\">.</span> <span style=\"background:grey;\">J</span> <span style=\"background:grey;\">.</span> <span style=\"background:grey;\"> Green</span> <span style=\"background:grey;\">,</span> <span style=\"background:#090700;\"> 83</span> <span style=\"background:#ffc800;\">.</span> <span style=\"background:grey;\">8</span> <span style=\"background:grey;\"> overall</span> <span style=\"background:grey;\"> grade</span> <span style=\"background:grey;\">\n",
       "</span> <span style=\"background:grey;\">\n",
       "</span> <span style=\"background:grey;\">Per</span> <span style=\"background:grey;\">form</span> <span style=\"background:grey;\">ances</span> <span style=\"background:grey;\"> of</span> <span style=\"background:grey;\"> Note</span> <span style=\"background:#0f0c00;\">:</span> <span style=\"background:grey;\">\n",
       "</span> <span style=\"background:grey;\">\n",
       "</span> <span style=\"background:grey;\">RB</span> <span style=\"background:grey;\"> Frank</span> <span style=\"background:grey;\"> Gore</span> <span style=\"background:grey;\">,</span> <span style=\"background:#1d1700;\"> 86</span> <span style=\"background:#f8c300;\">.</span> <span style=\"background:#221b00;\">4</span> <span style=\"background:#030200;\"> overall</span> <span style=\"background:#030200;\"> grade</span> <span style=\"background:grey;\">\n",
       "</span> <span style=\"background:grey;\">\n",
       "</span> <span style=\"background:grey;\">With</span> <span style=\"background:grey;\"> both</span> <span style=\"background:grey;\"> teams</span> <span style=\"background:grey;\"> having</span></p>"
      ],
      "text/plain": [
       "<IPython.core.display.HTML object>"
      ]
     },
     "metadata": {},
     "output_type": "display_data"
    },
    {
     "data": {
      "text/html": [
       "<p style='background: grey;'><span style=\"background:grey;\">,</span> <span style=\"background:grey;\"> are</span> <span style=\"background:grey;\"> the</span> <span style=\"background:grey;\"> only</span> <span style=\"background:grey;\"> NFL</span> <span style=\"background:grey;\"> team</span> <span style=\"background:grey;\"> worth</span> <span style=\"background:#1d1600;\"> more</span> <span style=\"background:grey;\"> than</span> <span style=\"background:#4e3d00;\"> $</span> <span style=\"background:#0f0c00;\">2</span> <span style=\"background:grey;\"> billion</span> <span style=\"background:grey;\">.</span> <span style=\"background:grey;\">\n",
       "</span> <span style=\"background:grey;\">\n",
       "</span> <span style=\"background:grey;\">The</span> <span style=\"background:grey;\"> New</span> <span style=\"background:grey;\"> England</span> <span style=\"background:grey;\"> Patriots</span> <span style=\"background:#4e3d00;\"> ($</span> <span style=\"background:#181300;\">1</span> <span style=\"background:#8e7000;\">.</span> <span style=\"background:#140f00;\">8</span> <span style=\"background:grey;\"> billion</span> <span style=\"background:grey;\">),</span> <span style=\"background:grey;\"> the</span> <span style=\"background:grey;\"> Washington</span> <span style=\"background:#201900;\"> Redskins</span> <span style=\"background:#9e7c00;\"> ($</span> <span style=\"background:#2b2200;\">1</span> <span style=\"background:#ffc800;\">.</span> <span style=\"background:#110e00;\">7</span> <span style=\"background:#130f00;\"> billion</span> <span style=\"background:grey;\">),</span> <span style=\"background:grey;\"> the</span> <span style=\"background:grey;\"> New</span> <span style=\"background:grey;\"> York</span> <span style=\"background:#3a2e00;\"> Giants</span> <span style=\"background:#9a7800;\"> ($</span> <span style=\"background:#1c1600;\">1</span> <span style=\"background:#ffc800;\">.</span> <span style=\"background:grey;\">55</span> <span style=\"background:#110e00;\"> billion</span> <span style=\"background:#070500;\">)</span> <span style=\"background:grey;\"> and</span> <span style=\"background:grey;\"> the</span> <span style=\"background:grey;\"> Houston</span> <span style=\"background:#211a00;\"> Texans</span> <span style=\"background:#866900;\"> ($</span> <span style=\"background:#0d0a00;\">1</span> <span style=\"background:#d5a700;\">.</span> <span style=\"background:grey;\">45</span> <span style=\"background:#090700;\"> billion</span> <span style=\"background:grey;\">)</span> <span style=\"background:#181300;\"> round</span> <span style=\"background:grey;\"> out</span> <span style=\"background:grey;\"> the</span> <span style=\"background:grey;\"> top</span> <span style=\"background:grey;\"> five</span> <span style=\"background:#030200;\">.</span> <span style=\"background:grey;\"> The</span> <span style=\"background:grey;\"> entire</span> <span style=\"background:grey;\"> NFC</span> <span style=\"background:grey;\"> East</span></p>"
      ],
      "text/plain": [
       "<IPython.core.display.HTML object>"
      ]
     },
     "metadata": {},
     "output_type": "display_data"
    },
    {
     "data": {
      "text/html": [
       "<p style='background: grey;'><span style=\"background:grey;\">)</span> <span style=\"background:grey;\"> received</span> <span style=\"background:#352900;\"> $</span> <span style=\"background:#302500;\">5</span> <span style=\"background:#947400;\">.</span> <span style=\"background:grey;\">3</span> <span style=\"background:grey;\"> million</span> <span style=\"background:grey;\"> for</span> <span style=\"background:grey;\"> a</span> <span style=\"background:#544100;\"> \"</span> <span style=\"background:grey;\">ye</span> <span style=\"background:grey;\">a</span> <span style=\"background:grey;\">\"</span> <span style=\"background:grey;\"> vote</span> <span style=\"background:grey;\"> and</span> <span style=\"background:grey;\"> was</span> <span style=\"background:grey;\"> the</span> <span style=\"background:grey;\"> highest</span> <span style=\"background:grey;\"> paid</span> <span style=\"background:grey;\"> legislator</span> <span style=\"background:grey;\">.</span> <span style=\"background:grey;\">\n",
       "</span> <span style=\"background:grey;\">\n",
       "</span> <span style=\"background:grey;\">Kevin</span> <span style=\"background:#100c00;\"> McCarthy</span> <span style=\"background:#080600;\"> (</span> <span style=\"background:grey;\">R</span> <span style=\"background:grey;\">-</span> <span style=\"background:#1f1800;\">CA</span> <span style=\"background:grey;\">)</span> <span style=\"background:grey;\"> received</span> <span style=\"background:#7f6400;\"> $</span> <span style=\"background:#342900;\">2</span> <span style=\"background:#ecb900;\">.</span> <span style=\"background:#120e00;\">4</span> <span style=\"background:#140f00;\"> million</span> <span style=\"background:grey;\"> for</span> <span style=\"background:grey;\"> his</span> <span style=\"background:#271e00;\"> \"</span> <span style=\"background:#372b00;\">ye</span> <span style=\"background:#0f0c00;\">a</span> <span style=\"background:grey;\">\"</span> <span style=\"background:#080600;\"> vote</span> <span style=\"background:grey;\">.</span> <span style=\"background:grey;\">\n",
       "</span> <span style=\"background:grey;\">\n",
       "</span> <span style=\"background:grey;\">Paul</span> <span style=\"background:grey;\"> Ryan</span> <span style=\"background:grey;\"> (</span> <span style=\"background:grey;\">R</span> <span style=\"background:grey;\">-</span> <span style=\"background:#312600;\">WI</span> <span style=\"background:grey;\">)</span> <span style=\"background:grey;\"> received</span> <span style=\"background:#9c7a00;\"> $</span> <span style=\"background:#261e00;\">2</span> <span style=\"background:#ffc800;\">.</span> <span style=\"background:grey;\">4</span> <span style=\"background:#332800;\"> million</span> <span style=\"background:#090700;\"> for</span> <span style=\"background:#251d00;\"> a</span> <span style=\"background:#1b1500;\"> \"</span> <span style=\"background:#3e3100;\">ye</span> <span style=\"background:#241c00;\">a</span></p>"
      ],
      "text/plain": [
       "<IPython.core.display.HTML object>"
      ]
     },
     "metadata": {},
     "output_type": "display_data"
    },
    {
     "data": {
      "text/html": [
       "<p style='background: grey;'><span style=\"background:grey;\">,</span> <span style=\"background:grey;\"> 21</span> <span style=\"background:#050400;\"> IP</span> <span style=\"background:grey;\">,</span> <span style=\"background:#171200;\"> 2</span> <span style=\"background:#705800;\">.</span> <span style=\"background:#171200;\">14</span> <span style=\"background:grey;\"> ERA</span> <span style=\"background:grey;\">,</span> <span style=\"background:#020100;\"> 1</span> <span style=\"background:#c89d00;\">.</span> <span style=\"background:grey;\">09</span> <span style=\"background:#060400;\">5</span> <span style=\"background:#2f2500;\"> WH</span> <span style=\"background:#181300;\">IP</span> <span style=\"background:grey;\">\n",
       "</span> <span style=\"background:grey;\">\n",
       "</span> <span style=\"background:grey;\">B</span> <span style=\"background:grey;\"> –</span> <span style=\"background:grey;\"> 14</span> <span style=\"background:#1a1400;\"> G</span> <span style=\"background:grey;\">,</span> <span style=\"background:grey;\"> 11</span> <span style=\"background:#9e7c00;\">.</span> <span style=\"background:#443600;\">2</span> <span style=\"background:#0b0800;\"> IP</span> <span style=\"background:grey;\">,</span> <span style=\"background:#0e0b00;\"> 10</span> <span style=\"background:#ffc800;\">.</span> <span style=\"background:#5c4800;\">03</span> <span style=\"background:#110d00;\"> ERA</span> <span style=\"background:grey;\">,</span> <span style=\"background:grey;\"> 2</span> <span style=\"background:#daab00;\">.</span> <span style=\"background:#2a2100;\">486</span> <span style=\"background:#322700;\"> WH</span> <span style=\"background:#020200;\">IP</span> <span style=\"background:grey;\">\n",
       "</span> <span style=\"background:grey;\">\n",
       "</span> <span style=\"background:#1a1400;\">C</span> <span style=\"background:grey;\"> –</span> <span style=\"background:#181300;\"> 8</span> <span style=\"background:#030300;\"> G</span> <span style=\"background:grey;\">,</span> <span style=\"background:#0d0a00;\"> 6</span> <span style=\"background:#ffc800;\">.</span> <span style=\"background:#342900;\">2</span> <span style=\"background:grey;\"> IP</span> <span style=\"background:grey;\">,</span> <span style=\"background:grey;\"> 1</span> <span style=\"background:#cda000;\">.</span> <span style=\"background:#362a00;\">35</span> <span style=\"background:#0a0800;\"> ERA</span> <span style=\"background:grey;\">,</span> <span style=\"background:grey;\"> 0</span> <span style=\"background:#bd9400;\">.</span> <span style=\"background:#2a2100;\">750</span> <span style=\"background:#211900;\"> WH</span> <span style=\"background:#000000;\">IP</span> <span style=\"background:#1f1800;\">\n",
       "</span> <span style=\"background:#2d2300;\">\n",
       "</span> <span style=\"background:grey;\">Much</span> <span style=\"background:grey;\"> like</span> <span style=\"background:grey;\"> with</span></p>"
      ],
      "text/plain": [
       "<IPython.core.display.HTML object>"
      ]
     },
     "metadata": {},
     "output_type": "display_data"
    },
    {
     "data": {
      "text/html": [
       "<p style='color: red;'>Feature exp., #3: names and titles of individuals, particularly those related to governance or authority.</p>"
      ],
      "text/plain": [
       "<IPython.core.display.HTML object>"
      ]
     },
     "metadata": {},
     "output_type": "display_data"
    },
    {
     "data": {
      "text/html": [
       "<p style='background: grey;'><span style=\"background:grey;\"> (@</span> <span style=\"background:#6a5300;\">S</span> <span style=\"background:grey;\">ri</span> <span style=\"background:#403200;\">S</span> <span style=\"background:grey;\">ri</span> <span style=\"background:grey;\">)</span> <span style=\"background:grey;\"> August</span> <span style=\"background:grey;\"> 27</span> <span style=\"background:grey;\">,</span> <span style=\"background:grey;\"> 2016</span> <span style=\"background:grey;\">\n",
       "</span> <span style=\"background:#010100;\">\n",
       "</span> <span style=\"background:grey;\">J</span> <span style=\"background:grey;\">ammu</span> <span style=\"background:grey;\"> and</span> <span style=\"background:grey;\"> Kashmir</span> <span style=\"background:grey;\"> Chief</span> <span style=\"background:grey;\"> Minister</span> <span style=\"background:#917100;\"> Meh</span> <span style=\"background:#6b5400;\">bo</span> <span style=\"background:#000000;\">oba</span> <span style=\"background:#463700;\"> Mu</span> <span style=\"background:#d8aa00;\">ft</span> <span style=\"background:grey;\">i</span> <span style=\"background:grey;\"> +</span> <span style=\"background:grey;\">\n",
       "</span> <span style=\"background:grey;\">\n",
       "</span> <span style=\"background:#554200;\">K</span> <span style=\"background:#574400;\">ash</span> <span style=\"background:grey;\">mir</span> <span style=\"background:grey;\"> problem</span> <span style=\"background:grey;\"> +</span> <span style=\"background:grey;\">\n",
       "</span> <span style=\"background:grey;\">\n",
       "</span> <span style=\"background:grey;\">NEW</span> <span style=\"background:grey;\"> DEL</span> <span style=\"background:grey;\">HI</span> <span style=\"background:grey;\">:</span> <span style=\"background:grey;\"> With</span> <span style=\"background:grey;\"> the</span> <span style=\"background:grey;\"> Centre</span> <span style=\"background:#030200;\"> grappling</span> <span style=\"background:grey;\"> to</span> <span style=\"background:grey;\"> bring</span> <span style=\"background:grey;\"> peace</span> <span style=\"background:grey;\"> in</span> <span style=\"background:grey;\"> rest</span> <span style=\"background:grey;\">ive</span> <span style=\"background:grey;\"> Kashmir</span> <span style=\"background:grey;\"> after</span> <span style=\"background:grey;\"> the</span> <span style=\"background:grey;\"> killing</span> <span style=\"background:grey;\"> of</span> <span style=\"background:grey;\"> H</span> <span style=\"background:grey;\">iz</span> <span style=\"background:grey;\">bul</span> <span style=\"background:grey;\"> terrorist</span> <span style=\"background:#4f3e00;\"> Bur</span> <span style=\"background:#211a00;\">han</span> <span style=\"background:#ffc800;\"> W</span> <span style=\"background:grey;\">ani</span> <span style=\"background:grey;\">,</span> <span style=\"background:grey;\"> the</span> <span style=\"background:grey;\"> slain</span></p>"
      ],
      "text/plain": [
       "<IPython.core.display.HTML object>"
      ]
     },
     "metadata": {},
     "output_type": "display_data"
    },
    {
     "data": {
      "text/html": [
       "<p style='background: grey;'><span style=\"background:grey;\"> expenses</span> <span style=\"background:#1f1800;\"> a</span> <span style=\"background:#090700;\"> nice</span> <span style=\"background:grey;\"> escort</span> <span style=\"background:#030300;\"> as</span> <span style=\"background:grey;\"> a</span> <span style=\"background:#0e0b00;\"> travel</span> <span style=\"background:grey;\"> expense</span> <span style=\"background:grey;\">.</span> <span style=\"background:#352a00;\">\n",
       "</span> <span style=\"background:#342900;\">\n",
       "</span> <span style=\"background:grey;\">P</span> <span style=\"background:grey;\">redict</span> <span style=\"background:grey;\">ability</span> <span style=\"background:grey;\"> and</span> <span style=\"background:#060400;\"> idi</span> <span style=\"background:grey;\">ocy</span> <span style=\"background:#3c2f00;\"> go</span> <span style=\"background:#604c00;\"> hand</span> <span style=\"background:#ffc800;\"> in</span> <span style=\"background:#161100;\"> hand</span> <span style=\"background:grey;\"> though</span> <span style=\"background:#0e0b00;\">.</span> <span style=\"background:grey;\"> I</span> <span style=\"background:grey;\"> remember</span> <span style=\"background:grey;\"> seeing</span> <span style=\"background:grey;\"> only</span> <span style=\"background:grey;\"> self</span> <span style=\"background:grey;\">-</span> <span style=\"background:#2b2200;\">check</span> <span style=\"background:grey;\">outs</span> <span style=\"background:grey;\"> in</span> <span style=\"background:#0c0900;\"> C</span> <span style=\"background:grey;\">VS</span> <span style=\"background:grey;\"> and</span> <span style=\"background:#392d00;\"> huge</span> <span style=\"background:grey;\"> line</span> <span style=\"background:#392c00;\"> and</span> <span style=\"background:grey;\"> simply</span> <span style=\"background:grey;\"> dropping</span> <span style=\"background:grey;\"> the</span> <span style=\"background:grey;\"> juice</span> <span style=\"background:grey;\"> I</span> <span style=\"background:grey;\"> had</span> <span style=\"background:grey;\"> and</span> <span style=\"background:grey;\"> leaving</span> <span style=\"background:grey;\"> the</span> <span style=\"background:grey;\"> store</span> <span style=\"background:#050400;\"> going</span> <span style=\"background:grey;\"> next</span> <span style=\"background:grey;\"> door</span> <span style=\"background:grey;\"> to</span> <span style=\"background:grey;\"> buy</span> <span style=\"background:grey;\"> the</span> <span style=\"background:grey;\"> same</span> <span style=\"background:grey;\"> exact</span> <span style=\"background:grey;\"> product</span> <span style=\"background:grey;\"> and</span> <span style=\"background:grey;\"> getting</span> <span style=\"background:grey;\"> out</span> <span style=\"background:#282000;\"> of</span> <span style=\"background:grey;\"> the</span> <span style=\"background:grey;\"> store</span> <span style=\"background:grey;\"> as</span></p>"
      ],
      "text/plain": [
       "<IPython.core.display.HTML object>"
      ]
     },
     "metadata": {},
     "output_type": "display_data"
    },
    {
     "data": {
      "text/html": [
       "<p style='background: grey;'><span style=\"background:grey;\"> spinal</span> <span style=\"background:grey;\"> injury</span> <span style=\"background:#3f3200;\"> he</span> <span style=\"background:grey;\"> suffered</span> <span style=\"background:grey;\"> in</span> <span style=\"background:grey;\"> police</span> <span style=\"background:grey;\"> custody</span> <span style=\"background:grey;\">.</span> <span style=\"background:grey;\">\n",
       "</span> <span style=\"background:grey;\">\n",
       "</span> <span style=\"background:grey;\">Mary</span> <span style=\"background:grey;\">land</span> <span style=\"background:#1a1500;\"> Gov</span> <span style=\"background:#ffc800;\">.</span> <span style=\"background:#907100;\"> Larry</span> <span style=\"background:grey;\"> Hogan</span> <span style=\"background:grey;\"> declared</span> <span style=\"background:grey;\"> a</span> <span style=\"background:#241c00;\"> state</span> <span style=\"background:#564400;\"> of</span> <span style=\"background:grey;\"> emergency</span> <span style=\"background:grey;\"> and</span> <span style=\"background:#312600;\"> called</span> <span style=\"background:grey;\"> in</span> <span style=\"background:#0c0900;\"> the</span> <span style=\"background:#1e1800;\"> National</span> <span style=\"background:grey;\"> Guard</span> <span style=\"background:#241c00;\"> to</span> <span style=\"background:grey;\"> restore</span> <span style=\"background:grey;\"> order</span> <span style=\"background:grey;\"> \"</span> <span style=\"background:#1f1800;\">less</span> <span style=\"background:#3d2f00;\"> than</span> <span style=\"background:grey;\"> 30</span> <span style=\"background:grey;\"> seconds</span> <span style=\"background:grey;\">\"</span> <span style=\"background:grey;\"> after</span> <span style=\"background:#0a0800;\"> the</span> <span style=\"background:grey;\"> request</span> <span style=\"background:grey;\"> from</span> <span style=\"background:grey;\"> Baltimore</span> <span style=\"background:#ffc800;\"> Mayor</span> <span style=\"background:grey;\"> Stephanie</span> <span style=\"background:grey;\"> Raw</span> <span style=\"background:#0c0900;\">lings</span> <span style=\"background:#856800;\">-</span> <span style=\"background:grey;\">Blake</span> <span style=\"background:#302500;\">.</span> <span style=\"background:#100c00;\"> The</span> <span style=\"background:#0b0800;\"> Maryland</span> <span style=\"background:#1c1600;\"> State</span> <span style=\"background:grey;\"> Police</span> <span style=\"background:grey;\">,</span> <span style=\"background:grey;\"> backed</span> <span style=\"background:grey;\"> by</span> <span style=\"background:#040300;\"> the</span> <span style=\"background:#261d00;\"> Maryland</span> <span style=\"background:#3e3100;\"> National</span> <span style=\"background:grey;\"> Guard</span> <span style=\"background:grey;\">,</span> <span style=\"background:#554200;\"> will</span> <span style=\"background:grey;\"> be</span> <span style=\"background:grey;\"> in</span> <span style=\"background:#2e2400;\"> charge</span></p>"
      ],
      "text/plain": [
       "<IPython.core.display.HTML object>"
      ]
     },
     "metadata": {},
     "output_type": "display_data"
    },
    {
     "data": {
      "text/html": [
       "<p style='background: grey;'><span style=\"background:grey;\"> state</span> <span style=\"background:#0d0a00;\">.\"</span> <span style=\"background:grey;\">\n",
       "</span> <span style=\"background:grey;\">\n",
       "</span> <span style=\"background:#181300;\">Meanwhile</span> <span style=\"background:grey;\">,</span> <span style=\"background:grey;\"> the</span> <span style=\"background:grey;\"> lawyer</span> <span style=\"background:grey;\"> for</span> <span style=\"background:#100d00;\"> Muhammad</span> <span style=\"background:#0f0b00;\"> Kh</span> <span style=\"background:grey;\">att</span> <span style=\"background:grey;\">ak</span> <span style=\"background:#060500;\">,</span> <span style=\"background:#040300;\"> one</span> <span style=\"background:grey;\"> of</span> <span style=\"background:grey;\"> the</span> <span style=\"background:grey;\"> men</span> <span style=\"background:#020100;\"> arrested</span> <span style=\"background:#1e1800;\"> after</span> <span style=\"background:grey;\"> being</span> <span style=\"background:grey;\"> photographed</span> <span style=\"background:#110d00;\"> with</span> <span style=\"background:grey;\"> Ford</span> <span style=\"background:grey;\"> outside</span> <span style=\"background:#040300;\"> a</span> <span style=\"background:grey;\"> suspected</span> <span style=\"background:#271f00;\"> crack</span> <span style=\"background:grey;\"> house</span> <span style=\"background:grey;\">,</span> <span style=\"background:#050400;\"> said</span> <span style=\"background:grey;\"> he</span> <span style=\"background:grey;\"> is</span> <span style=\"background:#141000;\"> trying</span> <span style=\"background:#322700;\"> to</span> <span style=\"background:#4e3d00;\"> get</span> <span style=\"background:#4d3c00;\"> one</span> <span style=\"background:grey;\"> of</span> <span style=\"background:grey;\"> the</span> <span style=\"background:grey;\"> videos</span> <span style=\"background:grey;\"> that</span> <span style=\"background:grey;\"> police</span> <span style=\"background:grey;\"> obtained</span> <span style=\"background:grey;\"> released</span> <span style=\"background:grey;\"> to</span> <span style=\"background:#665000;\"> the</span> <span style=\"background:grey;\"> public</span> <span style=\"background:#141000;\">.</span> <span style=\"background:grey;\">\n",
       "</span> <span style=\"background:grey;\">\n",
       "</span> <span style=\"background:grey;\">Toronto</span> <span style=\"background:grey;\"> police</span> <span style=\"background:#413300;\"> Chief</span> <span style=\"background:#ffc800;\"> Bill</span> <span style=\"background:grey;\"> Blair</span> <span style=\"background:grey;\"> recently</span> <span style=\"background:grey;\"> disclosed</span> <span style=\"background:grey;\"> that</span> <span style=\"background:grey;\"> police</span> <span style=\"background:grey;\"> had</span> <span style=\"background:grey;\"> obtained</span> <span style=\"background:grey;\"> a</span> <span style=\"background:#1b1500;\"> video</span> <span style=\"background:grey;\"> of</span></p>"
      ],
      "text/plain": [
       "<IPython.core.display.HTML object>"
      ]
     },
     "metadata": {},
     "output_type": "display_data"
    },
    {
     "data": {
      "text/html": [
       "<p style='background: grey;'><span style=\"background:grey;\">.\"</span> <span style=\"background:#010100;\">\n",
       "</span> <span style=\"background:#171200;\">\n",
       "</span> <span style=\"background:grey;\">Besides</span> <span style=\"background:grey;\"> Ohio</span> <span style=\"background:grey;\">,</span> <span style=\"background:grey;\"> many</span> <span style=\"background:grey;\"> other</span> <span style=\"background:grey;\"> states</span> <span style=\"background:grey;\"> have</span> <span style=\"background:#1d1700;\"> deployed</span> <span style=\"background:grey;\"> reinforcements</span> <span style=\"background:grey;\"> to</span> <span style=\"background:grey;\"> North</span> <span style=\"background:grey;\"> Dakota</span> <span style=\"background:grey;\"> after</span> <span style=\"background:#473700;\"> Gov</span> <span style=\"background:#ffc800;\">.</span> <span style=\"background:#4e3d00;\"> Jack</span> <span style=\"background:#534100;\"> Dal</span> <span style=\"background:grey;\">ry</span> <span style=\"background:#0d0a00;\">m</span> <span style=\"background:grey;\">ple</span> <span style=\"background:grey;\"> declared</span> <span style=\"background:grey;\"> a</span> <span style=\"background:#0c0900;\"> state</span> <span style=\"background:#312700;\"> of</span> <span style=\"background:grey;\"> emergency</span> <span style=\"background:grey;\"> surrounding</span> <span style=\"background:#221a00;\"> the</span> <span style=\"background:grey;\"> ongoing</span> <span style=\"background:grey;\"> protests</span> <span style=\"background:#1c1600;\">.</span> <span style=\"background:grey;\"> Wisconsin</span> <span style=\"background:grey;\">,</span> <span style=\"background:grey;\"> Indiana</span> <span style=\"background:grey;\">,</span> <span style=\"background:grey;\"> South</span> <span style=\"background:grey;\"> Dakota</span> <span style=\"background:#030200;\">,</span> <span style=\"background:grey;\"> Minnesota</span> <span style=\"background:grey;\">,</span> <span style=\"background:grey;\"> Wyoming</span> <span style=\"background:grey;\"> and</span> <span style=\"background:grey;\"> Nebraska</span> <span style=\"background:grey;\"> have</span> <span style=\"background:grey;\"> all</span> <span style=\"background:grey;\"> sent</span> <span style=\"background:grey;\"> personnel</span> <span style=\"background:grey;\">,</span> <span style=\"background:grey;\"> according</span> <span style=\"background:grey;\"> to</span> <span style=\"background:grey;\"> an</span> <span style=\"background:grey;\"> Oct</span> <span style=\"background:grey;\">.</span> <span style=\"background:grey;\"> 23</span> <span style=\"background:grey;\"> release</span> <span style=\"background:grey;\"> from</span> <span style=\"background:#141000;\"> the</span> <span style=\"background:#251d00;\"> Morton</span> <span style=\"background:#372b00;\"> County</span> <span style=\"background:#271e00;\"> Sheriff</span> <span style=\"background:#100c00;\">'s</span> <span style=\"background:grey;\"> Department</span></p>"
      ],
      "text/plain": [
       "<IPython.core.display.HTML object>"
      ]
     },
     "metadata": {},
     "output_type": "display_data"
    },
    {
     "data": {
      "text/html": [
       "<p style='color: red;'>Feature exp., #4: conjunctions, punctuation marks, and commonly occurring words in a sentence.</p>"
      ],
      "text/plain": [
       "<IPython.core.display.HTML object>"
      ]
     },
     "metadata": {},
     "output_type": "display_data"
    },
    {
     "data": {
      "text/html": [
       "<p style='background: grey;'><span style=\"background:grey;\">,</span> <span style=\"background:#020200;\"> because</span> <span style=\"background:grey;\"> Anime</span> <span style=\"background:grey;\">News</span> <span style=\"background:grey;\">.</span> <span style=\"background:grey;\">biz</span> <span style=\"background:grey;\"> reports</span> <span style=\"background:grey;\"> that</span> <span style=\"background:grey;\"> the</span> <span style=\"background:grey;\"> Hulu</span> <span style=\"background:grey;\"> page</span> <span style=\"background:grey;\"> for</span> <span style=\"background:#020200;\"> Fract</span> <span style=\"background:grey;\">ale</span> <span style=\"background:grey;\"> has</span> <span style=\"background:#010100;\"> a</span> <span style=\"background:grey;\"> date</span> <span style=\"background:grey;\"> for</span> <span style=\"background:grey;\"> the</span> <span style=\"background:#211a00;\"> second</span> <span style=\"background:grey;\"> episode</span> <span style=\"background:grey;\"> of</span> <span style=\"background:grey;\"> Monday</span> <span style=\"background:grey;\">,</span> <span style=\"background:#7c6100;\"> January</span> <span style=\"background:#030200;\"> 24</span> <span style=\"background:grey;\">.</span> <span style=\"background:#000000;\"> Mission</span> <span style=\"background:grey;\"> accomplished</span> <span style=\"background:grey;\">!</span> <span style=\"background:grey;\">\n",
       "</span> <span style=\"background:grey;\">\n",
       "</span> <span style=\"background:#2d2300;\">More</span> <span style=\"background:#080600;\"> likely</span> <span style=\"background:grey;\"> than</span> <span style=\"background:grey;\"> not</span> <span style=\"background:grey;\">,</span> <span style=\"background:#1d1700;\"> FUN</span> <span style=\"background:#050400;\">imation</span> <span style=\"background:#050400;\"> sent</span> <span style=\"background:#0e0b00;\"> out</span> <span style=\"background:#0d0a00;\"> some</span> <span style=\"background:#130f00;\"> cease</span> <span style=\"background:#5f4a00;\">-</span> <span style=\"background:#1f1900;\">and</span> <span style=\"background:#ffc800;\">-</span> <span style=\"background:#100d00;\">des</span> <span style=\"background:#000000;\">ist</span> <span style=\"background:grey;\"> letters</span> <span style=\"background:#110d00;\"> and</span> <span style=\"background:grey;\"> showed</span> <span style=\"background:#000000;\"> them</span> <span style=\"background:#010100;\"> to</span> <span style=\"background:grey;\"> the</span> <span style=\"background:grey;\"> creators</span> <span style=\"background:#181200;\"> at</span> <span style=\"background:grey;\"> Yam</span> <span style=\"background:#151000;\">ak</span> <span style=\"background:#140f00;\">an</span> <span style=\"background:#261e00;\">'s</span> <span style=\"background:grey;\"> Studio</span> <span style=\"background:#141000;\"> Ord</span> <span style=\"background:grey;\">et</span> <span style=\"background:grey;\"> and</span></p>"
      ],
      "text/plain": [
       "<IPython.core.display.HTML object>"
      ]
     },
     "metadata": {},
     "output_type": "display_data"
    },
    {
     "data": {
      "text/html": [
       "<p style='background: grey;'><span style=\"background:grey;\">BE</span> <span style=\"background:#000000;\"> is</span> <span style=\"background:grey;\"> a</span> <span style=\"background:grey;\"> testing</span> <span style=\"background:grey;\"> grounds</span> <span style=\"background:grey;\"> for</span> <span style=\"background:grey;\"> new</span> <span style=\"background:grey;\">,</span> <span style=\"background:grey;\"> tentative</span> <span style=\"background:#191300;\">,</span> <span style=\"background:#322700;\"> and</span> <span style=\"background:#231b00;\"> sometimes</span> <span style=\"background:grey;\"> radical</span> <span style=\"background:grey;\"> changes</span> <span style=\"background:grey;\">.</span> <span style=\"background:grey;\"> The</span> <span style=\"background:grey;\"> changes</span> <span style=\"background:grey;\"> you</span> <span style=\"background:grey;\"> see</span> <span style=\"background:grey;\"> below</span> <span style=\"background:#daab00;\"> may</span> <span style=\"background:#9c7a00;\"> be</span> <span style=\"background:grey;\"> lacking</span> <span style=\"background:grey;\"> context</span> <span style=\"background:grey;\"> or</span> <span style=\"background:grey;\"> other</span> <span style=\"background:grey;\"> accompanying</span> <span style=\"background:grey;\"> changes</span> <span style=\"background:grey;\"> that</span> <span style=\"background:grey;\"> didn</span> <span style=\"background:#110e00;\">'t</span> <span style=\"background:grey;\"> make</span> <span style=\"background:grey;\"> it</span> <span style=\"background:grey;\"> in</span> <span style=\"background:grey;\"> -</span> <span style=\"background:grey;\"> don</span> <span style=\"background:grey;\">'t</span> <span style=\"background:grey;\"> freak</span> <span style=\"background:grey;\"> out</span> <span style=\"background:#332800;\">!</span> <span style=\"background:grey;\"> These</span> <span style=\"background:#5d4900;\"> are</span> <span style=\"background:#271f00;\"> not</span> <span style=\"background:#0d0a00;\"> official</span> <span style=\"background:grey;\"> notes</span> <span style=\"background:grey;\">.</span> <span style=\"background:#544200;\"> *</span> <span style=\"background:grey;\"> Remember</span> <span style=\"background:#292000;\"> *</span> <span style=\"background:#0b0900;\">:</span> <span style=\"background:grey;\"> The</span> <span style=\"background:grey;\"> P</span> <span style=\"background:#0c0900;\">BE</span> <span style=\"background:#634d00;\"> is</span> <span style=\"background:#a78300;\"> a</span> <span style=\"background:#000000;\"> testing</span> <span style=\"background:grey;\"> grounds</span> <span style=\"background:#0d0a00;\"> for</span> <span style=\"background:#030200;\"> new</span> <span style=\"background:#413300;\">,</span> <span style=\"background:grey;\"> tentative</span> <span style=\"background:grey;\">,</span> <span style=\"background:grey;\"> and</span> <span style=\"background:#110d00;\"> sometimes</span></p>"
      ],
      "text/plain": [
       "<IPython.core.display.HTML object>"
      ]
     },
     "metadata": {},
     "output_type": "display_data"
    },
    {
     "data": {
      "text/html": [
       "<p style='background: grey;'><span style=\"background:grey;\">\n",
       "</span> <span style=\"background:grey;\">\n",
       "</span> <span style=\"background:grey;\">The</span> <span style=\"background:grey;\"> Syrian</span> <span style=\"background:grey;\"> regime</span> <span style=\"background:grey;\"> has</span> <span style=\"background:grey;\"> killed</span> <span style=\"background:grey;\"> more</span> <span style=\"background:grey;\"> than</span> <span style=\"background:grey;\"> 1</span> <span style=\"background:grey;\">,</span> <span style=\"background:grey;\">500</span> <span style=\"background:grey;\"> civilians</span> <span style=\"background:grey;\">,</span> <span style=\"background:#000000;\"> human</span> <span style=\"background:grey;\"> rights</span> <span style=\"background:grey;\"> groups</span> <span style=\"background:grey;\"> say</span> <span style=\"background:grey;\">,</span> <span style=\"background:grey;\"> and</span> <span style=\"background:grey;\"> about</span> <span style=\"background:grey;\"> 12</span> <span style=\"background:grey;\">,</span> <span style=\"background:grey;\">000</span> <span style=\"background:grey;\"> people</span> <span style=\"background:#030200;\"> have</span> <span style=\"background:#010000;\"> been</span> <span style=\"background:grey;\"> arrested</span> <span style=\"background:grey;\">.</span> <span style=\"background:grey;\"> Nonetheless</span> <span style=\"background:grey;\">,</span> <span style=\"background:grey;\"> it</span> <span style=\"background:#120e00;\"> appears</span> <span style=\"background:#040300;\"> the</span> <span style=\"background:grey;\"> regime</span> <span style=\"background:#191400;\">'s</span> <span style=\"background:grey;\"> opponents</span> <span style=\"background:grey;\"> have</span> <span style=\"background:#130e00;\"> not</span> <span style=\"background:#090700;\"> managed</span> <span style=\"background:grey;\"> to</span> <span style=\"background:#140f00;\"> create</span> <span style=\"background:#030200;\"> a</span> <span style=\"background:#040300;\"> unified</span> <span style=\"background:grey;\"> leadership</span> <span style=\"background:grey;\">.</span> <span style=\"background:grey;\">\n",
       "</span> <span style=\"background:grey;\">\n",
       "</span> <span style=\"background:grey;\">Keep</span> <span style=\"background:grey;\"> updated</span> <span style=\"background:grey;\">:</span> <span style=\"background:grey;\"> Sign</span> <span style=\"background:grey;\"> up</span> <span style=\"background:grey;\"> to</span> <span style=\"background:grey;\"> our</span> <span style=\"background:#644e00;\"> newsletter</span> <span style=\"background:#aa8500;\"> Email</span> <span style=\"background:#685200;\"> *</span> <span style=\"background:#574400;\"> Please</span> <span style=\"background:grey;\"> enter</span> <span style=\"background:#614c00;\"> a</span> <span style=\"background:grey;\"> valid</span> <span style=\"background:#846800;\"> email</span> <span style=\"background:#d4a600;\"> address</span></p>"
      ],
      "text/plain": [
       "<IPython.core.display.HTML object>"
      ]
     },
     "metadata": {},
     "output_type": "display_data"
    },
    {
     "data": {
      "text/html": [
       "<p style='background: grey;'><span style=\"background:grey;\">ar</span> <span style=\"background:grey;\">ately</span> <span style=\"background:grey;\">,</span> <span style=\"background:#000000;\"> Senator</span> <span style=\"background:#0b0800;\"> Elizabeth</span> <span style=\"background:grey;\"> Warren</span> <span style=\"background:grey;\"> and</span> <span style=\"background:grey;\"> several</span> <span style=\"background:#010000;\"> other</span> <span style=\"background:grey;\"> Democrats</span> <span style=\"background:grey;\"> have</span> <span style=\"background:grey;\"> called</span> <span style=\"background:grey;\"> for</span> <span style=\"background:grey;\"> new</span> <span style=\"background:#060400;\"> Wells</span> <span style=\"background:#130f00;\"> Fargo</span> <span style=\"background:grey;\"> hearings</span> <span style=\"background:#060400;\">.</span> <span style=\"background:grey;\"> In</span> <span style=\"background:grey;\"> a</span> <span style=\"background:grey;\"> letter</span> <span style=\"background:grey;\"> to</span> <span style=\"background:grey;\"> Republican</span> <span style=\"background:grey;\"> Senate</span> <span style=\"background:#010100;\"> Banking</span> <span style=\"background:grey;\"> Committee</span> <span style=\"background:#151000;\"> Chairman</span> <span style=\"background:#8c6e00;\"> Mike</span> <span style=\"background:#322700;\"> C</span> <span style=\"background:grey;\">rap</span> <span style=\"background:grey;\">o</span> <span style=\"background:grey;\">,</span> <span style=\"background:grey;\"> the</span> <span style=\"background:grey;\"> Democrats</span> <span style=\"background:grey;\"> requested</span> <span style=\"background:grey;\"> a</span> <span style=\"background:grey;\"> September</span> <span style=\"background:grey;\"> hearing</span> <span style=\"background:grey;\"> with</span> <span style=\"background:#010100;\"> Wells</span> <span style=\"background:#080600;\"> Fargo</span> <span style=\"background:#5c4800;\"> CEO</span> <span style=\"background:#816500;\"> Tim</span> <span style=\"background:grey;\"> Sloan</span> <span style=\"background:grey;\"> and</span> <span style=\"background:#6b5400;\"> Chairman</span> <span style=\"background:#ca9e00;\"> Stephen</span> <span style=\"background:#4b3b00;\"> S</span> <span style=\"background:grey;\">anger</span> <span style=\"background:#100c00;\">.</span> <span style=\"background:grey;\"> C</span> <span style=\"background:grey;\">rap</span> <span style=\"background:grey;\">o</span> <span style=\"background:grey;\">'s</span> <span style=\"background:grey;\"> committee</span> <span style=\"background:grey;\"> did</span> <span style=\"background:grey;\"> not</span> <span style=\"background:#010100;\"> respond</span> <span style=\"background:grey;\"> to</span> <span style=\"background:grey;\"> a</span> <span style=\"background:grey;\"> request</span> <span style=\"background:grey;\"> for</span> <span style=\"background:grey;\"> comment</span> <span style=\"background:grey;\"> from</span></p>"
      ],
      "text/plain": [
       "<IPython.core.display.HTML object>"
      ]
     },
     "metadata": {},
     "output_type": "display_data"
    },
    {
     "data": {
      "text/html": [
       "<p style='background: grey;'><span style=\"background:grey;\"> was</span> <span style=\"background:grey;\"> quite</span> <span style=\"background:grey;\"> a</span> <span style=\"background:grey;\"> private</span> <span style=\"background:grey;\"> person</span> <span style=\"background:grey;\">.</span> <span style=\"background:grey;\"> He</span> <span style=\"background:grey;\"> never</span> <span style=\"background:grey;\"> spoke</span> <span style=\"background:grey;\"> about</span> <span style=\"background:grey;\"> Chris</span> <span style=\"background:grey;\"> Sie</span> <span style=\"background:grey;\">vey</span> <span style=\"background:grey;\">,</span> <span style=\"background:#1a1400;\"> it</span> <span style=\"background:grey;\"> was</span> <span style=\"background:grey;\"> all</span> <span style=\"background:grey;\"> about</span> <span style=\"background:grey;\"> the</span> <span style=\"background:grey;\"> character</span> <span style=\"background:grey;\">.\"</span> <span style=\"background:grey;\">\n",
       "</span> <span style=\"background:grey;\">\n",
       "</span> <span style=\"background:grey;\">He</span> <span style=\"background:#090700;\"> said</span> <span style=\"background:grey;\"> Sie</span> <span style=\"background:#020100;\">vey</span> <span style=\"background:#130f00;\"> was</span> <span style=\"background:grey;\"> planning</span> <span style=\"background:grey;\"> to</span> <span style=\"background:grey;\"> come</span> <span style=\"background:grey;\"> out</span> <span style=\"background:grey;\"> from</span> <span style=\"background:grey;\"> under</span> <span style=\"background:grey;\"> the</span> <span style=\"background:grey;\"> pap</span> <span style=\"background:grey;\">ier</span> <span style=\"background:#c69b00;\">-</span> <span style=\"background:grey;\">m</span> <span style=\"background:grey;\">ache</span> <span style=\"background:grey;\"> mask</span> <span style=\"background:#161100;\"> in</span> <span style=\"background:grey;\"> the</span> <span style=\"background:grey;\"> coming</span> <span style=\"background:grey;\"> years</span> <span style=\"background:#211a00;\">.</span> <span style=\"background:grey;\">\n",
       "</span> <span style=\"background:grey;\">\n",
       "</span> <span style=\"background:grey;\">\"</span> <span style=\"background:#040300;\">Everyone</span> <span style=\"background:grey;\"> kept</span> <span style=\"background:grey;\"> it</span> <span style=\"background:grey;\"> really</span> <span style=\"background:grey;\"> quiet</span> <span style=\"background:#2d2400;\">.</span> <span style=\"background:grey;\"> We</span> <span style=\"background:grey;\"> were</span> <span style=\"background:#171200;\"> probably</span> <span style=\"background:#010100;\"> only</span> <span style=\"background:#000000;\"> 12</span> <span style=\"background:grey;\"> months</span> <span style=\"background:grey;\"> from</span> <span style=\"background:grey;\"> him</span> <span style=\"background:grey;\"> uncover</span></p>"
      ],
      "text/plain": [
       "<IPython.core.display.HTML object>"
      ]
     },
     "metadata": {},
     "output_type": "display_data"
    },
    {
     "data": {
      "text/html": [
       "<p style='color: red;'>Feature exp., #5: terms associated with substance abuse and emotional distress.</p>"
      ],
      "text/plain": [
       "<IPython.core.display.HTML object>"
      ]
     },
     "metadata": {},
     "output_type": "display_data"
    },
    {
     "data": {
      "text/html": [
       "<p style='background: grey;'><span style=\"background:grey;\"> youth</span> <span style=\"background:#030200;\"> to</span> <span style=\"background:grey;\"> write</span> <span style=\"background:grey;\">,</span> <span style=\"background:grey;\"> film</span> <span style=\"background:grey;\">,</span> <span style=\"background:grey;\"> edit</span> <span style=\"background:grey;\"> and</span> <span style=\"background:grey;\"> produce</span> <span style=\"background:#010100;\"> six</span> <span style=\"background:grey;\"> different</span> <span style=\"background:grey;\"> public</span> <span style=\"background:grey;\"> service</span> <span style=\"background:grey;\"> announcements</span> <span style=\"background:#040300;\">.</span> <span style=\"background:grey;\">\n",
       "</span> <span style=\"background:grey;\">\n",
       "</span> <span style=\"background:grey;\">The</span> <span style=\"background:grey;\"> Red</span> <span style=\"background:grey;\">wood</span> <span style=\"background:grey;\"> Creek</span> <span style=\"background:grey;\"> Camp</span> <span style=\"background:#120e00;\"> is</span> <span style=\"background:#312600;\"> a</span> <span style=\"background:#281f00;\"> summer</span> <span style=\"background:grey;\"> program</span> <span style=\"background:#342900;\"> for</span> <span style=\"background:grey;\"> at</span> <span style=\"background:grey;\">-</span> <span style=\"background:grey;\">risk</span> <span style=\"background:grey;\"> juveniles</span> <span style=\"background:#050400;\"> devoted</span> <span style=\"background:#000000;\"> to</span> <span style=\"background:grey;\"> inspiring</span> <span style=\"background:grey;\"> youth</span> <span style=\"background:grey;\"> to</span> <span style=\"background:grey;\"> strive</span> <span style=\"background:grey;\"> for</span> <span style=\"background:grey;\"> a</span> <span style=\"background:grey;\"> better</span> <span style=\"background:grey;\"> way</span> <span style=\"background:grey;\"> of</span> <span style=\"background:grey;\"> life</span> <span style=\"background:#0a0800;\"> by</span> <span style=\"background:#080600;\"> providing</span> <span style=\"background:grey;\"> activities</span> <span style=\"background:#090700;\"> that</span> <span style=\"background:grey;\"> serve</span> <span style=\"background:grey;\"> as</span> <span style=\"background:#000000;\"> safe</span> <span style=\"background:grey;\"> and</span> <span style=\"background:grey;\"> healthy</span> <span style=\"background:grey;\"> alternatives</span> <span style=\"background:#322700;\"> to</span> <span style=\"background:#ffc800;\"> substance</span> <span style=\"background:#413300;\"> abuse</span> <span style=\"background:#010100;\">.</span> <span style=\"background:#221b00;\"> Grant</span> <span style=\"background:#413300;\"> funds</span> <span style=\"background:#2c2200;\"> will</span> <span style=\"background:grey;\"> be</span> <span style=\"background:#080700;\"> used</span> <span style=\"background:#271e00;\"> for</span> <span style=\"background:#483900;\"> program</span></p>"
      ],
      "text/plain": [
       "<IPython.core.display.HTML object>"
      ]
     },
     "metadata": {},
     "output_type": "display_data"
    },
    {
     "data": {
      "text/html": [
       "<p style='background: grey;'><span style=\"background:grey;\"> research</span> <span style=\"background:#090700;\"> showed</span> <span style=\"background:grey;\"> that</span> <span style=\"background:grey;\">:</span> <span style=\"background:grey;\">\n",
       "</span> <span style=\"background:grey;\">\n",
       "</span> <span style=\"background:grey;\">Individual</span> <span style=\"background:grey;\">s</span> <span style=\"background:grey;\"> who</span> <span style=\"background:grey;\"> suffered</span> <span style=\"background:grey;\"> multiple</span> <span style=\"background:#050400;\"> types</span> <span style=\"background:#070500;\"> of</span> <span style=\"background:grey;\"> ACE</span> <span style=\"background:grey;\">s</span> <span style=\"background:grey;\"> (</span> <span style=\"background:grey;\">Ad</span> <span style=\"background:grey;\">verse</span> <span style=\"background:grey;\"> Childhood</span> <span style=\"background:grey;\"> Exper</span> <span style=\"background:grey;\">iences</span> <span style=\"background:grey;\"> -</span> <span style=\"background:#070500;\"> physical</span> <span style=\"background:grey;\">,</span> <span style=\"background:#4f3e00;\"> sexual</span> <span style=\"background:grey;\"> or</span> <span style=\"background:#6c5500;\"> emotional</span> <span style=\"background:#050300;\"> abuse</span> <span style=\"background:#1b1500;\"> or</span> <span style=\"background:#110e00;\"> other</span> <span style=\"background:#372b00;\"> stresses</span> <span style=\"background:grey;\"> such</span> <span style=\"background:#1e1800;\"> as</span> <span style=\"background:#0d0a00;\"> living</span> <span style=\"background:grey;\"> in</span> <span style=\"background:grey;\"> a</span> <span style=\"background:grey;\"> household</span> <span style=\"background:#010000;\"> with</span> <span style=\"background:#362a00;\"> domestic</span> <span style=\"background:#130f00;\"> violence</span> <span style=\"background:grey;\"> or</span> <span style=\"background:#0f0c00;\"> with</span> <span style=\"background:#201900;\"> adult</span> <span style=\"background:#ffc800;\"> substance</span> <span style=\"background:#675000;\"> abuse</span> <span style=\"background:#201900;\"> or</span> <span style=\"background:#937400;\"> mental</span> <span style=\"background:#2e2400;\"> illness</span> <span style=\"background:grey;\">)</span> <span style=\"background:#2f2500;\"> are</span> <span style=\"background:grey;\"> more</span> <span style=\"background:#000000;\"> than</span> <span style=\"background:grey;\"> twice</span> <span style=\"background:grey;\"> as</span> <span style=\"background:grey;\"> likely</span> <span style=\"background:grey;\"> to</span> <span style=\"background:#060500;\"> use</span> <span style=\"background:#463700;\"> hospital</span> <span style=\"background:#261d00;\"> emergency</span> <span style=\"background:grey;\"> departments</span> <span style=\"background:grey;\">,</span> <span style=\"background:grey;\"> require</span> <span style=\"background:#1b1500;\"> overnight</span> <span style=\"background:#261e00;\"> hospital</span></p>"
      ],
      "text/plain": [
       "<IPython.core.display.HTML object>"
      ]
     },
     "metadata": {},
     "output_type": "display_data"
    },
    {
     "data": {
      "text/html": [
       "<p style='background: grey;'><span style=\"background:grey;\"> scene</span> <span style=\"background:#191400;\">,</span> <span style=\"background:#060500;\"> many</span> <span style=\"background:#271e00;\"> of</span> <span style=\"background:#060500;\"> them</span> <span style=\"background:#020200;\"> utilizing</span> <span style=\"background:#322700;\"> concepts</span> <span style=\"background:grey;\"> and</span> <span style=\"background:#251d00;\"> methods</span> <span style=\"background:#171200;\"> of</span> <span style=\"background:#8a6c00;\"> values</span> <span style=\"background:#392d00;\"> clarification</span> <span style=\"background:#3d3000;\">.</span> <span style=\"background:#261e00;\"> Solution</span> <span style=\"background:grey;\">-</span> <span style=\"background:grey;\">focused</span> <span style=\"background:#231b00;\"> therapy</span> <span style=\"background:grey;\"> relies</span> <span style=\"background:grey;\"> heavily</span> <span style=\"background:grey;\"> on</span> <span style=\"background:#0c0900;\"> questions</span> <span style=\"background:grey;\"> to</span> <span style=\"background:grey;\"> help</span> <span style=\"background:grey;\"> clients</span> <span style=\"background:grey;\"> identify</span> <span style=\"background:#0a0800;\"> preferred</span> <span style=\"background:grey;\"> goals</span> <span style=\"background:grey;\">,</span> <span style=\"background:grey;\"> view</span> <span style=\"background:grey;\"> their</span> <span style=\"background:grey;\"> situation</span> <span style=\"background:grey;\"> from</span> <span style=\"background:grey;\"> an</span> <span style=\"background:#433500;\"> alternative</span> <span style=\"background:grey;\"> perspective</span> <span style=\"background:grey;\">,</span> <span style=\"background:#0e0b00;\"> consider</span> <span style=\"background:grey;\"> alternative</span> <span style=\"background:#130f00;\"> solutions</span> <span style=\"background:grey;\">,</span> <span style=\"background:grey;\"> and</span> <span style=\"background:#040300;\"> evaluate</span> <span style=\"background:grey;\"> coping</span> <span style=\"background:#161100;\"> strategies</span> <span style=\"background:grey;\"> and</span> <span style=\"background:#251d00;\"> solutions</span> <span style=\"background:#2a2100;\">.</span> <span style=\"background:grey;\"> Mot</span> <span style=\"background:grey;\">iv</span> <span style=\"background:#261e00;\">ational</span> <span style=\"background:#0f0b00;\"> interviewing</span> <span style=\"background:#2e2400;\">,</span> <span style=\"background:#181300;\"> which</span> <span style=\"background:grey;\"> has</span> <span style=\"background:#463700;\"> proven</span> <span style=\"background:#2a2100;\"> especially</span> <span style=\"background:#271e00;\"> effective</span> <span style=\"background:#322700;\"> in</span> <span style=\"background:#020100;\"> alcohol</span> <span style=\"background:#191300;\"> and</span> <span style=\"background:#ffc800;\"> substance</span> <span style=\"background:#3e3100;\"> abuse</span> <span style=\"background:#010000;\"> counseling</span> <span style=\"background:#1c1600;\">,</span></p>"
      ],
      "text/plain": [
       "<IPython.core.display.HTML object>"
      ]
     },
     "metadata": {},
     "output_type": "display_data"
    },
    {
     "data": {
      "text/html": [
       "<p style='background: grey;'><span style=\"background:grey;\">\".</span> <span style=\"background:grey;\">\n",
       "</span> <span style=\"background:grey;\">\n",
       "</span> <span style=\"background:grey;\">US</span> <span style=\"background:grey;\"> President</span> <span style=\"background:grey;\"> Barack</span> <span style=\"background:grey;\"> Obama</span> <span style=\"background:#2e2400;\"> agreed</span> <span style=\"background:grey;\"> to</span> <span style=\"background:grey;\"> provide</span> <span style=\"background:grey;\"> \"</span> <span style=\"background:grey;\">log</span> <span style=\"background:grey;\">istical</span> <span style=\"background:grey;\"> and</span> <span style=\"background:grey;\"> intelligence</span> <span style=\"background:grey;\"> support</span> <span style=\"background:grey;\">\"</span> <span style=\"background:grey;\"> to</span> <span style=\"background:grey;\"> the</span> <span style=\"background:grey;\"> coalition</span> <span style=\"background:grey;\"> after</span> <span style=\"background:grey;\"> it</span> <span style=\"background:#090700;\"> intervened</span> <span style=\"background:grey;\"> in</span> <span style=\"background:grey;\"> the</span> <span style=\"background:#171200;\"> conflict</span> <span style=\"background:grey;\"> between</span> <span style=\"background:grey;\"> forces</span> <span style=\"background:grey;\"> loyal</span> <span style=\"background:#473800;\"> to</span> <span style=\"background:#3b2e00;\"> Yemen</span> <span style=\"background:#ffc800;\">'s</span> <span style=\"background:#1e1800;\"> internationally</span> <span style=\"background:grey;\">-</span> <span style=\"background:grey;\">recogn</span> <span style=\"background:#ffc800;\">ised</span> <span style=\"background:#644f00;\"> government</span> <span style=\"background:#856800;\"> and</span> <span style=\"background:grey;\"> those</span> <span style=\"background:grey;\"> allied</span> <span style=\"background:#6a5300;\"> to</span> <span style=\"background:#f7c200;\"> the</span> <span style=\"background:#c59b00;\"> rebel</span> <span style=\"background:#745b00;\"> Houth</span> <span style=\"background:#deae00;\">i</span> <span style=\"background:#463700;\"> movement</span> <span style=\"background:#3b2e00;\"> in</span> <span style=\"background:#221b00;\"> March</span> <span style=\"background:grey;\"> 2015</span> <span style=\"background:grey;\">.</span> <span style=\"background:grey;\">\n",
       "</span> <span style=\"background:grey;\">\n",
       "</span> <span style=\"background:grey;\">Media</span> <span style=\"background:grey;\"> playback</span> <span style=\"background:grey;\"> is</span> <span style=\"background:grey;\"> unsupported</span> <span style=\"background:grey;\"> on</span> <span style=\"background:grey;\"> your</span> <span style=\"background:#161100;\"> device</span> <span style=\"background:#060400;\"> Media</span> <span style=\"background:grey;\"> caption</span> <span style=\"background:grey;\"> The</span> <span style=\"background:grey;\"> UN</span> <span style=\"background:grey;\"> humanitarian</span></p>"
      ],
      "text/plain": [
       "<IPython.core.display.HTML object>"
      ]
     },
     "metadata": {},
     "output_type": "display_data"
    },
    {
     "data": {
      "text/html": [
       "<p style='background: grey;'><span style=\"background:grey;\">),</span> <span style=\"background:grey;\"> south</span> <span style=\"background:grey;\"> of</span> <span style=\"background:#5a4700;\"> the</span> <span style=\"background:#362b00;\"> Yemeni</span> <span style=\"background:grey;\"> capital</span> <span style=\"background:grey;\"> Sana</span> <span style=\"background:grey;\">a</span> <span style=\"background:#191400;\">,</span> <span style=\"background:grey;\"> followed</span> <span style=\"background:#433500;\"> a</span> <span style=\"background:grey;\"> string</span> <span style=\"background:#070600;\"> of</span> <span style=\"background:#3e3000;\"> territorial</span> <span style=\"background:grey;\"> advances</span> <span style=\"background:grey;\"> by</span> <span style=\"background:#654f00;\"> the</span> <span style=\"background:#534100;\"> Houth</span> <span style=\"background:#372b00;\">is</span> <span style=\"background:grey;\"> in</span> <span style=\"background:grey;\"> recent</span> <span style=\"background:grey;\"> months</span> <span style=\"background:#1f1800;\"> amid</span> <span style=\"background:#695200;\"> their</span> <span style=\"background:#6a5300;\"> power</span> <span style=\"background:#0c0900;\"> struggle</span> <span style=\"background:#231c00;\"> with</span> <span style=\"background:#413300;\"> President</span> <span style=\"background:#8b6d00;\"> Rab</span> <span style=\"background:#0c0900;\">bo</span> <span style=\"background:grey;\"> Mans</span> <span style=\"background:#725900;\">our</span> <span style=\"background:#ffc800;\"> H</span> <span style=\"background:#0c0a00;\">adi</span> <span style=\"background:#110d00;\">.</span> <span style=\"background:grey;\">\n",
       "</span> <span style=\"background:grey;\">\n",
       "</span> <span style=\"background:grey;\">Witness</span> <span style=\"background:#070500;\">es</span> <span style=\"background:#281f00;\"> said</span> <span style=\"background:grey;\"> the</span> <span style=\"background:grey;\"> first</span> <span style=\"background:grey;\"> bomber</span> <span style=\"background:grey;\"> detonated</span> <span style=\"background:grey;\"> his</span> <span style=\"background:grey;\"> explosives</span> <span style=\"background:#0f0c00;\">-</span> <span style=\"background:grey;\">prim</span> <span style=\"background:grey;\">ed</span> <span style=\"background:#1e1700;\"> vehicle</span> <span style=\"background:#231b00;\"> at</span> <span style=\"background:#574400;\"> a</span> <span style=\"background:#1c1600;\"> checkpoint</span> <span style=\"background:grey;\"> manned</span> <span style=\"background:grey;\"> by</span> <span style=\"background:grey;\"> rebels</span> <span style=\"background:#120e00;\">.</span> <span style=\"background:grey;\"> The</span> <span style=\"background:grey;\"> school</span> <span style=\"background:grey;\"> bus</span> <span style=\"background:#443600;\"> was</span> <span style=\"background:grey;\"> caught</span> <span style=\"background:#241c00;\"> in</span> <span style=\"background:#030200;\"> that</span></p>"
      ],
      "text/plain": [
       "<IPython.core.display.HTML object>"
      ]
     },
     "metadata": {},
     "output_type": "display_data"
    },
    {
     "data": {
      "text/html": [
       "<p style='color: red;'>Feature exp., #6:  references to geographical locations and entities.</p>"
      ],
      "text/plain": [
       "<IPython.core.display.HTML object>"
      ]
     },
     "metadata": {},
     "output_type": "display_data"
    },
    {
     "data": {
      "text/html": [
       "<p style='background: grey;'><span style=\"background:#554300;\"> people</span> <span style=\"background:#413300;\"> are</span> <span style=\"background:grey;\"> reading</span> <span style=\"background:grey;\"> The</span> <span style=\"background:#9a7900;\"> Jerusalem</span> <span style=\"background:grey;\"> Post</span> <span style=\"background:#151000;\"> than</span> <span style=\"background:#1d1600;\"> ever</span> <span style=\"background:#0d0a00;\"> before</span> <span style=\"background:#060400;\">.</span> <span style=\"background:grey;\"> Nevertheless</span> <span style=\"background:grey;\">,</span> <span style=\"background:grey;\"> traditional</span> <span style=\"background:#3c2f00;\"> business</span> <span style=\"background:#221a00;\"> models</span> <span style=\"background:#574400;\"> are</span> <span style=\"background:grey;\"> no</span> <span style=\"background:grey;\"> longer</span> <span style=\"background:grey;\"> sustainable</span> <span style=\"background:grey;\"> and</span> <span style=\"background:grey;\"> high</span> <span style=\"background:#241c00;\">-</span> <span style=\"background:#201900;\">quality</span> <span style=\"background:#1c1600;\"> publications</span> <span style=\"background:#080600;\">,</span> <span style=\"background:#b18b00;\"> like</span> <span style=\"background:grey;\"> ours</span> <span style=\"background:grey;\">,</span> <span style=\"background:grey;\"> are</span> <span style=\"background:#332800;\"> being</span> <span style=\"background:grey;\"> forced</span> <span style=\"background:#ffc800;\"> to</span> <span style=\"background:grey;\"> look</span> <span style=\"background:grey;\"> for</span> <span style=\"background:grey;\"> new</span> <span style=\"background:grey;\"> ways</span> <span style=\"background:#ac8600;\"> to</span> <span style=\"background:grey;\"> keep</span> <span style=\"background:grey;\"> going</span> <span style=\"background:#937300;\">.</span> <span style=\"background:#221a00;\"> Unlike</span> <span style=\"background:grey;\"> many</span> <span style=\"background:#0c0900;\"> other</span> <span style=\"background:grey;\"> news</span> <span style=\"background:grey;\"> organizations</span> <span style=\"background:grey;\">,</span> <span style=\"background:#9c7a00;\"> we</span> <span style=\"background:grey;\"> have</span> <span style=\"background:#6b5400;\"> not</span> <span style=\"background:#5f4a00;\"> put</span> <span style=\"background:grey;\"> up</span> <span style=\"background:#201900;\"> a</span> <span style=\"background:#edba00;\"> pay</span> <span style=\"background:grey;\">wall</span> <span style=\"background:#b28c00;\">.</span> <span style=\"background:#ffc800;\"> We</span> <span style=\"background:#7c6100;\"> want</span> <span style=\"background:#ffc800;\"> to</span> <span style=\"background:grey;\"> keep</span> <span style=\"background:#816500;\"> our</span> <span style=\"background:#3e3100;\"> journalism</span> <span style=\"background:grey;\"> open</span> <span style=\"background:grey;\"> and</span> <span style=\"background:grey;\"> accessible</span></p>"
      ],
      "text/plain": [
       "<IPython.core.display.HTML object>"
      ]
     },
     "metadata": {},
     "output_type": "display_data"
    },
    {
     "data": {
      "text/html": [
       "<p style='background: grey;'><span style=\"background:#5d4900;\"> of</span> <span style=\"background:#312600;\"> the</span> <span style=\"background:grey;\"> public</span> <span style=\"background:grey;\"> interested</span> <span style=\"background:#453600;\"> in</span> <span style=\"background:grey;\"> attending</span> <span style=\"background:#322700;\"> can</span> <span style=\"background:#100d00;\"> RS</span> <span style=\"background:grey;\">VP</span> <span style=\"background:#120e00;\"> here</span> <span style=\"background:#2e2400;\">.</span> <span style=\"background:#151100;\">\n",
       "</span> <span style=\"background:#0b0800;\">\n",
       "</span> <span style=\"background:#211900;\">The</span> <span style=\"background:#665000;\"> field</span> <span style=\"background:#312700;\"> house</span> <span style=\"background:#665000;\"> is</span> <span style=\"background:grey;\"> located</span> <span style=\"background:grey;\"> at</span> <span style=\"background:grey;\"> 23</span> <span style=\"background:#060500;\">60</span> <span style=\"background:grey;\"> E</span> <span style=\"background:#221a00;\">.</span> <span style=\"background:grey;\"> M</span> <span style=\"background:#513f00;\">ound</span> <span style=\"background:grey;\"> St</span> <span style=\"background:#000000;\">.,</span> <span style=\"background:#594500;\"> Columbus</span> <span style=\"background:#ffc800;\"> OH</span> <span style=\"background:#251d00;\"> 43</span> <span style=\"background:#1d1600;\">209</span> <span style=\"background:#231b00;\">.</span> <span style=\"background:#2d2300;\">\n",
       "</span> <span style=\"background:#302500;\">\n",
       "</span> <span style=\"background:#362a00;\">Tickets</span> <span style=\"background:#1f1800;\"> can</span> <span style=\"background:#a07e00;\"> be</span> <span style=\"background:#1b1500;\"> picked</span> <span style=\"background:grey;\"> up</span> <span style=\"background:grey;\"> at</span> <span style=\"background:grey;\"> the</span> <span style=\"background:#0b0900;\"> following</span> <span style=\"background:#302600;\"> locations</span> <span style=\"background:#302600;\">,</span> <span style=\"background:#473800;\"> according</span> <span style=\"background:#030300;\"> to</span> <span style=\"background:#211a00;\"> Clinton</span> <span style=\"background:grey;\">'s</span> <span style=\"background:grey;\"> campaign</span> <span style=\"background:grey;\">:</span> <span style=\"background:#0c0900;\">\n",
       "</span> <span style=\"background:#0b0800;\">\n",
       "</span> <span style=\"background:grey;\">Saturday</span> <span style=\"background:grey;\">,</span> <span style=\"background:grey;\"> October</span> <span style=\"background:grey;\"> 29</span> <span style=\"background:#3e3000;\">\n",
       "</span> <span style=\"background:#3a2e00;\">\n",
       "</span> <span style=\"background:grey;\">1</span> <span style=\"background:grey;\">:</span> <span style=\"background:grey;\">00</span> <span style=\"background:#181300;\"> pm</span> <span style=\"background:#100d00;\"> -</span> <span style=\"background:grey;\"> 4</span></p>"
      ],
      "text/plain": [
       "<IPython.core.display.HTML object>"
      ]
     },
     "metadata": {},
     "output_type": "display_data"
    },
    {
     "data": {
      "text/html": [
       "<p style='background: grey;'><span style=\"background:#544200;\"> third</span> <span style=\"background:#2a2100;\"> party</span> <span style=\"background:#312600;\">.</span> <span style=\"background:grey;\"> Veteran</span> <span style=\"background:grey;\"> journalist</span> <span style=\"background:grey;\"> Jeff</span> <span style=\"background:grey;\"> Green</span> <span style=\"background:#060400;\">field</span> <span style=\"background:#745b00;\"> recently</span> <span style=\"background:grey;\"> imagined</span> <span style=\"background:#473700;\"> a</span> <span style=\"background:#1d1700;\"> successful</span> <span style=\"background:grey;\"> third</span> <span style=\"background:grey;\">-</span> <span style=\"background:grey;\">party</span> <span style=\"background:grey;\"> president</span> <span style=\"background:#201900;\"> in</span> <span style=\"background:#564300;\"> a</span> <span style=\"background:#151100;\"> piece</span> <span style=\"background:#443600;\"> for</span> <span style=\"background:#382c00;\"> the</span> <span style=\"background:#271e00;\"> Washington</span> <span style=\"background:grey;\"> Post</span> <span style=\"background:#0e0b00;\">.</span> <span style=\"background:#564300;\"> He</span> <span style=\"background:grey;\"> joins</span> <span style=\"background:grey;\"> us</span> <span style=\"background:grey;\"> now</span> <span style=\"background:grey;\"> from</span> <span style=\"background:grey;\"> our</span> <span style=\"background:#312700;\"> bureau</span> <span style=\"background:#312600;\"> in</span> <span style=\"background:grey;\"> New</span> <span style=\"background:grey;\"> York</span> <span style=\"background:grey;\">.</span> <span style=\"background:#030200;\"> Nice</span> <span style=\"background:#382c00;\"> to</span> <span style=\"background:#281f00;\"> have</span> <span style=\"background:grey;\"> you</span> <span style=\"background:grey;\"> back</span> <span style=\"background:#342900;\"> on</span> <span style=\"background:#1b1500;\"> T</span> <span style=\"background:grey;\">ALK</span> <span style=\"background:#cca000;\"> OF</span> <span style=\"background:#ffc800;\"> THE</span> <span style=\"background:#604b00;\"> N</span> <span style=\"background:grey;\">ATION</span> <span style=\"background:#1c1600;\">,</span> <span style=\"background:grey;\"> Jeff</span> <span style=\"background:#3c2f00;\">.</span> <span style=\"background:#080600;\">\n",
       "</span> <span style=\"background:#140f00;\">\n",
       "</span> <span style=\"background:grey;\">J</span> <span style=\"background:#403200;\">EFF</span> <span style=\"background:#0a0800;\"> GREEN</span> <span style=\"background:grey;\">FIELD</span> <span style=\"background:grey;\">:</span> <span style=\"background:grey;\"> Nice</span> <span style=\"background:#514000;\"> to</span> <span style=\"background:grey;\"> be</span> <span style=\"background:grey;\"> here</span> <span style=\"background:#070600;\">.</span> <span style=\"background:#665000;\">\n",
       "</span> <span style=\"background:#644e00;\">\n",
       "</span></p>"
      ],
      "text/plain": [
       "<IPython.core.display.HTML object>"
      ]
     },
     "metadata": {},
     "output_type": "display_data"
    },
    {
     "data": {
      "text/html": [
       "<p style='background: grey;'><span style=\"background:#544200;\"> troops</span> <span style=\"background:#030200;\"> in</span> <span style=\"background:#614c00;\"> Somalia</span> <span style=\"background:#0b0900;\">,</span> <span style=\"background:grey;\"> helping</span> <span style=\"background:#191300;\"> the</span> <span style=\"background:#000000;\"> UN</span> <span style=\"background:grey;\">-</span> <span style=\"background:#433500;\">backed</span> <span style=\"background:grey;\"> government</span> <span style=\"background:grey;\"> tackle</span> <span style=\"background:grey;\"> al</span> <span style=\"background:#423400;\">-</span> <span style=\"background:#8a6c00;\">Sh</span> <span style=\"background:#2b2100;\">ab</span> <span style=\"background:grey;\">ab</span> <span style=\"background:grey;\">,</span> <span style=\"background:grey;\"> who</span> <span style=\"background:grey;\"> are</span> <span style=\"background:grey;\"> linked</span> <span style=\"background:grey;\"> to</span> <span style=\"background:grey;\"> al</span> <span style=\"background:#392d00;\">-</span> <span style=\"background:grey;\">Qaeda</span> <span style=\"background:grey;\">.</span> <span style=\"background:grey;\">\n",
       "</span> <span style=\"background:grey;\">\n",
       "</span> <span style=\"background:grey;\">President</span> <span style=\"background:grey;\"> Uh</span> <span style=\"background:#3b2e00;\">uru</span> <span style=\"background:#ffc800;\"> Ken</span> <span style=\"background:#efbc00;\">y</span> <span style=\"background:grey;\">atta</span> <span style=\"background:#4d3d00;\"> has</span> <span style=\"background:grey;\"> said</span> <span style=\"background:#785e00;\"> Kenya</span> <span style=\"background:#584500;\">'s</span> <span style=\"background:#5e4900;\"> tourism</span> <span style=\"background:#534100;\"> sector</span> <span style=\"background:#4c3c00;\"> is</span> <span style=\"background:#1d1700;\"> \"</span> <span style=\"background:#2e2400;\">on</span> <span style=\"background:#5d4900;\"> its</span> <span style=\"background:grey;\"> knees</span> <span style=\"background:grey;\">\"</span> <span style=\"background:grey;\"> because</span> <span style=\"background:grey;\"> of</span> <span style=\"background:#5f4a00;\"> the</span> <span style=\"background:grey;\"> threat</span> <span style=\"background:grey;\"> from</span> <span style=\"background:grey;\"> Islamist</span> <span style=\"background:grey;\"> militants</span> <span style=\"background:grey;\">.</span> <span style=\"background:#1d1600;\">\n",
       "</span> <span style=\"background:#2a2100;\">\n",
       "</span> <span style=\"background:grey;\">Mr</span> <span style=\"background:grey;\"> Ken</span> <span style=\"background:#534100;\">y</span> <span style=\"background:grey;\">atta</span> <span style=\"background:grey;\"> met</span> <span style=\"background:#030200;\"> ethnic</span> <span style=\"background:#1b1500;\"> Somali</span> <span style=\"background:grey;\"> leaders</span> <span style=\"background:#695200;\"> last</span></p>"
      ],
      "text/plain": [
       "<IPython.core.display.HTML object>"
      ]
     },
     "metadata": {},
     "output_type": "display_data"
    },
    {
     "data": {
      "text/html": [
       "<p style='background: grey;'><span style=\"background:#5a4700;\">ast</span> <span style=\"background:#362a00;\">.</span> <span style=\"background:#090700;\">org</span> <span style=\"background:#000000;\"> website</span> <span style=\"background:#271f00;\"> aims</span> <span style=\"background:#5e4a00;\"> to</span> <span style=\"background:#070500;\"> bring</span> <span style=\"background:grey;\"> together</span> <span style=\"background:grey;\"> prominent</span> <span style=\"background:grey;\"> Israelis</span> <span style=\"background:grey;\"> and</span> <span style=\"background:grey;\"> Syrian</span> <span style=\"background:grey;\"> bloggers</span> <span style=\"background:grey;\">,</span> <span style=\"background:grey;\"> academics</span> <span style=\"background:#191300;\"> and</span> <span style=\"background:grey;\"> experts</span> <span style=\"background:grey;\"> seeking</span> <span style=\"background:grey;\"> ways</span> <span style=\"background:#5f4a00;\"> to</span> <span style=\"background:grey;\"> break</span> <span style=\"background:#5a4700;\"> the</span> <span style=\"background:#151000;\"> stubborn</span> <span style=\"background:grey;\"> imp</span> <span style=\"background:grey;\">asse</span> <span style=\"background:grey;\"> in</span> <span style=\"background:grey;\"> negotiations</span> <span style=\"background:#0f0c00;\">.</span> <span style=\"background:#060500;\">\n",
       "</span> <span style=\"background:#0b0800;\">\n",
       "</span> <span style=\"background:#372b00;\">It</span> <span style=\"background:#191400;\"> will</span> <span style=\"background:grey;\"> host</span> <span style=\"background:grey;\"> the</span> <span style=\"background:grey;\"> first</span> <span style=\"background:#020200;\"> Syrian</span> <span style=\"background:#251d00;\">-</span> <span style=\"background:#7f6400;\">Israeli</span> <span style=\"background:grey;\"> public</span> <span style=\"background:grey;\"> online</span> <span style=\"background:#010100;\"> dialogue</span> <span style=\"background:grey;\"> of</span> <span style=\"background:#1b1500;\"> its</span> <span style=\"background:grey;\"> kind</span> <span style=\"background:grey;\"> –</span> <span style=\"background:#493900;\"> a</span> <span style=\"background:#292000;\"> remarkable</span> <span style=\"background:grey;\"> step</span> <span style=\"background:#000000;\"> for</span> <span style=\"background:#342900;\"> two</span> <span style=\"background:grey;\"> countries</span> <span style=\"background:#4a3a00;\"> which</span> <span style=\"background:#513f00;\"> have</span> <span style=\"background:#544100;\"> been</span> <span style=\"background:#937300;\"> in</span> <span style=\"background:#ffc800;\"> a</span> <span style=\"background:grey;\"> state</span> <span style=\"background:#e1b100;\"> of</span> <span style=\"background:grey;\"> war</span> <span style=\"background:#100d00;\"> for</span> <span style=\"background:grey;\"> more</span> <span style=\"background:#2c2200;\"> than</span> <span style=\"background:#564300;\"> 60</span> <span style=\"background:grey;\"> years</span></p>"
      ],
      "text/plain": [
       "<IPython.core.display.HTML object>"
      ]
     },
     "metadata": {},
     "output_type": "display_data"
    },
    {
     "data": {
      "text/html": [
       "<p style='color: red;'>Feature exp., #7: occurrences of future tense verbs.</p>"
      ],
      "text/plain": [
       "<IPython.core.display.HTML object>"
      ]
     },
     "metadata": {},
     "output_type": "display_data"
    },
    {
     "data": {
      "text/html": [
       "<p style='background: grey;'><span style=\"background:grey;\"> offices</span> <span style=\"background:grey;\"> on</span> <span style=\"background:#100d00;\"> Wednesday</span> <span style=\"background:grey;\">.</span> <span style=\"background:grey;\"> To</span> <span style=\"background:grey;\"> read</span> <span style=\"background:grey;\"> our</span> <span style=\"background:#020100;\"> full</span> <span style=\"background:grey;\"> piece</span> <span style=\"background:grey;\">,</span> <span style=\"background:grey;\"> check</span> <span style=\"background:#1b1500;\"> back</span> <span style=\"background:#161100;\"> tomorrow</span> <span style=\"background:grey;\">.</span> <span style=\"background:#2d2300;\">\n",
       "</span> <span style=\"background:#1e1800;\">\n",
       "</span> <span style=\"background:grey;\">--</span> <span style=\"background:#181300;\">U</span> <span style=\"background:#060500;\"> UP</span> <span style=\"background:grey;\">?:</span> <span style=\"background:grey;\"> The</span> <span style=\"background:#120e00;\"> fifth</span> <span style=\"background:#100d00;\"> major</span> <span style=\"background:grey;\"> release</span> <span style=\"background:grey;\"> of</span> <span style=\"background:grey;\"> emails</span> <span style=\"background:grey;\"> from</span> <span style=\"background:grey;\"> Hillary</span> <span style=\"background:#100c00;\"> Clinton</span> <span style=\"background:#2b2100;\"> Hillary</span> <span style=\"background:#1e1700;\"> Diane</span> <span style=\"background:#020100;\"> Rodham</span> <span style=\"background:grey;\"> Clinton</span> <span style=\"background:grey;\">Sanders</span> <span style=\"background:grey;\">:</span> <span style=\"background:grey;\"> '</span> <span style=\"background:#000000;\">I</span> <span style=\"background:#5e4a00;\"> fully</span> <span style=\"background:#866900;\"> expect</span> <span style=\"background:#463700;\">'</span> <span style=\"background:#100c00;\"> fair</span> <span style=\"background:#0d0a00;\"> treatment</span> <span style=\"background:#5d4900;\"> by</span> <span style=\"background:grey;\"> DNC</span> <span style=\"background:#130f00;\"> in</span> <span style=\"background:#161100;\"> 2020</span> <span style=\"background:#554300;\"> after</span> <span style=\"background:grey;\"> '</span> <span style=\"background:#574400;\">not</span> <span style=\"background:#2e2400;\"> quite</span> <span style=\"background:#261e00;\"> even</span> <span style=\"background:#1e1800;\"> handed</span> <span style=\"background:#332800;\">'</span> <span style=\"background:#2a2100;\"> 2016</span> <span style=\"background:#544200;\"> primary</span> <span style=\"background:#010100;\"> Sanders</span> <span style=\"background:grey;\">:</span> <span style=\"background:grey;\"> '</span> <span style=\"background:grey;\">Damn</span> <span style=\"background:#3c2f00;\"> right</span> <span style=\"background:#463600;\">'</span> <span style=\"background:#140f00;\"> I</span> <span style=\"background:#ffc800;\">'ll</span> <span style=\"background:#a68200;\"> make</span></p>"
      ],
      "text/plain": [
       "<IPython.core.display.HTML object>"
      ]
     },
     "metadata": {},
     "output_type": "display_data"
    },
    {
     "data": {
      "text/html": [
       "<p style='background: grey;'><span style=\"background:grey;\"> Manafort</span> <span style=\"background:#010100;\">'s</span> <span style=\"background:#181300;\"> attorneys</span> <span style=\"background:grey;\"> say</span> <span style=\"background:#020200;\"> he</span> <span style=\"background:grey;\"> should</span> <span style=\"background:#010100;\"> get</span> <span style=\"background:#050400;\"> less</span> <span style=\"background:grey;\"> than</span> <span style=\"background:grey;\"> 10</span> <span style=\"background:#110d00;\"> years</span> <span style=\"background:grey;\"> in</span> <span style=\"background:#0a0700;\"> prison</span> <span style=\"background:#060400;\"> MORE</span> <span style=\"background:grey;\"> in</span> <span style=\"background:grey;\"> an</span> <span style=\"background:#1a1400;\"> interview</span> <span style=\"background:grey;\"> aired</span> <span style=\"background:#1f1800;\"> Tuesday</span> <span style=\"background:grey;\"> touted</span> <span style=\"background:#1b1500;\"> his</span> <span style=\"background:#120e00;\"> temperament</span> <span style=\"background:#0b0900;\"> while</span> <span style=\"background:#241c00;\"> attacking</span> <span style=\"background:#281f00;\"> Democratic</span> <span style=\"background:#3b2e00;\"> nominee</span> <span style=\"background:#070600;\"> Hillary</span> <span style=\"background:#231b00;\"> Clinton</span> <span style=\"background:#211a00;\"> Hillary</span> <span style=\"background:#271f00;\"> Diane</span> <span style=\"background:#010000;\"> Rodham</span> <span style=\"background:grey;\"> Clinton</span> <span style=\"background:grey;\">Sanders</span> <span style=\"background:grey;\">:</span> <span style=\"background:grey;\"> '</span> <span style=\"background:grey;\">I</span> <span style=\"background:#6e5600;\"> fully</span> <span style=\"background:#705800;\"> expect</span> <span style=\"background:#342800;\">'</span> <span style=\"background:#120e00;\"> fair</span> <span style=\"background:#151000;\"> treatment</span> <span style=\"background:#614c00;\"> by</span> <span style=\"background:grey;\"> DNC</span> <span style=\"background:#0e0b00;\"> in</span> <span style=\"background:#1f1800;\"> 2020</span> <span style=\"background:#534100;\"> after</span> <span style=\"background:grey;\"> '</span> <span style=\"background:#594600;\">not</span> <span style=\"background:#372b00;\"> quite</span> <span style=\"background:#241c00;\"> even</span> <span style=\"background:#211900;\"> handed</span> <span style=\"background:#322700;\">'</span> <span style=\"background:#2d2300;\"> 2016</span> <span style=\"background:#5f4b00;\"> primary</span> <span style=\"background:grey;\"> Sanders</span> <span style=\"background:grey;\">:</span> <span style=\"background:grey;\"> '</span> <span style=\"background:grey;\">Damn</span> <span style=\"background:#342900;\"> right</span> <span style=\"background:#322700;\">'</span> <span style=\"background:#050400;\"> I</span> <span style=\"background:#eab700;\">'ll</span> <span style=\"background:#a68200;\"> make</span> <span style=\"background:#322700;\"> the</span></p>"
      ],
      "text/plain": [
       "<IPython.core.display.HTML object>"
      ]
     },
     "metadata": {},
     "output_type": "display_data"
    },
    {
     "data": {
      "text/html": [
       "<p style='background: grey;'><span style=\"background:grey;\"> the</span> <span style=\"background:grey;\"> eventual</span> <span style=\"background:#0d0a00;\"> nominee</span> <span style=\"background:#0f0c00;\"> Hillary</span> <span style=\"background:#221b00;\"> Clinton</span> <span style=\"background:#0c0a00;\"> Hillary</span> <span style=\"background:#0f0c00;\"> Diane</span> <span style=\"background:grey;\"> Rodham</span> <span style=\"background:grey;\"> Clinton</span> <span style=\"background:grey;\">Sanders</span> <span style=\"background:grey;\">:</span> <span style=\"background:grey;\"> '</span> <span style=\"background:#010000;\">I</span> <span style=\"background:#654f00;\"> fully</span> <span style=\"background:#795f00;\"> expect</span> <span style=\"background:#392c00;\">'</span> <span style=\"background:#0b0900;\"> fair</span> <span style=\"background:#100c00;\"> treatment</span> <span style=\"background:#644e00;\"> by</span> <span style=\"background:grey;\"> DNC</span> <span style=\"background:#1c1600;\"> in</span> <span style=\"background:#110e00;\"> 2020</span> <span style=\"background:#4e3d00;\"> after</span> <span style=\"background:grey;\"> '</span> <span style=\"background:#483800;\">not</span> <span style=\"background:#281f00;\"> quite</span> <span style=\"background:#221b00;\"> even</span> <span style=\"background:#322700;\"> handed</span> <span style=\"background:#3e3000;\">'</span> <span style=\"background:#342900;\"> 2016</span> <span style=\"background:#574400;\"> primary</span> <span style=\"background:grey;\"> Sanders</span> <span style=\"background:grey;\">:</span> <span style=\"background:grey;\"> '</span> <span style=\"background:#010100;\">Damn</span> <span style=\"background:#453600;\"> right</span> <span style=\"background:#3c2f00;\">'</span> <span style=\"background:#0b0800;\"> I</span> <span style=\"background:#ddae00;\">'ll</span> <span style=\"background:#aa8500;\"> make</span> <span style=\"background:#392d00;\"> the</span> <span style=\"background:#0b0900;\"> large</span> <span style=\"background:#322700;\"> corporations</span> <span style=\"background:grey;\"> pay</span> <span style=\"background:#1a1400;\"> '</span> <span style=\"background:#1d1700;\">fair</span> <span style=\"background:#050400;\"> share</span> <span style=\"background:#211a00;\"> of</span> <span style=\"background:#181300;\"> taxes</span> <span style=\"background:#261e00;\">'</span> <span style=\"background:#453600;\"> Former</span> <span style=\"background:#271e00;\"> Sanders</span> <span style=\"background:grey;\"> campaign</span> <span style=\"background:#090700;\"> spokesman</span> <span style=\"background:grey;\">:</span> <span style=\"background:#281f00;\"> Clinton</span> <span style=\"background:#2e2400;\"> staff</span> <span style=\"background:grey;\"> are</span> <span style=\"background:grey;\"> '</span> <span style=\"background:grey;\">big</span> <span style=\"background:grey;\">gest</span> <span style=\"background:grey;\"> a</span> <span style=\"background:#0c0900;\">--</span> <span style=\"background:#060500;\">holes</span></p>"
      ],
      "text/plain": [
       "<IPython.core.display.HTML object>"
      ]
     },
     "metadata": {},
     "output_type": "display_data"
    },
    {
     "data": {
      "text/html": [
       "<p style='background: grey;'><span style=\"background:grey;\">,</span> <span style=\"background:grey;\"> Bethesda</span> <span style=\"background:grey;\"> will</span> <span style=\"background:grey;\"> most</span> <span style=\"background:grey;\"> likely</span> <span style=\"background:grey;\"> elaborate</span> <span style=\"background:#161100;\"> more</span> <span style=\"background:grey;\"> of</span> <span style=\"background:#0c0a00;\"> the</span> <span style=\"background:#030300;\"> details</span> <span style=\"background:grey;\"> of</span> <span style=\"background:grey;\"> their</span> <span style=\"background:grey;\"> plan</span> <span style=\"background:grey;\"> for</span> <span style=\"background:#0a0700;\"> Elder</span> <span style=\"background:#140f00;\"> Scrolls</span> <span style=\"background:#020100;\">:</span> <span style=\"background:#0b0900;\"> Legend</span> <span style=\"background:grey;\"> by</span> <span style=\"background:grey;\"> then</span> <span style=\"background:#090700;\">.</span> <span style=\"background:grey;\"> Hopefully</span> <span style=\"background:grey;\">,</span> <span style=\"background:#020200;\"> this</span> <span style=\"background:#1a1500;\"> isn</span> <span style=\"background:grey;\">'t</span> <span style=\"background:grey;\"> the</span> <span style=\"background:grey;\"> only</span> <span style=\"background:grey;\"> game</span> <span style=\"background:grey;\"> that</span> <span style=\"background:grey;\"> Bethesda</span> <span style=\"background:grey;\"> would</span> <span style=\"background:grey;\"> be</span> <span style=\"background:#020200;\"> discussing</span> <span style=\"background:#171200;\"> at</span> <span style=\"background:grey;\"> this</span> <span style=\"background:grey;\"> year</span> <span style=\"background:#2c2200;\">'s</span> <span style=\"background:grey;\"> E</span> <span style=\"background:#4f3e00;\">3</span> <span style=\"background:#2d2300;\"> Convention</span> <span style=\"background:#060500;\">.</span> <span style=\"background:#403200;\">\n",
       "</span> <span style=\"background:#3a2e00;\">\n",
       "</span> <span style=\"background:#080600;\">Sign</span> <span style=\"background:#3f3100;\"> Up</span> <span style=\"background:#3b2e00;\"> for</span> <span style=\"background:#302600;\"> the</span> <span style=\"background:#030300;\"> IT</span> <span style=\"background:grey;\">EC</span> <span style=\"background:grey;\">HP</span> <span style=\"background:#1f1800;\">OST</span> <span style=\"background:#201900;\"> Newsletter</span> <span style=\"background:#3f3200;\"> Get</span> <span style=\"background:grey;\"> the</span> <span style=\"background:#110d00;\"> Most</span> <span style=\"background:#bc9300;\"> Popular</span> <span style=\"background:grey;\"> iT</span> <span style=\"background:grey;\">ech</span> <span style=\"background:grey;\">Post</span> <span style=\"background:#120e00;\"> Stories</span> <span style=\"background:#4b3b00;\"> in</span> <span style=\"background:#251d00;\"> a</span> <span style=\"background:#7b6100;\"> Weekly</span></p>"
      ],
      "text/plain": [
       "<IPython.core.display.HTML object>"
      ]
     },
     "metadata": {},
     "output_type": "display_data"
    },
    {
     "data": {
      "text/html": [
       "<p style='background: grey;'><span style=\"background:grey;\">.</span> <span style=\"background:grey;\"> support</span> <span style=\"background:grey;\"> for</span> <span style=\"background:grey;\"> Saudi</span> <span style=\"background:#080700;\"> war</span> <span style=\"background:#070500;\"> hits</span> <span style=\"background:grey;\"> Senate</span> <span style=\"background:grey;\"> setback</span> <span style=\"background:#060500;\"> Sanders</span> <span style=\"background:grey;\">:</span> <span style=\"background:grey;\"> '</span> <span style=\"background:grey;\">I</span> <span style=\"background:#2e2400;\"> fully</span> <span style=\"background:#2d2300;\"> expect</span> <span style=\"background:#231b00;\">'</span> <span style=\"background:grey;\"> fair</span> <span style=\"background:#050400;\"> treatment</span> <span style=\"background:#352a00;\"> by</span> <span style=\"background:#010100;\"> DNC</span> <span style=\"background:#050400;\"> in</span> <span style=\"background:#201900;\"> 2020</span> <span style=\"background:#503f00;\"> after</span> <span style=\"background:grey;\"> '</span> <span style=\"background:#493900;\">not</span> <span style=\"background:#392c00;\"> quite</span> <span style=\"background:#050400;\"> even</span> <span style=\"background:#060400;\"> handed</span> <span style=\"background:#1d1700;\">'</span> <span style=\"background:#382c00;\"> 2016</span> <span style=\"background:#271f00;\"> primary</span> <span style=\"background:#1b1500;\"> Sanders</span> <span style=\"background:grey;\">:</span> <span style=\"background:grey;\"> '</span> <span style=\"background:grey;\">Damn</span> <span style=\"background:#261e00;\"> right</span> <span style=\"background:#1e1700;\">'</span> <span style=\"background:grey;\"> I</span> <span style=\"background:#af8900;\">'ll</span> <span style=\"background:#9c7a00;\"> make</span> <span style=\"background:#161100;\"> the</span> <span style=\"background:grey;\"> large</span> <span style=\"background:#271f00;\"> corporations</span> <span style=\"background:grey;\"> pay</span> <span style=\"background:#110d00;\"> '</span> <span style=\"background:#0e0b00;\">fair</span> <span style=\"background:grey;\"> share</span> <span style=\"background:grey;\"> of</span> <span style=\"background:#0e0b00;\"> taxes</span> <span style=\"background:#100c00;\">'</span> <span style=\"background:grey;\"> MORE</span> <span style=\"background:#1e1700;\"> prevented</span> <span style=\"background:#1a1400;\"> him</span> <span style=\"background:#3e3100;\"> from</span> <span style=\"background:#040300;\"> endorsing</span> <span style=\"background:grey;\"> until</span> <span style=\"background:#0c0900;\"> the</span> <span style=\"background:#3d3000;\"> party</span> <span style=\"background:#1a1400;\">'s</span> <span style=\"background:#292000;\"> nominee</span> <span style=\"background:#685200;\"> was</span> <span style=\"background:#403200;\"> named</span> <span style=\"background:grey;\">.</span> <span style=\"background:#665000;\">\n",
       "</span> <span style=\"background:#654f00;\">\n",
       "</span></p>"
      ],
      "text/plain": [
       "<IPython.core.display.HTML object>"
      ]
     },
     "metadata": {},
     "output_type": "display_data"
    },
    {
     "data": {
      "text/html": [
       "<p style='color: red;'>Feature exp., #8: parts of words or terms that represent various years or names.</p>"
      ],
      "text/plain": [
       "<IPython.core.display.HTML object>"
      ]
     },
     "metadata": {},
     "output_type": "display_data"
    },
    {
     "data": {
      "text/html": [
       "<p style='background: grey;'><span style=\"background:grey;\"> 1981</span> <span style=\"background:grey;\"> 1980</span> <span style=\"background:#151000;\"> 1979</span> <span style=\"background:#1c1600;\"> 1978</span> <span style=\"background:#0e0b00;\"> 1977</span> <span style=\"background:#271e00;\"> 1976</span> <span style=\"background:#110d00;\"> 1975</span> <span style=\"background:#181300;\"> 1974</span> <span style=\"background:#010100;\"> 1973</span> <span style=\"background:#1d1600;\"> 1972</span> <span style=\"background:grey;\"> 1971</span> <span style=\"background:#181300;\"> 1970</span> <span style=\"background:#342900;\"> 1969</span> <span style=\"background:#5b4700;\"> 1968</span> <span style=\"background:#352a00;\"> 1967</span> <span style=\"background:#685100;\"> 1966</span> <span style=\"background:#3f3100;\"> 1965</span> <span style=\"background:#332800;\"> 1964</span> <span style=\"background:grey;\"> 1963</span> <span style=\"background:#574400;\"> 1962</span> <span style=\"background:grey;\"> 1961</span> <span style=\"background:#584500;\"> 1960</span> <span style=\"background:#120e00;\"> 1959</span> <span style=\"background:#3e3000;\"> 1958</span> <span style=\"background:grey;\"> 1957</span> <span style=\"background:#2f2400;\"> 1956</span> <span style=\"background:#1a1400;\"> 1955</span> <span style=\"background:#1b1500;\"> 1954</span> <span style=\"background:grey;\"> 1953</span> <span style=\"background:#392c00;\"> 1952</span> <span style=\"background:grey;\"> 1951</span> <span style=\"background:#261e00;\"> 1950</span> <span style=\"background:grey;\"> 1949</span> <span style=\"background:#0c0900;\"> 1948</span> <span style=\"background:grey;\"> 1947</span> <span style=\"background:#201900;\"> 1946</span> <span style=\"background:grey;\"> 1945</span> <span style=\"background:#070500;\"> 1944</span> <span style=\"background:grey;\"> 1943</span> <span style=\"background:#141000;\"> 1942</span> <span style=\"background:#130f00;\"> 1941</span> <span style=\"background:#584500;\"> 1940</span> <span style=\"background:#130f00;\"> 1939</span> <span style=\"background:#6e5600;\"> 1938</span> <span style=\"background:#3f3200;\"> 1937</span> <span style=\"background:#af8900;\"> 1936</span> <span style=\"background:#9f7d00;\"> 1935</span> <span style=\"background:#735a00;\"> 1934</span> <span style=\"background:#564300;\"> 1933</span> <span style=\"background:#725a00;\"> 1932</span> <span style=\"background:#7d6200;\"> 1931</span> <span style=\"background:#d0a300;\"> 1930</span> <span style=\"background:grey;\">\n",
       "</span> <span style=\"background:grey;\">\n",
       "</span> <span style=\"background:grey;\">Check</span> <span style=\"background:grey;\"> this</span> <span style=\"background:#120e00;\"> box</span> <span style=\"background:#030200;\"> if</span> <span style=\"background:grey;\"> you</span> <span style=\"background:grey;\"> want</span> <span style=\"background:grey;\"> us</span> <span style=\"background:grey;\"> to</span> <span style=\"background:grey;\"> inform</span> <span style=\"background:grey;\"> you</span></p>"
      ],
      "text/plain": [
       "<IPython.core.display.HTML object>"
      ]
     },
     "metadata": {},
     "output_type": "display_data"
    },
    {
     "data": {
      "text/html": [
       "<p style='background: grey;'><span style=\"background:grey;\">\n",
       "</span> <span style=\"background:grey;\">Direct</span> <span style=\"background:grey;\">ed</span> <span style=\"background:grey;\"> by</span> <span style=\"background:grey;\"> Ta</span> <span style=\"background:grey;\">ika</span> <span style=\"background:#4e3d00;\"> Wait</span> <span style=\"background:grey;\">iti</span> <span style=\"background:grey;\">,</span> <span style=\"background:grey;\"> Thor</span> <span style=\"background:#080600;\">:</span> <span style=\"background:grey;\"> Ragnarok</span> <span style=\"background:grey;\"> stars</span> <span style=\"background:#130f00;\"> Chris</span> <span style=\"background:#503f00;\"> Hem</span> <span style=\"background:grey;\">sworth</span> <span style=\"background:grey;\">,</span> <span style=\"background:#080600;\"> Tom</span> <span style=\"background:#271f00;\"> H</span> <span style=\"background:#ab8600;\">idd</span> <span style=\"background:#1d1700;\">l</span> <span style=\"background:grey;\">eston</span> <span style=\"background:grey;\">,</span> <span style=\"background:grey;\"> C</span> <span style=\"background:grey;\">ate</span> <span style=\"background:grey;\"> Bl</span> <span style=\"background:#644f00;\">anche</span> <span style=\"background:grey;\">tt</span> <span style=\"background:grey;\">,</span> <span style=\"background:#907100;\"> Id</span> <span style=\"background:#524000;\">ris</span> <span style=\"background:#0a0800;\"> El</span> <span style=\"background:grey;\">ba</span> <span style=\"background:grey;\">,</span> <span style=\"background:grey;\"> Jeff</span> <span style=\"background:#382c00;\"> Gold</span> <span style=\"background:#362a00;\">bl</span> <span style=\"background:grey;\">um</span> <span style=\"background:grey;\">,</span> <span style=\"background:grey;\"> T</span> <span style=\"background:#3d3000;\">essa</span> <span style=\"background:grey;\"> Thompson</span> <span style=\"background:#090700;\">,</span> <span style=\"background:grey;\"> Karl</span> <span style=\"background:#010100;\"> Urban</span> <span style=\"background:grey;\">,</span> <span style=\"background:#030200;\"> Mark</span> <span style=\"background:#130f00;\"> Ruff</span> <span style=\"background:grey;\">alo</span> <span style=\"background:#080600;\"> and</span> <span style=\"background:grey;\"> Anthony</span> <span style=\"background:#120e00;\"> Hopkins</span> <span style=\"background:grey;\">.</span> <span style=\"background:grey;\">\n",
       "</span> <span style=\"background:grey;\">\n",
       "</span> <span style=\"background:#0b0800;\">Thor</span> <span style=\"background:grey;\">:</span> <span style=\"background:#040300;\"> Ragnarok</span> <span style=\"background:#171200;\"> will</span> <span style=\"background:grey;\"> be</span> <span style=\"background:grey;\"> released</span> <span style=\"background:grey;\"> in</span> <span style=\"background:grey;\"> theaters</span> <span style=\"background:grey;\"> on</span></p>"
      ],
      "text/plain": [
       "<IPython.core.display.HTML object>"
      ]
     },
     "metadata": {},
     "output_type": "display_data"
    },
    {
     "data": {
      "text/html": [
       "<p style='background: grey;'><span style=\"background:grey;\">B</span> <span style=\"background:grey;\">apt</span> <span style=\"background:grey;\">iste</span> <span style=\"background:grey;\">.</span> <span style=\"background:grey;\"> From</span> <span style=\"background:#231b00;\"> Metro</span> <span style=\"background:#060500;\">-</span> <span style=\"background:#140f00;\">Gold</span> <span style=\"background:#040300;\">wyn</span> <span style=\"background:#4c3c00;\">-</span> <span style=\"background:#a17e00;\">M</span> <span style=\"background:#0a0800;\">ayer</span> <span style=\"background:grey;\"> Pictures</span> <span style=\"background:#020200;\"> and</span> <span style=\"background:#151100;\"> Columbia</span> <span style=\"background:grey;\"> Pictures</span> <span style=\"background:grey;\">,</span> <span style=\"background:#0a0800;\"> the</span> <span style=\"background:grey;\"> film</span> <span style=\"background:grey;\"> was</span> <span style=\"background:grey;\"> written</span> <span style=\"background:grey;\"> by</span> <span style=\"background:grey;\"> Josh</span> <span style=\"background:grey;\"> Z</span> <span style=\"background:grey;\">et</span> <span style=\"background:grey;\">umer</span> <span style=\"background:#1d1700;\"> and</span> <span style=\"background:grey;\"> Nick</span> <span style=\"background:grey;\"> Sc</span> <span style=\"background:grey;\">hen</span> <span style=\"background:grey;\">k</span> <span style=\"background:grey;\">,</span> <span style=\"background:grey;\"> based</span> <span style=\"background:#1e1700;\"> on</span> <span style=\"background:#2a2100;\"> the</span> <span style=\"background:#181300;\"> 1987</span> <span style=\"background:#4d3c00;\"> motion</span> <span style=\"background:#0d0a00;\"> picture</span> <span style=\"background:grey;\"> written</span> <span style=\"background:grey;\"> by</span> <span style=\"background:grey;\"> Edward</span> <span style=\"background:grey;\"> Ne</span> <span style=\"background:#352900;\">ume</span> <span style=\"background:grey;\">ier</span> <span style=\"background:#0c0900;\"> &</span> <span style=\"background:grey;\"> Michael</span> <span style=\"background:grey;\"> Miner</span> <span style=\"background:#060400;\">.</span> <span style=\"background:#241c00;\"> The</span> <span style=\"background:grey;\"> film</span> <span style=\"background:grey;\"> is</span> <span style=\"background:grey;\"> produced</span> <span style=\"background:grey;\"> by</span> <span style=\"background:grey;\"> Marc</span> <span style=\"background:grey;\"> Abraham</span> <span style=\"background:#141000;\"> and</span> <span style=\"background:grey;\"> Eric</span> <span style=\"background:grey;\"> Newman</span> <span style=\"background:grey;\">,</span> <span style=\"background:#1d1600;\"> with</span> <span style=\"background:grey;\"> Bill</span> <span style=\"background:grey;\"> Carr</span> <span style=\"background:grey;\">aro</span> <span style=\"background:grey;\"> serving</span></p>"
      ],
      "text/plain": [
       "<IPython.core.display.HTML object>"
      ]
     },
     "metadata": {},
     "output_type": "display_data"
    },
    {
     "data": {
      "text/html": [
       "<p style='background: grey;'><span style=\"background:grey;\"> and</span> <span style=\"background:grey;\"> the</span> <span style=\"background:grey;\"> FBI</span> <span style=\"background:grey;\">.\"</span> <span style=\"background:#090700;\">\n",
       "</span> <span style=\"background:#0a0700;\">\n",
       "</span> <span style=\"background:grey;\">A</span> <span style=\"background:grey;\"> spokesman</span> <span style=\"background:#050400;\"> for</span> <span style=\"background:grey;\"> Mueller</span> <span style=\"background:#261e00;\"> declined</span> <span style=\"background:#070500;\"> to</span> <span style=\"background:grey;\"> comment</span> <span style=\"background:#020200;\"> when</span> <span style=\"background:#070600;\"> contacted</span> <span style=\"background:#070600;\"> by</span> <span style=\"background:grey;\"> R</span> <span style=\"background:#171200;\">FE</span> <span style=\"background:#392d00;\">/</span> <span style=\"background:#090700;\">RL</span> <span style=\"background:#130f00;\">.</span> <span style=\"background:#0c0900;\">\n",
       "</span> <span style=\"background:#0f0b00;\">\n",
       "</span> <span style=\"background:#181200;\">Uk</span> <span style=\"background:grey;\">rain</span> <span style=\"background:#221b00;\">ian</span> <span style=\"background:#020200;\"> Prime</span> <span style=\"background:#080600;\"> Minister</span> <span style=\"background:#9e7b00;\"> Vol</span> <span style=\"background:grey;\">ody</span> <span style=\"background:#171200;\">my</span> <span style=\"background:grey;\">r</span> <span style=\"background:grey;\"> H</span> <span style=\"background:grey;\">ro</span> <span style=\"background:#503f00;\">ys</span> <span style=\"background:#090700;\">man</span> <span style=\"background:#1f1900;\">,</span> <span style=\"background:#0d0a00;\"> meanwhile</span> <span style=\"background:#151000;\">,</span> <span style=\"background:#171200;\"> told</span> <span style=\"background:grey;\"> CBC</span> <span style=\"background:grey;\"> News</span> <span style=\"background:#0e0b00;\"> during</span> <span style=\"background:#040300;\"> an</span> <span style=\"background:#322700;\"> official</span> <span style=\"background:#0e0b00;\"> visit</span> <span style=\"background:#0b0800;\"> to</span> <span style=\"background:grey;\"> Canada</span> <span style=\"background:#443500;\"> on</span> <span style=\"background:#090700;\"> November</span> <span style=\"background:#000000;\"> 1</span> <span style=\"background:#0e0b00;\"> that</span> <span style=\"background:#231b00;\"> his</span> <span style=\"background:grey;\"> government</span> <span style=\"background:grey;\"> had</span> <span style=\"background:grey;\"> not</span> <span style=\"background:grey;\"> been</span> <span style=\"background:#0d0a00;\"> contacted</span> <span style=\"background:#1b1500;\"> by</span> <span style=\"background:#020200;\"> Mueller</span> <span style=\"background:#151100;\">'s</span> <span style=\"background:#110d00;\"> office</span> <span style=\"background:#080600;\"> or</span> <span style=\"background:grey;\"> U</span></p>"
      ],
      "text/plain": [
       "<IPython.core.display.HTML object>"
      ]
     },
     "metadata": {},
     "output_type": "display_data"
    },
    {
     "data": {
      "text/html": [
       "<p style='background: grey;'><span style=\"background:grey;\"> a</span> <span style=\"background:grey;\"> work</span> <span style=\"background:grey;\">able</span> <span style=\"background:#090700;\"> nuclear</span> <span style=\"background:grey;\"> explosive</span> <span style=\"background:grey;\"> device</span> <span style=\"background:#070500;\">.</span> <span style=\"background:grey;\">\n",
       "</span> <span style=\"background:grey;\">\n",
       "</span> <span style=\"background:grey;\">North</span> <span style=\"background:#030200;\"> Korea</span> <span style=\"background:#231c00;\"> expelled</span> <span style=\"background:#1f1800;\"> the</span> <span style=\"background:grey;\"> inspectors</span> <span style=\"background:grey;\"> of</span> <span style=\"background:grey;\"> the</span> <span style=\"background:grey;\"> International</span> <span style=\"background:#725900;\"> Atomic</span> <span style=\"background:#775d00;\"> Energy</span> <span style=\"background:grey;\"> Agency</span> <span style=\"background:#362a00;\"> (</span> <span style=\"background:#997800;\">IA</span> <span style=\"background:grey;\">EA</span> <span style=\"background:grey;\">)</span> <span style=\"background:grey;\"> at</span> <span style=\"background:grey;\"> the</span> <span style=\"background:grey;\"> end</span> <span style=\"background:grey;\"> of</span> <span style=\"background:grey;\"> 2002</span> <span style=\"background:#000000;\">,</span> <span style=\"background:grey;\"> and</span> <span style=\"background:#1c1600;\"> has</span> <span style=\"background:#181300;\"> only</span> <span style=\"background:#1a1400;\"> allowed</span> <span style=\"background:#120e00;\"> them</span> <span style=\"background:#211a00;\"> back</span> <span style=\"background:#2d2400;\"> in</span> <span style=\"background:#1e1800;\"> for</span> <span style=\"background:#030200;\"> a</span> <span style=\"background:#0b0900;\"> brief</span> <span style=\"background:grey;\"> period</span> <span style=\"background:grey;\"> since</span> <span style=\"background:grey;\">.</span> <span style=\"background:#0f0c00;\"> Over</span> <span style=\"background:#3e3000;\"> the</span> <span style=\"background:#271e00;\"> last</span> <span style=\"background:#030200;\"> ten</span> <span style=\"background:grey;\"> years</span> <span style=\"background:#000000;\"> no</span> <span style=\"background:grey;\"> state</span> <span style=\"background:grey;\"> has</span> <span style=\"background:grey;\"> received</span> <span style=\"background:grey;\"> as</span> <span style=\"background:grey;\"> many</span> <span style=\"background:#080600;\"> I</span> <span style=\"background:#141000;\">AE</span> <span style=\"background:grey;\">A</span> <span style=\"background:grey;\"> inspections</span> <span style=\"background:#0a0800;\"> as</span> <span style=\"background:grey;\"> Iran</span> <span style=\"background:#0f0b00;\">,</span> <span style=\"background:#302600;\"> whose</span> <span style=\"background:#2c2300;\"> two</span> <span style=\"background:#483800;\"> enrichment</span></p>"
      ],
      "text/plain": [
       "<IPython.core.display.HTML object>"
      ]
     },
     "metadata": {},
     "output_type": "display_data"
    },
    {
     "data": {
      "text/html": [
       "<p style='color: red;'>Feature exp., #9: expressions related to communication and information sharing.</p>"
      ],
      "text/plain": [
       "<IPython.core.display.HTML object>"
      ]
     },
     "metadata": {},
     "output_type": "display_data"
    },
    {
     "data": {
      "text/html": [
       "<p style='background: grey;'><span style=\"background:grey;\"> loving</span> <span style=\"background:grey;\"> marriages</span> <span style=\"background:grey;\">.\"</span> <span style=\"background:grey;\">\n",
       "</span> <span style=\"background:grey;\">\n",
       "</span> <span style=\"background:grey;\">The</span> <span style=\"background:grey;\"> D</span> <span style=\"background:grey;\">ugg</span> <span style=\"background:#181300;\">ars</span> <span style=\"background:grey;\"> have</span> <span style=\"background:grey;\"> yet</span> <span style=\"background:grey;\"> to</span> <span style=\"background:grey;\"> comment</span> <span style=\"background:grey;\"> on</span> <span style=\"background:grey;\"> the</span> <span style=\"background:grey;\"> controversy</span> <span style=\"background:#050400;\"> via</span> <span style=\"background:grey;\"> Facebook</span> <span style=\"background:grey;\"> or</span> <span style=\"background:#141000;\"> their</span> <span style=\"background:grey;\"> other</span> <span style=\"background:grey;\"> social</span> <span style=\"background:grey;\"> media</span> <span style=\"background:grey;\"> accounts</span> <span style=\"background:grey;\">.</span> <span style=\"background:#050400;\">\n",
       "</span> <span style=\"background:#070600;\">\n",
       "</span> <span style=\"background:#2c2200;\">Sign</span> <span style=\"background:grey;\"> up</span> <span style=\"background:grey;\"> now</span> <span style=\"background:#080600;\"> for</span> <span style=\"background:grey;\"> the</span> <span style=\"background:grey;\"> Us</span> <span style=\"background:grey;\"> Weekly</span> <span style=\"background:grey;\"> newsletter</span> <span style=\"background:grey;\"> to</span> <span style=\"background:grey;\"> get</span> <span style=\"background:grey;\"> breaking</span> <span style=\"background:#403200;\"> celebrity</span> <span style=\"background:grey;\"> news</span> <span style=\"background:grey;\">,</span> <span style=\"background:#292000;\"> hot</span> <span style=\"background:grey;\"> pics</span> <span style=\"background:grey;\"> and</span> <span style=\"background:#4b3b00;\"> more</span> <span style=\"background:#3d3000;\"> delivered</span> <span style=\"background:#614c00;\"> straight</span> <span style=\"background:#120e00;\"> to</span> <span style=\"background:#1c1600;\"> your</span> <span style=\"background:#c69b00;\"> inbox</span> <span style=\"background:#cda000;\">!</span> <span style=\"background:#2a2100;\">\n",
       "</span> <span style=\"background:#332800;\">\n",
       "</span> <span style=\"background:#010100;\">Want</span> <span style=\"background:grey;\"> stories</span> <span style=\"background:grey;\"> like</span> <span style=\"background:grey;\"> these</span> <span style=\"background:grey;\"> delivered</span> <span style=\"background:#554200;\"> straight</span> <span style=\"background:#090700;\"> to</span> <span style=\"background:#292000;\"> your</span> <span style=\"background:#443500;\"> phone</span> <span style=\"background:#4b3b00;\">?</span> <span style=\"background:grey;\"> Download</span></p>"
      ],
      "text/plain": [
       "<IPython.core.display.HTML object>"
      ]
     },
     "metadata": {},
     "output_type": "display_data"
    },
    {
     "data": {
      "text/html": [
       "<p style='background: grey;'><span style=\"background:grey;\"> alleged</span> <span style=\"background:grey;\"> role</span> <span style=\"background:grey;\"> in</span> <span style=\"background:grey;\"> the</span> <span style=\"background:grey;\"> deadly</span> <span style=\"background:grey;\"> 1998</span> <span style=\"background:grey;\"> bombings</span> <span style=\"background:grey;\"> of</span> <span style=\"background:grey;\"> two</span> <span style=\"background:#040300;\"> U</span> <span style=\"background:grey;\">.</span> <span style=\"background:grey;\">S</span> <span style=\"background:grey;\">.</span> <span style=\"background:grey;\"> embassies</span> <span style=\"background:grey;\"> in</span> <span style=\"background:grey;\"> Africa</span> <span style=\"background:#0b0800;\">,</span> <span style=\"background:#201900;\"> during</span> <span style=\"background:grey;\"> an</span> <span style=\"background:#151000;\"> operation</span> <span style=\"background:#0f0c00;\"> in</span> <span style=\"background:#171200;\"> the</span> <span style=\"background:#453600;\"> Libyan</span> <span style=\"background:#090700;\"> capital</span> <span style=\"background:#524000;\"> of</span> <span style=\"background:grey;\"> Tripoli</span> <span style=\"background:#020200;\">.</span> <span style=\"background:grey;\">\n",
       "</span> <span style=\"background:grey;\">\n",
       "</span> <span style=\"background:#352a00;\">The</span> <span style=\"background:grey;\"> U</span> <span style=\"background:grey;\">.</span> <span style=\"background:grey;\">S</span> <span style=\"background:grey;\">.</span> <span style=\"background:#080600;\"> military</span> <span style=\"background:grey;\"> official</span> <span style=\"background:grey;\"> said</span> <span style=\"background:grey;\"> Sunday</span> <span style=\"background:#261d00;\">'s</span> <span style=\"background:grey;\"> strike</span> <span style=\"background:#302600;\"> involved</span> <span style=\"background:grey;\"> missiles</span> <span style=\"background:#151100;\">.</span> <span style=\"background:#2e2400;\"> No</span> <span style=\"background:grey;\"> U</span> <span style=\"background:grey;\">.</span> <span style=\"background:grey;\">S</span> <span style=\"background:grey;\">.</span> <span style=\"background:grey;\"> troops</span> <span style=\"background:grey;\"> were</span> <span style=\"background:#070500;\"> on</span> <span style=\"background:#0f0b00;\"> the</span> <span style=\"background:grey;\"> ground</span> <span style=\"background:#211a00;\">.</span> <span style=\"background:grey;\">\n",
       "</span> <span style=\"background:grey;\">\n",
       "</span> <span style=\"background:#211a00;\">Al</span> <span style=\"background:grey;\">-</span> <span style=\"background:grey;\">Sh</span> <span style=\"background:#2a2100;\">aba</span> <span style=\"background:#322700;\">ab</span> <span style=\"background:#443500;\">,</span> <span style=\"background:#433500;\"> designated</span> <span style=\"background:#a68200;\"> a</span></p>"
      ],
      "text/plain": [
       "<IPython.core.display.HTML object>"
      ]
     },
     "metadata": {},
     "output_type": "display_data"
    },
    {
     "data": {
      "text/html": [
       "<p style='background: grey;'><span style=\"background:grey;\">Clark</span> <span style=\"background:grey;\">nova</span> <span style=\"background:grey;\">1</span> <span style=\"background:grey;\">)</span> <span style=\"background:grey;\"> March</span> <span style=\"background:grey;\"> 4</span> <span style=\"background:grey;\">,</span> <span style=\"background:grey;\"> 2015</span> <span style=\"background:grey;\">\n",
       "</span> <span style=\"background:grey;\">\n",
       "</span> <span style=\"background:grey;\">Got</span> <span style=\"background:grey;\"> no</span> <span style=\"background:grey;\"> other</span> <span style=\"background:grey;\"> info</span> <span style=\"background:grey;\"> for</span> <span style=\"background:grey;\"> ya</span> <span style=\"background:grey;\"> and</span> <span style=\"background:grey;\"> no</span> <span style=\"background:grey;\">,</span> <span style=\"background:grey;\"> this</span> <span style=\"background:#120e00;\"> doesn</span> <span style=\"background:grey;\">'t</span> <span style=\"background:grey;\"> mean</span> <span style=\"background:grey;\"> To</span> <span style=\"background:#080600;\">on</span> <span style=\"background:#1b1500;\">ami</span> <span style=\"background:#241c00;\"> will</span> <span style=\"background:grey;\"> be</span> <span style=\"background:#060500;\"> at</span> <span style=\"background:grey;\"> 8</span> <span style=\"background:grey;\">pm</span> <span style=\"background:grey;\">.</span> <span style=\"background:#100d00;\"> Thanks</span> <span style=\"background:#010100;\">.</span> <span style=\"background:grey;\"> —</span> <span style=\"background:#010000;\"> L</span> <span style=\"background:#1b1500;\">ICH</span> <span style=\"background:grey;\"> KING</span> <span style=\"background:grey;\"> DEM</span> <span style=\"background:grey;\">AR</span> <span style=\"background:grey;\">CO</span> <span style=\"background:grey;\"> (@</span> <span style=\"background:grey;\">Clark</span> <span style=\"background:grey;\">nova</span> <span style=\"background:grey;\">1</span> <span style=\"background:#070600;\">)</span> <span style=\"background:grey;\"> March</span> <span style=\"background:grey;\"> 4</span> <span style=\"background:grey;\">,</span> <span style=\"background:grey;\"> 2015</span> <span style=\"background:#0e0b00;\">\n",
       "</span> <span style=\"background:#120e00;\">\n",
       "</span> <span style=\"background:#141000;\">------</span> <span style=\"background:grey;\">\n",
       "</span> <span style=\"background:#020100;\">\n",
       "</span> <span style=\"background:grey;\">Scott</span> <span style=\"background:grey;\"> Green</span> <span style=\"background:#0d0a00;\"> is</span> <span style=\"background:#211a00;\"> editor</span> <span style=\"background:#a38000;\"> and</span> <span style=\"background:#1e1800;\"> reporter</span> <span style=\"background:grey;\"> for</span> <span style=\"background:grey;\"> anime</span> <span style=\"background:#211a00;\"> and</span></p>"
      ],
      "text/plain": [
       "<IPython.core.display.HTML object>"
      ]
     },
     "metadata": {},
     "output_type": "display_data"
    },
    {
     "data": {
      "text/html": [
       "<p style='background: grey;'><span style=\"background:grey;\"> on</span> <span style=\"background:grey;\"> its</span> <span style=\"background:grey;\"> website</span> <span style=\"background:grey;\"> of</span> <span style=\"background:grey;\"> U</span> <span style=\"background:grey;\">.</span> <span style=\"background:grey;\">S</span> <span style=\"background:grey;\">.</span> <span style=\"background:grey;\"> lawmakers</span> <span style=\"background:grey;\"> condemning</span> <span style=\"background:grey;\"> Palestinian</span> <span style=\"background:grey;\"> inc</span> <span style=\"background:grey;\">itement</span> <span style=\"background:#030200;\">.</span> <span style=\"background:grey;\">\n",
       "</span> <span style=\"background:grey;\">\n",
       "</span> <span style=\"background:#3b2e00;\">Keep</span> <span style=\"background:grey;\"> updated</span> <span style=\"background:grey;\">:</span> <span style=\"background:#1f1800;\"> Sign</span> <span style=\"background:grey;\"> up</span> <span style=\"background:grey;\"> to</span> <span style=\"background:grey;\"> our</span> <span style=\"background:grey;\"> newsletter</span> <span style=\"background:grey;\"> Email</span> <span style=\"background:grey;\"> *</span> <span style=\"background:grey;\"> Please</span> <span style=\"background:grey;\"> enter</span> <span style=\"background:grey;\"> a</span> <span style=\"background:grey;\"> valid</span> <span style=\"background:grey;\"> email</span> <span style=\"background:grey;\"> address</span> <span style=\"background:#191300;\"> Sign</span> <span style=\"background:grey;\"> up</span> <span style=\"background:grey;\"> Please</span> <span style=\"background:#1e1700;\"> wait</span> <span style=\"background:grey;\">…</span> <span style=\"background:grey;\"> Thank</span> <span style=\"background:grey;\"> you</span> <span style=\"background:grey;\"> for</span> <span style=\"background:#0a0800;\"> signing</span> <span style=\"background:grey;\"> up</span> <span style=\"background:grey;\">.</span> <span style=\"background:grey;\"> We</span> <span style=\"background:grey;\">'ve</span> <span style=\"background:#403200;\"> got</span> <span style=\"background:#6b5400;\"> more</span> <span style=\"background:#120e00;\"> newsletters</span> <span style=\"background:#a07e00;\"> we</span> <span style=\"background:grey;\"> think</span> <span style=\"background:grey;\"> you</span> <span style=\"background:grey;\">'ll</span> <span style=\"background:#080600;\"> find</span> <span style=\"background:#110d00;\"> interesting</span> <span style=\"background:#8d6e00;\">.</span> <span style=\"background:grey;\"> Click</span> <span style=\"background:grey;\"> here</span> <span style=\"background:grey;\"> Oops</span> <span style=\"background:grey;\">.</span> <span style=\"background:grey;\"> Something</span> <span style=\"background:#4b3b00;\"> went</span> <span style=\"background:#161100;\"> wrong</span> <span style=\"background:#675100;\">.</span> <span style=\"background:grey;\"> Please</span></p>"
      ],
      "text/plain": [
       "<IPython.core.display.HTML object>"
      ]
     },
     "metadata": {},
     "output_type": "display_data"
    },
    {
     "data": {
      "text/html": [
       "<p style='background: grey;'><span style=\"background:grey;\"> with</span> <span style=\"background:grey;\"> Qatar</span> <span style=\"background:grey;\"> won</span> <span style=\"background:grey;\">'t</span> <span style=\"background:grey;\"> affect</span> <span style=\"background:#342900;\"> fight</span> <span style=\"background:grey;\"> against</span> <span style=\"background:#020200;\"> ISIS</span> <span style=\"background:grey;\">,</span> <span style=\"background:grey;\"> says</span> <span style=\"background:grey;\"> Tillerson</span> <span style=\"background:#020200;\"> <<</span> <span style=\"background:grey;\">\n",
       "</span> <span style=\"background:grey;\">\n",
       "</span> <span style=\"background:#0e0b00;\">Keep</span> <span style=\"background:grey;\"> updated</span> <span style=\"background:grey;\">:</span> <span style=\"background:#2a2100;\"> Sign</span> <span style=\"background:grey;\"> up</span> <span style=\"background:grey;\"> to</span> <span style=\"background:#100c00;\"> our</span> <span style=\"background:grey;\"> newsletter</span> <span style=\"background:grey;\"> Email</span> <span style=\"background:grey;\"> *</span> <span style=\"background:grey;\"> Please</span> <span style=\"background:grey;\"> enter</span> <span style=\"background:grey;\"> a</span> <span style=\"background:grey;\"> valid</span> <span style=\"background:grey;\"> email</span> <span style=\"background:grey;\"> address</span> <span style=\"background:#191300;\"> Sign</span> <span style=\"background:grey;\"> up</span> <span style=\"background:grey;\"> Please</span> <span style=\"background:#1d1700;\"> wait</span> <span style=\"background:grey;\">…</span> <span style=\"background:grey;\"> Thank</span> <span style=\"background:grey;\"> you</span> <span style=\"background:grey;\"> for</span> <span style=\"background:#040300;\"> signing</span> <span style=\"background:grey;\"> up</span> <span style=\"background:grey;\">.</span> <span style=\"background:grey;\"> We</span> <span style=\"background:grey;\">'ve</span> <span style=\"background:#473800;\"> got</span> <span style=\"background:#5f4b00;\"> more</span> <span style=\"background:#100d00;\"> newsletters</span> <span style=\"background:#997800;\"> we</span> <span style=\"background:grey;\"> think</span> <span style=\"background:grey;\"> you</span> <span style=\"background:grey;\">'ll</span> <span style=\"background:grey;\"> find</span> <span style=\"background:#1f1800;\"> interesting</span> <span style=\"background:#7c6100;\">.</span> <span style=\"background:grey;\"> Click</span> <span style=\"background:grey;\"> here</span> <span style=\"background:grey;\"> Oops</span> <span style=\"background:grey;\">.</span> <span style=\"background:grey;\"> Something</span> <span style=\"background:#433500;\"> went</span> <span style=\"background:#0d0a00;\"> wrong</span> <span style=\"background:#624d00;\">.</span> <span style=\"background:grey;\"> Please</span> <span style=\"background:grey;\"> try</span> <span style=\"background:grey;\"> again</span></p>"
      ],
      "text/plain": [
       "<IPython.core.display.HTML object>"
      ]
     },
     "metadata": {},
     "output_type": "display_data"
    },
    {
     "data": {
      "text/html": [
       "<p style='color: red;'>Feature exp., #10: prepositions or conjunctions and words related to communication or interaction.</p>"
      ],
      "text/plain": [
       "<IPython.core.display.HTML object>"
      ]
     },
     "metadata": {},
     "output_type": "display_data"
    },
    {
     "data": {
      "text/html": [
       "<p style='background: grey;'><span style=\"background:grey;\"> 2005</span> <span style=\"background:#0d0a00;\">.</span> <span style=\"background:grey;\">\n",
       "</span> <span style=\"background:grey;\">\n",
       "</span> <span style=\"background:grey;\">•</span> <span style=\"background:#191400;\"> To</span> <span style=\"background:grey;\"> contact</span> <span style=\"background:grey;\"> the</span> <span style=\"background:grey;\"> Media</span> <span style=\"background:#362a00;\">Guard</span> <span style=\"background:#382c00;\">ian</span> <span style=\"background:#d2a500;\"> news</span> <span style=\"background:#231c00;\"> desk</span> <span style=\"background:grey;\"> email</span> <span style=\"background:#120e00;\"> editor</span> <span style=\"background:grey;\">@</span> <span style=\"background:grey;\">medi</span> <span style=\"background:grey;\">athe</span> <span style=\"background:#181300;\">guard</span> <span style=\"background:grey;\">ian</span> <span style=\"background:#372b00;\">.</span> <span style=\"background:grey;\">com</span> <span style=\"background:#ffc800;\"> or</span> <span style=\"background:grey;\"> phone</span> <span style=\"background:grey;\"> 0</span> <span style=\"background:#1e1700;\">20</span> <span style=\"background:grey;\"> 3</span> <span style=\"background:grey;\">353</span> <span style=\"background:grey;\"> 38</span> <span style=\"background:grey;\">57</span> <span style=\"background:#574400;\">.</span> <span style=\"background:grey;\"> For</span> <span style=\"background:#191300;\"> all</span> <span style=\"background:#4f3e00;\"> other</span> <span style=\"background:#9e7c00;\"> inquiries</span> <span style=\"background:#584500;\"> please</span> <span style=\"background:#614c00;\"> call</span> <span style=\"background:#514000;\"> the</span> <span style=\"background:#5f4a00;\"> main</span> <span style=\"background:#866900;\"> Guardian</span> <span style=\"background:#413300;\"> switch</span> <span style=\"background:grey;\">board</span> <span style=\"background:#463700;\"> on</span> <span style=\"background:grey;\"> 0</span> <span style=\"background:#705800;\">20</span> <span style=\"background:#090700;\"> 3</span> <span style=\"background:grey;\">353</span> <span style=\"background:#463600;\"> 2000</span> <span style=\"background:#151000;\">.</span> <span style=\"background:grey;\"> If</span> <span style=\"background:#675100;\"> you</span> <span style=\"background:#4f3e00;\"> are</span> <span style=\"background:#483800;\"> writing</span> <span style=\"background:grey;\"> a</span> <span style=\"background:#493900;\"> comment</span> <span style=\"background:#765d00;\"> for</span> <span style=\"background:#2f2500;\"> publication</span> <span style=\"background:#7f6400;\">,</span> <span style=\"background:#8e6f00;\"> please</span> <span style=\"background:grey;\"> mark</span> <span style=\"background:grey;\"> clearly</span> <span style=\"background:grey;\"> \"</span> <span style=\"background:grey;\">for</span> <span style=\"background:grey;\"> publication</span></p>"
      ],
      "text/plain": [
       "<IPython.core.display.HTML object>"
      ]
     },
     "metadata": {},
     "output_type": "display_data"
    },
    {
     "data": {
      "text/html": [
       "<p style='background: grey;'><span style=\"background:grey;\"> birds</span> <span style=\"background:#1a1400;\">,</span> <span style=\"background:#060400;\"> etc</span> <span style=\"background:#120e00;\">.</span> <span style=\"background:#1f1800;\"> The</span> <span style=\"background:grey;\"> ruling</span> <span style=\"background:grey;\"> is</span> <span style=\"background:grey;\"> that</span> <span style=\"background:grey;\"> it</span> <span style=\"background:grey;\"> is</span> <span style=\"background:grey;\"> forbidden</span> <span style=\"background:#0a0800;\"> on</span> <span style=\"background:grey;\"> the</span> <span style=\"background:grey;\"> basis</span> <span style=\"background:grey;\"> of</span> <span style=\"background:grey;\"> a</span> <span style=\"background:grey;\"> number</span> <span style=\"background:#050400;\"> of</span> <span style=\"background:grey;\"> reports</span> <span style=\"background:#090700;\">,</span> <span style=\"background:grey;\"> such</span> <span style=\"background:grey;\"> as</span> <span style=\"background:grey;\"> the</span> <span style=\"background:grey;\"> following</span> <span style=\"background:grey;\">:</span> <span style=\"background:grey;\">\n",
       "</span> <span style=\"background:grey;\">\n",
       "</span> <span style=\"background:grey;\">'</span> <span style=\"background:#080600;\">Ab</span> <span style=\"background:grey;\">du</span> <span style=\"background:grey;\">lla</span> <span style=\"background:grey;\">ah</span> <span style=\"background:grey;\"> ibn</span> <span style=\"background:grey;\"> Mas</span> <span style=\"background:#171200;\">'</span> <span style=\"background:grey;\">ood</span> <span style=\"background:grey;\"> (</span> <span style=\"background:grey;\">may</span> <span style=\"background:grey;\"> Allaah</span> <span style=\"background:grey;\"> be</span> <span style=\"background:grey;\"> pleased</span> <span style=\"background:#3e3000;\"> with</span> <span style=\"background:grey;\"> him</span> <span style=\"background:grey;\">)</span> <span style=\"background:grey;\"> reported</span> <span style=\"background:grey;\"> that</span> <span style=\"background:grey;\"> the</span> <span style=\"background:#0a0800;\"> Prophet</span> <span style=\"background:grey;\"> (</span> <span style=\"background:grey;\">peace</span> <span style=\"background:#efbb00;\"> and</span> <span style=\"background:grey;\"> blessings</span> <span style=\"background:#231b00;\"> of</span> <span style=\"background:grey;\"> Allaah</span> <span style=\"background:grey;\"> be</span> <span style=\"background:grey;\"> upon</span> <span style=\"background:grey;\"> him</span> <span style=\"background:grey;\">)</span> <span style=\"background:grey;\"> said</span> <span style=\"background:grey;\">:</span> <span style=\"background:#040300;\"> \"</span> <span style=\"background:#231b00;\">Those</span> <span style=\"background:grey;\"> who</span> <span style=\"background:grey;\"> will</span></p>"
      ],
      "text/plain": [
       "<IPython.core.display.HTML object>"
      ]
     },
     "metadata": {},
     "output_type": "display_data"
    },
    {
     "data": {
      "text/html": [
       "<p style='background: grey;'><span style=\"background:grey;\"> to</span> <span style=\"background:#0d0a00;\"> take</span> <span style=\"background:grey;\"> control</span> <span style=\"background:#080600;\"> of</span> <span style=\"background:#030200;\"> the</span> <span style=\"background:grey;\"> great</span> <span style=\"background:grey;\"> Houses</span> <span style=\"background:#110d00;\"> of</span> <span style=\"background:#251d00;\"> Wester</span> <span style=\"background:grey;\">os</span> <span style=\"background:#1a1500;\"> and</span> <span style=\"background:grey;\"> embark</span> <span style=\"background:grey;\"> on</span> <span style=\"background:#040300;\"> an</span> <span style=\"background:grey;\"> epic</span> <span style=\"background:grey;\"> struggle</span> <span style=\"background:grey;\"> to</span> <span style=\"background:grey;\"> claim</span> <span style=\"background:#1f1900;\"> the</span> <span style=\"background:#0f0c00;\"> Iron</span> <span style=\"background:grey;\"> Throne</span> <span style=\"background:grey;\">.</span> <span style=\"background:grey;\"> Im</span> <span style=\"background:grey;\">mer</span> <span style=\"background:grey;\">se</span> <span style=\"background:grey;\"> yourself</span> <span style=\"background:grey;\"> in</span> <span style=\"background:grey;\"> a</span> <span style=\"background:grey;\"> game</span> <span style=\"background:grey;\"> of</span> <span style=\"background:grey;\"> clever</span> <span style=\"background:grey;\"> planning</span> <span style=\"background:#0b0900;\">,</span> <span style=\"background:grey;\"> careful</span> <span style=\"background:grey;\"> allocation</span> <span style=\"background:grey;\"> of</span> <span style=\"background:grey;\"> power</span> <span style=\"background:#110d00;\">,</span> <span style=\"background:grey;\"> and</span> <span style=\"background:grey;\"> delicate</span> <span style=\"background:#040300;\"> diplomacy</span> <span style=\"background:#1a1400;\">,</span> <span style=\"background:grey;\"> all</span> <span style=\"background:#080600;\"> in</span> <span style=\"background:grey;\"> the</span> <span style=\"background:#0c0900;\"> exciting</span> <span style=\"background:grey;\"> flavor</span> <span style=\"background:#130e00;\"> of</span> <span style=\"background:grey;\"> A</span> <span style=\"background:grey;\"> Song</span> <span style=\"background:#010100;\"> of</span> <span style=\"background:#413300;\"> Ice</span> <span style=\"background:#e4b300;\"> and</span> <span style=\"background:grey;\"> Fire</span> <span style=\"background:#060400;\">.</span> <span style=\"background:grey;\">\n",
       "</span> <span style=\"background:#030200;\">\n",
       "</span> <span style=\"background:#0b0900;\">This</span> <span style=\"background:grey;\"> updated</span> <span style=\"background:grey;\"> 2</span> <span style=\"background:grey;\">nd</span> <span style=\"background:grey;\"> Edition</span> <span style=\"background:#171200;\"> of</span> <span style=\"background:#000000;\"> the</span></p>"
      ],
      "text/plain": [
       "<IPython.core.display.HTML object>"
      ]
     },
     "metadata": {},
     "output_type": "display_data"
    },
    {
     "data": {
      "text/html": [
       "<p style='background: grey;'><span style=\"background:grey;\"> Action</span> <span style=\"background:#151000;\"> Now</span> <span style=\"background:grey;\"> and</span> <span style=\"background:grey;\"> get</span> <span style=\"background:grey;\"> three</span> <span style=\"background:#120e00;\"> actions</span> <span style=\"background:grey;\"> in</span> <span style=\"background:#050400;\"> your</span> <span style=\"background:#151000;\"> inbox</span> <span style=\"background:#1e1700;\"> every</span> <span style=\"background:#1a1500;\"> week</span> <span style=\"background:grey;\">.</span> <span style=\"background:grey;\">\n",
       "</span> <span style=\"background:grey;\">\n",
       "</span> <span style=\"background:grey;\">Thank</span> <span style=\"background:grey;\"> you</span> <span style=\"background:grey;\"> for</span> <span style=\"background:grey;\"> signing</span> <span style=\"background:#100d00;\"> up</span> <span style=\"background:grey;\">.</span> <span style=\"background:grey;\"> For</span> <span style=\"background:#292000;\"> more</span> <span style=\"background:grey;\"> from</span> <span style=\"background:grey;\"> The</span> <span style=\"background:#1b1500;\"> Nation</span> <span style=\"background:#ddad00;\">,</span> <span style=\"background:grey;\"> check</span> <span style=\"background:grey;\"> out</span> <span style=\"background:grey;\"> our</span> <span style=\"background:#2c2200;\"> latest</span> <span style=\"background:#372b00;\"> issue</span> <span style=\"background:grey;\">\n",
       "</span> <span style=\"background:grey;\">\n",
       "</span> <span style=\"background:#1b1500;\">Subscribe</span> <span style=\"background:#171200;\"> now</span> <span style=\"background:grey;\"> for</span> <span style=\"background:grey;\"> as</span> <span style=\"background:grey;\"> little</span> <span style=\"background:#100c00;\"> as</span> <span style=\"background:grey;\"> $</span> <span style=\"background:#181300;\">2</span> <span style=\"background:#1d1600;\"> a</span> <span style=\"background:#110d00;\"> month</span> <span style=\"background:grey;\">!</span> <span style=\"background:grey;\">\n",
       "</span> <span style=\"background:grey;\">\n",
       "</span> <span style=\"background:grey;\">Support</span> <span style=\"background:#030200;\"> Progressive</span> <span style=\"background:grey;\"> Journalism</span> <span style=\"background:grey;\"> The</span> <span style=\"background:grey;\"> Nation</span> <span style=\"background:grey;\"> is</span> <span style=\"background:grey;\"> reader</span> <span style=\"background:#0d0a00;\"> supported</span> <span style=\"background:#524000;\">:</span> <span style=\"background:grey;\"> Chip</span> <span style=\"background:grey;\"> in</span> <span style=\"background:grey;\"> $</span> <span style=\"background:#554300;\">10</span> <span style=\"background:#977600;\"> or</span> <span style=\"background:#413300;\"> more</span> <span style=\"background:#675100;\"> to</span> <span style=\"background:#241c00;\"> help</span> <span style=\"background:grey;\"> us</span></p>"
      ],
      "text/plain": [
       "<IPython.core.display.HTML object>"
      ]
     },
     "metadata": {},
     "output_type": "display_data"
    },
    {
     "data": {
      "text/html": [
       "<p style='background: grey;'><span style=\"background:grey;\">cker</span> <span style=\"background:#2f2400;\"> officially</span> <span style=\"background:grey;\"> takes</span> <span style=\"background:#070600;\"> the</span> <span style=\"background:grey;\"> post</span> <span style=\"background:#120e00;\"> of</span> <span style=\"background:grey;\"> EU</span> <span style=\"background:grey;\"> Commission</span> <span style=\"background:#120e00;\"> president</span> <span style=\"background:grey;\"> one</span> <span style=\"background:grey;\"> of</span> <span style=\"background:#2e2400;\"> his</span> <span style=\"background:#000000;\"> first</span> <span style=\"background:grey;\"> priorities</span> <span style=\"background:#110d00;\"> will</span> <span style=\"background:grey;\"> be</span> <span style=\"background:grey;\"> the</span> <span style=\"background:#3d3000;\"> Trans</span> <span style=\"background:#0a0700;\">atlantic</span> <span style=\"background:grey;\"> Trade</span> <span style=\"background:#d6a700;\"> and</span> <span style=\"background:#423400;\"> Investment</span> <span style=\"background:#0c0900;\"> Partnership</span> <span style=\"background:grey;\"> between</span> <span style=\"background:#544200;\"> the</span> <span style=\"background:grey;\"> EU</span> <span style=\"background:grey;\"> and</span> <span style=\"background:#493900;\"> the</span> <span style=\"background:grey;\"> US</span> <span style=\"background:grey;\">.</span> <span style=\"background:#0c0900;\"> As</span> <span style=\"background:grey;\"> negotiations</span> <span style=\"background:grey;\"> are</span> <span style=\"background:grey;\"> expected</span> <span style=\"background:grey;\"> to</span> <span style=\"background:grey;\"> come</span> <span style=\"background:#120e00;\"> to</span> <span style=\"background:#070500;\"> a</span> <span style=\"background:grey;\"> close</span> <span style=\"background:grey;\"> next</span> <span style=\"background:grey;\"> year</span> <span style=\"background:grey;\">,</span> <span style=\"background:#0e0b00;\"> Jun</span> <span style=\"background:grey;\">cker</span> <span style=\"background:grey;\"> said</span> <span style=\"background:grey;\"> that</span> <span style=\"background:grey;\"> he</span> <span style=\"background:grey;\"> wants</span> <span style=\"background:#020200;\"> to</span> <span style=\"background:grey;\"> push</span> <span style=\"background:grey;\"> for</span> <span style=\"background:#090700;\"> more</span> <span style=\"background:grey;\"> transparency</span> <span style=\"background:grey;\"> in</span> <span style=\"background:grey;\"> order</span> <span style=\"background:grey;\"> to</span> <span style=\"background:grey;\"> regain</span> <span style=\"background:grey;\"> the</span> <span style=\"background:grey;\"> trust</span> <span style=\"background:grey;\"> of</span> <span style=\"background:grey;\"> EU</span> <span style=\"background:grey;\"> citizens</span> <span style=\"background:grey;\">.</span> <span style=\"background:grey;\">\n",
       "</span></p>"
      ],
      "text/plain": [
       "<IPython.core.display.HTML object>"
      ]
     },
     "metadata": {},
     "output_type": "display_data"
    },
    {
     "data": {
      "text/html": [
       "<p style='color: red;'>Feature exp., #11: words associated with locations and time.</p>"
      ],
      "text/plain": [
       "<IPython.core.display.HTML object>"
      ]
     },
     "metadata": {},
     "output_type": "display_data"
    },
    {
     "data": {
      "text/html": [
       "<p style='background: grey;'><span style=\"background:grey;\"> the</span> <span style=\"background:grey;\"> hospital</span> <span style=\"background:#0f0c00;\"> bombing</span> <span style=\"background:grey;\">.</span> <span style=\"background:grey;\">\n",
       "</span> <span style=\"background:#010100;\">\n",
       "</span> <span style=\"background:grey;\">\"</span> <span style=\"background:grey;\">We</span> <span style=\"background:#241c00;\"> are</span> <span style=\"background:#110d00;\"> outraged</span> <span style=\"background:grey;\"> by</span> <span style=\"background:#292000;\"> yesterday</span> <span style=\"background:#110e00;\">'s</span> <span style=\"background:#040300;\"> airstrikes</span> <span style=\"background:#161100;\"> in</span> <span style=\"background:grey;\"> Aleppo</span> <span style=\"background:#0b0900;\"> on</span> <span style=\"background:#261e00;\"> the</span> <span style=\"background:grey;\"> al</span> <span style=\"background:grey;\"> Q</span> <span style=\"background:grey;\">uds</span> <span style=\"background:grey;\"> hospital</span> <span style=\"background:#171200;\"> supported</span> <span style=\"background:grey;\"> by</span> <span style=\"background:grey;\"> both</span> <span style=\"background:#070500;\"> Doctors</span> <span style=\"background:#010100;\"> Without</span> <span style=\"background:#302500;\"> Borders</span> <span style=\"background:#2a2000;\"> and</span> <span style=\"background:grey;\"> the</span> <span style=\"background:grey;\"> International</span> <span style=\"background:grey;\"> Committee</span> <span style=\"background:#342800;\"> of</span> <span style=\"background:#040300;\"> the</span> <span style=\"background:#f8c200;\"> Red</span> <span style=\"background:grey;\"> Cross</span> <span style=\"background:#060400;\">,</span> <span style=\"background:grey;\"> which</span> <span style=\"background:grey;\"> killed</span> <span style=\"background:grey;\"> dozens</span> <span style=\"background:#161100;\"> of</span> <span style=\"background:grey;\"> people</span> <span style=\"background:grey;\">,</span> <span style=\"background:#060400;\"> including</span> <span style=\"background:#010100;\"> children</span> <span style=\"background:#130f00;\">,</span> <span style=\"background:#100d00;\"> patients</span> <span style=\"background:#453600;\"> and</span> <span style=\"background:#191400;\"> medical</span> <span style=\"background:grey;\"> personnel</span> <span style=\"background:grey;\">,\"</span> <span style=\"background:grey;\"> he</span> <span style=\"background:grey;\"> said</span> <span style=\"background:grey;\"> in</span> <span style=\"background:grey;\"> a</span> <span style=\"background:grey;\"> statement</span> <span style=\"background:#030200;\">.</span> <span style=\"background:grey;\"> \"</span> <span style=\"background:#000000;\">It</span> <span style=\"background:#100c00;\"> appears</span> <span style=\"background:grey;\"> to</span> <span style=\"background:grey;\"> have</span> <span style=\"background:#060400;\"> been</span> <span style=\"background:grey;\"> a</span></p>"
      ],
      "text/plain": [
       "<IPython.core.display.HTML object>"
      ]
     },
     "metadata": {},
     "output_type": "display_data"
    },
    {
     "data": {
      "text/html": [
       "<p style='background: grey;'><span style=\"background:grey;\">ceive</span> <span style=\"background:grey;\"> an</span> <span style=\"background:#010100;\"> HTML</span> <span style=\"background:grey;\">-</span> <span style=\"background:grey;\">form</span> <span style=\"background:grey;\">atted</span> <span style=\"background:grey;\"> email</span> <span style=\"background:grey;\"> when</span> <span style=\"background:grey;\"> you</span> <span style=\"background:grey;\">'ve</span> <span style=\"background:grey;\"> been</span> <span style=\"background:grey;\"> towed</span> <span style=\"background:grey;\">.</span> <span style=\"background:grey;\">\n",
       "</span> <span style=\"background:grey;\">\n",
       "</span> <span style=\"background:grey;\">Email</span> <span style=\"background:grey;\">:</span> <span style=\"background:grey;\"> License</span> <span style=\"background:grey;\"> Plate</span> <span style=\"background:grey;\">:</span> <span style=\"background:grey;\"> State</span> <span style=\"background:grey;\">:</span> <span style=\"background:grey;\"> AL</span> <span style=\"background:grey;\"> AK</span> <span style=\"background:grey;\"> AB</span> <span style=\"background:grey;\"> AZ</span> <span style=\"background:grey;\"> AR</span> <span style=\"background:#735a00;\"> BC</span> <span style=\"background:#382c00;\"> CA</span> <span style=\"background:grey;\"> CO</span> <span style=\"background:#443500;\"> CT</span> <span style=\"background:#d0a300;\"> DE</span> <span style=\"background:#443500;\"> DC</span> <span style=\"background:#8d6f00;\"> FL</span> <span style=\"background:grey;\"> GA</span> <span style=\"background:grey;\"> HI</span> <span style=\"background:#5c4800;\"> ID</span> <span style=\"background:grey;\"> IL</span> <span style=\"background:grey;\"> IN</span> <span style=\"background:grey;\"> IA</span> <span style=\"background:grey;\"> KS</span> <span style=\"background:grey;\"> KY</span> <span style=\"background:grey;\"> LA</span> <span style=\"background:grey;\"> ME</span> <span style=\"background:#0c0a00;\"> MB</span> <span style=\"background:#634e00;\"> MD</span> <span style=\"background:#1f1800;\"> MA</span> <span style=\"background:grey;\"> MI</span> <span style=\"background:grey;\"> MN</span> <span style=\"background:grey;\"> MS</span> <span style=\"background:#241c00;\"> MO</span> <span style=\"background:grey;\"> MT</span> <span style=\"background:grey;\"> NE</span> <span style=\"background:grey;\"> NV</span> <span style=\"background:grey;\"> NB</span> <span style=\"background:grey;\"> NF</span> <span style=\"background:grey;\"> NH</span> <span style=\"background:#000000;\"> NJ</span> <span style=\"background:grey;\"> NM</span> <span style=\"background:#352900;\"> NY</span> <span style=\"background:#020100;\"> NC</span> <span style=\"background:grey;\"> ND</span> <span style=\"background:grey;\"> NS</span> <span style=\"background:#100c00;\"> OH</span></p>"
      ],
      "text/plain": [
       "<IPython.core.display.HTML object>"
      ]
     },
     "metadata": {},
     "output_type": "display_data"
    },
    {
     "data": {
      "text/html": [
       "<p style='background: grey;'><span style=\"background:grey;\"> children</span> <span style=\"background:grey;\">,</span> <span style=\"background:grey;\"> in</span> <span style=\"background:grey;\"> the</span> <span style=\"background:grey;\"> Far</span> <span style=\"background:grey;\">ah</span> <span style=\"background:grey;\"> province</span> <span style=\"background:grey;\"> of</span> <span style=\"background:grey;\"> Afghanistan</span> <span style=\"background:grey;\">.</span> <span style=\"background:grey;\"> The</span> <span style=\"background:grey;\"> targeted</span> <span style=\"background:#040300;\"> killing</span> <span style=\"background:grey;\"> policy</span> <span style=\"background:#010100;\"> has</span> <span style=\"background:#342900;\"> grown</span> <span style=\"background:#161100;\"> very</span> <span style=\"background:grey;\"> controversial</span> <span style=\"background:#191300;\"> in</span> <span style=\"background:#050400;\"> Afghanistan</span> <span style=\"background:#191400;\"> and</span> <span style=\"background:#060400;\"> among</span> <span style=\"background:#130f00;\"> human</span> <span style=\"background:#151100;\"> rights</span> <span style=\"background:#120e00;\"> groups</span> <span style=\"background:grey;\">.</span> <span style=\"background:#0b0900;\"> The</span> <span style=\"background:grey;\"> International</span> <span style=\"background:grey;\"> Committee</span> <span style=\"background:#1e1700;\"> of</span> <span style=\"background:grey;\"> the</span> <span style=\"background:#c69b00;\"> Red</span> <span style=\"background:grey;\"> Cross</span> <span style=\"background:#352900;\"> maintains</span> <span style=\"background:#241c00;\"> that</span> <span style=\"background:grey;\"> international</span> <span style=\"background:grey;\"> law</span> <span style=\"background:grey;\"> permits</span> <span style=\"background:#0e0b00;\"> targeting</span> <span style=\"background:#0a0800;\"> only</span> <span style=\"background:#201900;\"> of</span> <span style=\"background:grey;\"> people</span> <span style=\"background:grey;\"> \"</span> <span style=\"background:#110d00;\">contin</span> <span style=\"background:grey;\">uously</span> <span style=\"background:grey;\">\"</span> <span style=\"background:grey;\"> engaged</span> <span style=\"background:grey;\"> in</span> <span style=\"background:grey;\"> hostile</span> <span style=\"background:grey;\"> actions</span> <span style=\"background:grey;\">,</span> <span style=\"background:grey;\"> and</span> <span style=\"background:grey;\"> that</span> <span style=\"background:#060400;\"> only</span> <span style=\"background:grey;\"> \"</span> <span style=\"background:grey;\">necessary</span> <span style=\"background:grey;\">\"</span> <span style=\"background:grey;\"> force</span> <span style=\"background:grey;\"> can</span> <span style=\"background:grey;\"> be</span> <span style=\"background:grey;\"> used</span> <span style=\"background:#1d1700;\"> against</span> <span style=\"background:#080600;\"> them</span> <span style=\"background:grey;\">.</span></p>"
      ],
      "text/plain": [
       "<IPython.core.display.HTML object>"
      ]
     },
     "metadata": {},
     "output_type": "display_data"
    },
    {
     "data": {
      "text/html": [
       "<p style='background: grey;'><span style=\"background:grey;\"> the</span> <span style=\"background:#080600;\"> market</span> <span style=\"background:#080600;\">.</span> <span style=\"background:grey;\">\n",
       "</span> <span style=\"background:grey;\">\n",
       "</span> <span style=\"background:grey;\">Despite</span> <span style=\"background:#000000;\"> demand</span> <span style=\"background:grey;\"> being</span> <span style=\"background:grey;\"> high</span> <span style=\"background:grey;\"> for</span> <span style=\"background:grey;\"> new</span> <span style=\"background:#020200;\"> condos</span> <span style=\"background:grey;\">,</span> <span style=\"background:grey;\"> there</span> <span style=\"background:grey;\"> are</span> <span style=\"background:grey;\"> now</span> <span style=\"background:grey;\"> over</span> <span style=\"background:#120e00;\"> 1</span> <span style=\"background:grey;\">,</span> <span style=\"background:grey;\">600</span> <span style=\"background:grey;\"> units</span> <span style=\"background:#1f1800;\"> on</span> <span style=\"background:#201900;\"> the</span> <span style=\"background:grey;\"> market</span> <span style=\"background:grey;\">,</span> <span style=\"background:grey;\"> a</span> <span style=\"background:grey;\"> 21</span> <span style=\"background:#191300;\"> year</span> <span style=\"background:grey;\"> high</span> <span style=\"background:grey;\">.</span> <span style=\"background:grey;\"> The</span> <span style=\"background:grey;\"> saturation</span> <span style=\"background:grey;\"> of</span> <span style=\"background:grey;\"> available</span> <span style=\"background:grey;\"> units</span> <span style=\"background:grey;\"> should</span> <span style=\"background:grey;\">,</span> <span style=\"background:grey;\"> B</span> <span style=\"background:grey;\">MO</span> <span style=\"background:grey;\"> predicts</span> <span style=\"background:grey;\">,</span> <span style=\"background:grey;\"> curtail</span> <span style=\"background:grey;\"> the</span> <span style=\"background:grey;\"> rise</span> <span style=\"background:grey;\"> of</span> <span style=\"background:grey;\"> condo</span> <span style=\"background:grey;\"> prices</span> <span style=\"background:grey;\"> in</span> <span style=\"background:grey;\"> the</span> <span style=\"background:grey;\"> city</span> <span style=\"background:grey;\">,</span> <span style=\"background:grey;\"> at</span> <span style=\"background:grey;\"> least</span> <span style=\"background:grey;\"> for</span> <span style=\"background:grey;\"> the</span> <span style=\"background:#181300;\"> time</span> <span style=\"background:grey;\"> being</span> <span style=\"background:grey;\">.</span> <span style=\"background:grey;\"> How</span> <span style=\"background:grey;\"> long</span> <span style=\"background:#100c00;\"> this</span> <span style=\"background:#c29800;\"> will</span> <span style=\"background:#151100;\"> last</span> <span style=\"background:grey;\">,</span></p>"
      ],
      "text/plain": [
       "<IPython.core.display.HTML object>"
      ]
     },
     "metadata": {},
     "output_type": "display_data"
    },
    {
     "data": {
      "text/html": [
       "<p style='background: grey;'><span style=\"background:grey;\"> will</span> <span style=\"background:grey;\"> be</span> <span style=\"background:grey;\"> on</span> <span style=\"background:#1c1600;\"> free</span> <span style=\"background:#251d00;\"> agency</span> <span style=\"background:#010100;\">,</span> <span style=\"background:grey;\"> and</span> <span style=\"background:grey;\"> not</span> <span style=\"background:#110d00;\"> on</span> <span style=\"background:grey;\"> a</span> <span style=\"background:grey;\"> replacement</span> <span style=\"background:grey;\"> for</span> <span style=\"background:grey;\"> departed</span> <span style=\"background:#070600;\"> team</span> <span style=\"background:grey;\"> president</span> <span style=\"background:grey;\"> Phil</span> <span style=\"background:grey;\"> Jackson</span> <span style=\"background:grey;\">,</span> <span style=\"background:#271f00;\"> league</span> <span style=\"background:grey;\"> sources</span> <span style=\"background:#0d0a00;\"> told</span> <span style=\"background:#040300;\"> ESPN</span> <span style=\"background:#261d00;\">'s</span> <span style=\"background:grey;\"> Ram</span> <span style=\"background:#1e1700;\">ona</span> <span style=\"background:#302600;\"> Shel</span> <span style=\"background:grey;\">burn</span> <span style=\"background:grey;\">e</span> <span style=\"background:grey;\">.</span> <span style=\"background:#020200;\">\n",
       "</span> <span style=\"background:#030200;\">\n",
       "</span> <span style=\"background:#251d00;\">General</span> <span style=\"background:#302600;\"> manager</span> <span style=\"background:grey;\"> Steve</span> <span style=\"background:#010100;\"> Mills</span> <span style=\"background:#0d0a00;\"> was</span> <span style=\"background:#090700;\"> leading</span> <span style=\"background:#060400;\"> the</span> <span style=\"background:#141000;\"> front</span> <span style=\"background:#332800;\"> office</span> <span style=\"background:#191400;\"> in</span> <span style=\"background:grey;\"> talks</span> <span style=\"background:#201900;\"> with</span> <span style=\"background:#362a00;\"> other</span> <span style=\"background:grey;\"> teams</span> <span style=\"background:#211a00;\"> Wednesday</span> <span style=\"background:#060500;\">,</span> <span style=\"background:grey;\"> sources</span> <span style=\"background:grey;\"> said</span> <span style=\"background:grey;\">.</span> <span style=\"background:#030300;\">\n",
       "</span> <span style=\"background:#000000;\">\n",
       "</span> <span style=\"background:#100c00;\">The</span> <span style=\"background:#120e00;\"> Knicks</span> <span style=\"background:#282000;\"> have</span> <span style=\"background:#120e00;\"> been</span> <span style=\"background:#1b1500;\"> linked</span> <span style=\"background:#151000;\"> to</span> <span style=\"background:#211900;\"> Toronto</span> <span style=\"background:#251d00;\"> Raptors</span> <span style=\"background:grey;\"> president</span> <span style=\"background:#261d00;\"> Mas</span> <span style=\"background:#bc9300;\">ai</span> <span style=\"background:grey;\"> U</span></p>"
      ],
      "text/plain": [
       "<IPython.core.display.HTML object>"
      ]
     },
     "metadata": {},
     "output_type": "display_data"
    },
    {
     "data": {
      "text/html": [
       "<p style='color: red;'>Feature exp., #12: references to geographical locations, particularly 'North'.</p>"
      ],
      "text/plain": [
       "<IPython.core.display.HTML object>"
      ]
     },
     "metadata": {},
     "output_type": "display_data"
    },
    {
     "data": {
      "text/html": [
       "<p style='background: grey;'><span style=\"background:grey;\">,</span> <span style=\"background:grey;\"> a</span> <span style=\"background:grey;\"> complete</span> <span style=\"background:grey;\"> game</span> <span style=\"background:#1f1800;\"> can</span> <span style=\"background:grey;\"> run</span> <span style=\"background:#040300;\"> over</span> <span style=\"background:#0d0a00;\"> 1</span> <span style=\"background:grey;\">,</span> <span style=\"background:#211a00;\">500</span> <span style=\"background:#181300;\"> hours</span> <span style=\"background:#392d00;\">.</span> <span style=\"background:grey;\"> However</span> <span style=\"background:#2d2300;\">,</span> <span style=\"background:#0d0a00;\"> the</span> <span style=\"background:grey;\"> logistics</span> <span style=\"background:grey;\"> of</span> <span style=\"background:grey;\"> keeping</span> <span style=\"background:grey;\"> a</span> <span style=\"background:grey;\"> ten</span> <span style=\"background:grey;\">-</span> <span style=\"background:grey;\">person</span> <span style=\"background:grey;\"> group</span> <span style=\"background:grey;\"> together</span> <span style=\"background:#151100;\"> for</span> <span style=\"background:#030200;\"> fifteen</span> <span style=\"background:grey;\"> hundred</span> <span style=\"background:grey;\"> hours</span> <span style=\"background:#342900;\"> of</span> <span style=\"background:grey;\"> gaming</span> <span style=\"background:#000000;\"> was</span> <span style=\"background:grey;\"> a</span> <span style=\"background:#060500;\"> feat</span> <span style=\"background:grey;\"> beyond</span> <span style=\"background:grey;\"> even</span> <span style=\"background:#3c2f00;\"> most</span> <span style=\"background:#9c7a00;\"> hardcore</span> <span style=\"background:grey;\"> w</span> <span style=\"background:grey;\">arg</span> <span style=\"background:grey;\">am</span> <span style=\"background:grey;\">ers</span> <span style=\"background:#5f4b00;\">,</span> <span style=\"background:#080600;\"> and</span> <span style=\"background:grey;\"> completed</span> <span style=\"background:#302600;\"> full</span> <span style=\"background:grey;\"> games</span> <span style=\"background:#483800;\"> of</span> <span style=\"background:grey;\"> The</span> <span style=\"background:grey;\"> Campaign</span> <span style=\"background:grey;\"> for</span> <span style=\"background:#ffc800;\"> North</span> <span style=\"background:grey;\"> Africa</span> <span style=\"background:#433400;\"> are</span> <span style=\"background:grey;\"> rare</span> <span style=\"background:#5a4600;\">.</span> <span style=\"background:#251d00;\">\n",
       "</span> <span style=\"background:#3d3000;\">\n",
       "</span> <span style=\"background:grey;\">Leg</span> <span style=\"background:#554300;\">acy</span> <span style=\"background:grey;\"> [</span> <span style=\"background:#181300;\"> edit</span> <span style=\"background:grey;\"> ]</span> <span style=\"background:#0d0a00;\">\n",
       "</span> <span style=\"background:#0d0a00;\">\n",
       "</span></p>"
      ],
      "text/plain": [
       "<IPython.core.display.HTML object>"
      ]
     },
     "metadata": {},
     "output_type": "display_data"
    },
    {
     "data": {
      "text/html": [
       "<p style='background: grey;'><span style=\"background:grey;\"> GS</span> <span style=\"background:grey;\"> and</span> <span style=\"background:#342900;\"> BMW</span> <span style=\"background:grey;\"> 3</span> <span style=\"background:grey;\"> Series</span> <span style=\"background:grey;\"> and</span> <span style=\"background:grey;\"> sports</span> <span style=\"background:grey;\"> car</span> <span style=\"background:#443500;\"> like</span> <span style=\"background:#594600;\"> Porsche</span> <span style=\"background:grey;\"> 911</span> <span style=\"background:#1f1900;\"> and</span> <span style=\"background:#7d6200;\"> Subaru</span> <span style=\"background:#d3a600;\"> BR</span> <span style=\"background:grey;\">Z</span> <span style=\"background:#181200;\">.</span> <span style=\"background:grey;\">\n",
       "</span> <span style=\"background:grey;\">\n",
       "</span> <span style=\"background:#1b1500;\">While</span> <span style=\"background:grey;\"> the</span> <span style=\"background:grey;\"> auto</span> <span style=\"background:grey;\"> world</span> <span style=\"background:grey;\"> is</span> <span style=\"background:grey;\"> aw</span> <span style=\"background:grey;\">ash</span> <span style=\"background:grey;\"> in</span> <span style=\"background:grey;\"> awards</span> <span style=\"background:grey;\">,</span> <span style=\"background:grey;\"> Motor</span> <span style=\"background:grey;\"> Trend</span> <span style=\"background:#0c0900;\">'s</span> <span style=\"background:grey;\"> nod</span> <span style=\"background:grey;\"> is</span> <span style=\"background:#1b1500;\"> one</span> <span style=\"background:grey;\"> of</span> <span style=\"background:#120e00;\"> the</span> <span style=\"background:#352a00;\"> most</span> <span style=\"background:#171200;\"> closely</span> <span style=\"background:#211a00;\"> watched</span> <span style=\"background:#463600;\">,</span> <span style=\"background:#2b2200;\"> along</span> <span style=\"background:grey;\"> with</span> <span style=\"background:#181300;\"> the</span> <span style=\"background:#ffc800;\"> North</span> <span style=\"background:#2f2400;\"> American</span> <span style=\"background:grey;\"> Car</span> <span style=\"background:grey;\"> of</span> <span style=\"background:grey;\"> the</span> <span style=\"background:grey;\"> Year</span> <span style=\"background:#181300;\">.</span> <span style=\"background:#191400;\"> The</span> <span style=\"background:grey;\"> magazine</span> <span style=\"background:grey;\"> didn</span> <span style=\"background:#2b2100;\">'t</span> <span style=\"background:grey;\"> hold</span> <span style=\"background:grey;\"> back</span> <span style=\"background:#1a1500;\"> its</span> <span style=\"background:grey;\"> praise</span> <span style=\"background:grey;\"> for</span> <span style=\"background:#141000;\"> the</span> <span style=\"background:#130f00;\"> Tesla</span> <span style=\"background:grey;\"> sedan</span> <span style=\"background:grey;\">.</span> <span style=\"background:grey;\">\n",
       "</span></p>"
      ],
      "text/plain": [
       "<IPython.core.display.HTML object>"
      ]
     },
     "metadata": {},
     "output_type": "display_data"
    },
    {
     "data": {
      "text/html": [
       "<p style='background: grey;'><span style=\"background:grey;\"> and</span> <span style=\"background:#181300;\"> Dragons</span> <span style=\"background:grey;\"> Z</span> <span style=\"background:grey;\"> to</span> <span style=\"background:#ffc800;\"> North</span> <span style=\"background:grey;\"> America</span> <span style=\"background:grey;\">,</span> <span style=\"background:grey;\"> Silicon</span> <span style=\"background:grey;\">era</span> <span style=\"background:grey;\"> reports</span> <span style=\"background:#2a2100;\">.</span> <span style=\"background:grey;\">\n",
       "</span> <span style=\"background:grey;\">\n",
       "</span> <span style=\"background:grey;\">In</span> <span style=\"background:grey;\"> an</span> <span style=\"background:grey;\"> interview</span> <span style=\"background:grey;\"> with</span> <span style=\"background:grey;\"> Silicon</span> <span style=\"background:grey;\">era</span> <span style=\"background:grey;\">,</span> <span style=\"background:grey;\"> Kaz</span> <span style=\"background:#000000;\">uki</span> <span style=\"background:#1d1700;\"> Mor</span> <span style=\"background:#0b0900;\">ish</span> <span style=\"background:grey;\">ita</span> <span style=\"background:#2c2200;\"> CEO</span> <span style=\"background:#100c00;\"> of</span> <span style=\"background:#211a00;\"> G</span> <span style=\"background:#040300;\">ung</span> <span style=\"background:grey;\">Ho</span> <span style=\"background:grey;\"> Online</span> <span style=\"background:#171200;\"> Entertainment</span> <span style=\"background:grey;\"> confirmed</span> <span style=\"background:grey;\"> that</span> <span style=\"background:#010100;\"> G</span> <span style=\"background:grey;\">ung</span> <span style=\"background:grey;\">Ho</span> <span style=\"background:grey;\"> Online</span> <span style=\"background:grey;\"> Entertainment</span> <span style=\"background:grey;\"> America</span> <span style=\"background:#514000;\"> will</span> <span style=\"background:grey;\"> publish</span> <span style=\"background:grey;\"> the</span> <span style=\"background:grey;\"> game</span> <span style=\"background:grey;\"> in</span> <span style=\"background:grey;\"> the</span> <span style=\"background:grey;\"> U</span> <span style=\"background:#3a2e00;\">.</span> <span style=\"background:grey;\">S</span> <span style=\"background:#362a00;\">.</span> <span style=\"background:grey;\">\n",
       "</span> <span style=\"background:grey;\">\n",
       "</span> <span style=\"background:grey;\">P</span> <span style=\"background:#302600;\">uzzle</span> <span style=\"background:grey;\"> and</span> <span style=\"background:grey;\"> Dragons</span> <span style=\"background:grey;\"> Z</span> <span style=\"background:grey;\"> is</span> <span style=\"background:#030300;\"> an</span> <span style=\"background:grey;\"> updated</span> <span style=\"background:grey;\"> console</span> <span style=\"background:grey;\"> version</span> <span style=\"background:grey;\"> of</span> <span style=\"background:#3e3000;\"> the</span></p>"
      ],
      "text/plain": [
       "<IPython.core.display.HTML object>"
      ]
     },
     "metadata": {},
     "output_type": "display_data"
    },
    {
     "data": {
      "text/html": [
       "<p style='background: grey;'><span style=\"background:grey;\">etr</span> <span style=\"background:grey;\">able</span> <span style=\"background:grey;\"> v</span> <span style=\"background:#4d3c00;\">ene</span> <span style=\"background:grey;\">er</span> <span style=\"background:grey;\">.</span> <span style=\"background:grey;\">\n",
       "</span> <span style=\"background:grey;\">\n",
       "</span> <span style=\"background:#ffc800;\">North</span> <span style=\"background:grey;\"> mixes</span> <span style=\"background:grey;\"> the</span> <span style=\"background:grey;\"> light</span> <span style=\"background:grey;\"> and</span> <span style=\"background:grey;\"> darkness</span> <span style=\"background:grey;\"> as</span> <span style=\"background:grey;\"> if</span> <span style=\"background:grey;\"> they</span> <span style=\"background:grey;\"> were</span> <span style=\"background:grey;\"> elements</span> <span style=\"background:grey;\"> you</span> <span style=\"background:grey;\"> could</span> <span style=\"background:grey;\"> simply</span> <span style=\"background:grey;\"> put</span> <span style=\"background:grey;\"> in</span> <span style=\"background:grey;\"> a</span> <span style=\"background:grey;\"> bowl</span> <span style=\"background:grey;\"> and</span> <span style=\"background:grey;\"> whisk</span> <span style=\"background:#120e00;\">.</span> <span style=\"background:grey;\"> Big</span> <span style=\"background:grey;\">,</span> <span style=\"background:grey;\"> bro</span> <span style=\"background:grey;\">oding</span> <span style=\"background:grey;\"> power</span> <span style=\"background:grey;\"> chords</span> <span style=\"background:grey;\"> crunch</span> <span style=\"background:grey;\"> through</span> <span style=\"background:grey;\"> thunder</span> <span style=\"background:grey;\">ous</span> <span style=\"background:grey;\"> gro</span> <span style=\"background:grey;\">oves</span> <span style=\"background:grey;\"> and</span> <span style=\"background:#1e1700;\"> depressive</span> <span style=\"background:#211900;\"> doom</span> <span style=\"background:#5d4900;\"> r</span> <span style=\"background:grey;\">iffs</span> <span style=\"background:grey;\"> in</span> <span style=\"background:#251d00;\"> time</span> <span style=\"background:grey;\"> with</span> <span style=\"background:#0d0a00;\"> the</span> <span style=\"background:grey;\"> emphasis</span> <span style=\"background:grey;\"> of</span> <span style=\"background:#130e00;\"> each</span> <span style=\"background:grey;\"> strike</span> <span style=\"background:grey;\"> of</span> <span style=\"background:grey;\"> sn</span> <span style=\"background:grey;\">are</span> <span style=\"background:grey;\"> and</span> <span style=\"background:grey;\"> cy</span> <span style=\"background:#745b00;\">mb</span> <span style=\"background:#151100;\">al</span> <span style=\"background:grey;\">.</span> <span style=\"background:grey;\"> Yet</span> <span style=\"background:grey;\"> all</span></p>"
      ],
      "text/plain": [
       "<IPython.core.display.HTML object>"
      ]
     },
     "metadata": {},
     "output_type": "display_data"
    },
    {
     "data": {
      "text/html": [
       "<p style='background: grey;'><span style=\"background:grey;\"> experience</span> <span style=\"background:grey;\"> following</span> <span style=\"background:grey;\"> the</span> <span style=\"background:grey;\"> exploitation</span> <span style=\"background:grey;\"> of</span> <span style=\"background:#ffc800;\"> North</span> <span style=\"background:grey;\"> Sea</span> <span style=\"background:grey;\"> oil</span> <span style=\"background:grey;\">,</span> <span style=\"background:grey;\"> for</span> <span style=\"background:grey;\"> example</span> <span style=\"background:grey;\">.</span> <span style=\"background:#1c1600;\"> That</span> <span style=\"background:grey;\"> expertise</span> <span style=\"background:#0e0b00;\"> is</span> <span style=\"background:grey;\"> precisely</span> <span style=\"background:#886a00;\"> the</span> <span style=\"background:grey;\"> kind</span> <span style=\"background:grey;\"> needed</span> <span style=\"background:#3c2f00;\"> to</span> <span style=\"background:grey;\"> build</span> <span style=\"background:#221a00;\"> up</span> <span style=\"background:grey;\"> a</span> <span style=\"background:grey;\"> strong</span> <span style=\"background:grey;\"> offshore</span> <span style=\"background:grey;\"> wind</span> <span style=\"background:grey;\"> turbine</span> <span style=\"background:grey;\"> industry</span> <span style=\"background:grey;\"> in</span> <span style=\"background:grey;\"> the</span> <span style=\"background:grey;\"> UK</span> <span style=\"background:#090700;\">.</span> <span style=\"background:grey;\">\n",
       "</span> <span style=\"background:#070500;\">\n",
       "</span> <span style=\"background:grey;\">The</span> <span style=\"background:grey;\"> same</span> <span style=\"background:grey;\"> is</span> <span style=\"background:grey;\"> true</span> <span style=\"background:grey;\"> for</span> <span style=\"background:grey;\"> both</span> <span style=\"background:grey;\"> tidal</span> <span style=\"background:grey;\"> and</span> <span style=\"background:grey;\"> wave</span> <span style=\"background:grey;\"> power</span> <span style=\"background:grey;\"> plants</span> <span style=\"background:#000000;\">.</span> <span style=\"background:grey;\"> The</span> <span style=\"background:grey;\"> seas</span> <span style=\"background:grey;\"> around</span> <span style=\"background:grey;\"> Britain</span> <span style=\"background:grey;\"> have</span> <span style=\"background:#322700;\"> some</span> <span style=\"background:grey;\"> of</span> <span style=\"background:grey;\"> the</span> <span style=\"background:grey;\"> strongest</span> <span style=\"background:grey;\"> tides</span> <span style=\"background:grey;\"> in</span> <span style=\"background:grey;\"> the</span> <span style=\"background:grey;\"> world</span> <span style=\"background:grey;\"> and</span> <span style=\"background:grey;\"> are</span> <span style=\"background:#403200;\"> ripe</span> <span style=\"background:#292000;\"> for</span> <span style=\"background:grey;\"> exploitation</span></p>"
      ],
      "text/plain": [
       "<IPython.core.display.HTML object>"
      ]
     },
     "metadata": {},
     "output_type": "display_data"
    },
    {
     "data": {
      "text/html": [
       "<p style='color: red;'>Feature exp., #13: contact information, addresses, and communication methods.</p>"
      ],
      "text/plain": [
       "<IPython.core.display.HTML object>"
      ]
     },
     "metadata": {},
     "output_type": "display_data"
    },
    {
     "data": {
      "text/html": [
       "<p style='background: grey;'><span style=\"background:grey;\"> £</span> <span style=\"background:grey;\">2</span> <span style=\"background:grey;\">bn</span> <span style=\"background:grey;\">.</span> <span style=\"background:grey;\">\n",
       "</span> <span style=\"background:grey;\">\n",
       "</span> <span style=\"background:grey;\">•</span> <span style=\"background:#524000;\"> To</span> <span style=\"background:#322700;\"> contact</span> <span style=\"background:#070500;\"> the</span> <span style=\"background:#604b00;\"> Media</span> <span style=\"background:#503f00;\">Guard</span> <span style=\"background:#020100;\">ian</span> <span style=\"background:grey;\"> news</span> <span style=\"background:grey;\"> desk</span> <span style=\"background:#ffc800;\"> email</span> <span style=\"background:grey;\"> media</span> <span style=\"background:#eeba00;\">@</span> <span style=\"background:#302600;\">the</span> <span style=\"background:#201900;\">guard</span> <span style=\"background:grey;\">ian</span> <span style=\"background:grey;\">.</span> <span style=\"background:grey;\">com</span> <span style=\"background:#977600;\"> or</span> <span style=\"background:#ffc800;\"> phone</span> <span style=\"background:#997800;\"> 0</span> <span style=\"background:#ffc800;\">20</span> <span style=\"background:#0a0800;\"> 3</span> <span style=\"background:#5d4900;\">353</span> <span style=\"background:#634e00;\"> 38</span> <span style=\"background:#090700;\">57</span> <span style=\"background:#4d3c00;\">.</span> <span style=\"background:#7e6300;\"> For</span> <span style=\"background:#271f00;\"> all</span> <span style=\"background:grey;\"> other</span> <span style=\"background:grey;\"> inquiries</span> <span style=\"background:#171200;\"> please</span> <span style=\"background:#ffc800;\"> call</span> <span style=\"background:#5a4600;\"> the</span> <span style=\"background:grey;\"> main</span> <span style=\"background:#bc9300;\"> Guardian</span> <span style=\"background:grey;\"> switch</span> <span style=\"background:#332800;\">board</span> <span style=\"background:#403200;\"> on</span> <span style=\"background:#292000;\"> 0</span> <span style=\"background:#ffc800;\">20</span> <span style=\"background:grey;\"> 3</span> <span style=\"background:#513f00;\">353</span> <span style=\"background:#503f00;\"> 2000</span> <span style=\"background:#9e7c00;\">.</span> <span style=\"background:grey;\"> If</span> <span style=\"background:grey;\"> you</span> <span style=\"background:grey;\"> are</span> <span style=\"background:grey;\"> writing</span> <span style=\"background:#120e00;\"> a</span> <span style=\"background:grey;\"> comment</span> <span style=\"background:grey;\"> for</span> <span style=\"background:grey;\"> publication</span> <span style=\"background:#e1b100;\">,</span> <span style=\"background:grey;\"> please</span> <span style=\"background:grey;\"> mark</span> <span style=\"background:grey;\"> clearly</span> <span style=\"background:grey;\"> \"</span> <span style=\"background:grey;\">for</span></p>"
      ],
      "text/plain": [
       "<IPython.core.display.HTML object>"
      ]
     },
     "metadata": {},
     "output_type": "display_data"
    },
    {
     "data": {
      "text/html": [
       "<p style='background: grey;'><span style=\"background:grey;\"> base</span> <span style=\"background:#171200;\">.</span> <span style=\"background:grey;\"> The</span> <span style=\"background:#020100;\"> dom</span> <span style=\"background:#080600;\">ed</span> <span style=\"background:#1c1600;\"> structure</span> <span style=\"background:#130e00;\"> has</span> <span style=\"background:#0c0a00;\"> a</span> <span style=\"background:grey;\"> single</span> <span style=\"background:#473700;\"> p</span> <span style=\"background:grey;\">orth</span> <span style=\"background:#020200;\">ole</span> <span style=\"background:#040300;\"> overlooking</span> <span style=\"background:grey;\"> lava</span> <span style=\"background:grey;\"> fields</span> <span style=\"background:grey;\"> and</span> <span style=\"background:grey;\"> the</span> <span style=\"background:grey;\"> dormant</span> <span style=\"background:grey;\"> volcano</span> <span style=\"background:grey;\"> M</span> <span style=\"background:#503f00;\">auna</span> <span style=\"background:#ffc800;\"> Ke</span> <span style=\"background:grey;\">a</span> <span style=\"background:grey;\"> in</span> <span style=\"background:grey;\"> the</span> <span style=\"background:grey;\"> distance</span> <span style=\"background:grey;\">.</span> <span style=\"background:grey;\"> When</span> <span style=\"background:grey;\"> exploring</span> <span style=\"background:grey;\"> and</span> <span style=\"background:grey;\"> mapping</span> <span style=\"background:grey;\"> the</span> <span style=\"background:grey;\"> terrain</span> <span style=\"background:grey;\">,</span> <span style=\"background:#140f00;\"> crew</span> <span style=\"background:grey;\"> members</span> <span style=\"background:grey;\"> will</span> <span style=\"background:grey;\"> wear</span> <span style=\"background:grey;\"> spaces</span> <span style=\"background:grey;\">uits</span> <span style=\"background:grey;\"> as</span> <span style=\"background:grey;\"> though</span> <span style=\"background:#3a2d00;\"> on</span> <span style=\"background:#493900;\"> Mars</span> <span style=\"background:grey;\">.</span> <span style=\"background:grey;\"> All</span> <span style=\"background:#050400;\"> communications</span> <span style=\"background:#7e6300;\"> will</span> <span style=\"background:grey;\"> be</span> <span style=\"background:grey;\"> delayed</span> <span style=\"background:grey;\"> 20</span> <span style=\"background:grey;\"> minutes</span> <span style=\"background:grey;\"> to</span> <span style=\"background:#201900;\"> simulate</span> <span style=\"background:#181200;\"> transmissions</span> <span style=\"background:grey;\"> over</span> <span style=\"background:grey;\"> the</span> <span style=\"background:grey;\"> gulf</span> <span style=\"background:grey;\"> of</span> <span style=\"background:#0f0c00;\"> space</span> <span style=\"background:grey;\">.</span> <span style=\"background:grey;\">\n",
       "</span> <span style=\"background:grey;\">\n",
       "</span> <span style=\"background:#060500;\">\"</span></p>"
      ],
      "text/plain": [
       "<IPython.core.display.HTML object>"
      ]
     },
     "metadata": {},
     "output_type": "display_data"
    },
    {
     "data": {
      "text/html": [
       "<p style='background: grey;'><span style=\"background:grey;\">s</span> <span style=\"background:#0a0800;\"> most</span> <span style=\"background:#1f1900;\"> recently</span> <span style=\"background:#2c2200;\"> passed</span> <span style=\"background:grey;\"> restrictions</span> <span style=\"background:grey;\"> on</span> <span style=\"background:grey;\"> medication</span> <span style=\"background:#281f00;\"> abortion</span> <span style=\"background:#151100;\">.</span> <span style=\"background:grey;\">\n",
       "</span> <span style=\"background:grey;\">\n",
       "</span> <span style=\"background:grey;\">The</span> <span style=\"background:#060500;\"> U</span> <span style=\"background:#3f3100;\">.</span> <span style=\"background:#352a00;\">S</span> <span style=\"background:grey;\">.</span> <span style=\"background:grey;\"> Supreme</span> <span style=\"background:#2b2100;\"> Court</span> <span style=\"background:#987700;\"> has</span> <span style=\"background:#a48100;\"> consistently</span> <span style=\"background:#1a1400;\"> held</span> <span style=\"background:#0e0b00;\">—</span> <span style=\"background:#4d3c00;\">first</span> <span style=\"background:#ad8700;\"> in</span> <span style=\"background:grey;\"> Roe</span> <span style=\"background:#745b00;\"> v</span> <span style=\"background:#ffc800;\">.</span> <span style=\"background:#2f2500;\"> Wade</span> <span style=\"background:#503e00;\"> and</span> <span style=\"background:grey;\"> again</span> <span style=\"background:#261e00;\"> most</span> <span style=\"background:#8e6f00;\"> recently</span> <span style=\"background:#ca9e00;\"> in</span> <span style=\"background:grey;\"> Planned</span> <span style=\"background:#292000;\"> Parenthood</span> <span style=\"background:grey;\"> v</span> <span style=\"background:#654f00;\">.</span> <span style=\"background:#281f00;\"> Casey</span> <span style=\"background:grey;\">—</span> <span style=\"background:#0e0b00;\">that</span> <span style=\"background:grey;\"> women</span> <span style=\"background:grey;\"> have</span> <span style=\"background:grey;\"> a</span> <span style=\"background:#080600;\"> constitutional</span> <span style=\"background:grey;\"> right</span> <span style=\"background:#8d6e00;\"> to</span> <span style=\"background:grey;\"> decide</span> <span style=\"background:#332800;\"> whether</span> <span style=\"background:grey;\"> to</span> <span style=\"background:#1d1700;\"> end</span> <span style=\"background:grey;\"> or</span> <span style=\"background:grey;\"> continue</span> <span style=\"background:#181300;\"> a</span> <span style=\"background:grey;\"> pregnancy</span> <span style=\"background:#1b1500;\"> and</span> <span style=\"background:#130e00;\"> states</span> <span style=\"background:grey;\"> cannot</span> <span style=\"background:grey;\"> ban</span> <span style=\"background:#1c1500;\"> abortion</span> <span style=\"background:grey;\"> prior</span> <span style=\"background:#755c00;\"> to</span> <span style=\"background:grey;\"> viability</span> <span style=\"background:#2a2100;\">.</span> <span style=\"background:#251d00;\"> When</span></p>"
      ],
      "text/plain": [
       "<IPython.core.display.HTML object>"
      ]
     },
     "metadata": {},
     "output_type": "display_data"
    },
    {
     "data": {
      "text/html": [
       "<p style='background: grey;'><span style=\"background:grey;\"> site</span> <span style=\"background:#010100;\">.</span> <span style=\"background:grey;\"> If</span> <span style=\"background:grey;\"> you</span> <span style=\"background:grey;\">'ve</span> <span style=\"background:grey;\"> got</span> <span style=\"background:grey;\"> questions</span> <span style=\"background:#010000;\">,</span> <span style=\"background:grey;\"> spotted</span> <span style=\"background:grey;\"> an</span> <span style=\"background:#010100;\"> inacc</span> <span style=\"background:grey;\">uracy</span> <span style=\"background:#191300;\"> or</span> <span style=\"background:grey;\"> just</span> <span style=\"background:grey;\"> want</span> <span style=\"background:#0c0a00;\"> to</span> <span style=\"background:#0b0900;\"> share</span> <span style=\"background:#2a2100;\"> some</span> <span style=\"background:grey;\"> ideas</span> <span style=\"background:grey;\"> about</span> <span style=\"background:#282000;\"> our</span> <span style=\"background:#080600;\"> news</span> <span style=\"background:grey;\"> service</span> <span style=\"background:grey;\">,</span> <span style=\"background:grey;\"> please</span> <span style=\"background:#816500;\"> email</span> <span style=\"background:grey;\"> us</span> <span style=\"background:grey;\"> on</span> <span style=\"background:#241c00;\"> web</span> <span style=\"background:#221a00;\">@</span> <span style=\"background:#120e00;\">st</span> <span style=\"background:#1b1500;\">v</span> <span style=\"background:grey;\">.</span> <span style=\"background:grey;\">tv</span> <span style=\"background:grey;\">.</span> <span style=\"background:grey;\">\n",
       "</span> <span style=\"background:grey;\">\n",
       "</span> <span style=\"background:grey;\">Download</span> <span style=\"background:grey;\">:</span> <span style=\"background:grey;\"> The</span> <span style=\"background:grey;\"> ST</span> <span style=\"background:grey;\">V</span> <span style=\"background:grey;\"> News</span> <span style=\"background:grey;\"> app</span> <span style=\"background:grey;\"> is</span> <span style=\"background:grey;\"> Scotland</span> <span style=\"background:grey;\">'s</span> <span style=\"background:grey;\"> favourite</span> <span style=\"background:grey;\"> and</span> <span style=\"background:grey;\"> is</span> <span style=\"background:grey;\"> available</span> <span style=\"background:grey;\"> for</span> <span style=\"background:grey;\"> iPhone</span> <span style=\"background:#665000;\"> from</span> <span style=\"background:#8e7000;\"> the</span> <span style=\"background:grey;\"> App</span> <span style=\"background:grey;\"> store</span> <span style=\"background:grey;\"> and</span> <span style=\"background:grey;\"> for</span> <span style=\"background:#080600;\"> Android</span> <span style=\"background:#695200;\"> from</span> <span style=\"background:#ffc800;\"> Google</span> <span style=\"background:grey;\"> Play</span> <span style=\"background:#070600;\">.</span></p>"
      ],
      "text/plain": [
       "<IPython.core.display.HTML object>"
      ]
     },
     "metadata": {},
     "output_type": "display_data"
    },
    {
     "data": {
      "text/html": [
       "<p style='background: grey;'><span style=\"background:grey;\">15</span> <span style=\"background:grey;\"> p</span> <span style=\"background:grey;\">.</span> <span style=\"background:grey;\">m</span> <span style=\"background:grey;\">.</span> <span style=\"background:grey;\"> ET</span> <span style=\"background:grey;\">:</span> <span style=\"background:#4c3c00;\"> Um</span> <span style=\"background:grey;\">,</span> <span style=\"background:grey;\"> so</span> <span style=\"background:grey;\">…</span> <span style=\"background:#080600;\"> yeah</span> <span style=\"background:grey;\">…</span> <span style=\"background:#4e3d00;\"> look</span> <span style=\"background:grey;\"> carefully</span> <span style=\"background:#0a0700;\">.</span> <span style=\"background:grey;\"> Those</span> <span style=\"background:grey;\"> are</span> <span style=\"background:#161100;\"> a</span> <span style=\"background:grey;\"> bunch</span> <span style=\"background:grey;\"> of</span> <span style=\"background:#7b6000;\"> d</span> <span style=\"background:grey;\">ild</span> <span style=\"background:#130f00;\">os</span> <span style=\"background:#524000;\"> where</span> <span style=\"background:#302600;\"> the</span> <span style=\"background:#1e1700;\"> Arabic</span> <span style=\"background:#463700;\"> writing</span> <span style=\"background:grey;\"> would</span> <span style=\"background:#302600;\"> normally</span> <span style=\"background:#1f1800;\"> be</span> <span style=\"background:#060500;\">.</span> <span style=\"background:#1f1800;\"> A</span> <span style=\"background:#171200;\"> clever</span> <span style=\"background:#271f00;\"> parody</span> <span style=\"background:grey;\"> indeed</span> <span style=\"background:grey;\">.</span> <span style=\"background:#2f2500;\"> A</span> <span style=\"background:#0c0900;\">+</span> <span style=\"background:#544200;\"> trolling</span> <span style=\"background:grey;\">.</span> <span style=\"background:grey;\">\n",
       "</span> <span style=\"background:grey;\">\n",
       "</span> <span style=\"background:grey;\">Watch</span> <span style=\"background:grey;\"> the</span> <span style=\"background:grey;\"> report</span> <span style=\"background:grey;\"> from</span> <span style=\"background:grey;\"> CNN</span> <span style=\"background:grey;\"> below</span> <span style=\"background:grey;\">:</span> <span style=\"background:grey;\">\n",
       "</span> <span style=\"background:grey;\">\n",
       "</span> <span style=\"background:grey;\">—</span> <span style=\"background:grey;\"> —</span> <span style=\"background:grey;\">\n",
       "</span> <span style=\"background:grey;\">\n",
       "</span> <span style=\"background:grey;\">Have</span> <span style=\"background:#090700;\"> a</span> <span style=\"background:#362a00;\"> tip</span> <span style=\"background:grey;\"> we</span> <span style=\"background:#806500;\"> should</span> <span style=\"background:grey;\"> know</span> <span style=\"background:#ffc800;\">?</span> <span style=\"background:grey;\"> tips</span></p>"
      ],
      "text/plain": [
       "<IPython.core.display.HTML object>"
      ]
     },
     "metadata": {},
     "output_type": "display_data"
    },
    {
     "data": {
      "text/html": [
       "<p style='color: red;'>Feature exp., #14: words related to sports and physical activities.</p>"
      ],
      "text/plain": [
       "<IPython.core.display.HTML object>"
      ]
     },
     "metadata": {},
     "output_type": "display_data"
    },
    {
     "data": {
      "text/html": [
       "<p style='background: grey;'><span style=\"background:#141000;\"> and</span> <span style=\"background:grey;\"> a</span> <span style=\"background:#151000;\"> pet</span> <span style=\"background:grey;\"> tort</span> <span style=\"background:#3b2e00;\">oise</span> <span style=\"background:#473800;\"> competing</span> <span style=\"background:#342900;\"> in</span> <span style=\"background:#644e00;\"> a</span> <span style=\"background:#ffc800;\"> skiing</span> <span style=\"background:#b08a00;\"> competition</span> <span style=\"background:#675100;\"> held</span> <span style=\"background:#1e1700;\"> for</span> <span style=\"background:#4d3d00;\"> pets</span> <span style=\"background:#634d00;\"> and</span> <span style=\"background:grey;\"> their</span> <span style=\"background:#2e2400;\"> owners</span> <span style=\"background:#302500;\"> in</span> <span style=\"background:#090700;\"> San</span> <span style=\"background:#453600;\">men</span> <span style=\"background:#5e4a00;\">xia</span> <span style=\"background:#060500;\">,</span> <span style=\"background:#080600;\"> north</span> <span style=\"background:#201900;\"> China</span> <span style=\"background:grey;\">'s</span> <span style=\"background:#2a2100;\"> Hen</span> <span style=\"background:grey;\">an</span> <span style=\"background:#271e00;\"> province</span> <span style=\"background:#0a0800;\">.</span> <span style=\"background:#0b0900;\"> (</span> <span style=\"background:grey;\">AFP</span> <span style=\"background:grey;\"> Photo</span> <span style=\"background:grey;\">)</span> <span style=\"background:grey;\">\n",
       "</span> <span style=\"background:#060400;\">\n",
       "</span> <span style=\"background:#0d0a00;\">The</span> <span style=\"background:#110d00;\"> bid</span> <span style=\"background:#0d0a00;\">,</span> <span style=\"background:#3e3100;\"> though</span> <span style=\"background:#060400;\">,</span> <span style=\"background:#221b00;\"> faces</span> <span style=\"background:#1f1800;\"> a</span> <span style=\"background:#2d2400;\"> number</span> <span style=\"background:#1d1700;\"> of</span> <span style=\"background:grey;\"> challenges</span> <span style=\"background:#141000;\">,</span> <span style=\"background:grey;\"> not</span> <span style=\"background:#000000;\"> least</span> <span style=\"background:#1a1500;\"> that</span> <span style=\"background:#010100;\"> Asia</span> <span style=\"background:grey;\"> will</span> <span style=\"background:#322700;\"> host</span> <span style=\"background:#110d00;\"> both</span> <span style=\"background:grey;\"> the</span> <span style=\"background:grey;\"> 2018</span> <span style=\"background:#2f2500;\"> winter</span> <span style=\"background:#070500;\"> Games</span> <span style=\"background:#181200;\"> in</span> <span style=\"background:grey;\"> South</span> <span style=\"background:grey;\"> Korea</span> <span style=\"background:grey;\">'s</span> <span style=\"background:grey;\"> P</span> <span style=\"background:grey;\">ye</span> <span style=\"background:grey;\">ong</span> <span style=\"background:#010000;\">ch</span></p>"
      ],
      "text/plain": [
       "<IPython.core.display.HTML object>"
      ]
     },
     "metadata": {},
     "output_type": "display_data"
    },
    {
     "data": {
      "text/html": [
       "<p style='background: grey;'><span style=\"background:#151100;\"> south</span> <span style=\"background:grey;\"> along</span> <span style=\"background:grey;\"> Yor</span> <span style=\"background:#0e0b00;\">keys</span> <span style=\"background:grey;\"> Kn</span> <span style=\"background:#413300;\">ob</span> <span style=\"background:grey;\"> Rd</span> <span style=\"background:grey;\"> are</span> <span style=\"background:grey;\"> a</span> <span style=\"background:#ffc800;\"> golf</span> <span style=\"background:#7d6200;\"> driving</span> <span style=\"background:#604b00;\"> range</span> <span style=\"background:#755c00;\">,</span> <span style=\"background:#ffc800;\"> tennis</span> <span style=\"background:#7d6200;\"> courts</span> <span style=\"background:#ffc800;\">,</span> <span style=\"background:#e3b200;\"> an</span> <span style=\"background:#604b00;\"> equ</span> <span style=\"background:#795f00;\">est</span> <span style=\"background:#ffc800;\">rian</span> <span style=\"background:#574400;\"> centre</span> <span style=\"background:#e0b000;\"> and</span> <span style=\"background:#c39900;\"> an</span> <span style=\"background:#e0af00;\"> ar</span> <span style=\"background:#ffc800;\">chery</span> <span style=\"background:#8f7000;\"> field</span> <span style=\"background:#a37f00;\">,</span> <span style=\"background:#dfaf00;\"> with</span> <span style=\"background:#ae8900;\"> a</span> <span style=\"background:#8a6c00;\"> large</span> <span style=\"background:#b18b00;\"> 3000</span> <span style=\"background:#352900;\">-</span> <span style=\"background:#c89c00;\">space</span> <span style=\"background:#4e3d00;\"> staff</span> <span style=\"background:#594600;\"> car</span> <span style=\"background:#644e00;\"> park</span> <span style=\"background:#524000;\">.</span> <span style=\"background:#4d3c00;\">\n",
       "</span> <span style=\"background:#382c00;\">\n",
       "</span> <span style=\"background:#090700;\">AC</span> <span style=\"background:#171200;\">CC</span> <span style=\"background:grey;\"> PR</span> <span style=\"background:grey;\">OB</span> <span style=\"background:#080600;\">ES</span> <span style=\"background:#362a00;\"> A</span> <span style=\"background:#0f0c00;\">QU</span> <span style=\"background:#1f1800;\">IS</span> <span style=\"background:grey;\"> CAS</span> <span style=\"background:#1c1600;\">INO</span> <span style=\"background:#020100;\"> B</span> <span style=\"background:grey;\">ID</span> <span style=\"background:#140f00;\">\n",
       "</span> <span style=\"background:#0a0800;\">\n",
       "</span> <span style=\"background:#503f00;\">The</span> <span style=\"background:#917200;\"> first</span> <span style=\"background:#876a00;\"> stage</span> <span style=\"background:#6e5600;\">,</span> <span style=\"background:#070600;\"> expected</span> <span style=\"background:grey;\"> to</span> <span style=\"background:#3e3100;\"> start</span> <span style=\"background:#352a00;\"> in</span> <span style=\"background:grey;\"> May</span> <span style=\"background:#292000;\"> next</span> <span style=\"background:grey;\"> year</span></p>"
      ],
      "text/plain": [
       "<IPython.core.display.HTML object>"
      ]
     },
     "metadata": {},
     "output_type": "display_data"
    },
    {
     "data": {
      "text/html": [
       "<p style='background: grey;'><span style=\"background:#181300;\"> set</span> <span style=\"background:#050400;\"> of</span> <span style=\"background:#0c0900;\"> restraints</span> <span style=\"background:grey;\"> (</span> <span style=\"background:grey;\">which</span> <span style=\"background:grey;\"> have</span> <span style=\"background:grey;\"> yet</span> <span style=\"background:grey;\"> to</span> <span style=\"background:#0f0b00;\"> be</span> <span style=\"background:grey;\"> finalized</span> <span style=\"background:grey;\">,</span> <span style=\"background:#000000;\"> but</span> <span style=\"background:grey;\"> will</span> <span style=\"background:grey;\"> likely</span> <span style=\"background:grey;\"> draw</span> <span style=\"background:grey;\"> inspiration</span> <span style=\"background:#0f0c00;\"> from</span> <span style=\"background:#ffc800;\"> ski</span> <span style=\"background:#332800;\"> boots</span> <span style=\"background:#503f00;\">)</span> <span style=\"background:#816500;\"> and</span> <span style=\"background:#947400;\"> perform</span> <span style=\"background:#685200;\"> a</span> <span style=\"background:#4a3a00;\"> series</span> <span style=\"background:#ae8900;\"> of</span> <span style=\"background:#1e1800;\"> tests</span> <span style=\"background:#000000;\"> to</span> <span style=\"background:grey;\"> determine</span> <span style=\"background:#3c2f00;\"> a</span> <span style=\"background:#3c2f00;\"> baseline</span> <span style=\"background:grey;\"> ability</span> <span style=\"background:#2c2200;\">.</span> <span style=\"background:#3f3200;\">\n",
       "</span> <span style=\"background:#322700;\">\n",
       "</span> <span style=\"background:#352900;\">This</span> <span style=\"background:#0d0a00;\"> is</span> <span style=\"background:#3b2e00;\"> where</span> <span style=\"background:#161100;\"> the</span> <span style=\"background:#0d0a00;\"> motors</span> <span style=\"background:#040300;\"> come</span> <span style=\"background:#020200;\"> in</span> <span style=\"background:#231b00;\">.</span> <span style=\"background:#221a00;\"> After</span> <span style=\"background:#2c2300;\"> collecting</span> <span style=\"background:#1d1600;\"> the</span> <span style=\"background:#0a0700;\"> data</span> <span style=\"background:#080600;\">,</span> <span style=\"background:grey;\"> an</span> <span style=\"background:#514000;\"> exercise</span> <span style=\"background:#352a00;\"> regiment</span> <span style=\"background:#281f00;\"> would</span> <span style=\"background:#403200;\"> be</span> <span style=\"background:#0e0b00;\"> designed</span> <span style=\"background:#483800;\"> using</span> <span style=\"background:#362a00;\"> a</span> <span style=\"background:#090700;\"> piece</span> <span style=\"background:#503e00;\"> of</span> <span style=\"background:#483800;\"> companion</span> <span style=\"background:#060500;\"> software</span> <span style=\"background:#1e1800;\">.</span> <span style=\"background:#352a00;\"> The</span> <span style=\"background:#2d2300;\"> pair</span> <span style=\"background:#2d2300;\"> of</span> <span style=\"background:#030200;\"> motors</span></p>"
      ],
      "text/plain": [
       "<IPython.core.display.HTML object>"
      ]
     },
     "metadata": {},
     "output_type": "display_data"
    },
    {
     "data": {
      "text/html": [
       "<p style='background: grey;'><span style=\"background:#060400;\"> (</span> <span style=\"background:grey;\">Karl</span> <span style=\"background:#040300;\"> M</span> <span style=\"background:#171200;\">erton</span> <span style=\"background:grey;\"> Fer</span> <span style=\"background:#1e1800;\">ron</span> <span style=\"background:#1d1700;\">,</span> <span style=\"background:#1c1600;\"> Baltimore</span> <span style=\"background:grey;\"> Sun</span> <span style=\"background:grey;\"> video</span> <span style=\"background:grey;\">)</span> <span style=\"background:grey;\"> Ret</span> <span style=\"background:#0f0b00;\">ired</span> <span style=\"background:#171200;\"> competitive</span> <span style=\"background:#ffc800;\"> ski</span> <span style=\"background:#423400;\">ier</span> <span style=\"background:#171200;\"> Lindsey</span> <span style=\"background:grey;\"> Von</span> <span style=\"background:grey;\">n</span> <span style=\"background:#5f4a00;\"> visits</span> <span style=\"background:#6f5700;\"> Under</span> <span style=\"background:#5e4900;\">Arm</span> <span style=\"background:#ffc800;\">our</span> <span style=\"background:#3b2e00;\"> to</span> <span style=\"background:#a17e00;\"> the</span> <span style=\"background:#141000;\"> delight</span> <span style=\"background:#5b4700;\"> of</span> <span style=\"background:#b38c00;\"> area</span> <span style=\"background:#9d7b00;\"> high</span> <span style=\"background:#987700;\"> school</span> <span style=\"background:#110d00;\"> students</span> <span style=\"background:#191400;\">.</span> <span style=\"background:grey;\"> (</span> <span style=\"background:grey;\">Karl</span> <span style=\"background:grey;\"> M</span> <span style=\"background:grey;\">erton</span> <span style=\"background:grey;\"> Fer</span> <span style=\"background:#020200;\">ron</span> <span style=\"background:#000000;\">,</span> <span style=\"background:#302600;\"> Baltimore</span> <span style=\"background:grey;\"> Sun</span> <span style=\"background:grey;\"> video</span> <span style=\"background:grey;\">)</span> <span style=\"background:grey;\"> CAP</span> <span style=\"background:#2d2300;\">TION</span> <span style=\"background:#151100;\"> A</span> <span style=\"background:#342800;\"> Virginia</span> <span style=\"background:#151100;\"> seafood</span> <span style=\"background:grey;\"> business</span> <span style=\"background:grey;\"> owner</span> <span style=\"background:grey;\"> has</span> <span style=\"background:grey;\"> been</span> <span style=\"background:grey;\"> sentenced</span> <span style=\"background:grey;\"> to</span> <span style=\"background:grey;\"> nearly</span> <span style=\"background:grey;\"> four</span> <span style=\"background:#352a00;\"> years</span> <span style=\"background:#3d3000;\"> in</span> <span style=\"background:grey;\"> jail</span> <span style=\"background:#221a00;\"> and</span> <span style=\"background:#0c0a00;\"> a</span> <span style=\"background:#292000;\"> $</span> <span style=\"background:grey;\">15</span> <span style=\"background:grey;\">,</span></p>"
      ],
      "text/plain": [
       "<IPython.core.display.HTML object>"
      ]
     },
     "metadata": {},
     "output_type": "display_data"
    },
    {
     "data": {
      "text/html": [
       "<p style='background: grey;'><span style=\"background:#110d00;\">eries</span> <span style=\"background:grey;\"> in</span> <span style=\"background:#1d1700;\"> town</span> <span style=\"background:grey;\">.\"</span> <span style=\"background:#130e00;\">\n",
       "</span> <span style=\"background:#060500;\">\n",
       "</span> <span style=\"background:#020200;\">The</span> <span style=\"background:grey;\"> magazine</span> <span style=\"background:grey;\">,</span> <span style=\"background:grey;\"> which</span> <span style=\"background:#120e00;\"> announced</span> <span style=\"background:grey;\"> its</span> <span style=\"background:grey;\"> list</span> <span style=\"background:grey;\"> today</span> <span style=\"background:grey;\">,</span> <span style=\"background:#0c0900;\"> says</span> <span style=\"background:grey;\"> it</span> <span style=\"background:#060400;\"> bases</span> <span style=\"background:#060500;\"> the</span> <span style=\"background:#141000;\"> annual</span> <span style=\"background:grey;\"> rankings</span> <span style=\"background:#0c0a00;\"> on</span> <span style=\"background:#0a0800;\"> such</span> <span style=\"background:grey;\"> factors</span> <span style=\"background:#413300;\"> as</span> <span style=\"background:#040300;\"> male</span> <span style=\"background:grey;\">-</span> <span style=\"background:grey;\">female</span> <span style=\"background:grey;\"> ratio</span> <span style=\"background:#1f1800;\">,</span> <span style=\"background:grey;\"> winning</span> <span style=\"background:grey;\"> percentage</span> <span style=\"background:grey;\"> of</span> <span style=\"background:grey;\"> sports</span> <span style=\"background:grey;\"> teams</span> <span style=\"background:grey;\">,</span> <span style=\"background:grey;\"> etc</span> <span style=\"background:grey;\">.,</span> <span style=\"background:grey;\"> while</span> <span style=\"background:#211a00;\"> adding</span> <span style=\"background:#473800;\"> bonus</span> <span style=\"background:#2e2400;\"> points</span> <span style=\"background:grey;\"> for</span> <span style=\"background:grey;\"> schools</span> <span style=\"background:#241c00;\"> near</span> <span style=\"background:#080600;\"> beaches</span> <span style=\"background:#382c00;\">,</span> <span style=\"background:#ffc800;\"> ski</span> <span style=\"background:#503f00;\"> slopes</span> <span style=\"background:#866900;\"> and</span> <span style=\"background:#392d00;\"> a</span> <span style=\"background:#060400;\"> hot</span> <span style=\"background:#453600;\"> music</span> <span style=\"background:#0b0900;\"> scene</span> <span style=\"background:#090700;\">.</span> <span style=\"background:#020100;\">\n",
       "</span> <span style=\"background:#060400;\">\n",
       "</span> <span style=\"background:#191300;\">It</span> <span style=\"background:#443500;\"> also</span> <span style=\"background:#171200;\"> emphasizes</span> <span style=\"background:grey;\">,</span> <span style=\"background:grey;\"> not</span> <span style=\"background:grey;\"> as</span> <span style=\"background:grey;\"> convinc</span></p>"
      ],
      "text/plain": [
       "<IPython.core.display.HTML object>"
      ]
     },
     "metadata": {},
     "output_type": "display_data"
    },
    {
     "data": {
      "text/html": [
       "<p style='color: red;'>Feature exp., #15: parts of individual's names in the text.</p>"
      ],
      "text/plain": [
       "<IPython.core.display.HTML object>"
      ]
     },
     "metadata": {},
     "output_type": "display_data"
    },
    {
     "data": {
      "text/html": [
       "<p style='background: grey;'><span style=\"background:grey;\"> laser</span> <span style=\"background:grey;\"> range</span> <span style=\"background:grey;\">finder</span> <span style=\"background:#0d0a00;\"> to</span> <span style=\"background:#281f00;\"> judge</span> <span style=\"background:#0b0800;\"> their</span> <span style=\"background:grey;\"> distance</span> <span style=\"background:grey;\">,</span> <span style=\"background:#060500;\"> and</span> <span style=\"background:#332800;\"> conducted</span> <span style=\"background:grey;\"> a</span> <span style=\"background:#191300;\"> fly</span> <span style=\"background:grey;\">-</span> <span style=\"background:grey;\">around</span> <span style=\"background:grey;\"> inspection</span> <span style=\"background:#100c00;\"> to</span> <span style=\"background:grey;\"> be</span> <span style=\"background:grey;\"> certain</span> <span style=\"background:grey;\"> the</span> <span style=\"background:#030200;\"> exterior</span> <span style=\"background:grey;\"> was</span> <span style=\"background:grey;\"> intact</span> <span style=\"background:grey;\">.</span> <span style=\"background:grey;\"> D</span> <span style=\"background:grey;\">z</span> <span style=\"background:grey;\">han</span> <span style=\"background:grey;\">ib</span> <span style=\"background:grey;\">ek</span> <span style=\"background:grey;\">ov</span> <span style=\"background:grey;\"> noted</span> <span style=\"background:#302600;\"> that</span> <span style=\"background:#050400;\"> the</span> <span style=\"background:grey;\"> thermal</span> <span style=\"background:#0c0900;\"> blankets</span> <span style=\"background:#4b3b00;\"> on</span> <span style=\"background:#534100;\"> the</span> <span style=\"background:#342800;\"> transfer</span> <span style=\"background:#332800;\"> compartment</span> <span style=\"background:#3c2f00;\"> had</span> <span style=\"background:grey;\"> turned</span> <span style=\"background:#362a00;\"> a</span> <span style=\"background:#493900;\"> dull</span> <span style=\"background:#1f1800;\"> gray</span> <span style=\"background:#554300;\"> from</span> <span style=\"background:#634e00;\"> prolonged</span> <span style=\"background:#090700;\"> exposure</span> <span style=\"background:#795f00;\"> to</span> <span style=\"background:#130f00;\"> sunlight</span> <span style=\"background:grey;\">.</span> <span style=\"background:grey;\">\n",
       "</span> <span style=\"background:grey;\">\n",
       "</span> <span style=\"background:grey;\">D</span> <span style=\"background:#1a1500;\">z</span> <span style=\"background:#3f3100;\">han</span> <span style=\"background:#ffc800;\">ib</span> <span style=\"background:grey;\">ek</span> <span style=\"background:grey;\">ov</span> <span style=\"background:grey;\"> pil</span> <span style=\"background:#2b2100;\">oted</span> <span style=\"background:grey;\"> his</span> <span style=\"background:grey;\"> ship</span> <span style=\"background:grey;\"> to</span> <span style=\"background:grey;\"> intercept</span> <span style=\"background:grey;\"> the</span></p>"
      ],
      "text/plain": [
       "<IPython.core.display.HTML object>"
      ]
     },
     "metadata": {},
     "output_type": "display_data"
    },
    {
     "data": {
      "text/html": [
       "<p style='background: grey;'><span style=\"background:grey;\"> caption</span> <span style=\"background:grey;\"> The</span> <span style=\"background:grey;\"> crackdown</span> <span style=\"background:grey;\"> in</span> <span style=\"background:#030200;\"> M</span> <span style=\"background:#090700;\">olen</span> <span style=\"background:grey;\">be</span> <span style=\"background:grey;\">ek</span> <span style=\"background:grey;\"> follows</span> <span style=\"background:grey;\"> multiple</span> <span style=\"background:#342900;\"> attacks</span> <span style=\"background:grey;\"> on</span> <span style=\"background:#130f00;\"> bars</span> <span style=\"background:#070500;\">,</span> <span style=\"background:grey;\"> restaurants</span> <span style=\"background:grey;\">,</span> <span style=\"background:grey;\"> a</span> <span style=\"background:#473700;\"> concert</span> <span style=\"background:grey;\"> hall</span> <span style=\"background:grey;\"> and</span> <span style=\"background:grey;\"> a</span> <span style=\"background:grey;\"> stadium</span> <span style=\"background:#281f00;\"> in</span> <span style=\"background:grey;\"> Paris</span> <span style=\"background:#372b00;\"> on</span> <span style=\"background:grey;\"> Friday</span> <span style=\"background:grey;\">\n",
       "</span> <span style=\"background:grey;\">\n",
       "</span> <span style=\"background:grey;\">Some</span> <span style=\"background:#4e3d00;\"> argue</span> <span style=\"background:#110d00;\"> that</span> <span style=\"background:grey;\"> M</span> <span style=\"background:grey;\">olen</span> <span style=\"background:#ffc800;\">be</span> <span style=\"background:#241c00;\">ek</span> <span style=\"background:#524000;\"> has</span> <span style=\"background:#382c00;\"> fallen</span> <span style=\"background:#493900;\"> between</span> <span style=\"background:#604b00;\"> the</span> <span style=\"background:grey;\"> cracks</span> <span style=\"background:#977600;\"> of</span> <span style=\"background:#251d00;\"> long</span> <span style=\"background:grey;\">-</span> <span style=\"background:#755c00;\">term</span> <span style=\"background:grey;\"> political</span> <span style=\"background:grey;\"> divisions</span> <span style=\"background:#1c1600;\"> that</span> <span style=\"background:#7c6100;\"> dominate</span> <span style=\"background:grey;\"> Brussels</span> <span style=\"background:grey;\">.</span> <span style=\"background:grey;\">\n",
       "</span> <span style=\"background:grey;\">\n",
       "</span> <span style=\"background:grey;\">Bel</span> <span style=\"background:#423400;\">g</span> <span style=\"background:grey;\">ium</span> <span style=\"background:#030200;\">'s</span> <span style=\"background:#292000;\"> Interior</span> <span style=\"background:#a17e00;\"> Minister</span> <span style=\"background:grey;\"> Jan</span> <span style=\"background:#4b3b00;\"> J</span> <span style=\"background:#795f00;\">amb</span> <span style=\"background:#080600;\">on</span> <span style=\"background:#4f3e00;\"> admitted</span> <span style=\"background:#130f00;\"> a</span></p>"
      ],
      "text/plain": [
       "<IPython.core.display.HTML object>"
      ]
     },
     "metadata": {},
     "output_type": "display_data"
    },
    {
     "data": {
      "text/html": [
       "<p style='background: grey;'><span style=\"background:grey;\"> evacuate</span> <span style=\"background:grey;\"> a</span> <span style=\"background:grey;\"> number</span> <span style=\"background:grey;\"> of</span> <span style=\"background:grey;\"> people</span> <span style=\"background:grey;\"> said</span> <span style=\"background:#020200;\"> to</span> <span style=\"background:grey;\"> be</span> <span style=\"background:grey;\"> in</span> <span style=\"background:grey;\"> distress</span> <span style=\"background:grey;\">,</span> <span style=\"background:grey;\"> two</span> <span style=\"background:grey;\"> of</span> <span style=\"background:grey;\"> them</span> <span style=\"background:grey;\"> pregnant</span> <span style=\"background:grey;\"> women</span> <span style=\"background:grey;\">.</span> <span style=\"background:grey;\">\n",
       "</span> <span style=\"background:grey;\">\n",
       "</span> <span style=\"background:grey;\">The</span> <span style=\"background:grey;\"> navy</span> <span style=\"background:grey;\"> says</span> <span style=\"background:grey;\"> that</span> <span style=\"background:grey;\"> over</span> <span style=\"background:#443500;\"> the</span> <span style=\"background:grey;\"> weekend</span> <span style=\"background:grey;\"> it</span> <span style=\"background:grey;\"> rescued</span> <span style=\"background:grey;\"> more</span> <span style=\"background:grey;\"> than</span> <span style=\"background:grey;\"> 5</span> <span style=\"background:grey;\">,</span> <span style=\"background:grey;\">000</span> <span style=\"background:grey;\"> migrants</span> <span style=\"background:#654f00;\"> trying</span> <span style=\"background:#ffc800;\"> to</span> <span style=\"background:#2c2200;\"> cross</span> <span style=\"background:#090700;\"> from</span> <span style=\"background:grey;\"> North</span> <span style=\"background:grey;\"> Africa</span> <span style=\"background:grey;\">.</span> <span style=\"background:grey;\">\n",
       "</span> <span style=\"background:grey;\">\n",
       "</span> <span style=\"background:grey;\">The</span> <span style=\"background:#483800;\"> figure</span> <span style=\"background:grey;\"> was</span> <span style=\"background:#271e00;\"> released</span> <span style=\"background:grey;\"> soon</span> <span style=\"background:grey;\"> after</span> <span style=\"background:grey;\"> news</span> <span style=\"background:#3d3000;\"> emerged</span> <span style=\"background:grey;\"> of</span> <span style=\"background:#000000;\"> the</span> <span style=\"background:grey;\"> discovery</span> <span style=\"background:grey;\"> of</span> <span style=\"background:grey;\"> the</span> <span style=\"background:grey;\"> bodies</span> <span style=\"background:grey;\">.</span> <span style=\"background:grey;\">\n",
       "</span> <span style=\"background:grey;\">\n",
       "</span> <span style=\"background:grey;\">Image</span> <span style=\"background:grey;\"> copyright</span> <span style=\"background:#010100;\"> AP</span> <span style=\"background:grey;\"> Image</span></p>"
      ],
      "text/plain": [
       "<IPython.core.display.HTML object>"
      ]
     },
     "metadata": {},
     "output_type": "display_data"
    },
    {
     "data": {
      "text/html": [
       "<p style='background: grey;'><span style=\"background:grey;\"> of</span> <span style=\"background:grey;\"> his</span> <span style=\"background:grey;\"> most</span> <span style=\"background:grey;\"> captive</span> <span style=\"background:grey;\"> cartoons</span> <span style=\"background:grey;\"> were</span> <span style=\"background:grey;\"> published</span> <span style=\"background:#020100;\"> in</span> <span style=\"background:#130f00;\"> Ra</span> <span style=\"background:#080600;\">ema</span> <span style=\"background:grey;\">ek</span> <span style=\"background:#231c00;\">ers</span> <span style=\"background:#090700;\"> Cart</span> <span style=\"background:grey;\">oons</span> <span style=\"background:grey;\">,</span> <span style=\"background:grey;\"> which</span> <span style=\"background:grey;\"> was</span> <span style=\"background:grey;\"> immediately</span> <span style=\"background:grey;\"> translated</span> <span style=\"background:#382c00;\"> in</span> <span style=\"background:#161100;\"> eighteen</span> <span style=\"background:grey;\"> languages</span> <span style=\"background:#140f00;\"> and</span> <span style=\"background:grey;\"> distributed</span> <span style=\"background:grey;\"> worldwide</span> <span style=\"background:#090700;\"> in</span> <span style=\"background:#5b4700;\"> neutral</span> <span style=\"background:grey;\"> countries</span> <span style=\"background:#000000;\">.</span> <span style=\"background:#3f3100;\"> This</span> <span style=\"background:grey;\"> was</span> <span style=\"background:#4a3a00;\"> the</span> <span style=\"background:#080600;\"> beginning</span> <span style=\"background:grey;\"> of</span> <span style=\"background:#080600;\"> a</span> <span style=\"background:#090700;\"> new</span> <span style=\"background:grey;\"> phase</span> <span style=\"background:#1f1800;\"> in</span> <span style=\"background:#5b4700;\"> his</span> <span style=\"background:#201900;\"> life</span> <span style=\"background:grey;\">,</span> <span style=\"background:#342800;\"> one</span> <span style=\"background:#211a00;\"> which</span> <span style=\"background:grey;\"> brought</span> <span style=\"background:#261e00;\"> him</span> <span style=\"background:#1f1900;\"> world</span> <span style=\"background:grey;\"> renown</span> <span style=\"background:grey;\">.</span> <span style=\"background:grey;\"> Among</span> <span style=\"background:#1b1500;\"> the</span> <span style=\"background:grey;\"> Allies</span> <span style=\"background:grey;\"> and</span> <span style=\"background:#000000;\"> in</span> <span style=\"background:grey;\"> neutral</span> <span style=\"background:#2a2100;\"> countries</span> <span style=\"background:grey;\">,</span> <span style=\"background:grey;\"> it</span> <span style=\"background:#030200;\"> was</span> <span style=\"background:grey;\"> specifically</span> <span style=\"background:#745b00;\"> Ra</span> <span style=\"background:#ffc800;\">ema</span> <span style=\"background:#4d3c00;\">ek</span> <span style=\"background:#1b1500;\">ers</span> <span style=\"background:#281f00;\">'</span></p>"
      ],
      "text/plain": [
       "<IPython.core.display.HTML object>"
      ]
     },
     "metadata": {},
     "output_type": "display_data"
    },
    {
     "data": {
      "text/html": [
       "<p style='background: grey;'><span style=\"background:grey;\">a</span> <span style=\"background:grey;\"> stable</span> <span style=\"background:grey;\">,</span> <span style=\"background:grey;\"> national</span> <span style=\"background:grey;\"> majority</span> <span style=\"background:grey;\">,\"</span> <span style=\"background:grey;\"> Michael</span> <span style=\"background:grey;\"> Ign</span> <span style=\"background:grey;\">at</span> <span style=\"background:grey;\">ie</span> <span style=\"background:#000000;\">ff</span> <span style=\"background:grey;\"> would</span> <span style=\"background:grey;\"> form</span> <span style=\"background:grey;\"> a</span> <span style=\"background:grey;\"> \"</span> <span style=\"background:grey;\">reck</span> <span style=\"background:grey;\">less</span> <span style=\"background:grey;\">\"</span> <span style=\"background:grey;\"> coalition</span> <span style=\"background:grey;\"> with</span> <span style=\"background:#110d00;\"> the</span> <span style=\"background:grey;\"> NDP</span> <span style=\"background:grey;\"> and</span> <span style=\"background:grey;\"> Bl</span> <span style=\"background:grey;\">oc</span> <span style=\"background:#0f0b00;\"> Qué</span> <span style=\"background:#ffc800;\">b</span> <span style=\"background:grey;\">é</span> <span style=\"background:#322700;\">co</span> <span style=\"background:grey;\">is</span> <span style=\"background:grey;\">.</span> <span style=\"background:grey;\">\n",
       "</span> <span style=\"background:grey;\">\n",
       "</span> <span style=\"background:#281f00;\">Har</span> <span style=\"background:grey;\">per</span> <span style=\"background:grey;\"> is</span> <span style=\"background:#070600;\"> banking</span> <span style=\"background:#161100;\"> on</span> <span style=\"background:#090700;\"> a</span> <span style=\"background:grey;\"> diseng</span> <span style=\"background:#2e2400;\">aged</span> <span style=\"background:grey;\"> and</span> <span style=\"background:grey;\"> ill</span> <span style=\"background:grey;\">-</span> <span style=\"background:grey;\">informed</span> <span style=\"background:grey;\"> electorate</span> <span style=\"background:#1c1600;\"> for</span> <span style=\"background:#0a0700;\"> his</span> <span style=\"background:#423300;\"> political</span> <span style=\"background:#0b0900;\"> success</span> <span style=\"background:grey;\">.</span> <span style=\"background:grey;\"> He</span> <span style=\"background:#1a1400;\"> accuses</span> <span style=\"background:#1d1700;\"> the</span> <span style=\"background:grey;\"> opposition</span> <span style=\"background:#161100;\"> of</span> <span style=\"background:#0f0c00;\"> forcing</span> <span style=\"background:grey;\"> an</span> <span style=\"background:grey;\"> election</span> <span style=\"background:#392d00;\"> on</span> <span style=\"background:#0d0a00;\"> Canadians</span> <span style=\"background:#151000;\">,</span> <span style=\"background:grey;\"> who</span> <span style=\"background:grey;\"> clearly</span></p>"
      ],
      "text/plain": [
       "<IPython.core.display.HTML object>"
      ]
     },
     "metadata": {},
     "output_type": "display_data"
    },
    {
     "data": {
      "text/html": [
       "<p style='color: red;'>Feature exp., #16: punctuation and digit usage in the document.</p>"
      ],
      "text/plain": [
       "<IPython.core.display.HTML object>"
      ]
     },
     "metadata": {},
     "output_type": "display_data"
    },
    {
     "data": {
      "text/html": [
       "<p style='background: grey;'><span style=\"background:#090700;\"> seeking</span> <span style=\"background:grey;\"> additional</span> <span style=\"background:#0e0b00;\"> details</span> <span style=\"background:grey;\"> and</span> <span style=\"background:grey;\"> are</span> <span style=\"background:grey;\"> awaiting</span> <span style=\"background:grey;\"> a</span> <span style=\"background:#171200;\"> response</span> <span style=\"background:#251d00;\">.</span> <span style=\"background:#130f00;\">\n",
       "</span> <span style=\"background:#161100;\">\n",
       "</span> <span style=\"background:grey;\">Contact</span> <span style=\"background:#191300;\"> There</span> <span style=\"background:grey;\">se</span> <span style=\"background:grey;\"> Ap</span> <span style=\"background:grey;\">el</span> <span style=\"background:grey;\"> at</span> <span style=\"background:#070500;\"> 601</span> <span style=\"background:#070500;\">-</span> <span style=\"background:#060500;\">96</span> <span style=\"background:grey;\">1</span> <span style=\"background:#191400;\">-</span> <span style=\"background:#100d00;\">7</span> <span style=\"background:grey;\">236</span> <span style=\"background:grey;\"> or</span> <span style=\"background:#050400;\"> tap</span> <span style=\"background:grey;\">el</span> <span style=\"background:grey;\">@</span> <span style=\"background:grey;\">gan</span> <span style=\"background:grey;\">n</span> <span style=\"background:grey;\">ett</span> <span style=\"background:grey;\">.</span> <span style=\"background:grey;\">com</span> <span style=\"background:#060500;\">.</span> <span style=\"background:grey;\"> Follow</span> <span style=\"background:grey;\"> her</span> <span style=\"background:grey;\"> on</span> <span style=\"background:grey;\"> Facebook</span> <span style=\"background:#151000;\"> and</span> <span style=\"background:grey;\"> Twitter</span> <span style=\"background:#211a00;\">.</span> <span style=\"background:#453600;\">\n",
       "</span> <span style=\"background:#443500;\">\n",
       "</span> <span style=\"background:grey;\">Read</span> <span style=\"background:grey;\"> or</span> <span style=\"background:grey;\"> Share</span> <span style=\"background:#080600;\"> this</span> <span style=\"background:grey;\"> story</span> <span style=\"background:grey;\">:</span> <span style=\"background:grey;\"> http</span> <span style=\"background:grey;\">://</span> <span style=\"background:#0f0c00;\">on</span> <span style=\"background:grey;\">.</span> <span style=\"background:grey;\">the</span> <span style=\"background:#e7b500;\">c</span> <span style=\"background:#010100;\">-</span> <span style=\"background:#0f0c00;\">l</span> <span style=\"background:grey;\">.</span> <span style=\"background:#151100;\">com</span> <span style=\"background:grey;\">/</span> <span style=\"background:#141000;\">2</span> <span style=\"background:#362a00;\">l</span> <span style=\"background:#181300;\">A</span> <span style=\"background:#3a2d00;\">cm</span></p>"
      ],
      "text/plain": [
       "<IPython.core.display.HTML object>"
      ]
     },
     "metadata": {},
     "output_type": "display_data"
    },
    {
     "data": {
      "text/html": [
       "<p style='background: grey;'><span style=\"background:#1b1500;\">\n",
       "</span> <span style=\"background:#1a1400;\">The</span> <span style=\"background:grey;\"> prosecutor</span> <span style=\"background:grey;\">'s</span> <span style=\"background:grey;\"> office</span> <span style=\"background:#030200;\"> said</span> <span style=\"background:#0e0a00;\"> the</span> <span style=\"background:#201900;\"> eight</span> <span style=\"background:grey;\"> were</span> <span style=\"background:#040300;\"> detained</span> <span style=\"background:#171200;\"> following</span> <span style=\"background:#2d2300;\"> raids</span> <span style=\"background:grey;\"> on</span> <span style=\"background:#000000;\"> nine</span> <span style=\"background:#261e00;\"> homes</span> <span style=\"background:grey;\"> in</span> <span style=\"background:grey;\"> the</span> <span style=\"background:#1a1400;\"> Dutch</span> <span style=\"background:#322700;\">-</span> <span style=\"background:#050400;\">speaking</span> <span style=\"background:#2d2300;\"> towns</span> <span style=\"background:#2b2200;\"> of</span> <span style=\"background:grey;\"> Ant</span> <span style=\"background:grey;\">wer</span> <span style=\"background:grey;\">p</span> <span style=\"background:#070600;\">,</span> <span style=\"background:#2a2100;\"> B</span> <span style=\"background:grey;\">rug</span> <span style=\"background:grey;\">es</span> <span style=\"background:#040300;\"> and</span> <span style=\"background:#0d0a00;\"> S</span> <span style=\"background:grey;\">int</span> <span style=\"background:#b08a00;\">-</span> <span style=\"background:grey;\">Nik</span> <span style=\"background:grey;\">la</span> <span style=\"background:grey;\">as</span> <span style=\"background:#010000;\"> as</span> <span style=\"background:#130f00;\"> well</span> <span style=\"background:#060400;\"> as</span> <span style=\"background:#1f1800;\"> the</span> <span style=\"background:grey;\"> Brussels</span> <span style=\"background:grey;\"> commun</span> <span style=\"background:grey;\">e</span> <span style=\"background:grey;\"> of</span> <span style=\"background:#100c00;\"> Sch</span> <span style=\"background:grey;\">aer</span> <span style=\"background:grey;\">be</span> <span style=\"background:grey;\">ek</span> <span style=\"background:#090700;\">.</span> <span style=\"background:grey;\">\n",
       "</span> <span style=\"background:grey;\">\n",
       "</span> <span style=\"background:grey;\">\"</span> <span style=\"background:#040300;\">Eight</span> <span style=\"background:grey;\"> persons</span> <span style=\"background:grey;\"> have</span> <span style=\"background:grey;\"> been</span> <span style=\"background:grey;\"> taken</span> <span style=\"background:grey;\"> along</span> <span style=\"background:grey;\"> for</span> <span style=\"background:grey;\"> examination</span> <span style=\"background:grey;\">,\"</span> <span style=\"background:grey;\"> it</span> <span style=\"background:grey;\"> said</span> <span style=\"background:grey;\">,</span></p>"
      ],
      "text/plain": [
       "<IPython.core.display.HTML object>"
      ]
     },
     "metadata": {},
     "output_type": "display_data"
    },
    {
     "data": {
      "text/html": [
       "<p style='background: grey;'><span style=\"background:#100c00;\"> modified</span> <span style=\"background:grey;\"> version</span> <span style=\"background:#070500;\"> of</span> <span style=\"background:grey;\"> the</span> <span style=\"background:grey;\"> Arab</span> <span style=\"background:grey;\"> peace</span> <span style=\"background:grey;\"> plan</span> <span style=\"background:#0f0b00;\">.</span> <span style=\"background:#0d0a00;\"> The</span> <span style=\"background:grey;\"> changes</span> <span style=\"background:#0b0900;\"> are</span> <span style=\"background:#110d00;\"> meant</span> <span style=\"background:grey;\"> to</span> <span style=\"background:grey;\"> win</span> <span style=\"background:grey;\"> Israeli</span> <span style=\"background:grey;\"> support</span> <span style=\"background:#000000;\"> by</span> <span style=\"background:#060400;\"> allowing</span> <span style=\"background:grey;\"> it</span> <span style=\"background:grey;\"> to</span> <span style=\"background:grey;\"> keep</span> <span style=\"background:#0a0800;\"> parts</span> <span style=\"background:#0e0b00;\"> of</span> <span style=\"background:#161100;\"> the</span> <span style=\"background:#281f00;\"> West</span> <span style=\"background:grey;\"> Bank</span> <span style=\"background:#120e00;\"> and</span> <span style=\"background:#352900;\"> east</span> <span style=\"background:grey;\"> Jerusalem</span> <span style=\"background:grey;\"> as</span> <span style=\"background:#100d00;\"> part</span> <span style=\"background:#0f0c00;\"> of</span> <span style=\"background:#0d0a00;\"> an</span> <span style=\"background:#050400;\"> agreement</span> <span style=\"background:#221a00;\">.</span> <span style=\"background:#1a1400;\">\n",
       "</span> <span style=\"background:#1e1700;\">\n",
       "</span> <span style=\"background:#191300;\">Though</span> <span style=\"background:grey;\"> Netanyahu</span> <span style=\"background:#231b00;\">'s</span> <span style=\"background:grey;\"> office</span> <span style=\"background:#171200;\"> has</span> <span style=\"background:#3a2d00;\"> remained</span> <span style=\"background:#050400;\"> silent</span> <span style=\"background:grey;\"> on</span> <span style=\"background:#261d00;\"> the</span> <span style=\"background:#211900;\"> modified</span> <span style=\"background:grey;\"> Arab</span> <span style=\"background:#070600;\"> proposal</span> <span style=\"background:#1b1500;\">,</span> <span style=\"background:#110d00;\"> his</span> <span style=\"background:#382c00;\"> chief</span> <span style=\"background:#392c00;\"> peace</span> <span style=\"background:#4e3d00;\"> negotiator</span> <span style=\"background:#ab8600;\">,</span> <span style=\"background:#352a00;\"> Justice</span> <span style=\"background:#604b00;\"> Minister</span> <span style=\"background:#251d00;\"> T</span> <span style=\"background:#010100;\">zip</span> <span style=\"background:#1f1800;\">i</span> <span style=\"background:#4e3d00;\"> Liv</span> <span style=\"background:#1f1800;\">ni</span> <span style=\"background:grey;\">,</span> <span style=\"background:#2a2100;\"> has</span></p>"
      ],
      "text/plain": [
       "<IPython.core.display.HTML object>"
      ]
     },
     "metadata": {},
     "output_type": "display_data"
    },
    {
     "data": {
      "text/html": [
       "<p style='background: grey;'><span style=\"background:#0e0b00;\"> your</span> <span style=\"background:#201900;\"> skulls</span> <span style=\"background:#221a00;\">\n",
       "</span> <span style=\"background:#1c1600;\">\n",
       "</span> <span style=\"background:#090700;\">Fat</span> <span style=\"background:grey;\">ah</span> <span style=\"background:#1a1400;\">'s</span> <span style=\"background:grey;\"> Facebook</span> <span style=\"background:grey;\"> page</span> <span style=\"background:grey;\"> regularly</span> <span style=\"background:grey;\"> features</span> <span style=\"background:grey;\"> posts</span> <span style=\"background:grey;\"> glor</span> <span style=\"background:#000000;\">ifying</span> <span style=\"background:grey;\"> terrorism</span> <span style=\"background:grey;\"> or</span> <span style=\"background:#000000;\"> anti</span> <span style=\"background:grey;\">-</span> <span style=\"background:grey;\">Semitism</span> <span style=\"background:#0b0900;\">.</span> <span style=\"background:#0b0900;\">\n",
       "</span> <span style=\"background:#0d0a00;\">\n",
       "</span> <span style=\"background:grey;\">Following</span> <span style=\"background:grey;\"> the</span> <span style=\"background:#151000;\"> recent</span> <span style=\"background:grey;\"> massacre</span> <span style=\"background:grey;\"> at</span> <span style=\"background:grey;\"> a</span> <span style=\"background:grey;\"> synagogue</span> <span style=\"background:#0d0a00;\"> in</span> <span style=\"background:grey;\"> Jerusalem</span> <span style=\"background:#493900;\">'s</span> <span style=\"background:#a48100;\"> Har</span> <span style=\"background:#2d2300;\"> No</span> <span style=\"background:#110d00;\">f</span> <span style=\"background:grey;\"> neighborhood</span> <span style=\"background:grey;\">,</span> <span style=\"background:grey;\"> Abbas</span> <span style=\"background:grey;\">'s</span> <span style=\"background:grey;\"> party</span> <span style=\"background:#0f0c00;\"> expressed</span> <span style=\"background:#171200;\"> its</span> <span style=\"background:grey;\"> joy</span> <span style=\"background:grey;\"> at</span> <span style=\"background:grey;\"> the</span> <span style=\"background:grey;\"> news</span> <span style=\"background:grey;\">,</span> <span style=\"background:grey;\"> posting</span> <span style=\"background:#110d00;\">:</span> <span style=\"background:grey;\"> \"</span> <span style=\"background:grey;\">Hand</span> <span style=\"background:grey;\">ing</span> <span style=\"background:grey;\"> out</span> <span style=\"background:grey;\"> candy</span> <span style=\"background:grey;\"> in</span> <span style=\"background:grey;\"> the</span> <span style=\"background:grey;\"> cities</span> <span style=\"background:#050400;\"> of</span> <span style=\"background:grey;\"> the</span> <span style=\"background:#302600;\"> West</span> <span style=\"background:grey;\"> Bank</span> <span style=\"background:grey;\"> in</span> <span style=\"background:grey;\"> celebration</span> <span style=\"background:grey;\"> of</span></p>"
      ],
      "text/plain": [
       "<IPython.core.display.HTML object>"
      ]
     },
     "metadata": {},
     "output_type": "display_data"
    },
    {
     "data": {
      "text/html": [
       "<p style='background: grey;'><span style=\"background:#141000;\"> ECB</span> <span style=\"background:grey;\"> appeal</span> <span style=\"background:grey;\"> apparently</span> <span style=\"background:#030200;\"> was</span> <span style=\"background:grey;\"> not</span> <span style=\"background:#120e00;\"> enough</span> <span style=\"background:#1e1700;\"> to</span> <span style=\"background:#040300;\"> convince</span> <span style=\"background:grey;\"> Ber</span> <span style=\"background:grey;\">lus</span> <span style=\"background:grey;\">coni</span> <span style=\"background:grey;\"> of</span> <span style=\"background:grey;\"> the</span> <span style=\"background:grey;\"> precarious</span> <span style=\"background:#010100;\">ness</span> <span style=\"background:grey;\"> of</span> <span style=\"background:grey;\"> the</span> <span style=\"background:grey;\"> situation</span> <span style=\"background:#020200;\">.</span> <span style=\"background:#020200;\"> \"</span> <span style=\"background:grey;\">Unfortunately</span> <span style=\"background:grey;\">,</span> <span style=\"background:grey;\"> it</span> <span style=\"background:grey;\"> takes</span> <span style=\"background:grey;\"> much</span> <span style=\"background:grey;\"> too</span> <span style=\"background:grey;\"> long</span> <span style=\"background:#0b0900;\"> for</span> <span style=\"background:#030200;\"> governments</span> <span style=\"background:#181300;\"> to</span> <span style=\"background:#070500;\"> recognize</span> <span style=\"background:#020100;\"> the</span> <span style=\"background:grey;\"> seriousness</span> <span style=\"background:grey;\"> of</span> <span style=\"background:grey;\"> the</span> <span style=\"background:grey;\"> situation</span> <span style=\"background:grey;\"> and</span> <span style=\"background:grey;\"> to</span> <span style=\"background:grey;\"> take</span> <span style=\"background:grey;\"> appropriate</span> <span style=\"background:grey;\"> action</span> <span style=\"background:grey;\">,\"</span> <span style=\"background:grey;\"> Ul</span> <span style=\"background:grey;\">rich</span> <span style=\"background:#100d00;\"> K</span> <span style=\"background:grey;\">ater</span> <span style=\"background:grey;\">,</span> <span style=\"background:#0a0800;\"> chief</span> <span style=\"background:grey;\"> economist</span> <span style=\"background:grey;\"> at</span> <span style=\"background:grey;\"> Dek</span> <span style=\"background:grey;\">ab</span> <span style=\"background:grey;\">ank</span> <span style=\"background:grey;\">,</span> <span style=\"background:#080600;\"> told</span> <span style=\"background:grey;\"> the</span> <span style=\"background:grey;\"> business</span> <span style=\"background:grey;\"> daily</span> <span style=\"background:#090700;\"> Hand</span> <span style=\"background:grey;\">els</span> <span style=\"background:#a17e00;\">bl</span> <span style=\"background:grey;\">att</span> <span style=\"background:grey;\"> on</span> <span style=\"background:#000000;\"> Tuesday</span></p>"
      ],
      "text/plain": [
       "<IPython.core.display.HTML object>"
      ]
     },
     "metadata": {},
     "output_type": "display_data"
    },
    {
     "data": {
      "text/html": [
       "<p style='color: red;'>Feature exp., #17: reference to contact information, communication, and online components.</p>"
      ],
      "text/plain": [
       "<IPython.core.display.HTML object>"
      ]
     },
     "metadata": {},
     "output_type": "display_data"
    },
    {
     "data": {
      "text/html": [
       "<p style='background: grey;'><span style=\"background:grey;\"> £</span> <span style=\"background:grey;\">2</span> <span style=\"background:grey;\">bn</span> <span style=\"background:grey;\">.</span> <span style=\"background:#040300;\">\n",
       "</span> <span style=\"background:#000000;\">\n",
       "</span> <span style=\"background:grey;\">•</span> <span style=\"background:grey;\"> To</span> <span style=\"background:#2e2400;\"> contact</span> <span style=\"background:#1d1700;\"> the</span> <span style=\"background:grey;\"> Media</span> <span style=\"background:#1f1800;\">Guard</span> <span style=\"background:#4a3a00;\">ian</span> <span style=\"background:#9d7b00;\"> news</span> <span style=\"background:grey;\"> desk</span> <span style=\"background:#2c2300;\"> email</span> <span style=\"background:#2f2500;\"> media</span> <span style=\"background:#151100;\">@</span> <span style=\"background:#060500;\">the</span> <span style=\"background:grey;\">guard</span> <span style=\"background:#392d00;\">ian</span> <span style=\"background:#141000;\">.</span> <span style=\"background:grey;\">com</span> <span style=\"background:#1c1600;\"> or</span> <span style=\"background:#987700;\"> phone</span> <span style=\"background:#0c0900;\"> 0</span> <span style=\"background:#2b2100;\">20</span> <span style=\"background:grey;\"> 3</span> <span style=\"background:grey;\">353</span> <span style=\"background:#120e00;\"> 38</span> <span style=\"background:grey;\">57</span> <span style=\"background:grey;\">.</span> <span style=\"background:grey;\"> For</span> <span style=\"background:#231b00;\"> all</span> <span style=\"background:grey;\"> other</span> <span style=\"background:#2b2100;\"> inquiries</span> <span style=\"background:#463700;\"> please</span> <span style=\"background:#dcac00;\"> call</span> <span style=\"background:#554300;\"> the</span> <span style=\"background:#130f00;\"> main</span> <span style=\"background:#372b00;\"> Guardian</span> <span style=\"background:#403200;\"> switch</span> <span style=\"background:#0a0800;\">board</span> <span style=\"background:#292000;\"> on</span> <span style=\"background:#594600;\"> 0</span> <span style=\"background:grey;\">20</span> <span style=\"background:grey;\"> 3</span> <span style=\"background:grey;\">353</span> <span style=\"background:grey;\"> 2000</span> <span style=\"background:grey;\">.</span> <span style=\"background:grey;\"> If</span> <span style=\"background:#513f00;\"> you</span> <span style=\"background:#2e2400;\"> are</span> <span style=\"background:grey;\"> writing</span> <span style=\"background:grey;\"> a</span> <span style=\"background:grey;\"> comment</span> <span style=\"background:#0f0c00;\"> for</span> <span style=\"background:grey;\"> publication</span> <span style=\"background:grey;\">,</span> <span style=\"background:grey;\"> please</span> <span style=\"background:grey;\"> mark</span> <span style=\"background:grey;\"> clearly</span> <span style=\"background:grey;\"> \"</span> <span style=\"background:grey;\">for</span></p>"
      ],
      "text/plain": [
       "<IPython.core.display.HTML object>"
      ]
     },
     "metadata": {},
     "output_type": "display_data"
    },
    {
     "data": {
      "text/html": [
       "<p style='background: grey;'><span style=\"background:grey;\"> sources</span> <span style=\"background:grey;\">.</span> <span style=\"background:#161100;\">\n",
       "</span> <span style=\"background:#0a0700;\">\n",
       "</span> <span style=\"background:grey;\">If</span> <span style=\"background:grey;\"> enacted</span> <span style=\"background:grey;\"> the</span> <span style=\"background:grey;\"> new</span> <span style=\"background:grey;\"> rules</span> <span style=\"background:grey;\"> could</span> <span style=\"background:grey;\"> affect</span> <span style=\"background:grey;\"> our</span> <span style=\"background:grey;\"> biggest</span> <span style=\"background:grey;\"> corporations</span> <span style=\"background:grey;\">,</span> <span style=\"background:grey;\"> such</span> <span style=\"background:grey;\"> as</span> <span style=\"background:grey;\"> CR</span> <span style=\"background:grey;\">H</span> <span style=\"background:grey;\">,</span> <span style=\"background:grey;\"> Gl</span> <span style=\"background:#090700;\">an</span> <span style=\"background:grey;\">bia</span> <span style=\"background:grey;\">,</span> <span style=\"background:#000000;\"> Kerry</span> <span style=\"background:grey;\"> and</span> <span style=\"background:grey;\"> Ryan</span> <span style=\"background:grey;\">air</span> <span style=\"background:grey;\">,</span> <span style=\"background:grey;\"> as</span> <span style=\"background:grey;\"> well</span> <span style=\"background:grey;\"> as</span> <span style=\"background:grey;\"> major</span> <span style=\"background:#0d0a00;\"> foreign</span> <span style=\"background:grey;\"> multinational</span> <span style=\"background:grey;\">s</span> <span style=\"background:grey;\"> that</span> <span style=\"background:grey;\"> have</span> <span style=\"background:grey;\"> located</span> <span style=\"background:grey;\"> their</span> <span style=\"background:grey;\"> global</span> <span style=\"background:#0b0800;\"> headquarters</span> <span style=\"background:grey;\"> here</span> <span style=\"background:#1a1400;\"> over</span> <span style=\"background:grey;\"> recent</span> <span style=\"background:grey;\"> years</span> <span style=\"background:grey;\"> for</span> <span style=\"background:grey;\"> tax</span> <span style=\"background:#060500;\"> reasons</span> <span style=\"background:#372b00;\">.</span> <span style=\"background:#0d0a00;\">\n",
       "</span> <span style=\"background:#040300;\">\n",
       "</span> <span style=\"background:grey;\">The</span> <span style=\"background:grey;\"> Organisation</span> <span style=\"background:#090700;\"> for</span> <span style=\"background:#1c1600;\"> Economic</span> <span style=\"background:#211a00;\"> Co</span> <span style=\"background:grey;\">-</span> <span style=\"background:grey;\">operation</span> <span style=\"background:grey;\"> and</span> <span style=\"background:grey;\"> Development</span> <span style=\"background:grey;\"> (</span> <span style=\"background:#b08a00;\">O</span> <span style=\"background:grey;\">ECD</span></p>"
      ],
      "text/plain": [
       "<IPython.core.display.HTML object>"
      ]
     },
     "metadata": {},
     "output_type": "display_data"
    },
    {
     "data": {
      "text/html": [
       "<p style='background: grey;'><span style=\"background:grey;\">f</span> <span style=\"background:grey;\">ran</span> <span style=\"background:grey;\">-</span> <span style=\"background:grey;\">re</span> <span style=\"background:grey;\">jected</span> <span style=\"background:grey;\">-</span> <span style=\"background:grey;\">ars</span> <span style=\"background:#110d00;\">en</span> <span style=\"background:#070500;\">al</span> <span style=\"background:grey;\">-</span> <span style=\"background:grey;\">move</span> <span style=\"background:grey;\">-</span> <span style=\"background:grey;\">29</span> <span style=\"background:grey;\">585</span> <span style=\"background:grey;\">139</span> <span style=\"background:grey;\">.</span> <span style=\"background:grey;\">html</span> <span style=\"background:#040300;\"> https</span> <span style=\"background:grey;\">://</span> <span style=\"background:#130f00;\">www</span> <span style=\"background:grey;\">.</span> <span style=\"background:grey;\">bel</span> <span style=\"background:#181300;\">fast</span> <span style=\"background:grey;\">te</span> <span style=\"background:grey;\">legraph</span> <span style=\"background:#292000;\">.</span> <span style=\"background:#0a0800;\">co</span> <span style=\"background:grey;\">.</span> <span style=\"background:grey;\">uk</span> <span style=\"background:grey;\">/</span> <span style=\"background:grey;\">s</span> <span style=\"background:#281f00;\">port</span> <span style=\"background:#1a1400;\">/</span> <span style=\"background:#281f00;\">football</span> <span style=\"background:grey;\">/</span> <span style=\"background:grey;\">prem</span> <span style=\"background:#040300;\">ier</span> <span style=\"background:grey;\">-</span> <span style=\"background:#191300;\">league</span> <span style=\"background:grey;\">/</span> <span style=\"background:grey;\">article</span> <span style=\"background:#030200;\">29</span> <span style=\"background:#0b0800;\">585</span> <span style=\"background:grey;\">138</span> <span style=\"background:#100d00;\">.</span> <span style=\"background:grey;\">e</span> <span style=\"background:grey;\">ce</span> <span style=\"background:grey;\">/</span> <span style=\"background:grey;\">4</span> <span style=\"background:grey;\">f</span> <span style=\"background:grey;\">9</span> <span style=\"background:grey;\">b</span> <span style=\"background:grey;\">7</span> <span style=\"background:grey;\">/</span> <span style=\"background:#463700;\">AUT</span> <span style=\"background:#4a3a00;\">OC</span> <span style=\"background:#281f00;\">R</span> <span style=\"background:grey;\">OP</span> <span style=\"background:#594500;\">/</span> <span style=\"background:#a98500;\">h</span> <span style=\"background:grey;\">342</span> <span style=\"background:grey;\">/</span> <span style=\"background:#080600;\">P</span> <span style=\"background:#1d1700;\">AN</span></p>"
      ],
      "text/plain": [
       "<IPython.core.display.HTML object>"
      ]
     },
     "metadata": {},
     "output_type": "display_data"
    },
    {
     "data": {
      "text/html": [
       "<p style='background: grey;'><span style=\"background:grey;\"> the</span> <span style=\"background:grey;\"> start</span> <span style=\"background:grey;\"> of</span> <span style=\"background:grey;\"> business</span> <span style=\"background:grey;\"> on</span> <span style=\"background:grey;\"> Wednesday</span> <span style=\"background:grey;\">.</span> <span style=\"background:grey;\"> That</span> <span style=\"background:#1c1600;\"> also</span> <span style=\"background:grey;\"> did</span> <span style=\"background:grey;\"> not</span> <span style=\"background:grey;\"> include</span> <span style=\"background:#060400;\"> Star</span> <span style=\"background:grey;\">ks</span> <span style=\"background:grey;\">'</span> <span style=\"background:grey;\"> contract</span> <span style=\"background:#120e00;\">.</span> <span style=\"background:grey;\">\n",
       "</span> <span style=\"background:grey;\">\n",
       "</span> <span style=\"background:grey;\">The</span> <span style=\"background:grey;\"> Packers</span> <span style=\"background:#020200;\"> will</span> <span style=\"background:#090700;\"> need</span> <span style=\"background:grey;\"> around</span> <span style=\"background:#090700;\"> $</span> <span style=\"background:grey;\">5</span> <span style=\"background:grey;\"> million</span> <span style=\"background:grey;\"> for</span> <span style=\"background:grey;\"> their</span> <span style=\"background:#090700;\"> rookie</span> <span style=\"background:grey;\"> salary</span> <span style=\"background:grey;\"> pool</span> <span style=\"background:grey;\"> but</span> <span style=\"background:#181300;\"> even</span> <span style=\"background:#0d0a00;\"> accounting</span> <span style=\"background:#1d1600;\"> for</span> <span style=\"background:#4a3a00;\"> that</span> <span style=\"background:#1a1500;\">,</span> <span style=\"background:#130f00;\"> general</span> <span style=\"background:#a78300;\"> manager</span> <span style=\"background:grey;\"> Ted</span> <span style=\"background:grey;\"> Thompson</span> <span style=\"background:grey;\"> still</span> <span style=\"background:#090700;\"> has</span> <span style=\"background:grey;\"> room</span> <span style=\"background:grey;\"> to</span> <span style=\"background:#171200;\"> maneuver</span> <span style=\"background:#312600;\">.</span> <span style=\"background:grey;\">\n",
       "</span> <span style=\"background:grey;\">\n",
       "</span> <span style=\"background:#2a2100;\">Among</span> <span style=\"background:#000000;\"> the</span> <span style=\"background:#241c00;\"> things</span> <span style=\"background:grey;\"> he</span> <span style=\"background:grey;\"> has</span> <span style=\"background:grey;\"> to</span> <span style=\"background:#0a0800;\"> consider</span> <span style=\"background:grey;\"> is</span> <span style=\"background:grey;\"> having</span> <span style=\"background:grey;\"> enough</span> <span style=\"background:grey;\"> space</span> <span style=\"background:grey;\"> to</span> <span style=\"background:#0f0c00;\"> extend</span> <span style=\"background:#0b0900;\"> the</span></p>"
      ],
      "text/plain": [
       "<IPython.core.display.HTML object>"
      ]
     },
     "metadata": {},
     "output_type": "display_data"
    },
    {
     "data": {
      "text/html": [
       "<p style='background: grey;'><span style=\"background:grey;\"> side</span> <span style=\"background:grey;\">.</span> <span style=\"background:#070500;\">\n",
       "</span> <span style=\"background:grey;\">\n",
       "</span> <span style=\"background:grey;\">With</span> <span style=\"background:grey;\"> 48</span> <span style=\"background:#0c0900;\"> page</span> <span style=\"background:#0e0b00;\"> photo</span> <span style=\"background:grey;\"> booklet</span> <span style=\"background:grey;\">,</span> <span style=\"background:#050400;\"> it</span> <span style=\"background:#020100;\"> goes</span> <span style=\"background:#010100;\"> for</span> <span style=\"background:grey;\"> 7</span> <span style=\"background:grey;\">,</span> <span style=\"background:grey;\">000</span> <span style=\"background:grey;\">y</span> <span style=\"background:#151100;\">en</span> <span style=\"background:#020200;\">.</span> <span style=\"background:grey;\">\n",
       "</span> <span style=\"background:grey;\">\n",
       "</span> <span style=\"background:#0d0a00;\">Art</span> <span style=\"background:grey;\"> for</span> <span style=\"background:#141000;\"> store</span> <span style=\"background:#141000;\"> bonuses</span> <span style=\"background:grey;\">\n",
       "</span> <span style=\"background:grey;\">\n",
       "</span> <span style=\"background:grey;\">ear</span> <span style=\"background:#191400;\">lier</span> <span style=\"background:#1c1600;\"> live</span> <span style=\"background:#2a2100;\"> cover</span> <span style=\"background:#342900;\"> art</span> <span style=\"background:grey;\">\n",
       "</span> <span style=\"background:grey;\">\n",
       "</span> <span style=\"background:#171200;\">Elsewhere</span> <span style=\"background:grey;\">,</span> <span style=\"background:#0b0900;\"> S</span> <span style=\"background:grey;\">ank</span> <span style=\"background:grey;\">yo</span> <span style=\"background:#090700;\"> has</span> <span style=\"background:#1c1600;\"> preview</span> <span style=\"background:grey;\">ed</span> <span style=\"background:grey;\"> their</span> <span style=\"background:grey;\"> Sym</span> <span style=\"background:grey;\">ph</span> <span style=\"background:grey;\">og</span> <span style=\"background:#110e00;\">ear</span> <span style=\"background:grey;\"> p</span> <span style=\"background:grey;\">ach</span> <span style=\"background:grey;\">isl</span> <span style=\"background:grey;\">ot</span> <span style=\"background:grey;\"> machine</span> <span style=\"background:#171200;\">.</span> <span style=\"background:grey;\">\n",
       "</span> <span style=\"background:grey;\">\n",
       "</span> <span style=\"background:#0a0800;\">------</span> <span style=\"background:#090700;\">\n",
       "</span> <span style=\"background:#080600;\">\n",
       "</span> <span style=\"background:grey;\">Scott</span> <span style=\"background:grey;\"> Green</span> <span style=\"background:#151000;\"> is</span> <span style=\"background:grey;\"> editor</span> <span style=\"background:#a58200;\"> and</span> <span style=\"background:grey;\"> reporter</span></p>"
      ],
      "text/plain": [
       "<IPython.core.display.HTML object>"
      ]
     },
     "metadata": {},
     "output_type": "display_data"
    },
    {
     "data": {
      "text/html": [
       "<p style='color: red;'>Feature exp., #18: partial words or names, possibly representing a focus on initials, abbreviations or fragmented words.</p>"
      ],
      "text/plain": [
       "<IPython.core.display.HTML object>"
      ]
     },
     "metadata": {},
     "output_type": "display_data"
    },
    {
     "data": {
      "text/html": [
       "<p style='background: grey;'><span style=\"background:#070500;\">\n",
       "</span> <span style=\"background:#1d1600;\">\n",
       "</span> <span style=\"background:#171200;\">6</span> <span style=\"background:#020100;\">.</span> <span style=\"background:#181300;\">1</span> <span style=\"background:grey;\"> .</span> <span style=\"background:#130f00;\"> .</span> <span style=\"background:#171200;\"> .</span> <span style=\"background:#080600;\"> blocked</span> <span style=\"background:grey;\"> shots</span> <span style=\"background:grey;\"> averaged</span> <span style=\"background:grey;\"> by</span> <span style=\"background:#120e00;\"> the</span> <span style=\"background:grey;\"> Cavs</span> <span style=\"background:#0b0900;\"> per</span> <span style=\"background:grey;\"> contest</span> <span style=\"background:grey;\">,</span> <span style=\"background:grey;\"> good</span> <span style=\"background:grey;\"> for</span> <span style=\"background:grey;\"> third</span> <span style=\"background:grey;\"> in</span> <span style=\"background:grey;\"> the</span> <span style=\"background:grey;\"> NBA</span> <span style=\"background:grey;\">.</span> <span style=\"background:grey;\">\n",
       "</span> <span style=\"background:grey;\">\n",
       "</span> <span style=\"background:#110d00;\">15</span> <span style=\"background:grey;\"> .</span> <span style=\"background:grey;\"> .</span> <span style=\"background:#010100;\"> .</span> <span style=\"background:grey;\"> points</span> <span style=\"background:#181300;\"> per</span> <span style=\"background:grey;\"> game</span> <span style=\"background:grey;\"> Ky</span> <span style=\"background:grey;\">rie</span> <span style=\"background:grey;\"> Irving</span> <span style=\"background:grey;\"> is</span> <span style=\"background:grey;\"> averaging</span> <span style=\"background:grey;\">,</span> <span style=\"background:grey;\"> tops</span> <span style=\"background:grey;\"> among</span> <span style=\"background:grey;\"> NBA</span> <span style=\"background:grey;\"> rookies</span> <span style=\"background:grey;\">.</span> <span style=\"background:grey;\">\n",
       "</span> <span style=\"background:grey;\">\n",
       "</span> <span style=\"background:#161100;\">10</span> <span style=\"background:grey;\">.</span> <span style=\"background:grey;\">1</span> <span style=\"background:grey;\"> .</span> <span style=\"background:#000000;\"> .</span> <span style=\"background:grey;\"> .</span> <span style=\"background:grey;\"> rebounds</span> <span style=\"background:#3a2e00;\"> Anderson</span> <span style=\"background:#2d2400;\"> V</span> <span style=\"background:#3e3000;\">are</span> <span style=\"background:#e3b200;\">j</span> <span style=\"background:grey;\">ao</span> <span style=\"background:grey;\"> is</span> <span style=\"background:grey;\"> averaging</span> <span style=\"background:#0f0b00;\"> this</span> <span style=\"background:grey;\"> season</span> <span style=\"background:grey;\">.</span> <span style=\"background:grey;\">\n",
       "</span></p>"
      ],
      "text/plain": [
       "<IPython.core.display.HTML object>"
      ]
     },
     "metadata": {},
     "output_type": "display_data"
    },
    {
     "data": {
      "text/html": [
       "<p style='background: grey;'><span style=\"background:grey;\"> included</span> <span style=\"background:#161200;\"> a</span> <span style=\"background:grey;\"> group</span> <span style=\"background:#050400;\"> of</span> <span style=\"background:grey;\"> senators</span> <span style=\"background:grey;\"> who</span> <span style=\"background:#0f0c00;\"> first</span> <span style=\"background:grey;\"> won</span> <span style=\"background:grey;\"> seats</span> <span style=\"background:grey;\"> in</span> <span style=\"background:grey;\"> 2008</span> <span style=\"background:#0d0a00;\"> and</span> <span style=\"background:grey;\"> rode</span> <span style=\"background:grey;\"> into</span> <span style=\"background:grey;\"> office</span> <span style=\"background:grey;\"> with</span> <span style=\"background:grey;\"> Obama</span> <span style=\"background:#0b0800;\">.</span> <span style=\"background:grey;\"> Among</span> <span style=\"background:grey;\"> them</span> <span style=\"background:grey;\"> were</span> <span style=\"background:grey;\"> Mark</span> <span style=\"background:#0f0b00;\"> Beg</span> <span style=\"background:#110d00;\">ich</span> <span style=\"background:grey;\"> (</span> <span style=\"background:grey;\">Al</span> <span style=\"background:#040300;\">aska</span> <span style=\"background:grey;\">),</span> <span style=\"background:grey;\"> Kay</span> <span style=\"background:#4c3c00;\"> H</span> <span style=\"background:#0e0b00;\">agan</span> <span style=\"background:grey;\"> (</span> <span style=\"background:grey;\">N</span> <span style=\"background:grey;\">.</span> <span style=\"background:#130f00;\">C</span> <span style=\"background:grey;\">.),</span> <span style=\"background:#3d3000;\"> Jeanne</span> <span style=\"background:#665000;\"> Sha</span> <span style=\"background:#c59a00;\">he</span> <span style=\"background:grey;\">en</span> <span style=\"background:#1c1600;\"> (</span> <span style=\"background:grey;\">N</span> <span style=\"background:#2e2400;\">.</span> <span style=\"background:#151000;\">H</span> <span style=\"background:grey;\">.),</span> <span style=\"background:grey;\"> Mark</span> <span style=\"background:grey;\"> Ud</span> <span style=\"background:grey;\">all</span> <span style=\"background:grey;\"> (</span> <span style=\"background:grey;\">Col</span> <span style=\"background:#1d1700;\">o</span> <span style=\"background:#1f1800;\">.)</span> <span style=\"background:grey;\"> and</span> <span style=\"background:grey;\"> Mark</span> <span style=\"background:grey;\"> Warner</span> <span style=\"background:grey;\"> (</span> <span style=\"background:#251d00;\">Va</span> <span style=\"background:#020200;\">.).</span> <span style=\"background:grey;\">\n",
       "</span> <span style=\"background:grey;\">\n",
       "</span> <span style=\"background:grey;\">Three</span> <span style=\"background:grey;\"> of</span> <span style=\"background:grey;\"> those</span> <span style=\"background:grey;\"> five</span></p>"
      ],
      "text/plain": [
       "<IPython.core.display.HTML object>"
      ]
     },
     "metadata": {},
     "output_type": "display_data"
    },
    {
     "data": {
      "text/html": [
       "<p style='background: grey;'><span style=\"background:#000000;\"> end</span> <span style=\"background:#120e00;\"> of</span> <span style=\"background:grey;\"> Spring</span> <span style=\"background:grey;\"> Training</span> <span style=\"background:#020200;\"> in</span> <span style=\"background:grey;\"> their</span> <span style=\"background:grey;\"> contract</span> <span style=\"background:grey;\"> discussions</span> <span style=\"background:grey;\"> with</span> <span style=\"background:#0d0a00;\"> pitcher</span> <span style=\"background:grey;\"> Yu</span> <span style=\"background:#1c1600;\"> Dar</span> <span style=\"background:#372b00;\">v</span> <span style=\"background:grey;\">ish</span> <span style=\"background:grey;\">,</span> <span style=\"background:grey;\"> as</span> <span style=\"background:grey;\"> general</span> <span style=\"background:grey;\"> manager</span> <span style=\"background:#b89000;\"> Jon</span> <span style=\"background:grey;\"> Daniels</span> <span style=\"background:grey;\"> said</span> <span style=\"background:grey;\"> that</span> <span style=\"background:grey;\"> those</span> <span style=\"background:grey;\"> discussions</span> <span style=\"background:grey;\"> could</span> <span style=\"background:#130f00;\"> carry</span> <span style=\"background:grey;\"> on</span> <span style=\"background:grey;\"> into</span> <span style=\"background:grey;\"> the</span> <span style=\"background:grey;\"> regular</span> <span style=\"background:grey;\"> season</span> <span style=\"background:grey;\">.</span> <span style=\"background:grey;\">\n",
       "</span> <span style=\"background:grey;\">\n",
       "</span> <span style=\"background:#463700;\">S</span> <span style=\"background:#020100;\">UR</span> <span style=\"background:#1e1700;\">PR</span> <span style=\"background:grey;\">ISE</span> <span style=\"background:grey;\">,</span> <span style=\"background:#110d00;\"> Ari</span> <span style=\"background:#231b00;\">z</span> <span style=\"background:#1d1700;\">.</span> <span style=\"background:grey;\"> --</span> <span style=\"background:grey;\"> The</span> <span style=\"background:#090700;\"> Rangers</span> <span style=\"background:grey;\"> are</span> <span style=\"background:#130f00;\"> not</span> <span style=\"background:grey;\"> facing</span> <span style=\"background:grey;\"> a</span> <span style=\"background:#161100;\"> deadline</span> <span style=\"background:grey;\"> at</span> <span style=\"background:grey;\"> the</span> <span style=\"background:grey;\"> end</span> <span style=\"background:#100c00;\"> of</span> <span style=\"background:#221b00;\"> Spring</span> <span style=\"background:grey;\"> Training</span> <span style=\"background:#0d0a00;\"> in</span> <span style=\"background:grey;\"> their</span> <span style=\"background:grey;\"> contract</span> <span style=\"background:#060500;\"> discussions</span> <span style=\"background:grey;\"> with</span> <span style=\"background:grey;\"> pitcher</span> <span style=\"background:grey;\"> Yu</span> <span style=\"background:grey;\"> Dar</span></p>"
      ],
      "text/plain": [
       "<IPython.core.display.HTML object>"
      ]
     },
     "metadata": {},
     "output_type": "display_data"
    },
    {
     "data": {
      "text/html": [
       "<p style='background: grey;'><span style=\"background:#040300;\"> from</span> <span style=\"background:#030200;\"> 8</span> <span style=\"background:#0a0800;\">-</span> <span style=\"background:grey;\">11</span> <span style=\"background:grey;\"> p</span> <span style=\"background:grey;\">.</span> <span style=\"background:#090700;\">m</span> <span style=\"background:grey;\">.)</span> <span style=\"background:grey;\">\n",
       "</span> <span style=\"background:grey;\">\n",
       "</span> <span style=\"background:grey;\">FOX</span> <span style=\"background:grey;\"> Sports</span> <span style=\"background:grey;\"> 1</span> <span style=\"background:#0f0b00;\"> will</span> <span style=\"background:#191400;\"> also</span> <span style=\"background:#080600;\"> import</span> <span style=\"background:#0e0b00;\"> UFC</span> <span style=\"background:#322700;\"> Tonight</span> <span style=\"background:grey;\"> from</span> <span style=\"background:grey;\"> sister</span> <span style=\"background:grey;\"> station</span> <span style=\"background:#755c00;\"> F</span> <span style=\"background:grey;\">U</span> <span style=\"background:grey;\">EL</span> <span style=\"background:grey;\"> TV</span> <span style=\"background:grey;\"> as</span> <span style=\"background:#352900;\"> weekly</span> <span style=\"background:grey;\"> programming</span> <span style=\"background:#100d00;\">.</span> <span style=\"background:#080600;\"> In</span> <span style=\"background:#0d0a00;\"> addition</span> <span style=\"background:grey;\">,</span> <span style=\"background:grey;\"> all</span> <span style=\"background:#0a0800;\"> pay</span> <span style=\"background:#322700;\">-</span> <span style=\"background:grey;\">per</span> <span style=\"background:#b28c00;\">-</span> <span style=\"background:#312600;\">view</span> <span style=\"background:#010100;\"> and</span> <span style=\"background:#0a0800;\"> FOX</span> <span style=\"background:#302500;\"> event</span> <span style=\"background:#342800;\"> preliminary</span> <span style=\"background:grey;\"> cards</span> <span style=\"background:grey;\"> will</span> <span style=\"background:grey;\"> air</span> <span style=\"background:grey;\"> on</span> <span style=\"background:grey;\"> the</span> <span style=\"background:grey;\"> channel</span> <span style=\"background:#161100;\">.</span> <span style=\"background:#020100;\"> Finally</span> <span style=\"background:grey;\">,</span> <span style=\"background:grey;\"> the</span> <span style=\"background:grey;\"> network</span> <span style=\"background:grey;\"> will</span> <span style=\"background:#0d0a00;\"> have</span> <span style=\"background:grey;\"> access</span> <span style=\"background:#0f0b00;\"> to</span> <span style=\"background:grey;\"> hundreds</span> <span style=\"background:#120e00;\"> of</span> <span style=\"background:#0b0800;\"> hours</span> <span style=\"background:grey;\"> of</span> <span style=\"background:grey;\"> the</span> <span style=\"background:grey;\"> UFC</span> <span style=\"background:grey;\">'s</span></p>"
      ],
      "text/plain": [
       "<IPython.core.display.HTML object>"
      ]
     },
     "metadata": {},
     "output_type": "display_data"
    },
    {
     "data": {
      "text/html": [
       "<p style='background: grey;'><span style=\"background:#030200;\"> week</span> <span style=\"background:grey;\"> without</span> <span style=\"background:grey;\"> setbacks</span> <span style=\"background:grey;\"> before</span> <span style=\"background:grey;\"> he</span> <span style=\"background:grey;\"> is</span> <span style=\"background:grey;\"> given</span> <span style=\"background:grey;\"> the</span> <span style=\"background:grey;\"> green</span> <span style=\"background:grey;\"> light</span> <span style=\"background:grey;\"> to</span> <span style=\"background:grey;\"> play</span> <span style=\"background:grey;\">.</span> <span style=\"background:grey;\">\n",
       "</span> <span style=\"background:grey;\">\n",
       "</span> <span style=\"background:#060500;\">On</span> <span style=\"background:#201900;\"> Thursday</span> <span style=\"background:#010100;\">,</span> <span style=\"background:grey;\"> Cavs</span> <span style=\"background:grey;\"> coach</span> <span style=\"background:grey;\"> David</span> <span style=\"background:#ad8700;\"> Bl</span> <span style=\"background:grey;\">att</span> <span style=\"background:grey;\"> told</span> <span style=\"background:grey;\"> reporters</span> <span style=\"background:grey;\"> that</span> <span style=\"background:#090700;\"> Irving</span> <span style=\"background:#020100;\"> has</span> <span style=\"background:grey;\"> \"</span> <span style=\"background:#181300;\">a</span> <span style=\"background:grey;\"> ways</span> <span style=\"background:#040300;\"> to</span> <span style=\"background:grey;\"> go</span> <span style=\"background:grey;\">\"</span> <span style=\"background:#030200;\"> in</span> <span style=\"background:grey;\"> his</span> <span style=\"background:grey;\"> recovery</span> <span style=\"background:#050400;\">.</span> <span style=\"background:grey;\"> At</span> <span style=\"background:#000000;\"> the</span> <span style=\"background:#1f1800;\"> same</span> <span style=\"background:#030300;\"> time</span> <span style=\"background:grey;\">,</span> <span style=\"background:#100c00;\"> previous</span> <span style=\"background:grey;\"> reports</span> <span style=\"background:#1e1700;\"> have</span> <span style=\"background:#000000;\"> indicated</span> <span style=\"background:#040300;\"> that</span> <span style=\"background:#0e0b00;\"> Irving</span> <span style=\"background:#060400;\">'s</span> <span style=\"background:grey;\"> rehab</span> <span style=\"background:grey;\"> could</span> <span style=\"background:grey;\"> be</span> <span style=\"background:grey;\"> accelerated</span> <span style=\"background:grey;\"> rapidly</span> <span style=\"background:grey;\"> if</span> <span style=\"background:grey;\"> it</span> <span style=\"background:grey;\"> were</span> <span style=\"background:grey;\"> necessary</span> <span style=\"background:#000000;\">.</span> <span style=\"background:#161100;\"> The</span> <span style=\"background:grey;\"> fact</span> <span style=\"background:grey;\"> is</span> <span style=\"background:grey;\"> however</span></p>"
      ],
      "text/plain": [
       "<IPython.core.display.HTML object>"
      ]
     },
     "metadata": {},
     "output_type": "display_data"
    },
    {
     "data": {
      "text/html": [
       "<p style='color: red;'>Feature exp., #19: particular geographical terms and names.</p>"
      ],
      "text/plain": [
       "<IPython.core.display.HTML object>"
      ]
     },
     "metadata": {},
     "output_type": "display_data"
    },
    {
     "data": {
      "text/html": [
       "<p style='background: grey;'><span style=\"background:#8c6e00;\"> Senegal</span> <span style=\"background:grey;\"> Serbia</span> <span style=\"background:grey;\"> Se</span> <span style=\"background:grey;\">y</span> <span style=\"background:grey;\">chell</span> <span style=\"background:#0f0c00;\">es</span> <span style=\"background:grey;\"> Sierra</span> <span style=\"background:grey;\"> Leone</span> <span style=\"background:#171200;\"> Singapore</span> <span style=\"background:#070600;\"> Slovakia</span> <span style=\"background:#3f3100;\"> Slovenia</span> <span style=\"background:#9e7b00;\"> Solomon</span> <span style=\"background:#6e5600;\"> Islands</span> <span style=\"background:#957400;\"> South</span> <span style=\"background:#3c2f00;\"> Africa</span> <span style=\"background:#ab8600;\"> South</span> <span style=\"background:grey;\"> Georgia</span> <span style=\"background:grey;\"> and</span> <span style=\"background:grey;\"> the</span> <span style=\"background:#453600;\"> South</span> <span style=\"background:grey;\"> Sandwich</span> <span style=\"background:#1a1400;\"> Islands</span> <span style=\"background:#120e00;\"> Spain</span> <span style=\"background:#2e2400;\"> Sri</span> <span style=\"background:grey;\"> Lanka</span> <span style=\"background:#362a00;\"> St</span> <span style=\"background:grey;\">.</span> <span style=\"background:grey;\"> Helena</span> <span style=\"background:grey;\"> St</span> <span style=\"background:grey;\">.</span> <span style=\"background:grey;\"> Kitt</span> <span style=\"background:grey;\">s</span> <span style=\"background:#493900;\"> and</span> <span style=\"background:#ffc800;\"> Nev</span> <span style=\"background:#443500;\">is</span> <span style=\"background:grey;\"> St</span> <span style=\"background:grey;\">.</span> <span style=\"background:grey;\"> Pierre</span> <span style=\"background:#000000;\"> &</span> <span style=\"background:grey;\"> M</span> <span style=\"background:#d7a800;\">iqu</span> <span style=\"background:grey;\">el</span> <span style=\"background:grey;\">on</span> <span style=\"background:grey;\"> St</span> <span style=\"background:#110d00;\">.</span> <span style=\"background:grey;\"> Vincent</span> <span style=\"background:#665000;\"> &</span> <span style=\"background:#eab700;\"> the</span> <span style=\"background:#b48d00;\"> Gren</span> <span style=\"background:#9c7a00;\">ad</span> <span style=\"background:grey;\">ines</span> <span style=\"background:#ffc800;\"> Sur</span> <span style=\"background:grey;\">in</span> <span style=\"background:#463700;\">ame</span> <span style=\"background:grey;\"> S</span> <span style=\"background:#765c00;\">val</span> <span style=\"background:#020200;\">bard</span> <span style=\"background:#493900;\"> &</span> <span style=\"background:grey;\"> Jan</span> <span style=\"background:grey;\"> May</span> <span style=\"background:grey;\">en</span> <span style=\"background:#5d4900;\"> Islands</span> <span style=\"background:#d9aa00;\"> Sw</span> <span style=\"background:grey;\">az</span></p>"
      ],
      "text/plain": [
       "<IPython.core.display.HTML object>"
      ]
     },
     "metadata": {},
     "output_type": "display_data"
    },
    {
     "data": {
      "text/html": [
       "<p style='background: grey;'><span style=\"background:#775d00;\"> for</span> <span style=\"background:#795f00;\"> a</span> <span style=\"background:grey;\"> period</span> <span style=\"background:grey;\"> of</span> <span style=\"background:grey;\"> not</span> <span style=\"background:grey;\"> less</span> <span style=\"background:grey;\"> than</span> <span style=\"background:grey;\"> 6</span> <span style=\"background:grey;\"> weeks</span> <span style=\"background:grey;\"> preceding</span> <span style=\"background:#120e00;\"> the</span> <span style=\"background:grey;\"> commencement</span> <span style=\"background:grey;\"> of</span> <span style=\"background:grey;\"> the</span> <span style=\"background:grey;\"> action</span> <span style=\"background:#1a1400;\">.</span> <span style=\"background:#060400;\"> (</span> <span style=\"background:#ffc800;\">Nev</span> <span style=\"background:grey;\">ada</span> <span style=\"background:#0b0900;\"> Stat</span> <span style=\"background:grey;\">utes</span> <span style=\"background:grey;\"> -</span> <span style=\"background:grey;\"> Chapter</span> <span style=\"background:grey;\"> 125</span> <span style=\"background:grey;\"> -</span> <span style=\"background:grey;\"> Sections</span> <span style=\"background:#1e1700;\">:</span> <span style=\"background:grey;\"> 0</span> <span style=\"background:grey;\">20</span> <span style=\"background:#524000;\">)</span> <span style=\"background:grey;\"> Start</span> <span style=\"background:grey;\"> Your</span> <span style=\"background:#423400;\"> Nevada</span> <span style=\"background:grey;\"> Div</span> <span style=\"background:grey;\">orce</span> <span style=\"background:grey;\"> Online</span> <span style=\"background:#161100;\"> -</span> <span style=\"background:grey;\"> we</span> <span style=\"background:#211a00;\"> deliver</span> <span style=\"background:grey;\"> you</span> <span style=\"background:grey;\"> options</span> <span style=\"background:#020100;\">.</span> <span style=\"background:grey;\"> Grounds</span> <span style=\"background:#2b2100;\"> for</span> <span style=\"background:grey;\"> F</span> <span style=\"background:grey;\">iling</span> <span style=\"background:grey;\">:</span> <span style=\"background:grey;\"> The</span> <span style=\"background:#0c0900;\"> Compl</span> <span style=\"background:grey;\">aint</span> <span style=\"background:#6e5600;\"> for</span> <span style=\"background:#362a00;\"> Div</span> <span style=\"background:grey;\">orce</span> <span style=\"background:grey;\"> must</span> <span style=\"background:grey;\"> declare</span> <span style=\"background:grey;\"> the</span> <span style=\"background:grey;\"> appropriate</span> <span style=\"background:#483800;\"> Nevada</span> <span style=\"background:grey;\"> grounds</span> <span style=\"background:grey;\"> upon</span> <span style=\"background:#483900;\"> which</span> <span style=\"background:grey;\"> the</span> <span style=\"background:grey;\"> divorce</span> <span style=\"background:grey;\"> is</span></p>"
      ],
      "text/plain": [
       "<IPython.core.display.HTML object>"
      ]
     },
     "metadata": {},
     "output_type": "display_data"
    },
    {
     "data": {
      "text/html": [
       "<p style='background: grey;'><span style=\"background:#997800;\"> the</span> <span style=\"background:grey;\"> defenders</span> <span style=\"background:grey;\"> as</span> <span style=\"background:grey;\"> Spurs</span> <span style=\"background:grey;\"> prepare</span> <span style=\"background:grey;\"> to</span> <span style=\"background:grey;\"> host</span> <span style=\"background:#141000;\"> Azerbai</span> <span style=\"background:#1a1400;\">j</span> <span style=\"background:grey;\">ani</span> <span style=\"background:grey;\"> opposition</span> <span style=\"background:grey;\"> on</span> <span style=\"background:grey;\"> Thursday</span> <span style=\"background:grey;\">\n",
       "</span> <span style=\"background:grey;\">\n",
       "</span> <span style=\"background:grey;\">P</span> <span style=\"background:grey;\">OSS</span> <span style=\"background:grey;\">IBLE</span> <span style=\"background:grey;\"> LINE</span> <span style=\"background:#3d3000;\">-</span> <span style=\"background:grey;\">UP</span> <span style=\"background:#221a00;\"> Tottenham</span> <span style=\"background:#0e0b00;\"> (</span> <span style=\"background:grey;\">4</span> <span style=\"background:grey;\">-</span> <span style=\"background:grey;\">2</span> <span style=\"background:grey;\">-</span> <span style=\"background:grey;\">3</span> <span style=\"background:grey;\">-</span> <span style=\"background:grey;\">1</span> <span style=\"background:grey;\">):</span> <span style=\"background:grey;\"> L</span> <span style=\"background:grey;\">lor</span> <span style=\"background:#241c00;\">is</span> <span style=\"background:#1b1500;\">;</span> <span style=\"background:grey;\"> Tri</span> <span style=\"background:grey;\">pp</span> <span style=\"background:grey;\">ier</span> <span style=\"background:grey;\">,</span> <span style=\"background:grey;\"> A</span> <span style=\"background:grey;\">lder</span> <span style=\"background:#ffc800;\">we</span> <span style=\"background:#382c00;\">ire</span> <span style=\"background:grey;\">ld</span> <span style=\"background:grey;\">,</span> <span style=\"background:#ddad00;\"> Vert</span> <span style=\"background:grey;\">ong</span> <span style=\"background:grey;\">hen</span> <span style=\"background:grey;\">,</span> <span style=\"background:grey;\"> Rose</span> <span style=\"background:grey;\">;</span> <span style=\"background:grey;\"> D</span> <span style=\"background:#120e00;\">ier</span> <span style=\"background:grey;\">,</span> <span style=\"background:#5d4800;\"> Bent</span> <span style=\"background:grey;\">aleb</span> <span style=\"background:grey;\">;</span> <span style=\"background:grey;\"> Townsend</span> <span style=\"background:grey;\">,</span> <span style=\"background:#6f5700;\"> Lam</span> <span style=\"background:grey;\">ela</span> <span style=\"background:grey;\">,</span> <span style=\"background:grey;\"> Chad</span> <span style=\"background:grey;\">li</span></p>"
      ],
      "text/plain": [
       "<IPython.core.display.HTML object>"
      ]
     },
     "metadata": {},
     "output_type": "display_data"
    },
    {
     "data": {
      "text/html": [
       "<p style='background: grey;'><span style=\"background:#775e00;\"> of</span> <span style=\"background:grey;\"> days</span> <span style=\"background:#342900;\">.)</span> <span style=\"background:grey;\">\n",
       "</span> <span style=\"background:grey;\">\n",
       "</span> <span style=\"background:grey;\">1</span> <span style=\"background:#3c2f00;\"> T</span> <span style=\"background:#080700;\"> plain</span> <span style=\"background:grey;\"> ke</span> <span style=\"background:grey;\">f</span> <span style=\"background:grey;\">ir</span> <span style=\"background:grey;\">.</span> <span style=\"background:grey;\">\n",
       "</span> <span style=\"background:grey;\">\n",
       "</span> <span style=\"background:grey;\">1</span> <span style=\"background:grey;\"> T</span> <span style=\"background:grey;\"> rice</span> <span style=\"background:grey;\"> wine</span> <span style=\"background:grey;\"> vinegar</span> <span style=\"background:#271e00;\">.</span> <span style=\"background:grey;\">\n",
       "</span> <span style=\"background:grey;\">\n",
       "</span> <span style=\"background:#4f3e00;\">2</span> <span style=\"background:grey;\"> T</span> <span style=\"background:grey;\"> extra</span> <span style=\"background:#100c00;\"> virgin</span> <span style=\"background:grey;\"> olive</span> <span style=\"background:grey;\"> oil</span> <span style=\"background:#251d00;\">.</span> <span style=\"background:grey;\">\n",
       "</span> <span style=\"background:grey;\">\n",
       "</span> <span style=\"background:grey;\">1</span> <span style=\"background:grey;\"> garlic</span> <span style=\"background:grey;\"> cl</span> <span style=\"background:#050400;\">ove</span> <span style=\"background:#514000;\">,</span> <span style=\"background:grey;\"> smashed</span> <span style=\"background:#644e00;\"> and</span> <span style=\"background:grey;\"> minced</span> <span style=\"background:#1b1500;\">.</span> <span style=\"background:grey;\">\n",
       "</span> <span style=\"background:grey;\">\n",
       "</span> <span style=\"background:grey;\">1</span> <span style=\"background:#161100;\">/</span> <span style=\"background:grey;\">2</span> <span style=\"background:#1c1600;\"> tsp</span> <span style=\"background:#4a3a00;\"> maple</span> <span style=\"background:#171200;\"> syrup</span> <span style=\"background:#342900;\">.</span> <span style=\"background:grey;\">\n",
       "</span> <span style=\"background:grey;\">\n",
       "</span> <span style=\"background:grey;\">1</span> <span style=\"background:#020200;\">/</span> <span style=\"background:grey;\">4</span> <span style=\"background:#4c3b00;\"> tsp</span> <span style=\"background:grey;\"> f</span> <span style=\"background:#ffc800;\">enn</span> <span style=\"background:#241c00;\">el</span> <span style=\"background:#271e00;\"> powder</span> <span style=\"background:#3b2e00;\">.</span> <span style=\"background:grey;\">\n",
       "</span> <span style=\"background:grey;\">\n",
       "</span> <span style=\"background:grey;\">I</span> <span style=\"background:grey;\"> mixed</span></p>"
      ],
      "text/plain": [
       "<IPython.core.display.HTML object>"
      ]
     },
     "metadata": {},
     "output_type": "display_data"
    },
    {
     "data": {
      "text/html": [
       "<p style='background: grey;'><span style=\"background:#937300;\"> man</span> <span style=\"background:#534100;\"> has</span> <span style=\"background:grey;\"> competed</span> <span style=\"background:grey;\"> only</span> <span style=\"background:grey;\"> once</span> <span style=\"background:grey;\">.</span> <span style=\"background:grey;\"> Silva</span> <span style=\"background:#443500;\"> earned</span> <span style=\"background:#292000;\"> himself</span> <span style=\"background:#c89d00;\"> a</span> <span style=\"background:grey;\"> unanimous</span> <span style=\"background:grey;\"> decision</span> <span style=\"background:grey;\"> victory</span> <span style=\"background:grey;\"> over</span> <span style=\"background:grey;\"> Nick</span> <span style=\"background:grey;\"> Diaz</span> <span style=\"background:#080600;\"> at</span> <span style=\"background:#715800;\"> UFC</span> <span style=\"background:grey;\"> 183</span> <span style=\"background:grey;\"> earlier</span> <span style=\"background:grey;\"> this</span> <span style=\"background:grey;\"> year</span> <span style=\"background:grey;\">,</span> <span style=\"background:#2a2100;\"> while</span> <span style=\"background:#795f00;\"> Chris</span> <span style=\"background:grey;\"> defend</span> <span style=\"background:#604b00;\"> his</span> <span style=\"background:grey;\"> belt</span> <span style=\"background:grey;\"> against</span> <span style=\"background:#362a00;\"> Ly</span> <span style=\"background:#382c00;\">oto</span> <span style=\"background:#ffc800;\"> Mach</span> <span style=\"background:grey;\">ida</span> <span style=\"background:grey;\"> at</span> <span style=\"background:#211a00;\"> UFC</span> <span style=\"background:grey;\"> 175</span> <span style=\"background:grey;\"> nearly</span> <span style=\"background:grey;\"> a</span> <span style=\"background:grey;\"> year</span> <span style=\"background:grey;\"> ago</span> <span style=\"background:grey;\">.</span> <span style=\"background:grey;\">\n",
       "</span> <span style=\"background:grey;\">\n",
       "</span> <span style=\"background:grey;\">Both</span> <span style=\"background:#574400;\"> have</span> <span style=\"background:#735a00;\"> been</span> <span style=\"background:grey;\"> on</span> <span style=\"background:grey;\"> the</span> <span style=\"background:grey;\"> shelf</span> <span style=\"background:grey;\"> since</span> <span style=\"background:grey;\"> their</span> <span style=\"background:grey;\"> last</span> <span style=\"background:grey;\"> respective</span> <span style=\"background:grey;\"> bouts</span> <span style=\"background:grey;\">,</span> <span style=\"background:grey;\"> as</span> <span style=\"background:#1b1500;\"> \"</span> <span style=\"background:grey;\">All</span> <span style=\"background:grey;\"> American</span> <span style=\"background:#3b2f00;\">\"</span> <span style=\"background:#141000;\"> was</span> <span style=\"background:grey;\"> forced</span> <span style=\"background:grey;\"> to</span> <span style=\"background:#624d00;\"> ride</span></p>"
      ],
      "text/plain": [
       "<IPython.core.display.HTML object>"
      ]
     },
     "metadata": {},
     "output_type": "display_data"
    },
    {
     "data": {
      "text/html": [
       "<p style='color: red;'>Feature exp., #20: names, including both personal and geographical ones.</p>"
      ],
      "text/plain": [
       "<IPython.core.display.HTML object>"
      ]
     },
     "metadata": {},
     "output_type": "display_data"
    },
    {
     "data": {
      "text/html": [
       "<p style='background: grey;'><span style=\"background:grey;\">\n",
       "</span> <span style=\"background:grey;\">\n",
       "</span> <span style=\"background:grey;\">Greek</span> <span style=\"background:grey;\"> Foreign</span> <span style=\"background:#000000;\"> Minister</span> <span style=\"background:grey;\"> Evangel</span> <span style=\"background:#302600;\">os</span> <span style=\"background:#ffc800;\"> Ven</span> <span style=\"background:#b48d00;\">iz</span> <span style=\"background:#463700;\">el</span> <span style=\"background:#080600;\">os</span> <span style=\"background:grey;\"> led</span> <span style=\"background:grey;\"> the</span> <span style=\"background:grey;\"> EU</span> <span style=\"background:grey;\"> team</span> <span style=\"background:grey;\"> in</span> <span style=\"background:#0f0c00;\"> Brussels</span> <span style=\"background:grey;\">.</span> <span style=\"background:#2c2200;\"> Greece</span> <span style=\"background:grey;\"> is</span> <span style=\"background:grey;\"> now</span> <span style=\"background:grey;\"> chair</span> <span style=\"background:grey;\">ing</span> <span style=\"background:#120e00;\"> EU</span> <span style=\"background:#261e00;\"> meetings</span> <span style=\"background:grey;\">.</span> <span style=\"background:#493900;\">\n",
       "</span> <span style=\"background:#352900;\">\n",
       "</span> <span style=\"background:grey;\">The</span> <span style=\"background:#0d0a00;\"> BBC</span> <span style=\"background:grey;\">'s</span> <span style=\"background:grey;\"> Guy</span> <span style=\"background:#1c1600;\"> De</span> <span style=\"background:grey;\"> La</span> <span style=\"background:#1c1600;\">une</span> <span style=\"background:#342900;\">y</span> <span style=\"background:#120e00;\"> in</span> <span style=\"background:#090700;\"> Bel</span> <span style=\"background:#876a00;\">grade</span> <span style=\"background:#000000;\"> says</span> <span style=\"background:grey;\"> the</span> <span style=\"background:grey;\"> Serbian</span> <span style=\"background:#050400;\"> government</span> <span style=\"background:grey;\"> is</span> <span style=\"background:grey;\"> led</span> <span style=\"background:grey;\"> by</span> <span style=\"background:#2c2300;\"> former</span> <span style=\"background:grey;\"> ultra</span> <span style=\"background:grey;\">-</span> <span style=\"background:grey;\">national</span> <span style=\"background:grey;\">ists</span> <span style=\"background:grey;\"> who</span> <span style=\"background:grey;\"> converted</span> <span style=\"background:grey;\"> to</span> <span style=\"background:grey;\"> the</span> <span style=\"background:grey;\"> cause</span> <span style=\"background:grey;\"> of</span> <span style=\"background:grey;\"> EU</span> <span style=\"background:#0d0a00;\"> membership</span> <span style=\"background:grey;\"> before</span> <span style=\"background:#695300;\"> they</span> <span style=\"background:grey;\"> came</span> <span style=\"background:#0f0b00;\"> to</span> <span style=\"background:#060400;\"> power</span></p>"
      ],
      "text/plain": [
       "<IPython.core.display.HTML object>"
      ]
     },
     "metadata": {},
     "output_type": "display_data"
    },
    {
     "data": {
      "text/html": [
       "<p style='background: grey;'><span style=\"background:grey;\">ceive</span> <span style=\"background:grey;\"> an</span> <span style=\"background:grey;\"> HTML</span> <span style=\"background:grey;\">-</span> <span style=\"background:grey;\">form</span> <span style=\"background:grey;\">atted</span> <span style=\"background:#161100;\"> email</span> <span style=\"background:#030200;\"> when</span> <span style=\"background:#0d0a00;\"> you</span> <span style=\"background:#0c0900;\">'ve</span> <span style=\"background:grey;\"> been</span> <span style=\"background:grey;\"> towed</span> <span style=\"background:grey;\">.</span> <span style=\"background:#3d3000;\">\n",
       "</span> <span style=\"background:#3c2f00;\">\n",
       "</span> <span style=\"background:#0e0b00;\">Email</span> <span style=\"background:grey;\">:</span> <span style=\"background:#120e00;\"> License</span> <span style=\"background:grey;\"> Plate</span> <span style=\"background:grey;\">:</span> <span style=\"background:#0c0a00;\"> State</span> <span style=\"background:grey;\">:</span> <span style=\"background:#0e0b00;\"> AL</span> <span style=\"background:grey;\"> AK</span> <span style=\"background:#1d1700;\"> AB</span> <span style=\"background:#735a00;\"> AZ</span> <span style=\"background:#281f00;\"> AR</span> <span style=\"background:#a98400;\"> BC</span> <span style=\"background:#a78300;\"> CA</span> <span style=\"background:#4c3b00;\"> CO</span> <span style=\"background:#544200;\"> CT</span> <span style=\"background:#271e00;\"> DE</span> <span style=\"background:#403200;\"> DC</span> <span style=\"background:#3e3100;\"> FL</span> <span style=\"background:#745b00;\"> GA</span> <span style=\"background:#ffc800;\"> HI</span> <span style=\"background:#745b00;\"> ID</span> <span style=\"background:#b89000;\"> IL</span> <span style=\"background:#a58100;\"> IN</span> <span style=\"background:#584500;\"> IA</span> <span style=\"background:#917100;\"> KS</span> <span style=\"background:#ebb800;\"> KY</span> <span style=\"background:#7b6000;\"> LA</span> <span style=\"background:#524000;\"> ME</span> <span style=\"background:#695300;\"> MB</span> <span style=\"background:#544200;\"> MD</span> <span style=\"background:#1f1800;\"> MA</span> <span style=\"background:#0d0a00;\"> MI</span> <span style=\"background:#a88300;\"> MN</span> <span style=\"background:#795e00;\"> MS</span> <span style=\"background:grey;\"> MO</span> <span style=\"background:#5f4a00;\"> MT</span> <span style=\"background:grey;\"> NE</span> <span style=\"background:#2c2200;\"> NV</span> <span style=\"background:#100c00;\"> NB</span> <span style=\"background:#9b7a00;\"> NF</span> <span style=\"background:#2d2400;\"> NH</span> <span style=\"background:#c89d00;\"> NJ</span> <span style=\"background:#141000;\"> NM</span> <span style=\"background:#0d0a00;\"> NY</span> <span style=\"background:#241c00;\"> NC</span> <span style=\"background:#5d4900;\"> ND</span> <span style=\"background:#3f3100;\"> NS</span> <span style=\"background:#423400;\"> OH</span></p>"
      ],
      "text/plain": [
       "<IPython.core.display.HTML object>"
      ]
     },
     "metadata": {},
     "output_type": "display_data"
    },
    {
     "data": {
      "text/html": [
       "<p style='background: grey;'><span style=\"background:grey;\"> the</span> <span style=\"background:#000000;\"> New</span> <span style=\"background:grey;\"> York</span> <span style=\"background:#1a1400;\"> Giants</span> <span style=\"background:grey;\">,</span> <span style=\"background:grey;\"> according</span> <span style=\"background:grey;\"> to</span> <span style=\"background:grey;\"> two</span> <span style=\"background:#2e2400;\"> sources</span> <span style=\"background:grey;\">.</span> <span style=\"background:#060400;\"> The</span> <span style=\"background:#0c0900;\"> Eagles</span> <span style=\"background:grey;\"> are</span> <span style=\"background:grey;\"> expected</span> <span style=\"background:grey;\"> to</span> <span style=\"background:grey;\"> formally</span> <span style=\"background:grey;\"> announce</span> <span style=\"background:#060400;\"> Reid</span> <span style=\"background:grey;\">'s</span> <span style=\"background:grey;\"> firing</span> <span style=\"background:#211a00;\"> Monday</span> <span style=\"background:grey;\">.</span> <span style=\"background:#604c00;\">\n",
       "</span> <span style=\"background:#5e4900;\">\n",
       "</span> <span style=\"background:grey;\">NFL</span> <span style=\"background:#120e00;\"> head</span> <span style=\"background:#876a00;\"> coach</span> <span style=\"background:grey;\"> tracker</span> <span style=\"background:grey;\"> The</span> <span style=\"background:#ffc800;\"> Andy</span> <span style=\"background:grey;\"> Reid</span> <span style=\"background:#080700;\"> era</span> <span style=\"background:grey;\"> is</span> <span style=\"background:grey;\"> over</span> <span style=\"background:#1c1600;\"> in</span> <span style=\"background:grey;\"> Philadelphia</span> <span style=\"background:grey;\">.</span> <span style=\"background:#161100;\"> Which</span> <span style=\"background:#282000;\"> other</span> <span style=\"background:#020100;\"> coaches</span> <span style=\"background:grey;\"> could</span> <span style=\"background:grey;\"> lose</span> <span style=\"background:grey;\"> their</span> <span style=\"background:grey;\"> jobs</span> <span style=\"background:grey;\"> in</span> <span style=\"background:grey;\"> the</span> <span style=\"background:grey;\"> days</span> <span style=\"background:grey;\"> ahead</span> <span style=\"background:grey;\">?</span> <span style=\"background:#322700;\">\n",
       "</span> <span style=\"background:#1a1400;\">\n",
       "</span> <span style=\"background:grey;\">The</span> <span style=\"background:#130f00;\"> Andy</span> <span style=\"background:grey;\"> Reid</span> <span style=\"background:#110e00;\"> era</span> <span style=\"background:grey;\"> is</span> <span style=\"background:grey;\"> over</span> <span style=\"background:#070500;\"> in</span> <span style=\"background:grey;\"> Philadelphia</span> <span style=\"background:grey;\">.</span> <span style=\"background:grey;\"> Which</span> <span style=\"background:grey;\"> other</span> <span style=\"background:#5a4700;\"> coaches</span> <span style=\"background:grey;\"> could</span></p>"
      ],
      "text/plain": [
       "<IPython.core.display.HTML object>"
      ]
     },
     "metadata": {},
     "output_type": "display_data"
    },
    {
     "data": {
      "text/html": [
       "<p style='background: grey;'><span style=\"background:grey;\"> by</span> <span style=\"background:grey;\"> the</span> <span style=\"background:grey;\"> Korean</span> <span style=\"background:#130f00;\"> Government</span> <span style=\"background:grey;\"> (</span> <span style=\"background:grey;\">KR</span> <span style=\"background:grey;\">F</span> <span style=\"background:grey;\">-</span> <span style=\"background:#110d00;\">2008</span> <span style=\"background:grey;\">-</span> <span style=\"background:#110d00;\">356</span> <span style=\"background:grey;\">-</span> <span style=\"background:grey;\">H</span> <span style=\"background:#0c0a00;\">0000</span> <span style=\"background:grey;\">3</span> <span style=\"background:#040300;\">)(</span> <span style=\"background:#221b00;\"> http</span> <span style=\"background:#251d00;\">://</span> <span style=\"background:#3f3100;\">www</span> <span style=\"background:#110d00;\">.</span> <span style=\"background:grey;\">kr</span> <span style=\"background:#181300;\">f</span> <span style=\"background:grey;\">.</span> <span style=\"background:grey;\">or</span> <span style=\"background:grey;\">.</span> <span style=\"background:grey;\">kr</span> <span style=\"background:grey;\">/</span> <span style=\"background:grey;\">K</span> <span style=\"background:grey;\">HP</span> <span style=\"background:#050400;\">app</span> <span style=\"background:#0b0900;\">/</span> <span style=\"background:grey;\">eng</span> <span style=\"background:#110d00;\">/</span> <span style=\"background:grey;\">main</span> <span style=\"background:grey;\">a</span> <span style=\"background:grey;\">.</span> <span style=\"background:#0d0a00;\">j</span> <span style=\"background:#0d0a00;\">sp</span> <span style=\"background:grey;\"> ).</span> <span style=\"background:#231b00;\"> The</span> <span style=\"background:grey;\"> fund</span> <span style=\"background:#020100;\">ers</span> <span style=\"background:grey;\"> had</span> <span style=\"background:#f2bd00;\"> no</span> <span style=\"background:#221b00;\"> role</span> <span style=\"background:#2c2200;\"> in</span> <span style=\"background:#5f4a00;\"> study</span> <span style=\"background:grey;\"> design</span> <span style=\"background:#1e1700;\">,</span> <span style=\"background:#826600;\"> data</span> <span style=\"background:grey;\"> collection</span> <span style=\"background:#120e00;\"> and</span> <span style=\"background:grey;\"> analysis</span> <span style=\"background:#292000;\">,</span> <span style=\"background:grey;\"> decision</span> <span style=\"background:grey;\"> to</span> <span style=\"background:#231b00;\"> publish</span> <span style=\"background:#0a0800;\">,</span> <span style=\"background:#251d00;\"> or</span> <span style=\"background:grey;\"> preparation</span> <span style=\"background:#000000;\"> of</span> <span style=\"background:#b18b00;\"> the</span> <span style=\"background:#715900;\"> manuscript</span> <span style=\"background:grey;\">.</span></p>"
      ],
      "text/plain": [
       "<IPython.core.display.HTML object>"
      ]
     },
     "metadata": {},
     "output_type": "display_data"
    },
    {
     "data": {
      "text/html": [
       "<p style='background: grey;'><span style=\"background:grey;\"> reporting</span> <span style=\"background:grey;\"> that</span> <span style=\"background:#080600;\"> Greenwald</span> <span style=\"background:grey;\"> has</span> <span style=\"background:grey;\"> partnered</span> <span style=\"background:grey;\"> with</span> <span style=\"background:#483800;\"> billionaire</span> <span style=\"background:grey;\"> eBay</span> <span style=\"background:#332800;\"> founder</span> <span style=\"background:#352a00;\"> Pierre</span> <span style=\"background:#3a2e00;\"> O</span> <span style=\"background:#5e4a00;\">mid</span> <span style=\"background:#efbc00;\">y</span> <span style=\"background:#3d3000;\">ar</span> <span style=\"background:#1f1900;\"> for</span> <span style=\"background:#0d0a00;\"> a</span> <span style=\"background:#1a1400;\"> new</span> <span style=\"background:grey;\"> independently</span> <span style=\"background:grey;\"> funded</span> <span style=\"background:grey;\"> site</span> <span style=\"background:grey;\">.</span> <span style=\"background:#302500;\"> The</span> <span style=\"background:grey;\"> venture</span> <span style=\"background:grey;\"> will</span> <span style=\"background:grey;\"> also</span> <span style=\"background:#5c4800;\"> include</span> <span style=\"background:#271e00;\"> Laura</span> <span style=\"background:#231b00;\"> Po</span> <span style=\"background:#392c00;\">it</span> <span style=\"background:#201900;\">ras</span> <span style=\"background:grey;\">,</span> <span style=\"background:#020200;\"> the</span> <span style=\"background:#0b0900;\"> document</span> <span style=\"background:#080600;\">arian</span> <span style=\"background:grey;\"> who</span> <span style=\"background:grey;\"> played</span> <span style=\"background:grey;\"> a</span> <span style=\"background:grey;\"> crucial</span> <span style=\"background:#282000;\"> role</span> <span style=\"background:grey;\"> in</span> <span style=\"background:grey;\"> the</span> <span style=\"background:grey;\"> recent</span> <span style=\"background:#100c00;\"> Snowden</span> <span style=\"background:#191400;\"> leaks</span> <span style=\"background:grey;\">,</span> <span style=\"background:#030200;\"> but</span> <span style=\"background:#0e0b00;\"> not</span> <span style=\"background:#221b00;\"> Washington</span> <span style=\"background:#312600;\"> Post</span> <span style=\"background:#3b2e00;\"> reporter</span> <span style=\"background:grey;\"> Barton</span> <span style=\"background:#010100;\"> G</span> <span style=\"background:#403200;\">ell</span> <span style=\"background:#171200;\">man</span> <span style=\"background:grey;\">,</span> <span style=\"background:grey;\"> who</span> <span style=\"background:grey;\"> has</span> <span style=\"background:grey;\"> collaborated</span> <span style=\"background:#141000;\"> with</span> <span style=\"background:#0e0b00;\"> Greenwald</span> <span style=\"background:grey;\"> and</span> <span style=\"background:#010100;\"> Po</span> <span style=\"background:#060400;\">it</span> <span style=\"background:grey;\">ras</span></p>"
      ],
      "text/plain": [
       "<IPython.core.display.HTML object>"
      ]
     },
     "metadata": {},
     "output_type": "display_data"
    },
    {
     "data": {
      "text/html": [
       "<p style='color: red;'>Feature exp., #21: references to historical or archeological findings.</p>"
      ],
      "text/plain": [
       "<IPython.core.display.HTML object>"
      ]
     },
     "metadata": {},
     "output_type": "display_data"
    },
    {
     "data": {
      "text/html": [
       "<p style='background: grey;'><span style=\"background:#080600;\">\n",
       "</span> <span style=\"background:#130f00;\">CBC</span> <span style=\"background:#584500;\">news</span> <span style=\"background:#4d3c00;\">.</span> <span style=\"background:#211a00;\">ca</span> <span style=\"background:grey;\"> will</span> <span style=\"background:#413300;\"> have</span> <span style=\"background:#2f2500;\"> live</span> <span style=\"background:grey;\"> coverage</span> <span style=\"background:#1d1700;\"> of</span> <span style=\"background:grey;\"> today</span> <span style=\"background:#271e00;\">'s</span> <span style=\"background:grey;\"> fall</span> <span style=\"background:grey;\"> economic</span> <span style=\"background:grey;\"> statement</span> <span style=\"background:grey;\"> beginning</span> <span style=\"background:#211a00;\"> after</span> <span style=\"background:#241c00;\"> 3</span> <span style=\"background:#1d1700;\"> p</span> <span style=\"background:grey;\">.</span> <span style=\"background:grey;\">m</span> <span style=\"background:grey;\">.</span> <span style=\"background:grey;\"> ET</span> <span style=\"background:#050400;\">,</span> <span style=\"background:#1d1700;\"> including</span> <span style=\"background:#342800;\"> a</span> <span style=\"background:grey;\"> livestream</span> <span style=\"background:#161200;\"> of</span> <span style=\"background:#705800;\"> Finance</span> <span style=\"background:#6e5600;\"> Minister</span> <span style=\"background:#ffc800;\"> Bill</span> <span style=\"background:#493900;\"> Mor</span> <span style=\"background:grey;\">neau</span> <span style=\"background:#423400;\">'s</span> <span style=\"background:grey;\"> speech</span> <span style=\"background:#050400;\">,</span> <span style=\"background:#0a0700;\"> stories</span> <span style=\"background:#5a4700;\"> and</span> <span style=\"background:grey;\"> highlights</span> <span style=\"background:#0b0800;\">.</span> <span style=\"background:#1b1500;\">\n",
       "</span> <span style=\"background:#181200;\">\n",
       "</span> <span style=\"background:grey;\">Then</span> <span style=\"background:#0c0900;\"> watch</span> <span style=\"background:#2c2200;\"> a</span> <span style=\"background:#221b00;\"> special</span> <span style=\"background:#3e3000;\"> Power</span> <span style=\"background:#1f1800;\"> &</span> <span style=\"background:#695200;\"> Politics</span> <span style=\"background:#342900;\"> with</span> <span style=\"background:grey;\"> Rose</span> <span style=\"background:#221b00;\">mary</span> <span style=\"background:grey;\"> Barton</span> <span style=\"background:#191300;\">,</span> <span style=\"background:#000000;\"> live</span> <span style=\"background:#4f3e00;\"> on</span> <span style=\"background:grey;\"> Facebook</span> <span style=\"background:#463700;\"> and</span> <span style=\"background:#060400;\"> livestream</span> <span style=\"background:#0a0800;\">ing</span> <span style=\"background:#1e1700;\"> at</span> <span style=\"background:#181300;\"> c</span> <span style=\"background:#0b0900;\">bc</span> <span style=\"background:#191300;\">.</span></p>"
      ],
      "text/plain": [
       "<IPython.core.display.HTML object>"
      ]
     },
     "metadata": {},
     "output_type": "display_data"
    },
    {
     "data": {
      "text/html": [
       "<p style='background: grey;'><span style=\"background:#0c0900;\"> confirm</span> <span style=\"background:#000000;\"> that</span> <span style=\"background:grey;\"> it</span> <span style=\"background:#151000;\"> dates</span> <span style=\"background:#705800;\"> back</span> <span style=\"background:#4b3b00;\"> to</span> <span style=\"background:#5f4b00;\"> between</span> <span style=\"background:#010100;\"> 33</span> <span style=\"background:#161100;\"> AD</span> <span style=\"background:#5a4700;\"> to</span> <span style=\"background:grey;\"> 70</span> <span style=\"background:#1e1700;\"> AD</span> <span style=\"background:#3b2e00;\">,</span> <span style=\"background:grey;\"> as</span> <span style=\"background:grey;\"> the</span> <span style=\"background:#271e00;\"> archaeologists</span> <span style=\"background:#362a00;\"> claim</span> <span style=\"background:#6a5300;\">,</span> <span style=\"background:#715900;\"> it</span> <span style=\"background:#594600;\"> would</span> <span style=\"background:#1c1600;\"> make</span> <span style=\"background:#4f3d00;\"> it</span> <span style=\"background:grey;\"> the</span> <span style=\"background:#2b2200;\"> earliest</span> <span style=\"background:#322700;\"> known</span> <span style=\"background:#a68200;\"> place</span> <span style=\"background:#604b00;\"> of</span> <span style=\"background:#171200;\"> Christian</span> <span style=\"background:#342800;\"> worship</span> <span style=\"background:#392d00;\"> by</span> <span style=\"background:#5b4700;\"> around</span> <span style=\"background:#413300;\"> two</span> <span style=\"background:grey;\"> hundred</span> <span style=\"background:grey;\"> years</span> <span style=\"background:#403200;\">.</span> <span style=\"background:#020200;\">\n",
       "</span> <span style=\"background:#030200;\">\n",
       "</span> <span style=\"background:grey;\">According</span> <span style=\"background:#040300;\"> to</span> <span style=\"background:#040300;\"> a</span> <span style=\"background:grey;\"> report</span> <span style=\"background:#050400;\"> in</span> <span style=\"background:grey;\"> the</span> <span style=\"background:grey;\"> Jordan</span> <span style=\"background:grey;\"> Times</span> <span style=\"background:grey;\"> newspaper</span> <span style=\"background:#4b3a00;\">,</span> <span style=\"background:#151000;\"> a</span> <span style=\"background:#1b1500;\"> very</span> <span style=\"background:#0f0c00;\"> early</span> <span style=\"background:#473700;\"> underground</span> <span style=\"background:#ad8700;\"> church</span> <span style=\"background:#ffc800;\"> was</span> <span style=\"background:#f4bf00;\"> found</span> <span style=\"background:#685200;\"> beneath</span> <span style=\"background:#3d2f00;\"> the</span> <span style=\"background:#241c00;\"> ancient</span> <span style=\"background:grey;\"> Saint</span> <span style=\"background:#735a00;\"> George</span> <span style=\"background:#332800;\">ous</span> <span style=\"background:#836600;\"> Church</span> <span style=\"background:#ddad00;\">,</span> <span style=\"background:#e7b500;\"> which</span> <span style=\"background:#ffc800;\"> itself</span></p>"
      ],
      "text/plain": [
       "<IPython.core.display.HTML object>"
      ]
     },
     "metadata": {},
     "output_type": "display_data"
    },
    {
     "data": {
      "text/html": [
       "<p style='background: grey;'><span style=\"background:grey;\"> excavation</span> <span style=\"background:grey;\"> began</span> <span style=\"background:#110d00;\"> on</span> <span style=\"background:#221b00;\"> the</span> <span style=\"background:#332800;\"> cemetery</span> <span style=\"background:#7b6000;\"> of</span> <span style=\"background:#6c5500;\"> the</span> <span style=\"background:#0f0c00;\"> Mag</span> <span style=\"background:#0a0800;\">na</span> <span style=\"background:#130f00;\"> Gra</span> <span style=\"background:#4c3c00;\">ec</span> <span style=\"background:#574400;\">ia</span> <span style=\"background:#b99100;\"> colony</span> <span style=\"background:#aa8500;\">-</span> <span style=\"background:#aa8500;\">city</span> <span style=\"background:#a17e00;\"> of</span> <span style=\"background:#7c6100;\"> Met</span> <span style=\"background:#433400;\">ap</span> <span style=\"background:#302500;\">ont</span> <span style=\"background:#7f6400;\">um</span> <span style=\"background:#6d5600;\">.</span> <span style=\"background:#443600;\"> The</span> <span style=\"background:#382c00;\"> Meta</span> <span style=\"background:#2a2100;\">ont</span> <span style=\"background:#806400;\">um</span> <span style=\"background:#1d1700;\"> nec</span> <span style=\"background:#e6b400;\">ropolis</span> <span style=\"background:#ffc800;\"> was</span> <span style=\"background:#866900;\"> remarkably</span> <span style=\"background:#413300;\"> well</span> <span style=\"background:#524000;\"> preserved</span> <span style=\"background:#856900;\">,</span> <span style=\"background:#4c3b00;\"> and</span> <span style=\"background:#322700;\"> an</span> <span style=\"background:#1c1600;\"> examine</span> <span style=\"background:#221a00;\"> of</span> <span style=\"background:#201900;\"> the</span> <span style=\"background:grey;\"> excav</span> <span style=\"background:grey;\">ated</span> <span style=\"background:#473700;\"> remains</span> <span style=\"background:grey;\"> vind</span> <span style=\"background:grey;\">icated</span> <span style=\"background:#040300;\"> Dr</span> <span style=\"background:#453600;\">.</span> <span style=\"background:#0c0900;\"> Angel</span> <span style=\"background:grey;\">'s</span> <span style=\"background:grey;\"> earlier</span> <span style=\"background:grey;\"> results</span> <span style=\"background:#1a1400;\">.</span> <span style=\"background:grey;\">\n",
       "</span> <span style=\"background:grey;\">\n",
       "</span> <span style=\"background:#120e00;\">The</span> <span style=\"background:#392d00;\"> Met</span> <span style=\"background:#0d0a00;\">ap</span> <span style=\"background:grey;\">ont</span> <span style=\"background:#5c4800;\">ion</span> <span style=\"background:#020100;\"> nec</span> <span style=\"background:#b48d00;\">ropolis</span> <span style=\"background:#937300;\"> ...</span> <span style=\"background:#4c3b00;\"> revealed</span> <span style=\"background:#392c00;\"> that</span> <span style=\"background:#312600;\"> the</span> <span style=\"background:#020200;\"> average</span> <span style=\"background:#433500;\"> height</span></p>"
      ],
      "text/plain": [
       "<IPython.core.display.HTML object>"
      ]
     },
     "metadata": {},
     "output_type": "display_data"
    },
    {
     "data": {
      "text/html": [
       "<p style='background: grey;'><span style=\"background:#100d00;\"> a</span> <span style=\"background:#050400;\"> few</span> <span style=\"background:grey;\"> tunnel</span> <span style=\"background:grey;\">ed</span> <span style=\"background:grey;\">-</span> <span style=\"background:grey;\">through</span> <span style=\"background:#070500;\"> sequ</span> <span style=\"background:#181300;\">o</span> <span style=\"background:#2a2100;\">ias</span> <span style=\"background:grey;\"> in</span> <span style=\"background:#151100;\"> California</span> <span style=\"background:#1b1500;\">.</span> <span style=\"background:grey;\"> The</span> <span style=\"background:grey;\"> most</span> <span style=\"background:grey;\"> famous</span> <span style=\"background:#7c6100;\"> was</span> <span style=\"background:#3b2e00;\"> the</span> <span style=\"background:grey;\"> W</span> <span style=\"background:#352a00;\">aw</span> <span style=\"background:#503e00;\">ona</span> <span style=\"background:#ad8800;\"> Tree</span> <span style=\"background:#ffc800;\">,</span> <span style=\"background:#2b2200;\"> in</span> <span style=\"background:#a27f00;\"> Yosemite</span> <span style=\"background:#4f3d00;\"> National</span> <span style=\"background:#d8a900;\"> Park</span> <span style=\"background:#917200;\">;</span> <span style=\"background:#e3b200;\"> it</span> <span style=\"background:#aa8500;\"> fell</span> <span style=\"background:#8c6e00;\"> during</span> <span style=\"background:#634d00;\"> a</span> <span style=\"background:#765c00;\"> winter</span> <span style=\"background:#5e4a00;\"> storm</span> <span style=\"background:#6f5700;\"> in</span> <span style=\"background:#614c00;\"> 1969</span> <span style=\"background:#957500;\"> at</span> <span style=\"background:#836600;\"> an</span> <span style=\"background:#3a2d00;\"> estimated</span> <span style=\"background:#4b3b00;\"> age</span> <span style=\"background:#997800;\"> of</span> <span style=\"background:#544200;\"> 2</span> <span style=\"background:#5e4900;\">,</span> <span style=\"background:#261d00;\">100</span> <span style=\"background:#3e3000;\"> years</span> <span style=\"background:#665000;\">.</span> <span style=\"background:#3b2e00;\"> The</span> <span style=\"background:#584500;\"> other</span> <span style=\"background:#695200;\"> remaining</span> <span style=\"background:#251d00;\"> sequ</span> <span style=\"background:#141000;\">o</span> <span style=\"background:#a27f00;\">ia</span> <span style=\"background:#e2b100;\"> tunnels</span> <span style=\"background:#9e7c00;\"> are</span> <span style=\"background:#795f00;\"> dead</span> <span style=\"background:#aa8500;\"> or</span> <span style=\"background:#090700;\"> consist</span> <span style=\"background:#473800;\"> of</span> <span style=\"background:#a07d00;\"> logs</span> <span style=\"background:#483800;\"> on</span> <span style=\"background:#1e1700;\"> their</span> <span style=\"background:#624d00;\"> side</span> <span style=\"background:#503f00;\">,</span> <span style=\"background:#000000;\"> the</span> <span style=\"background:#493900;\"> Forest</span></p>"
      ],
      "text/plain": [
       "<IPython.core.display.HTML object>"
      ]
     },
     "metadata": {},
     "output_type": "display_data"
    },
    {
     "data": {
      "text/html": [
       "<p style='background: grey;'><span style=\"background:#171200;\"> nearly</span> <span style=\"background:grey;\"> forgotten</span> <span style=\"background:#0c0900;\">.</span> <span style=\"background:grey;\"> Port</span> <span style=\"background:#1d1700;\">ions</span> <span style=\"background:grey;\"> of</span> <span style=\"background:grey;\"> the</span> <span style=\"background:#755c00;\"> cemetery</span> <span style=\"background:#775d00;\"> -</span> <span style=\"background:#000000;\"> including</span> <span style=\"background:#b38c00;\"> graves</span> <span style=\"background:#261e00;\"> of</span> <span style=\"background:grey;\"> early</span> <span style=\"background:#816500;\"> pioneers</span> <span style=\"background:#957500;\"> -</span> <span style=\"background:#a48000;\"> were</span> <span style=\"background:#9b7900;\"> found</span> <span style=\"background:#b18b00;\"> when</span> <span style=\"background:#403200;\"> the</span> <span style=\"background:grey;\"> Federal</span> <span style=\"background:#816500;\"> Building</span> <span style=\"background:#675100;\"> at</span> <span style=\"background:#856800;\"> what</span> <span style=\"background:#201900;\"> is</span> <span style=\"background:#554200;\"> now</span> <span style=\"background:grey;\"> U</span> <span style=\"background:#403200;\">.</span> <span style=\"background:#191300;\">N</span> <span style=\"background:#271e00;\">.</span> <span style=\"background:#bd9400;\"> Plaza</span> <span style=\"background:#ffc800;\"> was</span> <span style=\"background:#a68200;\"> built</span> <span style=\"background:#6e5600;\"> in</span> <span style=\"background:#5d4900;\"> 1933</span> <span style=\"background:#423400;\">;</span> <span style=\"background:#372b00;\"> and</span> <span style=\"background:#7c6100;\"> again</span> <span style=\"background:grey;\"> the</span> <span style=\"background:#060500;\"> 1990</span> <span style=\"background:grey;\">s</span> <span style=\"background:grey;\"> and</span> <span style=\"background:grey;\"> 2001</span> <span style=\"background:#100c00;\">,</span> <span style=\"background:#2f2500;\"> when</span> <span style=\"background:#231c00;\"> both</span> <span style=\"background:#0c0900;\"> a</span> <span style=\"background:#554200;\"> corner</span> <span style=\"background:grey;\"> of</span> <span style=\"background:grey;\"> the</span> <span style=\"background:grey;\"> old</span> <span style=\"background:#302500;\"> City</span> <span style=\"background:#604b00;\"> Hall</span> <span style=\"background:#624d00;\"> foundation</span> <span style=\"background:grey;\"> and</span> <span style=\"background:#534100;\"> part</span> <span style=\"background:grey;\"> of</span> <span style=\"background:grey;\"> the</span> <span style=\"background:#5d4900;\"> cemetery</span> <span style=\"background:#aa8500;\"> were</span> <span style=\"background:#665000;\"> unearthed</span> <span style=\"background:#0c0900;\"> during</span> <span style=\"background:grey;\"> construction</span> <span style=\"background:grey;\"> of</span> <span style=\"background:grey;\"> the</span></p>"
      ],
      "text/plain": [
       "<IPython.core.display.HTML object>"
      ]
     },
     "metadata": {},
     "output_type": "display_data"
    },
    {
     "data": {
      "text/html": [
       "<p style='color: red;'>Feature exp., #22: identification markers, such as names, properties, and categories.</p>"
      ],
      "text/plain": [
       "<IPython.core.display.HTML object>"
      ]
     },
     "metadata": {},
     "output_type": "display_data"
    },
    {
     "data": {
      "text/html": [
       "<p style='background: grey;'><span style=\"background:grey;\"> may</span> <span style=\"background:grey;\"> take</span> <span style=\"background:grey;\"> a</span> <span style=\"background:grey;\"> second</span> <span style=\"background:#473800;\"> or</span> <span style=\"background:grey;\"> two</span> <span style=\"background:grey;\"> to</span> <span style=\"background:grey;\"> appear</span> <span style=\"background:grey;\"> after</span> <span style=\"background:grey;\"> the</span> <span style=\"background:#261e00;\"> page</span> <span style=\"background:grey;\"> is</span> <span style=\"background:grey;\"> finished</span> <span style=\"background:grey;\"> loading</span> <span style=\"background:grey;\">.</span> <span style=\"background:#2a2100;\">\n",
       "</span> <span style=\"background:#241d00;\">\n",
       "</span> <span style=\"background:grey;\">This</span> <span style=\"background:#191300;\"> entry</span> <span style=\"background:#5e4900;\"> was</span> <span style=\"background:grey;\"> posted</span> <span style=\"background:grey;\"> on</span> <span style=\"background:grey;\"> Wednesday</span> <span style=\"background:grey;\">,</span> <span style=\"background:grey;\"> March</span> <span style=\"background:grey;\"> 13</span> <span style=\"background:grey;\">th</span> <span style=\"background:grey;\">,</span> <span style=\"background:#191300;\"> 2013</span> <span style=\"background:grey;\"> at</span> <span style=\"background:grey;\"> 8</span> <span style=\"background:grey;\">:</span> <span style=\"background:grey;\">40</span> <span style=\"background:#241c00;\"> am</span> <span style=\"background:grey;\"> and</span> <span style=\"background:#6b5400;\"> is</span> <span style=\"background:grey;\"> filed</span> <span style=\"background:grey;\"> under</span> <span style=\"background:grey;\"> Announce</span> <span style=\"background:grey;\">ment</span> <span style=\"background:grey;\">,</span> <span style=\"background:grey;\"> Basketball</span> <span style=\"background:grey;\">-</span> <span style=\"background:grey;\">Reference</span> <span style=\"background:grey;\">.</span> <span style=\"background:grey;\">com</span> <span style=\"background:#0a0700;\">.</span> <span style=\"background:grey;\"> You</span> <span style=\"background:grey;\"> can</span> <span style=\"background:grey;\"> follow</span> <span style=\"background:#030200;\"> any</span> <span style=\"background:grey;\"> responses</span> <span style=\"background:#604b00;\"> to</span> <span style=\"background:#bc9400;\"> this</span> <span style=\"background:#382c00;\"> entry</span> <span style=\"background:#4a3a00;\"> through</span> <span style=\"background:#ddad00;\"> the</span> <span style=\"background:#ffc800;\"> RSS</span> <span style=\"background:#b68e00;\"> 2</span> <span style=\"background:grey;\">.</span> <span style=\"background:#ffc800;\">0</span> <span style=\"background:#6b5400;\"> feed</span> <span style=\"background:#4c3c00;\">.</span> <span style=\"background:#c99d00;\"> Both</span></p>"
      ],
      "text/plain": [
       "<IPython.core.display.HTML object>"
      ]
     },
     "metadata": {},
     "output_type": "display_data"
    },
    {
     "data": {
      "text/html": [
       "<p style='background: grey;'><span style=\"background:grey;\"> simplified</span> <span style=\"background:grey;\"> look</span> <span style=\"background:grey;\"> at</span> <span style=\"background:grey;\"> the</span> <span style=\"background:#040300;\"> complex</span> <span style=\"background:grey;\"> world</span> <span style=\"background:grey;\"> of</span> <span style=\"background:grey;\"> tablets</span> <span style=\"background:grey;\">.</span> <span style=\"background:grey;\"> Find</span> <span style=\"background:grey;\"> out</span> <span style=\"background:grey;\"> which</span> <span style=\"background:grey;\"> features</span> <span style=\"background:grey;\"> are</span> <span style=\"background:grey;\"> right</span> <span style=\"background:grey;\"> for</span> <span style=\"background:grey;\"> you</span> <span style=\"background:grey;\">.</span> <span style=\"background:grey;\"> A</span> <span style=\"background:grey;\"> simplified</span> <span style=\"background:grey;\"> look</span> <span style=\"background:grey;\"> at</span> <span style=\"background:grey;\"> the</span> <span style=\"background:#1a1400;\"> complex</span> <span style=\"background:grey;\"> world</span> <span style=\"background:grey;\"> of</span> <span style=\"background:grey;\"> tablets</span> <span style=\"background:grey;\">.</span> <span style=\"background:grey;\"> Find</span> <span style=\"background:grey;\"> out</span> <span style=\"background:grey;\"> which</span> <span style=\"background:grey;\"> features</span> <span style=\"background:grey;\"> are</span> <span style=\"background:grey;\"> right</span> <span style=\"background:grey;\"> for</span> <span style=\"background:grey;\"> you</span> <span style=\"background:grey;\">.</span> <span style=\"background:#140f00;\">\n",
       "</span> <span style=\"background:#181300;\">\n",
       "</span> <span style=\"background:grey;\">For</span> <span style=\"background:grey;\"> questions</span> <span style=\"background:grey;\"> pertaining</span> <span style=\"background:grey;\"> to</span> <span style=\"background:#191300;\"> this</span> <span style=\"background:grey;\"> deal</span> <span style=\"background:grey;\">,</span> <span style=\"background:#0b0900;\"> click</span> <span style=\"background:#473800;\"> the</span> <span style=\"background:#755c00;\"> Ask</span> <span style=\"background:#6f5700;\"> a</span> <span style=\"background:#785e00;\"> Question</span> <span style=\"background:#5c4800;\"> button</span> <span style=\"background:#665000;\"> below</span> <span style=\"background:#8f7000;\">.</span> <span style=\"background:#775d00;\"> For</span> <span style=\"background:#ffc800;\"> post</span> <span style=\"background:#ffc800;\">-</span> <span style=\"background:#ffc800;\">p</span> <span style=\"background:grey;\">urchase</span> <span style=\"background:grey;\"> inquiries</span> <span style=\"background:grey;\">,</span> <span style=\"background:#7c6100;\"> please</span> <span style=\"background:#a98400;\"> contact</span> <span style=\"background:#e5b400;\"> Group</span></p>"
      ],
      "text/plain": [
       "<IPython.core.display.HTML object>"
      ]
     },
     "metadata": {},
     "output_type": "display_data"
    },
    {
     "data": {
      "text/html": [
       "<p style='background: grey;'><span style=\"background:grey;\"> the</span> <span style=\"background:grey;\"> Philippine</span> <span style=\"background:grey;\"> authorities</span> <span style=\"background:grey;\"> said</span> <span style=\"background:grey;\">,</span> <span style=\"background:grey;\"> after</span> <span style=\"background:grey;\"> thousands</span> <span style=\"background:grey;\"> of</span> <span style=\"background:grey;\"> government</span> <span style=\"background:grey;\"> troops</span> <span style=\"background:grey;\"> pushed</span> <span style=\"background:grey;\"> over</span> <span style=\"background:#231b00;\"> the</span> <span style=\"background:grey;\"> weekend</span> <span style=\"background:grey;\"> to</span> <span style=\"background:grey;\"> reclaim</span> <span style=\"background:grey;\"> the</span> <span style=\"background:grey;\"> town</span> <span style=\"background:grey;\"> from</span> <span style=\"background:grey;\"> Islamist</span> <span style=\"background:grey;\"> militants</span> <span style=\"background:grey;\">.</span> <span style=\"background:#191400;\">\n",
       "</span> <span style=\"background:#1c1600;\">\n",
       "</span> <span style=\"background:grey;\">The</span> <span style=\"background:grey;\"> terrorist</span> <span style=\"background:grey;\"> who</span> <span style=\"background:grey;\"> died</span> <span style=\"background:grey;\">,</span> <span style=\"background:#141000;\"> Isn</span> <span style=\"background:#2c2200;\">ilon</span> <span style=\"background:#ffc800;\"> H</span> <span style=\"background:#423400;\">ap</span> <span style=\"background:#050400;\">ilon</span> <span style=\"background:grey;\">,</span> <span style=\"background:grey;\"> was</span> <span style=\"background:grey;\"> the</span> <span style=\"background:grey;\"> leader</span> <span style=\"background:grey;\"> of</span> <span style=\"background:grey;\"> Abu</span> <span style=\"background:grey;\"> Say</span> <span style=\"background:#c99e00;\">y</span> <span style=\"background:grey;\">af</span> <span style=\"background:grey;\">,</span> <span style=\"background:grey;\"> a</span> <span style=\"background:grey;\"> militant</span> <span style=\"background:grey;\"> group</span> <span style=\"background:grey;\"> affiliated</span> <span style=\"background:grey;\"> with</span> <span style=\"background:grey;\"> the</span> <span style=\"background:#2f2500;\"> Islamic</span> <span style=\"background:grey;\"> State</span> <span style=\"background:grey;\"> that</span> <span style=\"background:grey;\"> has</span> <span style=\"background:grey;\"> held</span> <span style=\"background:grey;\"> parts</span> <span style=\"background:grey;\"> of</span> <span style=\"background:grey;\"> Mar</span> <span style=\"background:grey;\">awi</span> <span style=\"background:grey;\"> since</span> <span style=\"background:grey;\"> May</span> <span style=\"background:grey;\">.</span> <span style=\"background:grey;\"> The</span> <span style=\"background:grey;\"> police</span></p>"
      ],
      "text/plain": [
       "<IPython.core.display.HTML object>"
      ]
     },
     "metadata": {},
     "output_type": "display_data"
    },
    {
     "data": {
      "text/html": [
       "<p style='background: grey;'><span style=\"background:grey;\"> of</span> <span style=\"background:grey;\"> bipartisan</span> <span style=\"background:grey;\"> senators</span> <span style=\"background:grey;\"> have</span> <span style=\"background:grey;\"> introduced</span> <span style=\"background:grey;\"> new</span> <span style=\"background:grey;\"> legislation</span> <span style=\"background:grey;\"> seeking</span> <span style=\"background:grey;\"> to</span> <span style=\"background:grey;\"> block</span> <span style=\"background:grey;\"> a</span> <span style=\"background:grey;\"> rule</span> <span style=\"background:grey;\"> change</span> <span style=\"background:grey;\">,</span> <span style=\"background:grey;\"> which</span> <span style=\"background:grey;\"> critics</span> <span style=\"background:grey;\"> argued</span> <span style=\"background:grey;\"> would</span> <span style=\"background:grey;\"> allow</span> <span style=\"background:grey;\"> the</span> <span style=\"background:grey;\"> FBI</span> <span style=\"background:grey;\"> to</span> <span style=\"background:grey;\"> conduct</span> <span style=\"background:grey;\"> mass</span> <span style=\"background:grey;\"> hacking</span> <span style=\"background:grey;\"> of</span> <span style=\"background:grey;\"> any</span> <span style=\"background:grey;\"> computer</span> <span style=\"background:grey;\"> in</span> <span style=\"background:grey;\"> the</span> <span style=\"background:grey;\"> world</span> <span style=\"background:#020100;\">.</span> <span style=\"background:#130f00;\">\n",
       "</span> <span style=\"background:#130f00;\">\n",
       "</span> <span style=\"background:grey;\">S</span> <span style=\"background:grey;\">ens</span> <span style=\"background:grey;\">.</span> <span style=\"background:#1c1600;\"> Ron</span> <span style=\"background:#080600;\"> W</span> <span style=\"background:grey;\">yden</span> <span style=\"background:#ffc800;\"> (</span> <span style=\"background:#8c6e00;\">D</span> <span style=\"background:#f5c000;\">-</span> <span style=\"background:grey;\">OR</span> <span style=\"background:grey;\">)</span> <span style=\"background:grey;\"> and</span> <span style=\"background:#0f0b00;\"> Rand</span> <span style=\"background:#0f0b00;\"> Paul</span> <span style=\"background:#ffc800;\"> (</span> <span style=\"background:#4c3c00;\">R</span> <span style=\"background:#d2a400;\">-</span> <span style=\"background:grey;\">KY</span> <span style=\"background:grey;\">)</span> <span style=\"background:grey;\"> introduced</span> <span style=\"background:grey;\"> the</span> <span style=\"background:grey;\"> ten</span> <span style=\"background:grey;\">-</span> <span style=\"background:grey;\">line</span> <span style=\"background:#1c1600;\"> bill</span> <span style=\"background:grey;\"> on</span> <span style=\"background:grey;\"> Thursday</span> <span style=\"background:grey;\"> with</span> <span style=\"background:grey;\"> the</span> <span style=\"background:grey;\"> aim</span></p>"
      ],
      "text/plain": [
       "<IPython.core.display.HTML object>"
      ]
     },
     "metadata": {},
     "output_type": "display_data"
    },
    {
     "data": {
      "text/html": [
       "<p style='background: grey;'><span style=\"background:grey;\"> say</span> <span style=\"background:grey;\"> illegally</span> <span style=\"background:#171200;\"> shield</span> <span style=\"background:grey;\"> immigrants</span> <span style=\"background:grey;\">.</span> <span style=\"background:#0e0b00;\">\n",
       "</span> <span style=\"background:#120e00;\">\n",
       "</span> <span style=\"background:grey;\">The</span> <span style=\"background:grey;\"> Texas</span> <span style=\"background:grey;\"> law</span> <span style=\"background:grey;\">,</span> <span style=\"background:grey;\"> which</span> <span style=\"background:grey;\"> takes</span> <span style=\"background:grey;\"> aim</span> <span style=\"background:grey;\"> at</span> <span style=\"background:grey;\"> any</span> <span style=\"background:grey;\"> jurisdiction</span> <span style=\"background:grey;\"> that</span> <span style=\"background:grey;\"> refuses</span> <span style=\"background:grey;\"> to</span> <span style=\"background:grey;\"> cooperate</span> <span style=\"background:grey;\"> with</span> <span style=\"background:grey;\"> federal</span> <span style=\"background:grey;\"> immigration</span> <span style=\"background:grey;\"> authorities</span> <span style=\"background:grey;\">,</span> <span style=\"background:grey;\"> is</span> <span style=\"background:grey;\"> considered</span> <span style=\"background:grey;\"> one</span> <span style=\"background:grey;\"> of</span> <span style=\"background:grey;\"> the</span> <span style=\"background:grey;\"> toughest</span> <span style=\"background:grey;\"> anti</span> <span style=\"background:grey;\">-</span> <span style=\"background:#281f00;\">illegal</span> <span style=\"background:grey;\"> immigration</span> <span style=\"background:grey;\"> efforts</span> <span style=\"background:#100c00;\"> in</span> <span style=\"background:grey;\"> the</span> <span style=\"background:grey;\"> country</span> <span style=\"background:grey;\">.</span> <span style=\"background:grey;\">\n",
       "</span> <span style=\"background:grey;\">\n",
       "</span> <span style=\"background:grey;\">The</span> <span style=\"background:grey;\"> ruling</span> <span style=\"background:grey;\"> will</span> <span style=\"background:grey;\"> make</span> <span style=\"background:#070600;\"> Texas</span> <span style=\"background:grey;\"> communities</span> <span style=\"background:grey;\"> less</span> <span style=\"background:grey;\"> safe</span> <span style=\"background:grey;\">,</span> <span style=\"background:grey;\"> Texas</span> <span style=\"background:#ffc800;\"> Governor</span> <span style=\"background:#e1b100;\"> Greg</span> <span style=\"background:grey;\"> Abbott</span> <span style=\"background:grey;\">,</span> <span style=\"background:grey;\"> a</span> <span style=\"background:grey;\"> Republican</span> <span style=\"background:grey;\">,</span> <span style=\"background:grey;\"> said</span> <span style=\"background:grey;\"> in</span> <span style=\"background:grey;\"> a</span> <span style=\"background:grey;\"> statement</span></p>"
      ],
      "text/plain": [
       "<IPython.core.display.HTML object>"
      ]
     },
     "metadata": {},
     "output_type": "display_data"
    },
    {
     "data": {
      "text/html": [
       "<p style='color: red;'>Feature exp., #23: parts of words and names, especially those with specific endings.</p>"
      ],
      "text/plain": [
       "<IPython.core.display.HTML object>"
      ]
     },
     "metadata": {},
     "output_type": "display_data"
    },
    {
     "data": {
      "text/html": [
       "<p style='background: grey;'><span style=\"background:grey;\"> kilometres</span> <span style=\"background:grey;\"> (</span> <span style=\"background:#231b00;\">50</span> <span style=\"background:#3d3000;\"> mi</span> <span style=\"background:#0a0700;\">)</span> <span style=\"background:#826600;\"> to</span> <span style=\"background:#3e3000;\"> the</span> <span style=\"background:grey;\"> west</span> <span style=\"background:#130f00;\">.</span> <span style=\"background:#231b00;\">\n",
       "</span> <span style=\"background:#0d0a00;\">\n",
       "</span> <span style=\"background:grey;\">History</span> <span style=\"background:grey;\"> [</span> <span style=\"background:grey;\"> edit</span> <span style=\"background:grey;\"> ]</span> <span style=\"background:grey;\">\n",
       "</span> <span style=\"background:grey;\">\n",
       "</span> <span style=\"background:grey;\">The</span> <span style=\"background:grey;\"> original</span> <span style=\"background:#000000;\"> name</span> <span style=\"background:grey;\"> of</span> <span style=\"background:grey;\"> the</span> <span style=\"background:grey;\"> settlement</span> <span style=\"background:#1b1500;\"> was</span> <span style=\"background:grey;\"> Lu</span> <span style=\"background:grey;\">hon</span> <span style=\"background:grey;\">ono</span> <span style=\"background:grey;\">,</span> <span style=\"background:grey;\"> after</span> <span style=\"background:grey;\"> the</span> <span style=\"background:grey;\"> Lu</span> <span style=\"background:#201900;\">hon</span> <span style=\"background:grey;\">ono</span> <span style=\"background:grey;\"> tree</span> <span style=\"background:#332800;\"> (</span> <span style=\"background:#775d00;\">Termin</span> <span style=\"background:grey;\">alia</span> <span style=\"background:#ffc800;\"> ser</span> <span style=\"background:#231b00;\">ice</span> <span style=\"background:#110d00;\">a</span> <span style=\"background:grey;\">)</span> <span style=\"background:grey;\"> endemic</span> <span style=\"background:grey;\"> in</span> <span style=\"background:grey;\"> that</span> <span style=\"background:grey;\"> area</span> <span style=\"background:grey;\">.[</span> <span style=\"background:grey;\">3</span> <span style=\"background:grey;\">]</span> <span style=\"background:grey;\"> The</span> <span style=\"background:grey;\"> settlement</span> <span style=\"background:#110d00;\"> was</span> <span style=\"background:#0c0900;\"> founded</span> <span style=\"background:grey;\"> under</span> <span style=\"background:grey;\"> the</span> <span style=\"background:#171200;\"> name</span> <span style=\"background:#5e4900;\"> Sch</span> <span style=\"background:grey;\">uck</span> <span style=\"background:grey;\">man</span> <span style=\"background:grey;\">ns</span> <span style=\"background:grey;\">burg</span> <span style=\"background:grey;\"> on</span> <span style=\"background:#161100;\"> 7</span> <span style=\"background:grey;\"> February</span> <span style=\"background:grey;\"> 1909</span></p>"
      ],
      "text/plain": [
       "<IPython.core.display.HTML object>"
      ]
     },
     "metadata": {},
     "output_type": "display_data"
    },
    {
     "data": {
      "text/html": [
       "<p style='background: grey;'><span style=\"background:grey;\"> executives</span> <span style=\"background:grey;\"> of</span> <span style=\"background:grey;\"> companies</span> <span style=\"background:#110d00;\"> that</span> <span style=\"background:grey;\"> received</span> <span style=\"background:grey;\"> federal</span> <span style=\"background:grey;\"> bailout</span> <span style=\"background:grey;\"> money</span> <span style=\"background:#685100;\"> or</span> <span style=\"background:grey;\"> in</span> <span style=\"background:grey;\"> which</span> <span style=\"background:grey;\"> the</span> <span style=\"background:grey;\"> United</span> <span style=\"background:#2d2300;\"> States</span> <span style=\"background:#8e6f00;\"> has</span> <span style=\"background:grey;\"> an</span> <span style=\"background:grey;\"> equity</span> <span style=\"background:grey;\"> interest</span> <span style=\"background:grey;\">.</span> <span style=\"background:grey;\">\n",
       "</span> <span style=\"background:grey;\">\n",
       "</span> <span style=\"background:grey;\">S</span> <span style=\"background:#513f00;\">ens</span> <span style=\"background:grey;\">.</span> <span style=\"background:grey;\"> Max</span> <span style=\"background:#1e1700;\"> B</span> <span style=\"background:grey;\">aucus</span> <span style=\"background:#0e0b00;\">,</span> <span style=\"background:#251d00;\"> D</span> <span style=\"background:#cca000;\">-</span> <span style=\"background:#594600;\">Mont</span> <span style=\"background:grey;\">ana</span> <span style=\"background:#322700;\">,</span> <span style=\"background:grey;\"> and</span> <span style=\"background:#5d4900;\"> Chuck</span> <span style=\"background:grey;\"> Grassley</span> <span style=\"background:#f8c200;\">,</span> <span style=\"background:grey;\"> R</span> <span style=\"background:#ffc800;\">-</span> <span style=\"background:grey;\">Iowa</span> <span style=\"background:#7c6100;\">,</span> <span style=\"background:#2d2300;\"> are</span> <span style=\"background:grey;\"> the</span> <span style=\"background:grey;\"> chairman</span> <span style=\"background:#3f3100;\"> and</span> <span style=\"background:#1c1600;\"> top</span> <span style=\"background:grey;\"> Republican</span> <span style=\"background:grey;\"> on</span> <span style=\"background:#3a2d00;\"> the</span> <span style=\"background:#201900;\"> Senate</span> <span style=\"background:grey;\"> Finance</span> <span style=\"background:grey;\"> Committee</span> <span style=\"background:grey;\">,</span> <span style=\"background:grey;\"> respectively</span> <span style=\"background:grey;\">.</span> <span style=\"background:#3a2d00;\"> They</span> <span style=\"background:grey;\"> said</span> <span style=\"background:grey;\"> companies</span> <span style=\"background:grey;\"> would</span> <span style=\"background:grey;\"> not</span> <span style=\"background:grey;\"> be</span> <span style=\"background:grey;\"> allowed</span> <span style=\"background:grey;\"> to</span> <span style=\"background:grey;\"> rest</span></p>"
      ],
      "text/plain": [
       "<IPython.core.display.HTML object>"
      ]
     },
     "metadata": {},
     "output_type": "display_data"
    },
    {
     "data": {
      "text/html": [
       "<p style='background: grey;'><span style=\"background:grey;\"> '</span> <span style=\"background:#413300;\">t</span> <span style=\"background:#2b2200;\">apped</span> <span style=\"background:grey;\"> up</span> <span style=\"background:grey;\">'</span> <span style=\"background:grey;\"> before</span> <span style=\"background:grey;\"> they</span> <span style=\"background:grey;\"> make</span> <span style=\"background:grey;\"> big</span> <span style=\"background:grey;\">-</span> <span style=\"background:grey;\">money</span> <span style=\"background:grey;\"> transfers</span> <span style=\"background:grey;\">,</span> <span style=\"background:grey;\"> as</span> <span style=\"background:grey;\"> he</span> <span style=\"background:grey;\"> offered</span> <span style=\"background:grey;\"> up</span> <span style=\"background:grey;\"> some</span> <span style=\"background:grey;\"> interesting</span> <span style=\"background:grey;\"> views</span> <span style=\"background:grey;\"> on</span> <span style=\"background:grey;\"> Alex</span> <span style=\"background:#040300;\"> Ox</span> <span style=\"background:grey;\">l</span> <span style=\"background:#483800;\">ade</span> <span style=\"background:#ffc800;\">-</span> <span style=\"background:grey;\">Ch</span> <span style=\"background:#7b6000;\">amber</span> <span style=\"background:#120e00;\">lain</span> <span style=\"background:grey;\">'s</span> <span style=\"background:grey;\"> move</span> <span style=\"background:grey;\"> to</span> <span style=\"background:grey;\"> Liverpool</span> <span style=\"background:grey;\">.</span> <span style=\"background:grey;\">\n",
       "</span> <span style=\"background:grey;\">\n",
       "</span> <span style=\"background:grey;\">'</span> <span style=\"background:grey;\">Have</span> <span style=\"background:grey;\"> they</span> <span style=\"background:grey;\"> been</span> <span style=\"background:grey;\"> tapped</span> <span style=\"background:grey;\"> up</span> <span style=\"background:grey;\">?</span> <span style=\"background:grey;\"> Of</span> <span style=\"background:grey;\"> course</span> <span style=\"background:grey;\">'</span> <span style=\"background:grey;\"> -</span> <span style=\"background:#413300;\"> Ars</span> <span style=\"background:#2a2100;\">ene</span> <span style=\"background:grey;\"> Wenger</span> <span style=\"background:grey;\"> opens</span> <span style=\"background:grey;\"> up</span> <span style=\"background:grey;\"> on</span> <span style=\"background:grey;\"> Alex</span> <span style=\"background:grey;\"> Ox</span> <span style=\"background:grey;\">l</span> <span style=\"background:grey;\">ade</span> <span style=\"background:grey;\">-</span> <span style=\"background:grey;\">Ch</span> <span style=\"background:grey;\">amber</span> <span style=\"background:grey;\">lain</span> <span style=\"background:grey;\">'s</span> <span style=\"background:grey;\"> Liverpool</span> <span style=\"background:grey;\"> move</span></p>"
      ],
      "text/plain": [
       "<IPython.core.display.HTML object>"
      ]
     },
     "metadata": {},
     "output_type": "display_data"
    },
    {
     "data": {
      "text/html": [
       "<p style='background: grey;'><span style=\"background:grey;\"> point</span> <span style=\"background:grey;\"> against</span> <span style=\"background:grey;\"> one</span> <span style=\"background:grey;\"> of</span> <span style=\"background:grey;\"> the</span> <span style=\"background:grey;\"> favourites</span> <span style=\"background:grey;\">.\"</span> <span style=\"background:grey;\">\n",
       "</span> <span style=\"background:grey;\">\n",
       "</span> <span style=\"background:grey;\">Ken</span> <span style=\"background:grey;\">wy</span> <span style=\"background:grey;\">ne</span> <span style=\"background:grey;\"> Jones</span> <span style=\"background:grey;\">'s</span> <span style=\"background:grey;\"> goal</span> <span style=\"background:grey;\"> ended</span> <span style=\"background:grey;\"> a</span> <span style=\"background:grey;\"> personal</span> <span style=\"background:#302600;\"> drought</span> <span style=\"background:grey;\"> of</span> <span style=\"background:grey;\"> 5</span> <span style=\"background:grey;\">51</span> <span style=\"background:grey;\"> minutes</span> <span style=\"background:grey;\"> for</span> <span style=\"background:grey;\"> Cardiff</span> <span style=\"background:grey;\">\n",
       "</span> <span style=\"background:grey;\">\n",
       "</span> <span style=\"background:grey;\">Black</span> <span style=\"background:grey;\">burn</span> <span style=\"background:grey;\"> have</span> <span style=\"background:grey;\"> not</span> <span style=\"background:grey;\"> won</span> <span style=\"background:grey;\"> their</span> <span style=\"background:grey;\"> opening</span> <span style=\"background:grey;\">-</span> <span style=\"background:grey;\">day</span> <span style=\"background:grey;\"> game</span> <span style=\"background:grey;\"> of</span> <span style=\"background:grey;\"> a</span> <span style=\"background:#785e00;\"> season</span> <span style=\"background:grey;\"> since</span> <span style=\"background:#261d00;\"> 2010</span> <span style=\"background:grey;\">\n",
       "</span> <span style=\"background:grey;\">\n",
       "</span> <span style=\"background:grey;\">O</span> <span style=\"background:#2f2500;\">le</span> <span style=\"background:grey;\"> Gun</span> <span style=\"background:#4a3a00;\">nar</span> <span style=\"background:#ffc800;\"> Sol</span> <span style=\"background:#ffc800;\">sk</span> <span style=\"background:#ffc800;\">ja</span> <span style=\"background:grey;\">er</span> <span style=\"background:#0c0a00;\"> is</span> <span style=\"background:#ffc800;\"> looking</span> <span style=\"background:grey;\"> to</span> <span style=\"background:grey;\"> guide</span> <span style=\"background:grey;\"> Cardiff</span> <span style=\"background:grey;\"> back</span> <span style=\"background:grey;\"> to</span> <span style=\"background:grey;\"> the</span> <span style=\"background:grey;\"> Premier</span> <span style=\"background:grey;\"> League</span> <span style=\"background:grey;\"> at</span> <span style=\"background:#040300;\"> the</span></p>"
      ],
      "text/plain": [
       "<IPython.core.display.HTML object>"
      ]
     },
     "metadata": {},
     "output_type": "display_data"
    },
    {
     "data": {
      "text/html": [
       "<p style='background: grey;'><span style=\"background:grey;\">\n",
       "</span> <span style=\"background:grey;\">\n",
       "</span> <span style=\"background:#362a00;\">Jackson</span> <span style=\"background:#524000;\">'s</span> <span style=\"background:#161100;\"> character</span> <span style=\"background:grey;\"> in</span> <span style=\"background:grey;\"> the</span> <span style=\"background:grey;\"> movie</span> <span style=\"background:grey;\"> \"</span> <span style=\"background:grey;\">Sn</span> <span style=\"background:grey;\">akes</span> <span style=\"background:grey;\"> on</span> <span style=\"background:grey;\"> a</span> <span style=\"background:grey;\"> Plane</span> <span style=\"background:grey;\">\"</span> <span style=\"background:grey;\"> tries</span> <span style=\"background:grey;\"> to</span> <span style=\"background:#030200;\"> figure</span> <span style=\"background:grey;\"> out</span> <span style=\"background:grey;\"> how</span> <span style=\"background:grey;\"> to</span> <span style=\"background:grey;\"> save</span> <span style=\"background:grey;\"> the</span> <span style=\"background:#221b00;\"> aircraft</span> <span style=\"background:grey;\"> after</span> <span style=\"background:grey;\"> crates</span> <span style=\"background:grey;\"> of</span> <span style=\"background:grey;\"> hyp</span> <span style=\"background:grey;\">ed</span> <span style=\"background:#080600;\">-</span> <span style=\"background:grey;\">up</span> <span style=\"background:#ffc800;\"> ser</span> <span style=\"background:grey;\">p</span> <span style=\"background:grey;\">ents</span> <span style=\"background:grey;\"> started</span> <span style=\"background:grey;\"> killing</span> <span style=\"background:grey;\"> the</span> <span style=\"background:#0a0800;\"> cast</span> <span style=\"background:grey;\">.</span> <span style=\"background:grey;\">\n",
       "</span> <span style=\"background:grey;\">\n",
       "</span> <span style=\"background:grey;\">There</span> <span style=\"background:grey;\"> wasn</span> <span style=\"background:grey;\">'t</span> <span style=\"background:grey;\"> quite</span> <span style=\"background:grey;\"> that</span> <span style=\"background:grey;\"> kind</span> <span style=\"background:grey;\"> of</span> <span style=\"background:#070500;\"> drama</span> <span style=\"background:grey;\"> on</span> <span style=\"background:#1d1700;\"> Monday</span> <span style=\"background:grey;\">,</span> <span style=\"background:grey;\"> but</span> <span style=\"background:grey;\"> the</span> <span style=\"background:grey;\"> incident</span> <span style=\"background:grey;\"> forced</span> <span style=\"background:grey;\"> the</span> <span style=\"background:grey;\"> pilot</span> <span style=\"background:grey;\"> to</span> <span style=\"background:grey;\"> make</span> <span style=\"background:grey;\"> an</span> <span style=\"background:grey;\"> emergency</span> <span style=\"background:grey;\"> landing</span> <span style=\"background:grey;\"> in</span></p>"
      ],
      "text/plain": [
       "<IPython.core.display.HTML object>"
      ]
     },
     "metadata": {},
     "output_type": "display_data"
    },
    {
     "data": {
      "text/html": [
       "<p style='color: red;'>Feature exp., #24: parts of singular personal pronouns and the definite article \"the\".</p>"
      ],
      "text/plain": [
       "<IPython.core.display.HTML object>"
      ]
     },
     "metadata": {},
     "output_type": "display_data"
    },
    {
     "data": {
      "text/html": [
       "<p style='background: grey;'><span style=\"background:grey;\"> first</span> <span style=\"background:grey;\"> official</span> <span style=\"background:grey;\"> statement</span> <span style=\"background:#181300;\"> as</span> <span style=\"background:#030200;\"> head</span> <span style=\"background:#000000;\"> of</span> <span style=\"background:grey;\"> government</span> <span style=\"background:#191300;\"> on</span> <span style=\"background:grey;\"> Wednesday</span> <span style=\"background:#090700;\">.</span> <span style=\"background:grey;\">\n",
       "</span> <span style=\"background:grey;\">\n",
       "</span> <span style=\"background:grey;\">That</span> <span style=\"background:grey;\"> caps</span> <span style=\"background:grey;\"> Belgium</span> <span style=\"background:#171200;\">'s</span> <span style=\"background:grey;\"> year</span> <span style=\"background:grey;\">-</span> <span style=\"background:grey;\">and</span> <span style=\"background:grey;\">-</span> <span style=\"background:grey;\">a</span> <span style=\"background:grey;\">-</span> <span style=\"background:#010100;\">half</span> <span style=\"background:grey;\"> run</span> <span style=\"background:grey;\"> without</span> <span style=\"background:grey;\"> a</span> <span style=\"background:grey;\"> government</span> <span style=\"background:grey;\">,</span> <span style=\"background:grey;\"> since</span> <span style=\"background:grey;\"> Prime</span> <span style=\"background:grey;\"> Minister</span> <span style=\"background:#624d00;\"> Y</span> <span style=\"background:#2f2500;\">ves</span> <span style=\"background:#ffc800;\"> L</span> <span style=\"background:#130f00;\">eter</span> <span style=\"background:grey;\">me</span> <span style=\"background:#090700;\">'s</span> <span style=\"background:grey;\"> resignation</span> <span style=\"background:#2b2200;\"> was</span> <span style=\"background:#020200;\"> accepted</span> <span style=\"background:grey;\"> April</span> <span style=\"background:grey;\"> 26</span> <span style=\"background:grey;\">,</span> <span style=\"background:grey;\"> 2010</span> <span style=\"background:grey;\">.</span> <span style=\"background:grey;\">\n",
       "</span> <span style=\"background:grey;\">\n",
       "</span> <span style=\"background:#010100;\">A</span> <span style=\"background:#040300;\"> temporary</span> <span style=\"background:grey;\"> care</span> <span style=\"background:grey;\">taker</span> <span style=\"background:grey;\"> government</span> <span style=\"background:grey;\"> had</span> <span style=\"background:grey;\"> been</span> <span style=\"background:grey;\"> in</span> <span style=\"background:grey;\"> place</span> <span style=\"background:grey;\"> since</span> <span style=\"background:grey;\"> then</span> <span style=\"background:grey;\">,</span> <span style=\"background:grey;\"> with</span> <span style=\"background:grey;\"> politicians</span> <span style=\"background:grey;\"> locked</span> <span style=\"background:grey;\"> in</span> <span style=\"background:grey;\"> a</span></p>"
      ],
      "text/plain": [
       "<IPython.core.display.HTML object>"
      ]
     },
     "metadata": {},
     "output_type": "display_data"
    },
    {
     "data": {
      "text/html": [
       "<p style='background: grey;'><span style=\"background:grey;\"> you</span> <span style=\"background:#090700;\"> can</span> <span style=\"background:#201900;\"> take</span> <span style=\"background:#130f00;\"> each</span> <span style=\"background:grey;\"> week</span> <span style=\"background:grey;\">.</span> <span style=\"background:grey;\">\n",
       "</span> <span style=\"background:grey;\">\n",
       "</span> <span style=\"background:#0b0800;\">Thank</span> <span style=\"background:grey;\"> you</span> <span style=\"background:grey;\"> for</span> <span style=\"background:grey;\"> signing</span> <span style=\"background:grey;\"> up</span> <span style=\"background:grey;\">.</span> <span style=\"background:grey;\"> For</span> <span style=\"background:grey;\"> more</span> <span style=\"background:grey;\"> from</span> <span style=\"background:grey;\"> The</span> <span style=\"background:grey;\"> Nation</span> <span style=\"background:grey;\">,</span> <span style=\"background:grey;\"> check</span> <span style=\"background:grey;\"> out</span> <span style=\"background:#221b00;\"> our</span> <span style=\"background:grey;\"> latest</span> <span style=\"background:#0a0700;\"> issue</span> <span style=\"background:#020200;\">\n",
       "</span> <span style=\"background:#0d0a00;\">\n",
       "</span> <span style=\"background:grey;\">Travel</span> <span style=\"background:grey;\"> With</span> <span style=\"background:#151100;\"> The</span> <span style=\"background:grey;\"> Nation</span> <span style=\"background:grey;\"> Be</span> <span style=\"background:#ffc800;\"> the</span> <span style=\"background:grey;\"> first</span> <span style=\"background:grey;\"> to</span> <span style=\"background:#271e00;\"> hear</span> <span style=\"background:#6e5600;\"> about</span> <span style=\"background:#3a2d00;\"> Nation</span> <span style=\"background:#4d3c00;\"> Travels</span> <span style=\"background:#352900;\"> destinations</span> <span style=\"background:#2e2400;\">,</span> <span style=\"background:#3c2f00;\"> and</span> <span style=\"background:grey;\"> explore</span> <span style=\"background:#544200;\"> the</span> <span style=\"background:grey;\"> world</span> <span style=\"background:grey;\"> with</span> <span style=\"background:#3f3100;\"> kindred</span> <span style=\"background:grey;\"> spirits</span> <span style=\"background:#584500;\">.</span> <span style=\"background:grey;\"> Be</span> <span style=\"background:#9a7800;\"> the</span> <span style=\"background:grey;\"> first</span> <span style=\"background:grey;\"> to</span> <span style=\"background:grey;\"> hear</span> <span style=\"background:#0f0b00;\"> about</span> <span style=\"background:#322700;\"> Nation</span> <span style=\"background:#564300;\"> Travels</span> <span style=\"background:grey;\"> destinations</span> <span style=\"background:grey;\">,</span> <span style=\"background:#211a00;\"> and</span> <span style=\"background:grey;\"> explore</span> <span style=\"background:grey;\"> the</span> <span style=\"background:grey;\"> world</span> <span style=\"background:grey;\"> with</span></p>"
      ],
      "text/plain": [
       "<IPython.core.display.HTML object>"
      ]
     },
     "metadata": {},
     "output_type": "display_data"
    },
    {
     "data": {
      "text/html": [
       "<p style='background: grey;'><span style=\"background:grey;\">ror</span> <span style=\"background:grey;\">\n",
       "</span> <span style=\"background:grey;\">\n",
       "</span> <span style=\"background:#3b2e00;\">oh</span> <span style=\"background:#352900;\"> and</span> <span style=\"background:#382c00;\"> also</span> <span style=\"background:#5b4700;\"> i</span> <span style=\"background:#050400;\"> will</span> <span style=\"background:grey;\"> be</span> <span style=\"background:grey;\"> playing</span> <span style=\"background:grey;\"> non</span> <span style=\"background:grey;\"> stop</span> <span style=\"background:grey;\"> thru</span> <span style=\"background:grey;\"> that</span> <span style=\"background:#040300;\"> time</span> <span style=\"background:grey;\"> nothing</span> <span style=\"background:#0d0a00;\"> else</span> <span style=\"background:grey;\"> im</span> <span style=\"background:grey;\"> gonna</span> <span style=\"background:grey;\"> be</span> <span style=\"background:grey;\"> dead</span> <span style=\"background:grey;\"> by</span> <span style=\"background:grey;\"> the</span> <span style=\"background:#453600;\"> time</span> <span style=\"background:grey;\"> its</span> <span style=\"background:#1d1700;\"> over</span> <span style=\"background:grey;\"> f</span> <span style=\"background:#010100;\">ml</span> <span style=\"background:#362a00;\">:</span> <span style=\"background:grey;\">wall</span> <span style=\"background:#3b2e00;\">:</span> <span style=\"background:#040300;\"> Thank</span> <span style=\"background:grey;\"> you</span> <span style=\"background:#0e0b00;\"> very</span> <span style=\"background:grey;\"> much</span> <span style=\"background:#060500;\"> time</span> <span style=\"background:grey;\"> to</span> <span style=\"background:grey;\"> move</span> <span style=\"background:grey;\"> up</span> <span style=\"background:#020100;\"> 2</span> <span style=\"background:#060500;\"> rank</span> <span style=\"background:grey;\">so</span> <span style=\"background:#1c1600;\">h</span> <span style=\"background:grey;\"> and</span> <span style=\"background:#241c00;\"> also</span> <span style=\"background:#594600;\"> i</span> <span style=\"background:grey;\"> will</span> <span style=\"background:grey;\"> be</span> <span style=\"background:#2e2400;\"> playing</span> <span style=\"background:#4c3b00;\"> non</span> <span style=\"background:#564300;\"> stop</span> <span style=\"background:#281f00;\"> thru</span> <span style=\"background:grey;\"> that</span> <span style=\"background:#fac400;\"> time</span> <span style=\"background:#191400;\"> nothing</span> <span style=\"background:#6a5300;\"> else</span> <span style=\"background:#1f1800;\"> im</span> <span style=\"background:grey;\"> gonna</span> <span style=\"background:#211a00;\"> be</span> <span style=\"background:grey;\"> dead</span> <span style=\"background:grey;\"> by</span> <span style=\"background:grey;\"> the</span> <span style=\"background:#604b00;\"> time</span> <span style=\"background:grey;\"> its</span></p>"
      ],
      "text/plain": [
       "<IPython.core.display.HTML object>"
      ]
     },
     "metadata": {},
     "output_type": "display_data"
    },
    {
     "data": {
      "text/html": [
       "<p style='background: grey;'><span style=\"background:grey;\">off</span> <span style=\"background:grey;\"> only</span> <span style=\"background:#080600;\"> for</span> <span style=\"background:grey;\"> Mata</span> <span style=\"background:grey;\"> to</span> <span style=\"background:#1c1500;\"> show</span> <span style=\"background:#1a1500;\"> no</span> <span style=\"background:grey;\"> interest</span> <span style=\"background:#0b0800;\"> in</span> <span style=\"background:#1c1600;\"> moving</span> <span style=\"background:grey;\"> to</span> <span style=\"background:#342800;\"> White</span> <span style=\"background:grey;\"> Hart</span> <span style=\"background:grey;\"> Lane</span> <span style=\"background:#5e4900;\"> as</span> <span style=\"background:grey;\"> he</span> <span style=\"background:#0c0900;\"> wishes</span> <span style=\"background:grey;\"> to</span> <span style=\"background:#171200;\"> play</span> <span style=\"background:#211a00;\"> Champions</span> <span style=\"background:#281f00;\"> League</span> <span style=\"background:grey;\"> football</span> <span style=\"background:#100c00;\">.</span> <span style=\"background:#251d00;\"> Arsenal</span> <span style=\"background:#241c00;\">,</span> <span style=\"background:#030200;\"> for</span> <span style=\"background:#3f3100;\"> their</span> <span style=\"background:grey;\"> part</span> <span style=\"background:#161100;\">,</span> <span style=\"background:#0d0a00;\"> were</span> <span style=\"background:grey;\"> unable</span> <span style=\"background:grey;\"> to</span> <span style=\"background:#483900;\"> table</span> <span style=\"background:grey;\"> an</span> <span style=\"background:#030200;\"> acceptable</span> <span style=\"background:grey;\"> bid</span> <span style=\"background:#000000;\"> in</span> <span style=\"background:grey;\"> time</span> <span style=\"background:grey;\"> while</span> <span style=\"background:grey;\"> talks</span> <span style=\"background:#050400;\"> over</span> <span style=\"background:#705700;\"> C</span> <span style=\"background:#281f00;\">esc</span> <span style=\"background:#382c00;\"> F</span> <span style=\"background:#f7c100;\">á</span> <span style=\"background:#302600;\">b</span> <span style=\"background:grey;\">reg</span> <span style=\"background:grey;\">as</span> <span style=\"background:grey;\">'s</span> <span style=\"background:grey;\"> prospective</span> <span style=\"background:#2b2200;\"> move</span> <span style=\"background:grey;\"> to</span> <span style=\"background:#100c00;\"> Barcelona</span> <span style=\"background:grey;\"> dragged</span> <span style=\"background:grey;\"> on</span> <span style=\"background:#231b00;\">.</span> <span style=\"background:#120e00;\"> Ars</span> <span style=\"background:#3d3000;\">è</span> <span style=\"background:#3c2f00;\">ne</span> <span style=\"background:#030200;\"> Wenger</span> <span style=\"background:#0a0800;\">'s</span> <span style=\"background:#312600;\"> team</span> <span style=\"background:grey;\"> still</span> <span style=\"background:#151000;\"> technically</span></p>"
      ],
      "text/plain": [
       "<IPython.core.display.HTML object>"
      ]
     },
     "metadata": {},
     "output_type": "display_data"
    },
    {
     "data": {
      "text/html": [
       "<p style='background: grey;'><span style=\"background:grey;\"> charges</span> <span style=\"background:#201900;\">.</span> <span style=\"background:grey;\"> Other</span> <span style=\"background:#050400;\"> charges</span> <span style=\"background:grey;\"> including</span> <span style=\"background:grey;\"> Agg</span> <span style=\"background:#3c2f00;\">rav</span> <span style=\"background:grey;\">ated</span> <span style=\"background:grey;\"> Assault</span> <span style=\"background:grey;\"> with</span> <span style=\"background:grey;\"> a</span> <span style=\"background:grey;\"> Motor</span> <span style=\"background:grey;\"> Vehicle</span> <span style=\"background:grey;\"> could</span> <span style=\"background:grey;\"> also</span> <span style=\"background:grey;\"> be</span> <span style=\"background:grey;\"> filed</span> <span style=\"background:#110d00;\"> for</span> <span style=\"background:#564300;\"> the</span> <span style=\"background:grey;\"> injuries</span> <span style=\"background:grey;\"> sustained</span> <span style=\"background:grey;\"> by</span> <span style=\"background:grey;\"> A</span> <span style=\"background:grey;\">vil</span> <span style=\"background:grey;\">a</span> <span style=\"background:#020100;\">.</span> <span style=\"background:grey;\"> A</span> <span style=\"background:#070600;\"> DUI</span> <span style=\"background:grey;\"> charge</span> <span style=\"background:#020200;\"> has</span> <span style=\"background:grey;\"> also</span> <span style=\"background:#181300;\"> not</span> <span style=\"background:grey;\"> yet</span> <span style=\"background:#151100;\"> been</span> <span style=\"background:grey;\"> filed</span> <span style=\"background:#050400;\">.</span> <span style=\"background:grey;\">\n",
       "</span> <span style=\"background:grey;\">\n",
       "</span> <span style=\"background:#1a1500;\">Bob</span> <span style=\"background:grey;\"> Price</span> <span style=\"background:grey;\"> serves</span> <span style=\"background:grey;\"> as</span> <span style=\"background:grey;\"> associate</span> <span style=\"background:grey;\"> editor</span> <span style=\"background:grey;\"> and</span> <span style=\"background:grey;\"> senior</span> <span style=\"background:grey;\"> political</span> <span style=\"background:grey;\"> news</span> <span style=\"background:grey;\"> contributor</span> <span style=\"background:#3a2d00;\"> for</span> <span style=\"background:grey;\"> Breitbart</span> <span style=\"background:grey;\"> Texas</span> <span style=\"background:#2b2200;\"> and</span> <span style=\"background:#251d00;\"> is</span> <span style=\"background:#e9b700;\"> a</span> <span style=\"background:grey;\"> member</span> <span style=\"background:grey;\"> of</span> <span style=\"background:#9e7c00;\"> the</span> <span style=\"background:grey;\"> original</span> <span style=\"background:grey;\"> Breitbart</span> <span style=\"background:grey;\"> Texas</span> <span style=\"background:grey;\"> team</span> <span style=\"background:#6d5600;\">.</span> <span style=\"background:#221b00;\"> Follow</span></p>"
      ],
      "text/plain": [
       "<IPython.core.display.HTML object>"
      ]
     },
     "metadata": {},
     "output_type": "display_data"
    },
    {
     "data": {
      "text/html": [
       "<p style='color: red;'>Feature exp., #25: numerical values and related terms, often associated with percentages and measurements.</p>"
      ],
      "text/plain": [
       "<IPython.core.display.HTML object>"
      ]
     },
     "metadata": {},
     "output_type": "display_data"
    },
    {
     "data": {
      "text/html": [
       "<p style='background: grey;'><span style=\"background:grey;\"> reported</span> <span style=\"background:#0e0b00;\"> margins</span> <span style=\"background:grey;\"> of</span> <span style=\"background:grey;\"> sampling</span> <span style=\"background:#1f1800;\"> error</span> <span style=\"background:grey;\"> include</span> <span style=\"background:grey;\"> computed</span> <span style=\"background:#372b00;\"> design</span> <span style=\"background:grey;\"> effects</span> <span style=\"background:grey;\"> for</span> <span style=\"background:grey;\"> weight</span> <span style=\"background:grey;\">ing</span> <span style=\"background:grey;\">.</span> <span style=\"background:grey;\">\n",
       "</span> <span style=\"background:grey;\">\n",
       "</span> <span style=\"background:grey;\">Each</span> <span style=\"background:grey;\"> sample</span> <span style=\"background:grey;\"> of</span> <span style=\"background:#050400;\"> national</span> <span style=\"background:grey;\"> adults</span> <span style=\"background:#d1a400;\"> includes</span> <span style=\"background:#302600;\"> a</span> <span style=\"background:#ffc800;\"> minimum</span> <span style=\"background:#654f00;\"> quota</span> <span style=\"background:#927300;\"> of</span> <span style=\"background:grey;\"> 60</span> <span style=\"background:#ffc800;\">%</span> <span style=\"background:grey;\"> cellphone</span> <span style=\"background:#060500;\"> respondents</span> <span style=\"background:#ffc800;\"> and</span> <span style=\"background:grey;\"> 40</span> <span style=\"background:#ffc800;\">%</span> <span style=\"background:#f8c300;\"> land</span> <span style=\"background:grey;\">line</span> <span style=\"background:grey;\"> respondents</span> <span style=\"background:#ffc800;\">,</span> <span style=\"background:grey;\"> with</span> <span style=\"background:#201900;\"> additional</span> <span style=\"background:grey;\"> minimum</span> <span style=\"background:#392c00;\"> quotas</span> <span style=\"background:#705800;\"> by</span> <span style=\"background:#ffc800;\"> time</span> <span style=\"background:#a17e00;\"> zone</span> <span style=\"background:grey;\"> within</span> <span style=\"background:#3a2d00;\"> region</span> <span style=\"background:#090700;\">.</span> <span style=\"background:#ffc800;\"> Land</span> <span style=\"background:grey;\">line</span> <span style=\"background:#ffc800;\"> and</span> <span style=\"background:#443500;\"> cellular</span> <span style=\"background:grey;\"> telephone</span> <span style=\"background:grey;\"> numbers</span> <span style=\"background:grey;\"> are</span> <span style=\"background:grey;\"> selected</span> <span style=\"background:grey;\"> using</span> <span style=\"background:grey;\"> random</span> <span style=\"background:#9f7d00;\">-</span> <span style=\"background:grey;\">digit</span> <span style=\"background:#372b00;\">-</span> <span style=\"background:#120e00;\">dial</span> <span style=\"background:grey;\"> methods</span> <span style=\"background:grey;\">.</span> <span style=\"background:#141000;\">\n",
       "</span> <span style=\"background:#030200;\">\n",
       "</span></p>"
      ],
      "text/plain": [
       "<IPython.core.display.HTML object>"
      ]
     },
     "metadata": {},
     "output_type": "display_data"
    },
    {
     "data": {
      "text/html": [
       "<p style='background: grey;'><span style=\"background:grey;\">,</span> <span style=\"background:grey;\"> said</span> <span style=\"background:grey;\">.</span> <span style=\"background:grey;\">\n",
       "</span> <span style=\"background:grey;\">\n",
       "</span> <span style=\"background:grey;\">Follow</span> <span style=\"background:grey;\"> Anders</span> <span style=\"background:grey;\"> on</span> <span style=\"background:grey;\"> Twitter</span> <span style=\"background:grey;\">\n",
       "</span> <span style=\"background:grey;\">\n",
       "</span> <span style=\"background:grey;\">Send</span> <span style=\"background:grey;\"> Tips</span> <span style=\"background:grey;\">:</span> <span style=\"background:grey;\"> and</span> <span style=\"background:grey;\">ers</span> <span style=\"background:#0c0a00;\">@</span> <span style=\"background:#554300;\">daily</span> <span style=\"background:#423400;\">call</span> <span style=\"background:#5f4a00;\">ern</span> <span style=\"background:#d8aa00;\">ews</span> <span style=\"background:grey;\">foundation</span> <span style=\"background:#372b00;\">.</span> <span style=\"background:grey;\">org</span> <span style=\"background:grey;\">\n",
       "</span> <span style=\"background:grey;\">\n",
       "</span> <span style=\"background:grey;\">Content</span> <span style=\"background:#392c00;\"> created</span> <span style=\"background:grey;\"> by</span> <span style=\"background:#191400;\"> The</span> <span style=\"background:grey;\"> Daily</span> <span style=\"background:#644e00;\"> Caller</span> <span style=\"background:#493900;\"> News</span> <span style=\"background:grey;\"> Foundation</span> <span style=\"background:grey;\"> is</span> <span style=\"background:grey;\"> available</span> <span style=\"background:#ffc800;\"> without</span> <span style=\"background:grey;\"> charge</span> <span style=\"background:grey;\"> to</span> <span style=\"background:#ffc800;\"> any</span> <span style=\"background:#ffc800;\"> eligible</span> <span style=\"background:#ffc800;\"> news</span> <span style=\"background:grey;\"> publisher</span> <span style=\"background:#f2be00;\"> that</span> <span style=\"background:#ffc800;\"> can</span> <span style=\"background:#473800;\"> provide</span> <span style=\"background:#6a5300;\"> a</span> <span style=\"background:#1b1500;\"> large</span> <span style=\"background:grey;\"> audience</span> <span style=\"background:grey;\">.</span> <span style=\"background:grey;\"> For</span> <span style=\"background:#917100;\"> licensing</span> <span style=\"background:#ffc800;\"> opportunities</span> <span style=\"background:#b78f00;\"> of</span> <span style=\"background:#f9c300;\"> our</span> <span style=\"background:#665000;\"> original</span> <span style=\"background:grey;\"> content</span> <span style=\"background:grey;\">,</span> <span style=\"background:#312600;\"> please</span> <span style=\"background:grey;\"> contact</span> <span style=\"background:grey;\"> licensing</span> <span style=\"background:#2b2200;\">@</span> <span style=\"background:grey;\">daily</span> <span style=\"background:#080600;\">call</span></p>"
      ],
      "text/plain": [
       "<IPython.core.display.HTML object>"
      ]
     },
     "metadata": {},
     "output_type": "display_data"
    },
    {
     "data": {
      "text/html": [
       "<p style='background: grey;'><span style=\"background:grey;\"> £</span> <span style=\"background:grey;\">2</span> <span style=\"background:grey;\">bn</span> <span style=\"background:grey;\">.</span> <span style=\"background:grey;\">\n",
       "</span> <span style=\"background:grey;\">\n",
       "</span> <span style=\"background:grey;\">•</span> <span style=\"background:grey;\"> To</span> <span style=\"background:grey;\"> contact</span> <span style=\"background:#292000;\"> the</span> <span style=\"background:grey;\"> Media</span> <span style=\"background:grey;\">Guard</span> <span style=\"background:#4b3b00;\">ian</span> <span style=\"background:#392c00;\"> news</span> <span style=\"background:#090700;\"> desk</span> <span style=\"background:grey;\"> email</span> <span style=\"background:grey;\"> media</span> <span style=\"background:#ffc800;\">@</span> <span style=\"background:#ffc800;\">the</span> <span style=\"background:grey;\">guard</span> <span style=\"background:grey;\">ian</span> <span style=\"background:grey;\">.</span> <span style=\"background:grey;\">com</span> <span style=\"background:#1e1800;\"> or</span> <span style=\"background:grey;\"> phone</span> <span style=\"background:grey;\"> 0</span> <span style=\"background:#060400;\">20</span> <span style=\"background:grey;\"> 3</span> <span style=\"background:grey;\">353</span> <span style=\"background:grey;\"> 38</span> <span style=\"background:#352900;\">57</span> <span style=\"background:grey;\">.</span> <span style=\"background:grey;\"> For</span> <span style=\"background:#826600;\"> all</span> <span style=\"background:grey;\"> other</span> <span style=\"background:#735a00;\"> inquiries</span> <span style=\"background:#ffc800;\"> please</span> <span style=\"background:#ffc800;\"> call</span> <span style=\"background:#634e00;\"> the</span> <span style=\"background:#302600;\"> main</span> <span style=\"background:grey;\"> Guardian</span> <span style=\"background:#130f00;\"> switch</span> <span style=\"background:grey;\">board</span> <span style=\"background:#6f5700;\"> on</span> <span style=\"background:grey;\"> 0</span> <span style=\"background:#a88400;\">20</span> <span style=\"background:#2b2100;\"> 3</span> <span style=\"background:grey;\">353</span> <span style=\"background:#8a6c00;\"> 2000</span> <span style=\"background:#050400;\">.</span> <span style=\"background:#584500;\"> If</span> <span style=\"background:#7a6000;\"> you</span> <span style=\"background:#604b00;\"> are</span> <span style=\"background:#bb9200;\"> writing</span> <span style=\"background:grey;\"> a</span> <span style=\"background:#cfa200;\"> comment</span> <span style=\"background:grey;\"> for</span> <span style=\"background:grey;\"> publication</span> <span style=\"background:grey;\">,</span> <span style=\"background:#ffc800;\"> please</span> <span style=\"background:#917200;\"> mark</span> <span style=\"background:#7f6400;\"> clearly</span> <span style=\"background:grey;\"> \"</span> <span style=\"background:grey;\">for</span></p>"
      ],
      "text/plain": [
       "<IPython.core.display.HTML object>"
      ]
     },
     "metadata": {},
     "output_type": "display_data"
    },
    {
     "data": {
      "text/html": [
       "<p style='background: grey;'><span style=\"background:grey;\">\n",
       "</span> <span style=\"background:grey;\">\n",
       "</span> <span style=\"background:grey;\">6</span> <span style=\"background:grey;\">.</span> <span style=\"background:grey;\">1</span> <span style=\"background:#191300;\"> .</span> <span style=\"background:#261e00;\"> .</span> <span style=\"background:#151000;\"> .</span> <span style=\"background:grey;\"> blocked</span> <span style=\"background:grey;\"> shots</span> <span style=\"background:grey;\"> averaged</span> <span style=\"background:grey;\"> by</span> <span style=\"background:grey;\"> the</span> <span style=\"background:grey;\"> Cavs</span> <span style=\"background:grey;\"> per</span> <span style=\"background:grey;\"> contest</span> <span style=\"background:grey;\">,</span> <span style=\"background:grey;\"> good</span> <span style=\"background:grey;\"> for</span> <span style=\"background:grey;\"> third</span> <span style=\"background:grey;\"> in</span> <span style=\"background:grey;\"> the</span> <span style=\"background:grey;\"> NBA</span> <span style=\"background:grey;\">.</span> <span style=\"background:grey;\">\n",
       "</span> <span style=\"background:grey;\">\n",
       "</span> <span style=\"background:grey;\">15</span> <span style=\"background:grey;\"> .</span> <span style=\"background:#120e00;\"> .</span> <span style=\"background:#221b00;\"> .</span> <span style=\"background:grey;\"> points</span> <span style=\"background:grey;\"> per</span> <span style=\"background:grey;\"> game</span> <span style=\"background:grey;\"> Ky</span> <span style=\"background:#312600;\">rie</span> <span style=\"background:grey;\"> Irving</span> <span style=\"background:grey;\"> is</span> <span style=\"background:grey;\"> averaging</span> <span style=\"background:grey;\">,</span> <span style=\"background:grey;\"> tops</span> <span style=\"background:grey;\"> among</span> <span style=\"background:grey;\"> NBA</span> <span style=\"background:grey;\"> rookies</span> <span style=\"background:grey;\">.</span> <span style=\"background:grey;\">\n",
       "</span> <span style=\"background:grey;\">\n",
       "</span> <span style=\"background:grey;\">10</span> <span style=\"background:grey;\">.</span> <span style=\"background:#251d00;\">1</span> <span style=\"background:grey;\"> .</span> <span style=\"background:#050400;\"> .</span> <span style=\"background:grey;\"> .</span> <span style=\"background:grey;\"> rebounds</span> <span style=\"background:#ffc800;\"> Anderson</span> <span style=\"background:#ffc800;\"> V</span> <span style=\"background:grey;\">are</span> <span style=\"background:#ffc800;\">j</span> <span style=\"background:grey;\">ao</span> <span style=\"background:grey;\"> is</span> <span style=\"background:grey;\"> averaging</span> <span style=\"background:grey;\"> this</span> <span style=\"background:grey;\"> season</span> <span style=\"background:grey;\">.</span> <span style=\"background:grey;\">\n",
       "</span></p>"
      ],
      "text/plain": [
       "<IPython.core.display.HTML object>"
      ]
     },
     "metadata": {},
     "output_type": "display_data"
    },
    {
     "data": {
      "text/html": [
       "<p style='background: grey;'><span style=\"background:grey;\"> modified</span> <span style=\"background:#ffc800;\"> version</span> <span style=\"background:#140f00;\"> of</span> <span style=\"background:#030300;\"> the</span> <span style=\"background:#060500;\"> Arab</span> <span style=\"background:grey;\"> peace</span> <span style=\"background:#000000;\"> plan</span> <span style=\"background:grey;\">.</span> <span style=\"background:#261e00;\"> The</span> <span style=\"background:grey;\"> changes</span> <span style=\"background:#3d3000;\"> are</span> <span style=\"background:grey;\"> meant</span> <span style=\"background:grey;\"> to</span> <span style=\"background:grey;\"> win</span> <span style=\"background:#1e1700;\"> Israeli</span> <span style=\"background:grey;\"> support</span> <span style=\"background:grey;\"> by</span> <span style=\"background:grey;\"> allowing</span> <span style=\"background:grey;\"> it</span> <span style=\"background:grey;\"> to</span> <span style=\"background:grey;\"> keep</span> <span style=\"background:grey;\"> parts</span> <span style=\"background:grey;\"> of</span> <span style=\"background:#a07d00;\"> the</span> <span style=\"background:grey;\"> West</span> <span style=\"background:grey;\"> Bank</span> <span style=\"background:#030200;\"> and</span> <span style=\"background:grey;\"> east</span> <span style=\"background:grey;\"> Jerusalem</span> <span style=\"background:grey;\"> as</span> <span style=\"background:grey;\"> part</span> <span style=\"background:grey;\"> of</span> <span style=\"background:#997800;\"> an</span> <span style=\"background:grey;\"> agreement</span> <span style=\"background:grey;\">.</span> <span style=\"background:grey;\">\n",
       "</span> <span style=\"background:grey;\">\n",
       "</span> <span style=\"background:grey;\">Though</span> <span style=\"background:grey;\"> Netanyahu</span> <span style=\"background:#2f2500;\">'s</span> <span style=\"background:grey;\"> office</span> <span style=\"background:grey;\"> has</span> <span style=\"background:grey;\"> remained</span> <span style=\"background:grey;\"> silent</span> <span style=\"background:grey;\"> on</span> <span style=\"background:#271f00;\"> the</span> <span style=\"background:#231b00;\"> modified</span> <span style=\"background:#5b4700;\"> Arab</span> <span style=\"background:grey;\"> proposal</span> <span style=\"background:grey;\">,</span> <span style=\"background:#2f2400;\"> his</span> <span style=\"background:grey;\"> chief</span> <span style=\"background:grey;\"> peace</span> <span style=\"background:#0d0a00;\"> negotiator</span> <span style=\"background:#3a2e00;\">,</span> <span style=\"background:grey;\"> Justice</span> <span style=\"background:#080600;\"> Minister</span> <span style=\"background:#443500;\"> T</span> <span style=\"background:grey;\">zip</span> <span style=\"background:#ffc800;\">i</span> <span style=\"background:#352900;\"> Liv</span> <span style=\"background:grey;\">ni</span> <span style=\"background:grey;\">,</span> <span style=\"background:grey;\"> has</span></p>"
      ],
      "text/plain": [
       "<IPython.core.display.HTML object>"
      ]
     },
     "metadata": {},
     "output_type": "display_data"
    },
    {
     "data": {
      "text/html": [
       "<p style='color: red;'>Feature exp., #26: the word 'after' possibly suggesting time or sequence of events.</p>"
      ],
      "text/plain": [
       "<IPython.core.display.HTML object>"
      ]
     },
     "metadata": {},
     "output_type": "display_data"
    },
    {
     "data": {
      "text/html": [
       "<p style='background: grey;'><span style=\"background:grey;\"> Santos</span> <span style=\"background:#171200;\"> Lag</span> <span style=\"background:grey;\">una</span> <span style=\"background:#ffc800;\"> after</span> <span style=\"background:#644e00;\"> all</span> <span style=\"background:#251d00;\"> (</span> <span style=\"background:#050400;\">so</span> <span style=\"background:#564300;\"> far</span> <span style=\"background:#624d00;\">)</span> <span style=\"background:#624d00;\"> and</span> <span style=\"background:#8a6c00;\"> there</span> <span style=\"background:#302600;\"> was</span> <span style=\"background:grey;\"> no</span> <span style=\"background:grey;\"> word</span> <span style=\"background:grey;\"> of</span> <span style=\"background:grey;\"> him</span> <span style=\"background:#ffc800;\"> after</span> <span style=\"background:#403200;\"> his</span> <span style=\"background:#0d0a00;\"> first</span> <span style=\"background:#3c2f00;\"> day</span> <span style=\"background:#392c00;\"> on</span> <span style=\"background:#7d6200;\"> his</span> <span style=\"background:#584500;\"> latest</span> <span style=\"background:grey;\"> trial</span> <span style=\"background:grey;\"> at</span> <span style=\"background:grey;\"> Ch</span> <span style=\"background:grey;\">ivas</span> <span style=\"background:grey;\"> de</span> <span style=\"background:#0f0c00;\"> Gu</span> <span style=\"background:grey;\">adal</span> <span style=\"background:grey;\">aj</span> <span style=\"background:grey;\">ara</span> <span style=\"background:grey;\"> last</span> <span style=\"background:grey;\"> month</span> <span style=\"background:#342900;\">.</span> <span style=\"background:grey;\">\n",
       "</span> <span style=\"background:grey;\">\n",
       "</span> <span style=\"background:#534100;\">On</span> <span style=\"background:grey;\"> Tuesday</span> <span style=\"background:grey;\">,</span> <span style=\"background:grey;\"> A</span> <span style=\"background:grey;\">vil</span> <span style=\"background:grey;\">a</span> <span style=\"background:grey;\"> himself</span> <span style=\"background:grey;\"> revealed</span> <span style=\"background:grey;\"> his</span> <span style=\"background:grey;\"> whereabouts</span> <span style=\"background:grey;\">,</span> <span style=\"background:grey;\"> as</span> <span style=\"background:grey;\"> he</span> <span style=\"background:grey;\"> posted</span> <span style=\"background:grey;\"> an</span> <span style=\"background:grey;\"> inst</span> <span style=\"background:#120e00;\">agram</span> <span style=\"background:grey;\"> where</span> <span style=\"background:grey;\"> he</span> <span style=\"background:grey;\"> was</span> <span style=\"background:#4d3c00;\"> j</span> <span style=\"background:grey;\">ogging</span> <span style=\"background:grey;\"> alongside</span> <span style=\"background:grey;\"> Brazilian</span> <span style=\"background:grey;\"> superstar</span> <span style=\"background:grey;\"> Ronald</span> <span style=\"background:#090700;\">inho</span></p>"
      ],
      "text/plain": [
       "<IPython.core.display.HTML object>"
      ]
     },
     "metadata": {},
     "output_type": "display_data"
    },
    {
     "data": {
      "text/html": [
       "<p style='background: grey;'><span style=\"background:#010100;\"> game</span> <span style=\"background:#403200;\"> for</span> <span style=\"background:grey;\"> Chelsea</span> <span style=\"background:#ffc800;\"> after</span> <span style=\"background:#423300;\"> seeing</span> <span style=\"background:grey;\"> red</span> <span style=\"background:grey;\"> against</span> <span style=\"background:grey;\"> Sunderland</span> <span style=\"background:grey;\"> on</span> <span style=\"background:#000000;\"> Saturday</span> <span style=\"background:#624c00;\">.</span> <span style=\"background:grey;\"> The</span> <span style=\"background:grey;\"> captain</span> <span style=\"background:#3e3000;\"> was</span> <span style=\"background:grey;\"> booked</span> <span style=\"background:grey;\"> twice</span> <span style=\"background:#312700;\"> in</span> <span style=\"background:grey;\"> the</span> <span style=\"background:grey;\"> second</span> <span style=\"background:grey;\"> half</span> <span style=\"background:#201900;\"> and</span> <span style=\"background:grey;\"> will</span> <span style=\"background:grey;\"> miss</span> <span style=\"background:grey;\"> the</span> <span style=\"background:grey;\"> last</span> <span style=\"background:grey;\"> two</span> <span style=\"background:grey;\"> games</span> <span style=\"background:grey;\"> against</span> <span style=\"background:grey;\"> Liverpool</span> <span style=\"background:grey;\"> and</span> <span style=\"background:grey;\"> champions</span> <span style=\"background:grey;\">,</span> <span style=\"background:grey;\"> Leicester</span> <span style=\"background:#554200;\">.</span> <span style=\"background:grey;\">\n",
       "</span> <span style=\"background:grey;\">\n",
       "</span> <span style=\"background:grey;\">Reports</span> <span style=\"background:grey;\"> have</span> <span style=\"background:#161100;\"> suggested</span> <span style=\"background:#514000;\"> that</span> <span style=\"background:grey;\"> Terry</span> <span style=\"background:grey;\"> has</span> <span style=\"background:grey;\"> finally</span> <span style=\"background:#806400;\"> accepted</span> <span style=\"background:grey;\"> the</span> <span style=\"background:#2b2100;\"> fact</span> <span style=\"background:grey;\"> he</span> <span style=\"background:grey;\"> will</span> <span style=\"background:grey;\"> be</span> <span style=\"background:grey;\"> leaving</span> <span style=\"background:grey;\"> the</span> <span style=\"background:grey;\"> club</span> <span style=\"background:#ffc800;\"> after</span> <span style=\"background:grey;\"> no</span> <span style=\"background:grey;\"> discussions</span> <span style=\"background:grey;\"> developed</span> <span style=\"background:grey;\"> between</span> <span style=\"background:grey;\"> himself</span> <span style=\"background:grey;\"> and</span> <span style=\"background:grey;\"> the</span> <span style=\"background:grey;\"> club</span> <span style=\"background:#977600;\">.</span> <span style=\"background:grey;\">\n",
       "</span> <span style=\"background:grey;\">\n",
       "</span></p>"
      ],
      "text/plain": [
       "<IPython.core.display.HTML object>"
      ]
     },
     "metadata": {},
     "output_type": "display_data"
    },
    {
     "data": {
      "text/html": [
       "<p style='background: grey;'><span style=\"background:grey;\">ups</span> <span style=\"background:#2d2300;\">:</span> <span style=\"background:grey;\"> Crist</span> <span style=\"background:grey;\">iano</span> <span style=\"background:#3f3200;\"> Fel</span> <span style=\"background:grey;\">icio</span> <span style=\"background:#080600;\"> returned</span> <span style=\"background:#ffc800;\"> after</span> <span style=\"background:#503e00;\"> missing</span> <span style=\"background:grey;\"> three</span> <span style=\"background:#050400;\"> games</span> <span style=\"background:#030200;\"> with</span> <span style=\"background:grey;\"> a</span> <span style=\"background:#302500;\"> lower</span> <span style=\"background:#4b3b00;\"> back</span> <span style=\"background:grey;\"> cont</span> <span style=\"background:grey;\">usion</span> <span style=\"background:#171200;\">.</span> <span style=\"background:#030200;\"> …</span> <span style=\"background:#3a2d00;\"> James</span> <span style=\"background:#2f2500;\"> said</span> <span style=\"background:grey;\"> he</span> <span style=\"background:grey;\"> talks</span> <span style=\"background:grey;\"> to</span> <span style=\"background:grey;\"> Dw</span> <span style=\"background:grey;\">y</span> <span style=\"background:grey;\">ane</span> <span style=\"background:#191300;\"> Wade</span> <span style=\"background:#2d2300;\"> \"</span> <span style=\"background:grey;\">three</span> <span style=\"background:grey;\"> to</span> <span style=\"background:grey;\"> four</span> <span style=\"background:#0e0b00;\"> times</span> <span style=\"background:grey;\"> a</span> <span style=\"background:#2e2400;\"> week</span> <span style=\"background:#0e0b00;\">\"</span> <span style=\"background:grey;\"> but</span> <span style=\"background:grey;\"> doesn</span> <span style=\"background:grey;\">'t</span> <span style=\"background:grey;\"> counsel</span> <span style=\"background:grey;\"> his</span> <span style=\"background:grey;\"> former</span> <span style=\"background:grey;\"> Heat</span> <span style=\"background:grey;\"> teammate</span> <span style=\"background:grey;\"> on</span> <span style=\"background:grey;\"> his</span> <span style=\"background:#261e00;\"> fractured</span> <span style=\"background:#1b1500;\"> right</span> <span style=\"background:grey;\"> elbow</span> <span style=\"background:grey;\">.</span> <span style=\"background:grey;\"> \"</span> <span style=\"background:grey;\">He</span> <span style=\"background:grey;\"> knows</span> <span style=\"background:grey;\"> what</span> <span style=\"background:grey;\"> he</span> <span style=\"background:grey;\">'s</span> <span style=\"background:grey;\"> doing</span> <span style=\"background:#0d0a00;\">,\"</span> <span style=\"background:grey;\"> James</span> <span style=\"background:grey;\"> said</span> <span style=\"background:grey;\">.</span> <span style=\"background:grey;\"> Wade</span> <span style=\"background:#987700;\"> did</span> <span style=\"background:grey;\"> some</span></p>"
      ],
      "text/plain": [
       "<IPython.core.display.HTML object>"
      ]
     },
     "metadata": {},
     "output_type": "display_data"
    },
    {
     "data": {
      "text/html": [
       "<p style='background: grey;'><span style=\"background:grey;\"> Bl</span> <span style=\"background:grey;\">ur</span> <span style=\"background:#231b00;\">ton</span> <span style=\"background:#3c2f00;\">,</span> <span style=\"background:grey;\"> Stoke</span> <span style=\"background:grey;\">-</span> <span style=\"background:grey;\">on</span> <span style=\"background:grey;\">-</span> <span style=\"background:#463600;\">T</span> <span style=\"background:grey;\">rent</span> <span style=\"background:#010100;\">,</span> <span style=\"background:#ffc800;\"> after</span> <span style=\"background:grey;\"> it</span> <span style=\"background:#322700;\"> was</span> <span style=\"background:#1b1500;\"> dropped</span> <span style=\"background:#362a00;\"> by</span> <span style=\"background:grey;\"> a</span> <span style=\"background:#181300;\"> customer</span> <span style=\"background:grey;\"> who</span> <span style=\"background:#050400;\"> withdrew</span> <span style=\"background:grey;\"> it</span> <span style=\"background:#503f00;\"> from</span> <span style=\"background:grey;\"> a</span> <span style=\"background:grey;\"> nearby</span> <span style=\"background:grey;\"> cash</span> <span style=\"background:grey;\"> machine</span> <span style=\"background:#5a4600;\">,</span> <span style=\"background:grey;\"> police</span> <span style=\"background:grey;\"> said</span> <span style=\"background:#171200;\">.</span> <span style=\"background:grey;\">\n",
       "</span> <span style=\"background:grey;\">\n",
       "</span> <span style=\"background:grey;\">Ba</span> <span style=\"background:grey;\">iley</span> <span style=\"background:grey;\"> pleaded</span> <span style=\"background:#4b3b00;\"> guilty</span> <span style=\"background:#392c00;\"> at</span> <span style=\"background:grey;\"> North</span> <span style=\"background:#040300;\"> Stafford</span> <span style=\"background:grey;\">shire</span> <span style=\"background:grey;\"> Justice</span> <span style=\"background:grey;\"> Centre</span> <span style=\"background:#ffc800;\"> after</span> <span style=\"background:grey;\"> seeing</span> <span style=\"background:grey;\"> CCTV</span> <span style=\"background:grey;\"> evidence</span> <span style=\"background:#544200;\">.</span> <span style=\"background:grey;\">\n",
       "</span> <span style=\"background:grey;\">\n",
       "</span> <span style=\"background:#3b2e00;\">Her</span> <span style=\"background:grey;\"> defence</span> <span style=\"background:grey;\"> team</span> <span style=\"background:grey;\"> reportedly</span> <span style=\"background:#332800;\"> argued</span> <span style=\"background:grey;\"> the</span> <span style=\"background:grey;\"> case</span> <span style=\"background:grey;\"> should</span> <span style=\"background:grey;\"> have</span> <span style=\"background:grey;\"> been</span> <span style=\"background:#554200;\"> dealt</span> <span style=\"background:#1f1800;\"> with</span> <span style=\"background:grey;\"> through</span> <span style=\"background:grey;\"> a</span> <span style=\"background:grey;\"> police</span></p>"
      ],
      "text/plain": [
       "<IPython.core.display.HTML object>"
      ]
     },
     "metadata": {},
     "output_type": "display_data"
    },
    {
     "data": {
      "text/html": [
       "<p style='background: grey;'><span style=\"background:grey;\"> left</span> <span style=\"background:#ffc800;\"> after</span> <span style=\"background:#7f6400;\"> an</span> <span style=\"background:#624d00;\"> hour</span> <span style=\"background:#ffc800;\"> without</span> <span style=\"background:grey;\"> voting</span> <span style=\"background:grey;\">.\")</span> <span style=\"background:grey;\">\n",
       "</span> <span style=\"background:grey;\">\n",
       "</span> <span style=\"background:#241c00;\">•</span> <span style=\"background:#1e1800;\"> Although</span> <span style=\"background:grey;\"> not</span> <span style=\"background:grey;\"> required</span> <span style=\"background:grey;\">,</span> <span style=\"background:grey;\"> it</span> <span style=\"background:grey;\"> would</span> <span style=\"background:grey;\"> be</span> <span style=\"background:grey;\"> helpful</span> <span style=\"background:grey;\"> if</span> <span style=\"background:grey;\"> you</span> <span style=\"background:grey;\"> provide</span> <span style=\"background:grey;\"> your</span> <span style=\"background:grey;\"> name</span> <span style=\"background:grey;\"> and</span> <span style=\"background:grey;\"> some</span> <span style=\"background:grey;\"> way</span> <span style=\"background:grey;\"> to</span> <span style=\"background:#0e0b00;\"> contact</span> <span style=\"background:grey;\"> you</span> <span style=\"background:grey;\"> to</span> <span style=\"background:grey;\"> obtain</span> <span style=\"background:grey;\"> more</span> <span style=\"background:grey;\"> details</span> <span style=\"background:grey;\"> if</span> <span style=\"background:grey;\"> we</span> <span style=\"background:#433500;\"> need</span> <span style=\"background:grey;\"> them</span> <span style=\"background:grey;\">,</span> <span style=\"background:grey;\"> particularly</span> <span style=\"background:#2c2200;\"> if</span> <span style=\"background:grey;\"> your</span> <span style=\"background:grey;\"> issue</span> <span style=\"background:grey;\"> involved</span> <span style=\"background:grey;\"> voter</span> <span style=\"background:grey;\"> registration</span> <span style=\"background:grey;\"> problems</span> <span style=\"background:grey;\"> or</span> <span style=\"background:grey;\"> someone</span> <span style=\"background:grey;\"> at</span> <span style=\"background:grey;\"> the</span> <span style=\"background:grey;\"> polls</span> <span style=\"background:grey;\"> challenging</span> <span style=\"background:grey;\"> your</span> <span style=\"background:grey;\"> eligibility</span> <span style=\"background:grey;\"> to</span> <span style=\"background:grey;\"> vote</span> <span style=\"background:#0a0800;\">.</span> <span style=\"background:grey;\"> If</span> <span style=\"background:grey;\"> you</span> <span style=\"background:#060500;\"> prefer</span> <span style=\"background:grey;\"> not</span> <span style=\"background:grey;\"> to</span> <span style=\"background:grey;\"> provide</span> <span style=\"background:grey;\"> your</span></p>"
      ],
      "text/plain": [
       "<IPython.core.display.HTML object>"
      ]
     },
     "metadata": {},
     "output_type": "display_data"
    },
    {
     "data": {
      "text/html": [
       "<p style='color: red;'>Feature exp., #27: words and phrases related to actions or states suggesting change or transformation.</p>"
      ],
      "text/plain": [
       "<IPython.core.display.HTML object>"
      ]
     },
     "metadata": {},
     "output_type": "display_data"
    },
    {
     "data": {
      "text/html": [
       "<p style='background: grey;'><span style=\"background:grey;\"> their</span> <span style=\"background:grey;\"> arguments</span> <span style=\"background:grey;\">,</span> <span style=\"background:grey;\"> it</span> <span style=\"background:grey;\">'s</span> <span style=\"background:grey;\"> one</span> <span style=\"background:grey;\"> thing</span> <span style=\"background:grey;\"> to</span> <span style=\"background:#171200;\"> point</span> <span style=\"background:grey;\"> out</span> <span style=\"background:grey;\"> a</span> <span style=\"background:grey;\"> flaw</span> <span style=\"background:grey;\"> and</span> <span style=\"background:grey;\"> another</span> <span style=\"background:grey;\"> to</span> <span style=\"background:#241c00;\"> provide</span> <span style=\"background:grey;\"> a</span> <span style=\"background:grey;\"> count</span> <span style=\"background:#ffc800;\">ere</span> <span style=\"background:grey;\">x</span> <span style=\"background:grey;\">ample</span> <span style=\"background:grey;\">.</span> <span style=\"background:grey;\"> \"</span> <span style=\"background:grey;\">Mill</span> <span style=\"background:#060400;\">ions</span> <span style=\"background:grey;\"> long</span> <span style=\"background:#1e1800;\"> for</span> <span style=\"background:grey;\"> immortality</span> <span style=\"background:grey;\"> who</span> <span style=\"background:grey;\"> do</span> <span style=\"background:#161100;\"> not</span> <span style=\"background:grey;\"> know</span> <span style=\"background:grey;\"> what</span> <span style=\"background:grey;\"> to</span> <span style=\"background:grey;\"> do</span> <span style=\"background:grey;\"> with</span> <span style=\"background:grey;\"> themselves</span> <span style=\"background:grey;\"> on</span> <span style=\"background:grey;\"> a</span> <span style=\"background:grey;\"> rainy</span> <span style=\"background:grey;\"> Sunday</span> <span style=\"background:#040300;\"> afternoon</span> <span style=\"background:grey;\">,\"</span> <span style=\"background:grey;\"> said</span> <span style=\"background:grey;\"> Susan</span> <span style=\"background:grey;\"> Er</span> <span style=\"background:grey;\">tz</span> <span style=\"background:#1b1500;\">,</span> <span style=\"background:grey;\"> and</span> <span style=\"background:grey;\"> that</span> <span style=\"background:grey;\"> argument</span> <span style=\"background:#3c2f00;\"> will</span> <span style=\"background:grey;\"> sound</span> <span style=\"background:grey;\"> plausible</span> <span style=\"background:grey;\"> for</span> <span style=\"background:grey;\"> as</span> <span style=\"background:grey;\"> long</span> <span style=\"background:grey;\"> as</span> <span style=\"background:grey;\"> you</span> <span style=\"background:#3c2f00;\"> can</span> <span style=\"background:#392c00;\">'t</span> <span style=\"background:grey;\"> imagine</span> <span style=\"background:grey;\"> what</span> <span style=\"background:#0d0a00;\"> to</span></p>"
      ],
      "text/plain": [
       "<IPython.core.display.HTML object>"
      ]
     },
     "metadata": {},
     "output_type": "display_data"
    },
    {
     "data": {
      "text/html": [
       "<p style='background: grey;'><span style=\"background:grey;\"> a</span> <span style=\"background:#171200;\"> difficult</span> <span style=\"background:grey;\"> stretch</span> <span style=\"background:grey;\"> that</span> <span style=\"background:grey;\"> had</span> <span style=\"background:grey;\"> seen</span> <span style=\"background:grey;\"> them</span> <span style=\"background:#110d00;\"> lose</span> <span style=\"background:grey;\"> a</span> <span style=\"background:grey;\"> controversial</span> <span style=\"background:grey;\"> league</span> <span style=\"background:grey;\"> game</span> <span style=\"background:#2b2200;\"> at</span> <span style=\"background:grey;\"> home</span> <span style=\"background:grey;\"> to</span> <span style=\"background:grey;\"> D</span> <span style=\"background:grey;\">.</span> <span style=\"background:grey;\">C</span> <span style=\"background:grey;\">.</span> <span style=\"background:grey;\"> United</span> <span style=\"background:grey;\"> before</span> <span style=\"background:grey;\"> going</span> <span style=\"background:grey;\"> out</span> <span style=\"background:#050400;\"> to</span> <span style=\"background:#927300;\"> the</span> <span style=\"background:#161100;\"> Montreal</span> <span style=\"background:grey;\"> Impact</span> <span style=\"background:#9b7a00;\"> at</span> <span style=\"background:grey;\"> mid</span> <span style=\"background:grey;\">week</span> <span style=\"background:#2c2300;\"> in</span> <span style=\"background:#171200;\"> the</span> <span style=\"background:grey;\"> semifinals</span> <span style=\"background:#050400;\"> of</span> <span style=\"background:#1c1600;\"> the</span> <span style=\"background:grey;\"> Canadian</span> <span style=\"background:#453600;\"> Championship</span> <span style=\"background:grey;\">.</span> <span style=\"background:grey;\">\n",
       "</span> <span style=\"background:grey;\">\n",
       "</span> <span style=\"background:grey;\">White</span> <span style=\"background:grey;\">caps</span> <span style=\"background:#6c5400;\"> coach</span> <span style=\"background:#ffc800;\"> Carl</span> <span style=\"background:#483900;\"> Robinson</span> <span style=\"background:#413300;\"> had</span> <span style=\"background:#4c3b00;\"> wanted</span> <span style=\"background:grey;\"> a</span> <span style=\"background:grey;\"> response</span> <span style=\"background:grey;\"> from</span> <span style=\"background:grey;\"> his</span> <span style=\"background:grey;\"> side</span> <span style=\"background:grey;\">,</span> <span style=\"background:grey;\"> and</span> <span style=\"background:#161100;\"> he</span> <span style=\"background:#211a00;\"> got</span> <span style=\"background:#020200;\"> it</span> <span style=\"background:grey;\">.</span> <span style=\"background:#7d6200;\"> In</span> <span style=\"background:grey;\"> years</span> <span style=\"background:grey;\"> past</span> <span style=\"background:#3e3100;\"> that</span> <span style=\"background:#151000;\"> might</span> <span style=\"background:#8e6f00;\"> not</span></p>"
      ],
      "text/plain": [
       "<IPython.core.display.HTML object>"
      ]
     },
     "metadata": {},
     "output_type": "display_data"
    },
    {
     "data": {
      "text/html": [
       "<p style='background: grey;'><span style=\"background:grey;\"> Kansas</span> <span style=\"background:grey;\"> City</span> <span style=\"background:grey;\">.</span> <span style=\"background:grey;\"> Lauren</span> <span style=\"background:#0a0700;\"> has</span> <span style=\"background:grey;\"> a</span> <span style=\"background:grey;\"> genetic</span> <span style=\"background:#8a6c00;\"> disorder</span> <span style=\"background:#534100;\">.</span> <span style=\"background:#493900;\"> She</span> <span style=\"background:grey;\"> has</span> <span style=\"background:grey;\"> heart</span> <span style=\"background:grey;\"> problems</span> <span style=\"background:#513f00;\">,</span> <span style=\"background:grey;\"> seizures</span> <span style=\"background:#382c00;\">,</span> <span style=\"background:grey;\"> kidney</span> <span style=\"background:#040300;\"> ref</span> <span style=\"background:grey;\">lux</span> <span style=\"background:#4f3e00;\"> among</span> <span style=\"background:grey;\"> other</span> <span style=\"background:#110d00;\"> things</span> <span style=\"background:#352900;\">.</span> <span style=\"background:grey;\">\n",
       "</span> <span style=\"background:grey;\">\n",
       "</span> <span style=\"background:grey;\">Sch</span> <span style=\"background:#110d00;\">ulz</span> <span style=\"background:grey;\"> works</span> <span style=\"background:#0e0b00;\"> part</span> <span style=\"background:grey;\">-</span> <span style=\"background:grey;\">time</span> <span style=\"background:grey;\"> as</span> <span style=\"background:grey;\"> an</span> <span style=\"background:grey;\"> elderly</span> <span style=\"background:grey;\"> care</span> <span style=\"background:grey;\">taker</span> <span style=\"background:#3a2e00;\">,</span> <span style=\"background:grey;\"> but</span> <span style=\"background:#2f2400;\"> saw</span> <span style=\"background:grey;\"> her</span> <span style=\"background:grey;\"> finances</span> <span style=\"background:#7c6100;\"> spiral</span> <span style=\"background:grey;\"> out</span> <span style=\"background:grey;\"> of</span> <span style=\"background:#302600;\"> control</span> <span style=\"background:#403200;\"> about</span> <span style=\"background:#453600;\"> six</span> <span style=\"background:#2a2100;\"> months</span> <span style=\"background:#463700;\"> ago</span> <span style=\"background:#3d2f00;\"> when</span> <span style=\"background:#463700;\"> she</span> <span style=\"background:#382c00;\"> had</span> <span style=\"background:#030300;\"> to</span> <span style=\"background:grey;\"> have</span> <span style=\"background:grey;\"> a</span> <span style=\"background:grey;\"> double</span> <span style=\"background:grey;\"> mast</span> <span style=\"background:grey;\">ectomy</span> <span style=\"background:#2a2100;\"> and</span> <span style=\"background:grey;\"> a</span> <span style=\"background:grey;\"> hy</span> <span style=\"background:grey;\">st</span> <span style=\"background:#ffc800;\">ere</span> <span style=\"background:grey;\">ct</span></p>"
      ],
      "text/plain": [
       "<IPython.core.display.HTML object>"
      ]
     },
     "metadata": {},
     "output_type": "display_data"
    },
    {
     "data": {
      "text/html": [
       "<p style='background: grey;'><span style=\"background:grey;\"> statement</span> <span style=\"background:grey;\"> about</span> <span style=\"background:grey;\"> documentary</span> <span style=\"background:grey;\"> and</span> <span style=\"background:#261e00;\"> the</span> <span style=\"background:grey;\"> uses</span> <span style=\"background:grey;\"> of</span> <span style=\"background:#0b0900;\"> the</span> <span style=\"background:#100c00;\"> suffering</span> <span style=\"background:grey;\"> of</span> <span style=\"background:grey;\"> others</span> <span style=\"background:grey;\">.</span> <span style=\"background:grey;\">\n",
       "</span> <span style=\"background:grey;\">\n",
       "</span> <span style=\"background:grey;\">For</span> <span style=\"background:grey;\"> the</span> <span style=\"background:#100d00;\"> most</span> <span style=\"background:grey;\"> part</span> <span style=\"background:grey;\">,</span> <span style=\"background:#000000;\"> though</span> <span style=\"background:grey;\">,</span> <span style=\"background:grey;\"> Ms</span> <span style=\"background:grey;\">.</span> <span style=\"background:#0c0900;\"> Berg</span> <span style=\"background:grey;\"> gets</span> <span style=\"background:grey;\"> it</span> <span style=\"background:grey;\"> right</span> <span style=\"background:grey;\">,</span> <span style=\"background:grey;\"> burying</span> <span style=\"background:grey;\"> Mr</span> <span style=\"background:grey;\">.</span> <span style=\"background:grey;\"> Jeff</span> <span style=\"background:grey;\">s</span> <span style=\"background:grey;\"> with</span> <span style=\"background:grey;\"> persuasive</span> <span style=\"background:grey;\"> witness</span> <span style=\"background:grey;\"> testimony</span> <span style=\"background:#0b0900;\"> and</span> <span style=\"background:grey;\"> documentation</span> <span style=\"background:grey;\">.</span> <span style=\"background:grey;\"> Along</span> <span style=\"background:#090700;\"> the</span> <span style=\"background:grey;\"> way</span> <span style=\"background:grey;\">,</span> <span style=\"background:#614c00;\"> she</span> <span style=\"background:grey;\"> gestures</span> <span style=\"background:#241c00;\"> at</span> <span style=\"background:grey;\"> larger</span> <span style=\"background:#362b00;\">,</span> <span style=\"background:#1d1600;\"> und</span> <span style=\"background:#ffc800;\">ere</span> <span style=\"background:grey;\">x</span> <span style=\"background:grey;\">pl</span> <span style=\"background:grey;\">ored</span> <span style=\"background:grey;\"> issues</span> <span style=\"background:grey;\">,</span> <span style=\"background:#5b4700;\"> including</span> <span style=\"background:#8b6d00;\"> the</span> <span style=\"background:#271e00;\"> rise</span> <span style=\"background:grey;\"> of</span> <span style=\"background:grey;\"> homegrown</span> <span style=\"background:grey;\"> religious</span> <span style=\"background:grey;\"> fundamental</span> <span style=\"background:grey;\">ism</span></p>"
      ],
      "text/plain": [
       "<IPython.core.display.HTML object>"
      ]
     },
     "metadata": {},
     "output_type": "display_data"
    },
    {
     "data": {
      "text/html": [
       "<p style='background: grey;'><span style=\"background:grey;\"> President</span> <span style=\"background:grey;\"> Trump</span> <span style=\"background:grey;\"> has</span> <span style=\"background:#261d00;\"> not</span> <span style=\"background:grey;\"> decided</span> <span style=\"background:grey;\"> whether</span> <span style=\"background:grey;\"> to</span> <span style=\"background:grey;\"> recognize</span> <span style=\"background:grey;\"> Jerusalem</span> <span style=\"background:#715800;\"> as</span> <span style=\"background:grey;\"> Israel</span> <span style=\"background:#ffc800;\">'s</span> <span style=\"background:#ecb900;\"> official</span> <span style=\"background:grey;\"> capital</span> <span style=\"background:grey;\">.</span> <span style=\"background:grey;\">\n",
       "</span> <span style=\"background:grey;\">\n",
       "</span> <span style=\"background:grey;\">Speaking</span> <span style=\"background:grey;\"> at</span> <span style=\"background:grey;\"> the</span> <span style=\"background:grey;\"> Saban</span> <span style=\"background:grey;\"> Forum</span> <span style=\"background:grey;\"> in</span> <span style=\"background:grey;\"> Washington</span> <span style=\"background:grey;\">,</span> <span style=\"background:grey;\"> D</span> <span style=\"background:grey;\">.</span> <span style=\"background:grey;\">C</span> <span style=\"background:grey;\">.,</span> <span style=\"background:grey;\"> Kushner</span> <span style=\"background:grey;\"> said</span> <span style=\"background:#050400;\"> Trump</span> <span style=\"background:#654f00;\"> is</span> <span style=\"background:#584500;\"> still</span> <span style=\"background:#6b5400;\"> weighing</span> <span style=\"background:#2a2100;\"> the</span> <span style=\"background:grey;\"> issue</span> <span style=\"background:grey;\">.</span> <span style=\"background:grey;\">\n",
       "</span> <span style=\"background:grey;\">\n",
       "</span> <span style=\"background:grey;\">\"</span> <span style=\"background:#d2a500;\">He</span> <span style=\"background:#3a2d00;\">'s</span> <span style=\"background:#120e00;\"> still</span> <span style=\"background:grey;\"> looking</span> <span style=\"background:#483800;\"> at</span> <span style=\"background:#322700;\"> a</span> <span style=\"background:grey;\"> lot</span> <span style=\"background:#332800;\"> of</span> <span style=\"background:#040300;\"> different</span> <span style=\"background:grey;\"> facts</span> <span style=\"background:grey;\"> and</span> <span style=\"background:grey;\"> then</span> <span style=\"background:grey;\"> when</span> <span style=\"background:#332800;\"> he</span> <span style=\"background:grey;\"> makes</span> <span style=\"background:grey;\"> his</span> <span style=\"background:grey;\"> decision</span> <span style=\"background:grey;\">,</span> <span style=\"background:#755c00;\"> he</span> <span style=\"background:grey;\">'ll</span> <span style=\"background:grey;\"> be</span> <span style=\"background:#100c00;\"> the</span> <span style=\"background:grey;\"> one</span></p>"
      ],
      "text/plain": [
       "<IPython.core.display.HTML object>"
      ]
     },
     "metadata": {},
     "output_type": "display_data"
    },
    {
     "data": {
      "text/html": [
       "<p style='color: red;'>Feature exp., #28: elements related to names and titles.</p>"
      ],
      "text/plain": [
       "<IPython.core.display.HTML object>"
      ]
     },
     "metadata": {},
     "output_type": "display_data"
    },
    {
     "data": {
      "text/html": [
       "<p style='background: grey;'><span style=\"background:#382c00;\">Ast</span> <span style=\"background:#1c1600;\">ron</span> <span style=\"background:#5a4700;\">omy</span> <span style=\"background:#2b2200;\"> Picture</span> <span style=\"background:grey;\"> of</span> <span style=\"background:grey;\"> the</span> <span style=\"background:#281f00;\"> Day</span> <span style=\"background:grey;\"> Discover</span> <span style=\"background:#7e6200;\"> the</span> <span style=\"background:grey;\"> cosmos</span> <span style=\"background:#ffc800;\">!</span> <span style=\"background:#3e3000;\"> Each</span> <span style=\"background:grey;\"> day</span> <span style=\"background:#5d4900;\"> a</span> <span style=\"background:#bf9600;\"> different</span> <span style=\"background:#342900;\"> image</span> <span style=\"background:grey;\"> or</span> <span style=\"background:#ffc800;\"> photograph</span> <span style=\"background:grey;\"> of</span> <span style=\"background:grey;\"> our</span> <span style=\"background:grey;\"> fascinating</span> <span style=\"background:grey;\"> universe</span> <span style=\"background:#ffc800;\"> is</span> <span style=\"background:grey;\"> featured</span> <span style=\"background:grey;\">,</span> <span style=\"background:#403200;\"> along</span> <span style=\"background:#745b00;\"> with</span> <span style=\"background:grey;\"> a</span> <span style=\"background:#5e4a00;\"> brief</span> <span style=\"background:grey;\"> explanation</span> <span style=\"background:grey;\"> written</span> <span style=\"background:#5d4800;\"> by</span> <span style=\"background:grey;\"> a</span> <span style=\"background:#8f7000;\"> professional</span> <span style=\"background:#9a7900;\"> astronomer</span> <span style=\"background:#ffc800;\">.</span> <span style=\"background:#634d00;\"> 2011</span> <span style=\"background:grey;\"> May</span> <span style=\"background:#0b0800;\"> 29</span> <span style=\"background:grey;\">\n",
       "</span> <span style=\"background:grey;\">\n",
       "</span> <span style=\"background:grey;\">C</span> <span style=\"background:#2c2200;\">omet</span> <span style=\"background:grey;\"> Between</span> <span style=\"background:grey;\"> Fire</span> <span style=\"background:grey;\">works</span> <span style=\"background:grey;\"> and</span> <span style=\"background:grey;\"> Lightning</span> <span style=\"background:grey;\">\n",
       "</span> <span style=\"background:grey;\">\n",
       "</span> <span style=\"background:#483800;\">Credit</span> <span style=\"background:#aa8500;\"> &</span> <span style=\"background:grey;\"> Copyright</span> <span style=\"background:grey;\">:</span> <span style=\"background:grey;\"> Ant</span> <span style=\"background:grey;\">ti</span> <span style=\"background:#755c00;\"> Kem</span> <span style=\"background:#130f00;\">pp</span> <span style=\"background:grey;\">ain</span> <span style=\"background:#251d00;\">en</span> <span style=\"background:grey;\">\n",
       "</span> <span style=\"background:grey;\">\n",
       "</span> <span style=\"background:grey;\">Ex</span> <span style=\"background:grey;\">plan</span></p>"
      ],
      "text/plain": [
       "<IPython.core.display.HTML object>"
      ]
     },
     "metadata": {},
     "output_type": "display_data"
    },
    {
     "data": {
      "text/html": [
       "<p style='background: grey;'><span style=\"background:#2c2200;\"> issued</span> <span style=\"background:#030200;\"> an</span> <span style=\"background:grey;\"> interim</span> <span style=\"background:grey;\"> order</span> <span style=\"background:grey;\"> stopping</span> <span style=\"background:grey;\"> Sudan</span> <span style=\"background:grey;\">'s</span> <span style=\"background:grey;\"> leader</span> <span style=\"background:#c09600;\"> Omar</span> <span style=\"background:grey;\"> al</span> <span style=\"background:grey;\">-</span> <span style=\"background:#ffc800;\">B</span> <span style=\"background:#e9b600;\">ash</span> <span style=\"background:grey;\">ir</span> <span style=\"background:grey;\">,</span> <span style=\"background:grey;\"> who</span> <span style=\"background:grey;\"> faces</span> <span style=\"background:grey;\"> war</span> <span style=\"background:grey;\"> crimes</span> <span style=\"background:grey;\"> charges</span> <span style=\"background:grey;\">,</span> <span style=\"background:#171200;\"> from</span> <span style=\"background:#211a00;\"> leaving</span> <span style=\"background:grey;\"> the</span> <span style=\"background:grey;\"> country</span> <span style=\"background:grey;\">.</span> <span style=\"background:grey;\">\n",
       "</span> <span style=\"background:grey;\">\n",
       "</span> <span style=\"background:grey;\">The</span> <span style=\"background:grey;\"> Pret</span> <span style=\"background:grey;\">oria</span> <span style=\"background:grey;\"> High</span> <span style=\"background:grey;\"> Court</span> <span style=\"background:grey;\"> says</span> <span style=\"background:grey;\"> Mr</span> <span style=\"background:grey;\"> Bash</span> <span style=\"background:grey;\">ir</span> <span style=\"background:grey;\"> must</span> <span style=\"background:grey;\"> stay</span> <span style=\"background:grey;\"> until</span> <span style=\"background:grey;\"> it</span> <span style=\"background:grey;\"> rules</span> <span style=\"background:grey;\"> on</span> <span style=\"background:grey;\"> Monday</span> <span style=\"background:grey;\"> on</span> <span style=\"background:grey;\"> whether</span> <span style=\"background:grey;\"> he</span> <span style=\"background:grey;\"> should</span> <span style=\"background:#0e0b00;\"> be</span> <span style=\"background:grey;\"> handed</span> <span style=\"background:grey;\"> over</span> <span style=\"background:grey;\"> to</span> <span style=\"background:#1b1500;\"> the</span> <span style=\"background:grey;\"> International</span> <span style=\"background:grey;\"> Criminal</span> <span style=\"background:grey;\"> Court</span> <span style=\"background:grey;\"> (</span> <span style=\"background:grey;\">IC</span> <span style=\"background:grey;\">C</span> <span style=\"background:grey;\">).</span> <span style=\"background:grey;\">\n",
       "</span> <span style=\"background:grey;\">\n",
       "</span> <span style=\"background:grey;\">President</span> <span style=\"background:grey;\"> Bash</span></p>"
      ],
      "text/plain": [
       "<IPython.core.display.HTML object>"
      ]
     },
     "metadata": {},
     "output_type": "display_data"
    },
    {
     "data": {
      "text/html": [
       "<p style='background: grey;'><span style=\"background:#1d1700;\"> would</span> <span style=\"background:#826600;\"> be</span> <span style=\"background:#191300;\"> a</span> <span style=\"background:grey;\"> perfect</span> <span style=\"background:grey;\"> fit</span> <span style=\"background:grey;\"> in</span> <span style=\"background:grey;\"> the</span> <span style=\"background:#1d1600;\"> Blue</span> <span style=\"background:grey;\"> Jays</span> <span style=\"background:grey;\"> rotation</span> <span style=\"background:grey;\">.</span> <span style=\"background:grey;\"> Rein</span> <span style=\"background:#1b1500;\">hold</span> <span style=\"background:grey;\"> Mat</span> <span style=\"background:#5c4800;\">ay</span> <span style=\"background:grey;\">/</span> <span style=\"background:#ffc800;\">USA</span> <span style=\"background:#8f7000;\"> TODAY</span> <span style=\"background:grey;\"> Sports</span> <span style=\"background:grey;\">\n",
       "</span> <span style=\"background:grey;\">\n",
       "</span> <span style=\"background:grey;\">So</span> <span style=\"background:#6b5400;\"> rather</span> <span style=\"background:grey;\"> than</span> <span style=\"background:grey;\"> force</span> <span style=\"background:grey;\">-</span> <span style=\"background:grey;\">feeding</span> <span style=\"background:grey;\"> Norris</span> <span style=\"background:grey;\"> and</span> <span style=\"background:grey;\">/</span> <span style=\"background:grey;\">or</span> <span style=\"background:grey;\"> Sanchez</span> <span style=\"background:grey;\"> into</span> <span style=\"background:grey;\"> the</span> <span style=\"background:grey;\"> rotation</span> <span style=\"background:grey;\"> or</span> <span style=\"background:grey;\"> having</span> <span style=\"background:#251d00;\"> to</span> <span style=\"background:#0e0b00;\"> rely</span> <span style=\"background:grey;\"> on</span> <span style=\"background:grey;\"> E</span> <span style=\"background:grey;\">str</span> <span style=\"background:#382c00;\">ada</span> <span style=\"background:grey;\">,</span> <span style=\"background:grey;\"> the</span> <span style=\"background:grey;\"> Blue</span> <span style=\"background:#473700;\"> Jays</span> <span style=\"background:#3d3000;\"> have</span> <span style=\"background:grey;\"> to</span> <span style=\"background:grey;\"> go</span> <span style=\"background:grey;\"> after</span> <span style=\"background:#030200;\"> Cole</span> <span style=\"background:#ffc800;\"> Ham</span> <span style=\"background:grey;\">els</span> <span style=\"background:grey;\">.</span> <span style=\"background:grey;\"> This</span> <span style=\"background:grey;\"> is</span> <span style=\"background:grey;\"> exactly</span> <span style=\"background:grey;\"> the</span> <span style=\"background:grey;\"> scenario</span> <span style=\"background:grey;\"> Phillies</span> <span style=\"background:#7a6000;\"> general</span> <span style=\"background:#695200;\"> manager</span> <span style=\"background:#ffc800;\"> Rub</span></p>"
      ],
      "text/plain": [
       "<IPython.core.display.HTML object>"
      ]
     },
     "metadata": {},
     "output_type": "display_data"
    },
    {
     "data": {
      "text/html": [
       "<p style='background: grey;'><span style=\"background:#342900;\">)</span> <span style=\"background:#3a2d00;\"> December</span> <span style=\"background:grey;\"> (</span> <span style=\"background:#080600;\">15</span> <span style=\"background:grey;\">)</span> <span style=\"background:grey;\"> November</span> <span style=\"background:grey;\"> (</span> <span style=\"background:grey;\">5</span> <span style=\"background:#775d00;\">)</span> <span style=\"background:grey;\"> October</span> <span style=\"background:grey;\"> (</span> <span style=\"background:grey;\">32</span> <span style=\"background:grey;\">)</span> <span style=\"background:#090700;\"> September</span> <span style=\"background:grey;\"> (</span> <span style=\"background:grey;\">32</span> <span style=\"background:#191400;\">)</span> <span style=\"background:grey;\"> August</span> <span style=\"background:grey;\"> (</span> <span style=\"background:grey;\">10</span> <span style=\"background:#130e00;\">)</span> <span style=\"background:grey;\"> July</span> <span style=\"background:grey;\"> (</span> <span style=\"background:grey;\">6</span> <span style=\"background:#b99100;\">)</span> <span style=\"background:grey;\"> June</span> <span style=\"background:grey;\"> (</span> <span style=\"background:grey;\">37</span> <span style=\"background:#ffc800;\">)</span> <span style=\"background:grey;\"> May</span> <span style=\"background:grey;\"> (</span> <span style=\"background:grey;\">70</span> <span style=\"background:#ffc800;\">)</span> <span style=\"background:grey;\"> April</span> <span style=\"background:grey;\"> (</span> <span style=\"background:grey;\">78</span> <span style=\"background:#ffc800;\">)</span> <span style=\"background:grey;\"> March</span> <span style=\"background:grey;\"> (</span> <span style=\"background:grey;\">82</span> <span style=\"background:#ffc800;\">)</span> <span style=\"background:#0a0800;\"> February</span> <span style=\"background:grey;\"> (</span> <span style=\"background:grey;\">74</span> <span style=\"background:#ffc800;\">)</span> <span style=\"background:#161100;\"> January</span> <span style=\"background:grey;\"> (</span> <span style=\"background:grey;\">31</span> <span style=\"background:#1a1400;\">)</span> <span style=\"background:grey;\"> December</span> <span style=\"background:grey;\"> (</span> <span style=\"background:grey;\">37</span> <span style=\"background:#dbac00;\">)</span> <span style=\"background:#1a1400;\"> November</span> <span style=\"background:grey;\"> (</span> <span style=\"background:grey;\">21</span> <span style=\"background:#ffc800;\">)</span> <span style=\"background:grey;\"> October</span> <span style=\"background:grey;\"> (</span> <span style=\"background:grey;\">35</span> <span style=\"background:grey;\">)</span> <span style=\"background:grey;\"> September</span> <span style=\"background:grey;\"> (</span> <span style=\"background:grey;\">57</span></p>"
      ],
      "text/plain": [
       "<IPython.core.display.HTML object>"
      ]
     },
     "metadata": {},
     "output_type": "display_data"
    },
    {
     "data": {
      "text/html": [
       "<p style='background: grey;'><span style=\"background:#2e2400;\">K</span> <span style=\"background:#453600;\"> is</span> <span style=\"background:#050300;\"> signed</span> <span style=\"background:#271f00;\"> by</span> <span style=\"background:grey;\"> Google</span> <span style=\"background:grey;\"> and</span> <span style=\"background:grey;\"> upgrades</span> <span style=\"background:grey;\"> your</span> <span style=\"background:grey;\"> existing</span> <span style=\"background:grey;\"> app</span> <span style=\"background:grey;\">.</span> <span style=\"background:grey;\"> The</span> <span style=\"background:#7b6100;\"> cryptographic</span> <span style=\"background:#423400;\"> signature</span> <span style=\"background:#8d6e00;\"> guarantees</span> <span style=\"background:#433500;\"> that</span> <span style=\"background:#ffc800;\"> the</span> <span style=\"background:#f5c000;\"> file</span> <span style=\"background:#ffc800;\"> is</span> <span style=\"background:grey;\"> safe</span> <span style=\"background:#d6a700;\"> to</span> <span style=\"background:#000000;\"> install</span> <span style=\"background:#040300;\"> and</span> <span style=\"background:#765c00;\"> was</span> <span style=\"background:#e9b700;\"> not</span> <span style=\"background:grey;\"> tam</span> <span style=\"background:#b68f00;\">pered</span> <span style=\"background:#7a6000;\"> with</span> <span style=\"background:grey;\"> in</span> <span style=\"background:#1c1600;\"> any</span> <span style=\"background:#130f00;\"> way</span> <span style=\"background:#b18b00;\">.</span> <span style=\"background:grey;\"> Rather</span> <span style=\"background:#261e00;\"> than</span> <span style=\"background:#765c00;\"> wait</span> <span style=\"background:#6a5300;\"> for</span> <span style=\"background:#a17e00;\"> Google</span> <span style=\"background:#f2be00;\"> to</span> <span style=\"background:grey;\"> push</span> <span style=\"background:#7e6300;\"> this</span> <span style=\"background:#181300;\"> download</span> <span style=\"background:#ffc800;\"> to</span> <span style=\"background:#ffc800;\"> your</span> <span style=\"background:grey;\"> devices</span> <span style=\"background:#ffc800;\">,</span> <span style=\"background:#4e3d00;\"> which</span> <span style=\"background:#ffc800;\"> can</span> <span style=\"background:#a48000;\"> take</span> <span style=\"background:grey;\"> days</span> <span style=\"background:#c39800;\">,</span> <span style=\"background:grey;\"> download</span> <span style=\"background:grey;\"> and</span> <span style=\"background:#302600;\"> install</span> <span style=\"background:grey;\"> it</span> <span style=\"background:#010000;\"> just</span> <span style=\"background:#020100;\"> like</span> <span style=\"background:#ebb800;\"> any</span> <span style=\"background:#d3a600;\"> other</span> <span style=\"background:#3a2d00;\"> AP</span> <span style=\"background:#e7b500;\">K</span> <span style=\"background:grey;\">.</span> <span style=\"background:grey;\">\n",
       "</span> <span style=\"background:grey;\">\n",
       "</span> <span style=\"background:grey;\">File</span></p>"
      ],
      "text/plain": [
       "<IPython.core.display.HTML object>"
      ]
     },
     "metadata": {},
     "output_type": "display_data"
    },
    {
     "data": {
      "text/html": [
       "<p style='color: red;'>Feature exp., #29: parts of words in compound nouns, especially names.</p>"
      ],
      "text/plain": [
       "<IPython.core.display.HTML object>"
      ]
     },
     "metadata": {},
     "output_type": "display_data"
    },
    {
     "data": {
      "text/html": [
       "<p style='background: grey;'><span style=\"background:grey;\"> the</span> <span style=\"background:grey;\"> event</span> <span style=\"background:#322700;\">.</span> <span style=\"background:grey;\">\n",
       "</span> <span style=\"background:grey;\">\n",
       "</span> <span style=\"background:#130f00;\">The</span> <span style=\"background:#1f1800;\"> planned</span> <span style=\"background:#171200;\"> walk</span> <span style=\"background:#1e1800;\">out</span> <span style=\"background:grey;\"> comes</span> <span style=\"background:#010100;\"> after</span> <span style=\"background:grey;\"> days</span> <span style=\"background:#030200;\"> of</span> <span style=\"background:#392c00;\"> protests</span> <span style=\"background:grey;\"> across</span> <span style=\"background:#080600;\"> the</span> <span style=\"background:#151000;\"> country</span> <span style=\"background:#1f1800;\">,</span> <span style=\"background:#4a3a00;\"> including</span> <span style=\"background:#0f0b00;\"> in</span> <span style=\"background:#251d00;\"> Washington</span> <span style=\"background:#463700;\">,</span> <span style=\"background:grey;\"> D</span> <span style=\"background:#4b3b00;\">.</span> <span style=\"background:grey;\">C</span> <span style=\"background:#362a00;\">.,</span> <span style=\"background:#3d3000;\"> where</span> <span style=\"background:#574400;\"> demonstrators</span> <span style=\"background:#dbab00;\"> have</span> <span style=\"background:#312600;\"> marched</span> <span style=\"background:#0d0a00;\"> through</span> <span style=\"background:#191400;\"> downtown</span> <span style=\"background:#231b00;\">,</span> <span style=\"background:grey;\"> blocking</span> <span style=\"background:grey;\"> roads</span> <span style=\"background:#000000;\"> and</span> <span style=\"background:#0a0800;\"> bridges</span> <span style=\"background:#342900;\"> on</span> <span style=\"background:#3f3100;\"> an</span> <span style=\"background:#473700;\"> almost</span> <span style=\"background:#5c4800;\"> nightly</span> <span style=\"background:grey;\"> basis</span> <span style=\"background:grey;\"> since</span> <span style=\"background:grey;\"> last</span> <span style=\"background:grey;\"> Wednesday</span> <span style=\"background:#090700;\">'s</span> <span style=\"background:grey;\"> decision</span> <span style=\"background:grey;\"> by</span> <span style=\"background:grey;\"> a</span> <span style=\"background:grey;\"> grand</span> <span style=\"background:grey;\"> jury</span> <span style=\"background:grey;\"> in</span> <span style=\"background:grey;\"> Staten</span> <span style=\"background:grey;\"> Island</span> <span style=\"background:#544200;\"> not</span> <span style=\"background:#5b4700;\"> to</span> <span style=\"background:grey;\"> indict</span> <span style=\"background:#060500;\"> Officer</span> <span style=\"background:#3a2e00;\"> Daniel</span> <span style=\"background:#ffc800;\"> Pant</span> <span style=\"background:grey;\">ale</span> <span style=\"background:grey;\">o</span> <span style=\"background:grey;\"> in</span> <span style=\"background:#695200;\"> the</span></p>"
      ],
      "text/plain": [
       "<IPython.core.display.HTML object>"
      ]
     },
     "metadata": {},
     "output_type": "display_data"
    },
    {
     "data": {
      "text/html": [
       "<p style='background: grey;'><span style=\"background:grey;\"> vs</span> <span style=\"background:#685200;\">.</span> <span style=\"background:#181300;\"> Chris</span> <span style=\"background:grey;\"> We</span> <span style=\"background:grey;\">id</span> <span style=\"background:grey;\">man</span> <span style=\"background:#453600;\"> –</span> <span style=\"background:#1e1800;\"> for</span> <span style=\"background:#271f00;\"> middle</span> <span style=\"background:#2f2500;\">weight</span> <span style=\"background:#3f3100;\"> title</span> <span style=\"background:grey;\">\n",
       "</span> <span style=\"background:grey;\">\n",
       "</span> <span style=\"background:#4a3a00;\">Champ</span> <span style=\"background:#312600;\"> Domin</span> <span style=\"background:#2a2100;\">ick</span> <span style=\"background:grey;\"> Cruz</span> <span style=\"background:grey;\"> vs</span> <span style=\"background:grey;\">.</span> <span style=\"background:#0c0a00;\"> Uri</span> <span style=\"background:#7e6300;\">jah</span> <span style=\"background:#ffc800;\"> Fab</span> <span style=\"background:#1e1800;\">er</span> <span style=\"background:#5e4a00;\"> –</span> <span style=\"background:#433400;\"> for</span> <span style=\"background:#271f00;\"> b</span> <span style=\"background:grey;\">antam</span> <span style=\"background:#5a4700;\">weight</span> <span style=\"background:#352900;\"> championship</span> <span style=\"background:#110d00;\">\n",
       "</span> <span style=\"background:#0d0a00;\">\n",
       "</span> <span style=\"background:grey;\">B</span> <span style=\"background:#281f00;\">obby</span> <span style=\"background:grey;\"> Green</span> <span style=\"background:grey;\"> vs</span> <span style=\"background:grey;\">.</span> <span style=\"background:#0c0a00;\"> Dustin</span> <span style=\"background:#040300;\"> Po</span> <span style=\"background:grey;\">ir</span> <span style=\"background:grey;\">ier</span> <span style=\"background:#282000;\">\n",
       "</span> <span style=\"background:#181300;\">\n",
       "</span> <span style=\"background:grey;\">E</span> <span style=\"background:grey;\">van</span> <span style=\"background:grey;\"> Dunham</span> <span style=\"background:grey;\"> vs</span> <span style=\"background:grey;\">.</span> <span style=\"background:#171200;\"> Leonardo</span> <span style=\"background:grey;\"> Santos</span> <span style=\"background:#2d2300;\">\n",
       "</span> <span style=\"background:#1a1400;\">\n",
       "</span> <span style=\"background:grey;\">Kevin</span> <span style=\"background:#000000;\"> Casey</span> <span style=\"background:grey;\"> vs</span> <span style=\"background:grey;\">.</span> <span style=\"background:grey;\"> Elvis</span> <span style=\"background:#040300;\"> Mut</span> <span style=\"background:grey;\">ap</span> <span style=\"background:#2f2500;\">c</span> <span style=\"background:#050400;\">ic</span> <span style=\"background:#231b00;\">\n",
       "</span> <span style=\"background:#100d00;\">\n",
       "</span> <span style=\"background:#251d00;\">Lu</span> <span style=\"background:grey;\">iz</span></p>"
      ],
      "text/plain": [
       "<IPython.core.display.HTML object>"
      ]
     },
     "metadata": {},
     "output_type": "display_data"
    },
    {
     "data": {
      "text/html": [
       "<p style='background: grey;'><span style=\"background:grey;\"> 440</span> <span style=\"background:#644e00;\">-</span> <span style=\"background:#1a1400;\">ton</span> <span style=\"background:#4d3c00;\"> (</span> <span style=\"background:grey;\">400</span> <span style=\"background:#423300;\"> metric</span> <span style=\"background:grey;\"> ton</span> <span style=\"background:#151000;\">)</span> <span style=\"background:#171200;\"> International</span> <span style=\"background:#3a2d00;\"> Space</span> <span style=\"background:grey;\"> Station</span> <span style=\"background:#110d00;\">.</span> <span style=\"background:grey;\"> China</span> <span style=\"background:grey;\"> aims</span> <span style=\"background:grey;\"> to</span> <span style=\"background:#181300;\"> have</span> <span style=\"background:#1b1500;\"> its</span> <span style=\"background:grey;\"> own</span> <span style=\"background:grey;\"> 60</span> <span style=\"background:#261e00;\">-</span> <span style=\"background:#241c00;\">ton</span> <span style=\"background:grey;\"> (</span> <span style=\"background:grey;\">54</span> <span style=\"background:#332800;\"> metric</span> <span style=\"background:grey;\"> tons</span> <span style=\"background:#161200;\">)</span> <span style=\"background:#403200;\"> space</span> <span style=\"background:grey;\"> station</span> <span style=\"background:grey;\"> up</span> <span style=\"background:#423400;\"> and</span> <span style=\"background:grey;\"> running</span> <span style=\"background:#221a00;\"> in</span> <span style=\"background:grey;\"> Earth</span> <span style=\"background:grey;\"> orbit</span> <span style=\"background:grey;\"> by</span> <span style=\"background:grey;\"> 2022</span> <span style=\"background:grey;\"> or</span> <span style=\"background:grey;\"> so</span> <span style=\"background:grey;\">.</span> <span style=\"background:grey;\">\n",
       "</span> <span style=\"background:grey;\">\n",
       "</span> <span style=\"background:#0f0c00;\">Follow</span> <span style=\"background:grey;\"> Mike</span> <span style=\"background:#3a2e00;\"> Wall</span> <span style=\"background:#654f00;\"> on</span> <span style=\"background:#211a00;\"> Twitter</span> <span style=\"background:#352900;\"> @</span> <span style=\"background:#695200;\">m</span> <span style=\"background:#efbb00;\">ich</span> <span style=\"background:#0e0b00;\">ae</span> <span style=\"background:#4d3d00;\">ld</span> <span style=\"background:#130f00;\">wall</span> <span style=\"background:#ffc800;\"> and</span> <span style=\"background:#3b2e00;\"> Google</span> <span style=\"background:#372b00;\">+.</span> <span style=\"background:#806500;\"> Follow</span> <span style=\"background:#3d2f00;\"> us</span> <span style=\"background:#ffc800;\"> @</span> <span style=\"background:#c09600;\">Sp</span> <span style=\"background:grey;\">aced</span> <span style=\"background:#b18b00;\">ot</span> <span style=\"background:#896b00;\">com</span> <span style=\"background:#c29800;\">,</span> <span style=\"background:#201900;\"> Facebook</span></p>"
      ],
      "text/plain": [
       "<IPython.core.display.HTML object>"
      ]
     },
     "metadata": {},
     "output_type": "display_data"
    },
    {
     "data": {
      "text/html": [
       "<p style='background: grey;'><span style=\"background:grey;\"> 3</span> <span style=\"background:#2b2200;\"> wins</span> <span style=\"background:#191300;\"> and</span> <span style=\"background:grey;\"> 5</span> <span style=\"background:#140f00;\"> draws</span> <span style=\"background:#110d00;\">,</span> <span style=\"background:#1a1500;\"> Paris</span> <span style=\"background:grey;\"> Saint</span> <span style=\"background:#715900;\">-</span> <span style=\"background:#ffc800;\">G</span> <span style=\"background:#dcac00;\">erm</span> <span style=\"background:grey;\">ain</span> <span style=\"background:grey;\"> were</span> <span style=\"background:grey;\"> sitting</span> <span style=\"background:grey;\"> five</span> <span style=\"background:grey;\"> points</span> <span style=\"background:grey;\"> ad</span> <span style=\"background:grey;\">rift</span> <span style=\"background:grey;\"> of</span> <span style=\"background:grey;\"> Olymp</span> <span style=\"background:grey;\">ique</span> <span style=\"background:#6f5700;\"> de</span> <span style=\"background:grey;\"> Marse</span> <span style=\"background:grey;\">ille</span> <span style=\"background:grey;\"> after</span> <span style=\"background:grey;\"> eight</span> <span style=\"background:grey;\"> games</span> <span style=\"background:grey;\"> (</span> <span style=\"background:grey;\">19</span> <span style=\"background:grey;\"> points</span> <span style=\"background:grey;\"> for</span> <span style=\"background:#0a0800;\"> OM</span> <span style=\"background:grey;\"> and</span> <span style=\"background:grey;\"> 14</span> <span style=\"background:#070500;\"> for</span> <span style=\"background:#0d0a00;\"> Paris</span> <span style=\"background:#3a2d00;\">).[</span> <span style=\"background:grey;\">3</span> <span style=\"background:grey;\">]</span> <span style=\"background:grey;\">\n",
       "</span> <span style=\"background:grey;\">\n",
       "</span> <span style=\"background:grey;\">After</span> <span style=\"background:#352900;\"> something</span> <span style=\"background:#100d00;\"> of</span> <span style=\"background:#423400;\"> a</span> <span style=\"background:grey;\"> World</span> <span style=\"background:#1a1400;\"> Cup</span> <span style=\"background:grey;\"> hang</span> <span style=\"background:grey;\">over</span> <span style=\"background:grey;\"> for</span> <span style=\"background:#1b1500;\"> the</span> <span style=\"background:grey;\"> club</span> <span style=\"background:#392d00;\">'s</span> <span style=\"background:#413300;\"> international</span> <span style=\"background:grey;\"> stars</span> <span style=\"background:#0d0a00;\">,</span> <span style=\"background:grey;\"> Les</span> <span style=\"background:grey;\"> Rouge</span> <span style=\"background:#4e3d00;\">-</span> <span style=\"background:grey;\">et</span> <span style=\"background:#785e00;\">-</span> <span style=\"background:#594600;\">Ble</span> <span style=\"background:#000000;\">u</span> <span style=\"background:#281f00;\"> really</span></p>"
      ],
      "text/plain": [
       "<IPython.core.display.HTML object>"
      ]
     },
     "metadata": {},
     "output_type": "display_data"
    },
    {
     "data": {
      "text/html": [
       "<p style='background: grey;'><span style=\"background:grey;\"> 17</span> <span style=\"background:#644e00;\">,</span> <span style=\"background:#2d2300;\">6</span> <span style=\"background:grey;\">38</span> <span style=\"background:#1e1700;\">,</span> <span style=\"background:grey;\">06</span> <span style=\"background:grey;\">3</span> <span style=\"background:#1d1700;\"> Tony</span> <span style=\"background:#010000;\"> Parker</span> <span style=\"background:#342900;\"> $</span> <span style=\"background:grey;\"> 14</span> <span style=\"background:grey;\">,</span> <span style=\"background:grey;\">445</span> <span style=\"background:grey;\">,</span> <span style=\"background:grey;\">313</span> <span style=\"background:#503f00;\"> Danny</span> <span style=\"background:#281f00;\"> Green</span> <span style=\"background:grey;\"> $</span> <span style=\"background:grey;\"> 10</span> <span style=\"background:grey;\">,</span> <span style=\"background:grey;\">000</span> <span style=\"background:grey;\">,</span> <span style=\"background:grey;\">000</span> <span style=\"background:#715800;\"> Boris</span> <span style=\"background:#191400;\"> Dia</span> <span style=\"background:#120e00;\">w</span> <span style=\"background:grey;\"> $</span> <span style=\"background:grey;\"> 7</span> <span style=\"background:grey;\">,</span> <span style=\"background:grey;\">000</span> <span style=\"background:grey;\">,</span> <span style=\"background:grey;\">000</span> <span style=\"background:#5c4800;\"> Patty</span> <span style=\"background:#251d00;\"> Mills</span> <span style=\"background:grey;\"> $</span> <span style=\"background:grey;\"> 3</span> <span style=\"background:grey;\">,</span> <span style=\"background:grey;\">578</span> <span style=\"background:grey;\">,</span> <span style=\"background:#4a3a00;\">9</span> <span style=\"background:grey;\">47</span> <span style=\"background:#473700;\"> Kyle</span> <span style=\"background:#201900;\"> Anderson</span> <span style=\"background:grey;\"> $</span> <span style=\"background:grey;\"> 1</span> <span style=\"background:grey;\">,</span> <span style=\"background:grey;\">192</span> <span style=\"background:grey;\">,</span> <span style=\"background:grey;\">080</span> <span style=\"background:#473800;\"> Jon</span> <span style=\"background:#473800;\">athon</span> <span style=\"background:#181300;\"> Simmons</span> <span style=\"background:grey;\"> $</span> <span style=\"background:grey;\"> 8</span> <span style=\"background:grey;\">74</span> <span style=\"background:grey;\">,</span> <span style=\"background:#493900;\">6</span> <span style=\"background:grey;\">36</span> <span style=\"background:grey;\"> Bob</span> <span style=\"background:grey;\">an</span> <span style=\"background:#ffc800;\"> Mar</span> <span style=\"background:#322700;\">jon</span> <span style=\"background:#0c0a00;\">ovic</span> <span style=\"background:grey;\"> $</span></p>"
      ],
      "text/plain": [
       "<IPython.core.display.HTML object>"
      ]
     },
     "metadata": {},
     "output_type": "display_data"
    },
    {
     "data": {
      "text/html": [
       "<p style='color: red;'>Feature exp., #30:  Proper nouns or names.</p>"
      ],
      "text/plain": [
       "<IPython.core.display.HTML object>"
      ]
     },
     "metadata": {},
     "output_type": "display_data"
    },
    {
     "data": {
      "text/html": [
       "<p style='background: grey;'><span style=\"background:#302600;\">28</span> <span style=\"background:grey;\">\n",
       "</span> <span style=\"background:grey;\">\n",
       "</span> <span style=\"background:grey;\">Fix</span> <span style=\"background:#100c00;\">es</span> <span style=\"background:grey;\">\n",
       "</span> <span style=\"background:grey;\">\n",
       "</span> <span style=\"background:#000000;\">Fix</span> <span style=\"background:grey;\"> .</span> <span style=\"background:grey;\">Site</span> <span style=\"background:grey;\">.</span> <span style=\"background:#010100;\">Last</span> <span style=\"background:grey;\">Change</span> <span style=\"background:grey;\"> on</span> <span style=\"background:grey;\"> sites</span> <span style=\"background:grey;\"> where</span> <span style=\"background:#060500;\"> the</span> <span style=\"background:#010100;\"> default</span> <span style=\"background:grey;\"> sort</span> <span style=\"background:grey;\"> order</span> <span style=\"background:grey;\"> is</span> <span style=\"background:grey;\"> not</span> <span style=\"background:#110d00;\"> chronological</span> <span style=\"background:grey;\">.</span> <span style=\"background:grey;\"> #</span> <span style=\"background:#1b1500;\">29</span> <span style=\"background:grey;\">09</span> <span style=\"background:grey;\">\n",
       "</span> <span style=\"background:grey;\">\n",
       "</span> <span style=\"background:grey;\">on</span> <span style=\"background:grey;\"> sites</span> <span style=\"background:#130e00;\"> where</span> <span style=\"background:#271f00;\"> the</span> <span style=\"background:#967500;\"> default</span> <span style=\"background:#ffc800;\"> sort</span> <span style=\"background:grey;\"> order</span> <span style=\"background:grey;\"> is</span> <span style=\"background:#1e1800;\"> not</span> <span style=\"background:grey;\"> chronological</span> <span style=\"background:grey;\">.</span> <span style=\"background:grey;\"> #</span> <span style=\"background:grey;\">29</span> <span style=\"background:grey;\">09</span> <span style=\"background:grey;\"> Fix</span> <span style=\"background:grey;\"> regression</span> <span style=\"background:#201900;\"> of</span> <span style=\"background:grey;\"> .</span> <span style=\"background:#4a3a00;\">Tr</span> <span style=\"background:#271e00;\">unc</span> <span style=\"background:#030300;\">ated</span> <span style=\"background:grey;\"> evaluation</span> <span style=\"background:#0c0a00;\"> in</span> <span style=\"background:grey;\"> manual</span> <span style=\"background:grey;\"> summ</span> <span style=\"background:grey;\">aries</span> <span style=\"background:#191400;\">.</span> <span style=\"background:grey;\"> #</span> <span style=\"background:grey;\">29</span> <span style=\"background:grey;\">89</span> <span style=\"background:grey;\">\n",
       "</span> <span style=\"background:grey;\">\n",
       "</span> <span style=\"background:grey;\">eval</span> <span style=\"background:grey;\">uation</span> <span style=\"background:#413300;\"> in</span></p>"
      ],
      "text/plain": [
       "<IPython.core.display.HTML object>"
      ]
     },
     "metadata": {},
     "output_type": "display_data"
    },
    {
     "data": {
      "text/html": [
       "<p style='background: grey;'><span style=\"background:#2e2400;\"> A</span> <span style=\"background:grey;\">compl</span> <span style=\"background:grey;\">i</span> <span style=\"background:grey;\"> acquisitions</span> <span style=\"background:#191400;\"> are</span> <span style=\"background:#181300;\"> just</span> <span style=\"background:#221b00;\"> the</span> <span style=\"background:grey;\"> latest</span> <span style=\"background:grey;\"> signs</span> <span style=\"background:grey;\"> that</span> <span style=\"background:grey;\"> Microsoft</span> <span style=\"background:grey;\"> is</span> <span style=\"background:grey;\"> turning</span> <span style=\"background:grey;\"> into</span> <span style=\"background:#362a00;\"> a</span> <span style=\"background:grey;\"> very</span> <span style=\"background:#1e1800;\"> different</span> <span style=\"background:#040300;\"> company</span> <span style=\"background:grey;\"> after</span> <span style=\"background:grey;\"> just</span> <span style=\"background:grey;\"> a</span> <span style=\"background:grey;\"> year</span> <span style=\"background:#050400;\"> under</span> <span style=\"background:#080600;\"> CEO</span> <span style=\"background:grey;\"> Sat</span> <span style=\"background:#171200;\">ya</span> <span style=\"background:#ffc800;\"> N</span> <span style=\"background:grey;\">ade</span> <span style=\"background:#040300;\">lla</span> <span style=\"background:#372b00;\">.</span> <span style=\"background:grey;\">\n",
       "</span> <span style=\"background:grey;\">\n",
       "</span> <span style=\"background:grey;\">The</span> <span style=\"background:#1b1500;\"> Sunrise</span> <span style=\"background:#3c2f00;\"> app</span> <span style=\"background:grey;\"> for</span> <span style=\"background:#050400;\"> iPhone</span> <span style=\"background:#1a1400;\">.</span> <span style=\"background:grey;\"> iTunes</span> <span style=\"background:#4a3a00;\"> It</span> <span style=\"background:grey;\">'s</span> <span style=\"background:grey;\"> making</span> <span style=\"background:grey;\"> software</span> <span style=\"background:grey;\"> for</span> <span style=\"background:grey;\"> all</span> <span style=\"background:grey;\"> platforms</span> <span style=\"background:#181300;\"> and</span> <span style=\"background:grey;\"> acquiring</span> <span style=\"background:grey;\"> popular</span> <span style=\"background:#392c00;\"> apps</span> <span style=\"background:#524000;\"> that</span> <span style=\"background:#060400;\"> do</span> <span style=\"background:grey;\"> stuff</span> <span style=\"background:grey;\"> like</span> <span style=\"background:grey;\"> email</span> <span style=\"background:#010100;\"> better</span> <span style=\"background:grey;\"> than</span> <span style=\"background:grey;\"> its</span> <span style=\"background:grey;\"> own</span> <span style=\"background:grey;\"> apps</span> <span style=\"background:#171200;\">.</span> <span style=\"background:#5e4900;\"> It</span> <span style=\"background:#372b00;\"> finally</span> <span style=\"background:grey;\"> brought</span></p>"
      ],
      "text/plain": [
       "<IPython.core.display.HTML object>"
      ]
     },
     "metadata": {},
     "output_type": "display_data"
    },
    {
     "data": {
      "text/html": [
       "<p style='background: grey;'><span style=\"background:#3d3000;\"> Tottenham</span> <span style=\"background:grey;\"> turned</span> <span style=\"background:grey;\"> in</span> <span style=\"background:grey;\"> perhaps</span> <span style=\"background:#070500;\"> their</span> <span style=\"background:grey;\"> best</span> <span style=\"background:grey;\"> performance</span> <span style=\"background:grey;\"> under</span> <span style=\"background:#6d5500;\"> Maur</span> <span style=\"background:#080600;\">icio</span> <span style=\"background:#ffc800;\"> Poc</span> <span style=\"background:#191400;\">hett</span> <span style=\"background:#0e0b00;\">ino</span> <span style=\"background:#1e1700;\">,</span> <span style=\"background:#141000;\"> Liverpool</span> <span style=\"background:grey;\"> and</span> <span style=\"background:grey;\"> Manchester</span> <span style=\"background:#1f1800;\"> United</span> <span style=\"background:grey;\"> under</span> <span style=\"background:grey;\">whel</span> <span style=\"background:grey;\">med</span> <span style=\"background:grey;\"> their</span> <span style=\"background:grey;\"> way</span> <span style=\"background:grey;\"> to</span> <span style=\"background:#040300;\"> a</span> <span style=\"background:#070500;\"> draw</span> <span style=\"background:#141000;\">,</span> <span style=\"background:grey;\"> and</span> <span style=\"background:grey;\"> Manchester</span> <span style=\"background:#060500;\"> City</span> <span style=\"background:grey;\"> made</span> <span style=\"background:grey;\"> themselves</span> <span style=\"background:grey;\"> look</span> <span style=\"background:grey;\"> very</span> <span style=\"background:grey;\"> silly</span> <span style=\"background:#0f0b00;\"> indeed</span> <span style=\"background:grey;\">,</span> <span style=\"background:grey;\"> we</span> <span style=\"background:grey;\">'re</span> <span style=\"background:grey;\"> here</span> <span style=\"background:grey;\"> to</span> <span style=\"background:grey;\"> answer</span> <span style=\"background:#040300;\"> the</span> <span style=\"background:grey;\"> big</span> <span style=\"background:grey;\"> question</span> <span style=\"background:grey;\"> …</span> <span style=\"background:grey;\">\n",
       "</span> <span style=\"background:grey;\">\n",
       "</span> <span style=\"background:grey;\">Are</span> <span style=\"background:grey;\"> Everton</span> <span style=\"background:#2a2100;\"> any</span> <span style=\"background:#281f00;\"> good</span> <span style=\"background:grey;\">?</span> <span style=\"background:grey;\">\n",
       "</span> <span style=\"background:grey;\">\n",
       "</span> <span style=\"background:#1f1800;\">Hard</span> <span style=\"background:grey;\"> to</span> <span style=\"background:grey;\"> say</span> <span style=\"background:#201900;\">.</span> <span style=\"background:grey;\"> It</span> <span style=\"background:grey;\">'s</span> <span style=\"background:grey;\"> been</span> <span style=\"background:grey;\"> a</span> <span style=\"background:grey;\"> slightly</span></p>"
      ],
      "text/plain": [
       "<IPython.core.display.HTML object>"
      ]
     },
     "metadata": {},
     "output_type": "display_data"
    },
    {
     "data": {
      "text/html": [
       "<p style='background: grey;'><span style=\"background:#403200;\"> Turner</span> <span style=\"background:grey;\"> departed</span> <span style=\"background:grey;\"> Microsoft</span> <span style=\"background:grey;\"> for</span> <span style=\"background:grey;\"> hedge</span> <span style=\"background:#1c1600;\"> fund</span> <span style=\"background:#2c2200;\"> Citadel</span> <span style=\"background:#1a1500;\"> LLC</span> <span style=\"background:#161100;\">'s</span> <span style=\"background:grey;\"> securities</span> <span style=\"background:#181300;\"> unit</span> <span style=\"background:#110d00;\">.</span> <span style=\"background:#241c00;\"> His</span> <span style=\"background:grey;\"> departure</span> <span style=\"background:#080600;\"> led</span> <span style=\"background:#1b1500;\"> Microsoft</span> <span style=\"background:#1a1400;\"> Chief</span> <span style=\"background:grey;\"> Executive</span> <span style=\"background:grey;\"> Sat</span> <span style=\"background:#0d0a00;\">ya</span> <span style=\"background:#ffc800;\"> N</span> <span style=\"background:grey;\">ade</span> <span style=\"background:#1b1500;\">lla</span> <span style=\"background:grey;\"> to</span> <span style=\"background:#010100;\"> reorgan</span> <span style=\"background:#241c00;\">ize</span> <span style=\"background:grey;\"> the</span> <span style=\"background:grey;\"> sales</span> <span style=\"background:#261e00;\"> group</span> <span style=\"background:#201900;\">.</span> <span style=\"background:grey;\">\n",
       "</span> <span style=\"background:grey;\">\n",
       "</span> <span style=\"background:#322700;\">Microsoft</span> <span style=\"background:#2d2300;\"> disclosed</span> <span style=\"background:#281f00;\"> the</span> <span style=\"background:#171200;\"> new</span> <span style=\"background:#634d00;\"> leadership</span> <span style=\"background:#6f5700;\"> group</span> <span style=\"background:#4f3e00;\"> as</span> <span style=\"background:grey;\"> part</span> <span style=\"background:#181300;\"> of</span> <span style=\"background:#3b2e00;\"> that</span> <span style=\"background:#0b0800;\"> reorgan</span> <span style=\"background:#302500;\">ization</span> <span style=\"background:#211900;\">,</span> <span style=\"background:grey;\"> but</span> <span style=\"background:grey;\"> it</span> <span style=\"background:grey;\"> didn</span> <span style=\"background:grey;\">'t</span> <span style=\"background:#110d00;\"> publicly</span> <span style=\"background:#000000;\"> note</span> <span style=\"background:#231b00;\"> the</span> <span style=\"background:#120e00;\"> layoffs</span> <span style=\"background:grey;\"> at</span> <span style=\"background:grey;\"> the</span> <span style=\"background:#070600;\"> time</span> <span style=\"background:#110d00;\">.</span> <span style=\"background:#020100;\">\n",
       "</span> <span style=\"background:grey;\">\n",
       "</span> <span style=\"background:grey;\">The</span> <span style=\"background:grey;\"> remaining</span> <span style=\"background:grey;\"> 1</span> <span style=\"background:#130f00;\">,</span> <span style=\"background:grey;\">950</span></p>"
      ],
      "text/plain": [
       "<IPython.core.display.HTML object>"
      ]
     },
     "metadata": {},
     "output_type": "display_data"
    },
    {
     "data": {
      "text/html": [
       "<p style='background: grey;'><span style=\"background:#443500;\"> exclusively</span> <span style=\"background:#040300;\"> to</span> <span style=\"background:grey;\"> Daily</span> <span style=\"background:grey;\"> Kos</span> <span style=\"background:grey;\"> Elections</span> <span style=\"background:grey;\">.</span> <span style=\"background:grey;\"> Nearly</span> <span style=\"background:grey;\"> half</span> <span style=\"background:grey;\">——</span> <span style=\"background:grey;\">say</span> <span style=\"background:grey;\"> Christianity</span> <span style=\"background:grey;\"> should</span> <span style=\"background:grey;\"> be</span> <span style=\"background:#2d2300;\"> our</span> <span style=\"background:#2d2300;\"> official</span> <span style=\"background:#1a1400;\"> religion</span> <span style=\"background:grey;\">.</span> <span style=\"background:grey;\">\n",
       "</span> <span style=\"background:grey;\">\n",
       "</span> <span style=\"background:grey;\">So</span> <span style=\"background:grey;\"> what</span> <span style=\"background:grey;\"> about</span> <span style=\"background:grey;\"> that</span> <span style=\"background:grey;\"> pesky</span> <span style=\"background:grey;\"> freedom</span> <span style=\"background:#3d3000;\"> of</span> <span style=\"background:#1a1400;\"> religion</span> <span style=\"background:#171200;\"> guaranteed</span> <span style=\"background:grey;\"> by</span> <span style=\"background:grey;\"> the</span> <span style=\"background:#181300;\"> Constitution</span> <span style=\"background:grey;\">?</span> <span style=\"background:grey;\"> You</span> <span style=\"background:grey;\"> know</span> <span style=\"background:grey;\">,</span> <span style=\"background:grey;\"> that</span> <span style=\"background:grey;\"> whole</span> <span style=\"background:grey;\"> \"</span> <span style=\"background:grey;\">Congress</span> <span style=\"background:grey;\"> shall</span> <span style=\"background:grey;\"> make</span> <span style=\"background:grey;\"> no</span> <span style=\"background:grey;\"> law</span> <span style=\"background:#130f00;\"> respecting</span> <span style=\"background:#302600;\"> an</span> <span style=\"background:#332800;\"> establishment</span> <span style=\"background:#3c2f00;\"> of</span> <span style=\"background:grey;\"> religion</span> <span style=\"background:grey;\">,</span> <span style=\"background:grey;\"> or</span> <span style=\"background:#251d00;\"> prohibiting</span> <span style=\"background:#ffc800;\"> the</span> <span style=\"background:#977600;\"> free</span> <span style=\"background:grey;\"> exercise</span> <span style=\"background:grey;\"> thereof</span> <span style=\"background:grey;\">?\"</span> <span style=\"background:grey;\"> Well</span> <span style=\"background:grey;\">,</span> <span style=\"background:grey;\"> P</span> <span style=\"background:grey;\">PP</span> <span style=\"background:grey;\"> asked</span> <span style=\"background:grey;\"> about</span> <span style=\"background:grey;\"> that</span> <span style=\"background:#191400;\"> too</span></p>"
      ],
      "text/plain": [
       "<IPython.core.display.HTML object>"
      ]
     },
     "metadata": {},
     "output_type": "display_data"
    },
    {
     "data": {
      "text/html": [
       "<p style='color: red;'>Feature exp., #31: references to actions or directives, including giving, wanting, having, reserving, and editing.</p>"
      ],
      "text/plain": [
       "<IPython.core.display.HTML object>"
      ]
     },
     "metadata": {},
     "output_type": "display_data"
    },
    {
     "data": {
      "text/html": [
       "<p style='background: grey;'><span style=\"background:grey;\"> a</span> <span style=\"background:#1a1500;\"> year</span> <span style=\"background:grey;\"> ago</span> <span style=\"background:grey;\">.</span> <span style=\"background:grey;\"> Apple</span> <span style=\"background:grey;\">'s</span> <span style=\"background:grey;\"> deal</span> <span style=\"background:grey;\"> with</span> <span style=\"background:grey;\"> China</span> <span style=\"background:grey;\"> Mobile</span> <span style=\"background:grey;\"> is</span> <span style=\"background:grey;\"> what</span> <span style=\"background:grey;\"> fueled</span> <span style=\"background:grey;\"> the</span> <span style=\"background:#030200;\"> shift</span> <span style=\"background:grey;\">.</span> <span style=\"background:grey;\"> China</span> <span style=\"background:grey;\"> Mobile</span> <span style=\"background:grey;\"> has</span> <span style=\"background:grey;\"> more</span> <span style=\"background:grey;\"> subscribers</span> <span style=\"background:#040300;\"> that</span> <span style=\"background:grey;\"> AT</span> <span style=\"background:grey;\">&</span> <span style=\"background:grey;\">T</span> <span style=\"background:grey;\">,</span> <span style=\"background:grey;\"> Sprint</span> <span style=\"background:grey;\"> and</span> <span style=\"background:#130f00;\"> Verizon</span> <span style=\"background:grey;\"> combined</span> <span style=\"background:grey;\">.</span> <span style=\"background:#020100;\">\n",
       "</span> <span style=\"background:#0d0a00;\">\n",
       "</span> <span style=\"background:grey;\">About</span> <span style=\"background:#000000;\"> Making</span> <span style=\"background:grey;\"> Comments</span> <span style=\"background:grey;\"> on</span> <span style=\"background:grey;\"> our</span> <span style=\"background:#060500;\"> Site</span> <span style=\"background:#4e3d00;\">:</span> <span style=\"background:#292000;\"> Pat</span> <span style=\"background:#352900;\">ently</span> <span style=\"background:#1b1500;\"> Apple</span> <span style=\"background:#493900;\"> reserves</span> <span style=\"background:#524000;\"> the</span> <span style=\"background:grey;\"> right</span> <span style=\"background:#725a00;\"> to</span> <span style=\"background:grey;\"> post</span> <span style=\"background:grey;\">,</span> <span style=\"background:grey;\"> dismiss</span> <span style=\"background:grey;\"> or</span> <span style=\"background:#1e1700;\"> edit</span> <span style=\"background:grey;\"> any</span> <span style=\"background:grey;\"> comments</span> <span style=\"background:#302600;\">.</span> <span style=\"background:#544200;\"> Comments</span> <span style=\"background:#ffc800;\"> are</span> <span style=\"background:grey;\"> reviewed</span> <span style=\"background:grey;\"> daily</span> <span style=\"background:grey;\"> from</span> <span style=\"background:grey;\"> 4</span> <span style=\"background:grey;\">am</span> <span style=\"background:grey;\"> to</span> <span style=\"background:grey;\"> 7</span></p>"
      ],
      "text/plain": [
       "<IPython.core.display.HTML object>"
      ]
     },
     "metadata": {},
     "output_type": "display_data"
    },
    {
     "data": {
      "text/html": [
       "<p style='background: grey;'><span style=\"background:grey;\"> Ohio</span> <span style=\"background:grey;\"> State</span> <span style=\"background:#080600;\"> -</span> <span style=\"background:grey;\"> 11</span> <span style=\"background:grey;\">,</span> <span style=\"background:grey;\"> Michigan</span> <span style=\"background:grey;\"> State</span> <span style=\"background:grey;\"> -</span> <span style=\"background:#020100;\"> 9</span> <span style=\"background:grey;\">,</span> <span style=\"background:grey;\"> Indiana</span> <span style=\"background:grey;\"> -</span> <span style=\"background:#0c0a00;\"> 8</span> <span style=\"background:grey;\">,</span> <span style=\"background:grey;\"> Michigan</span> <span style=\"background:grey;\"> -</span> <span style=\"background:#0b0800;\"> 8</span> <span style=\"background:grey;\">,</span> <span style=\"background:grey;\"> Cincinnati</span> <span style=\"background:grey;\"> -</span> <span style=\"background:#010100;\"> 6</span> <span style=\"background:grey;\">,</span> <span style=\"background:grey;\"> Illinois</span> <span style=\"background:grey;\"> -</span> <span style=\"background:#070500;\"> 5</span> <span style=\"background:#090700;\">,</span> <span style=\"background:grey;\"> Wisconsin</span> <span style=\"background:grey;\"> -</span> <span style=\"background:#100c00;\"> 4</span> <span style=\"background:#050400;\">,</span> <span style=\"background:#302600;\"> Marqu</span> <span style=\"background:grey;\">ette</span> <span style=\"background:grey;\"> -</span> <span style=\"background:#110d00;\"> 3</span> <span style=\"background:#060500;\">,</span> <span style=\"background:#070500;\"> Bradley</span> <span style=\"background:grey;\"> -</span> <span style=\"background:#181300;\"> 2</span> <span style=\"background:grey;\">,</span> <span style=\"background:grey;\"> Butler</span> <span style=\"background:grey;\"> -</span> <span style=\"background:#181300;\"> 2</span> <span style=\"background:grey;\">,</span> <span style=\"background:#d7a900;\"> De</span> <span style=\"background:grey;\">Paul</span> <span style=\"background:grey;\"> -</span> <span style=\"background:#1a1400;\"> 2</span> <span style=\"background:#0a0800;\">,</span> <span style=\"background:#100c00;\"> L</span> <span style=\"background:grey;\">oy</span> <span style=\"background:grey;\">ola</span> <span style=\"background:#281f00;\">-</span> <span style=\"background:#030200;\">Chicago</span> <span style=\"background:grey;\"> -</span> <span style=\"background:#181200;\"> 2</span> <span style=\"background:#0a0700;\">,</span> <span style=\"background:grey;\"> Purdue</span> <span style=\"background:grey;\"> -</span> <span style=\"background:#191400;\"> 2</span> <span style=\"background:#0f0c00;\">,</span> <span style=\"background:grey;\"> Dayton</span> <span style=\"background:#020200;\"> -</span> <span style=\"background:#060500;\"> 1</span> <span style=\"background:#080600;\">,</span></p>"
      ],
      "text/plain": [
       "<IPython.core.display.HTML object>"
      ]
     },
     "metadata": {},
     "output_type": "display_data"
    },
    {
     "data": {
      "text/html": [
       "<p style='background: grey;'><span style=\"background:grey;\"> you</span> <span style=\"background:grey;\"> can</span> <span style=\"background:grey;\"> take</span> <span style=\"background:grey;\"> each</span> <span style=\"background:#0c0900;\"> week</span> <span style=\"background:grey;\">.</span> <span style=\"background:#171200;\">\n",
       "</span> <span style=\"background:#261e00;\">\n",
       "</span> <span style=\"background:grey;\">Thank</span> <span style=\"background:grey;\"> you</span> <span style=\"background:grey;\"> for</span> <span style=\"background:#010100;\"> signing</span> <span style=\"background:grey;\"> up</span> <span style=\"background:grey;\">.</span> <span style=\"background:grey;\"> For</span> <span style=\"background:grey;\"> more</span> <span style=\"background:grey;\"> from</span> <span style=\"background:grey;\"> The</span> <span style=\"background:#0c0a00;\"> Nation</span> <span style=\"background:grey;\">,</span> <span style=\"background:grey;\"> check</span> <span style=\"background:#231c00;\"> out</span> <span style=\"background:#2f2500;\"> our</span> <span style=\"background:#2b2200;\"> latest</span> <span style=\"background:#120e00;\"> issue</span> <span style=\"background:#040300;\">\n",
       "</span> <span style=\"background:#0a0700;\">\n",
       "</span> <span style=\"background:grey;\">Travel</span> <span style=\"background:#120e00;\"> With</span> <span style=\"background:grey;\"> The</span> <span style=\"background:grey;\"> Nation</span> <span style=\"background:#c69b00;\"> Be</span> <span style=\"background:#594600;\"> the</span> <span style=\"background:grey;\"> first</span> <span style=\"background:grey;\"> to</span> <span style=\"background:grey;\"> hear</span> <span style=\"background:grey;\"> about</span> <span style=\"background:#1f1800;\"> Nation</span> <span style=\"background:#251d00;\"> Travels</span> <span style=\"background:grey;\"> destinations</span> <span style=\"background:grey;\">,</span> <span style=\"background:grey;\"> and</span> <span style=\"background:grey;\"> explore</span> <span style=\"background:grey;\"> the</span> <span style=\"background:grey;\"> world</span> <span style=\"background:grey;\"> with</span> <span style=\"background:grey;\"> kindred</span> <span style=\"background:#171200;\"> spirits</span> <span style=\"background:grey;\">.</span> <span style=\"background:#5c4800;\"> Be</span> <span style=\"background:#161100;\"> the</span> <span style=\"background:grey;\"> first</span> <span style=\"background:grey;\"> to</span> <span style=\"background:grey;\"> hear</span> <span style=\"background:grey;\"> about</span> <span style=\"background:#020200;\"> Nation</span> <span style=\"background:#362a00;\"> Travels</span> <span style=\"background:grey;\"> destinations</span> <span style=\"background:#050400;\">,</span> <span style=\"background:grey;\"> and</span> <span style=\"background:grey;\"> explore</span> <span style=\"background:grey;\"> the</span> <span style=\"background:#070500;\"> world</span> <span style=\"background:#413300;\"> with</span></p>"
      ],
      "text/plain": [
       "<IPython.core.display.HTML object>"
      ]
     },
     "metadata": {},
     "output_type": "display_data"
    },
    {
     "data": {
      "text/html": [
       "<p style='background: grey;'><span style=\"background:grey;\"> next</span> <span style=\"background:grey;\"> Budget</span> <span style=\"background:#211a00;\"> -</span> <span style=\"background:grey;\"> 8</span> <span style=\"background:#191300;\"> July</span> <span style=\"background:#030200;\">.</span> <span style=\"background:#141000;\"> An</span> <span style=\"background:#090700;\"> unusual</span> <span style=\"background:#060500;\"> move</span> <span style=\"background:grey;\">,</span> <span style=\"background:#130f00;\"> since</span> <span style=\"background:#151100;\"> the</span> <span style=\"background:grey;\"> most</span> <span style=\"background:#1d1700;\"> recent</span> <span style=\"background:#090700;\"> Budget</span> <span style=\"background:#211a00;\"> took</span> <span style=\"background:#090700;\"> place</span> <span style=\"background:#070600;\"> in</span> <span style=\"background:#1f1800;\"> March</span> <span style=\"background:#050400;\">.</span> <span style=\"background:#241c00;\">\n",
       "</span> <span style=\"background:#2e2400;\">\n",
       "</span> <span style=\"background:#2d2300;\">\"</span> <span style=\"background:#231b00;\">I</span> <span style=\"background:grey;\"> don</span> <span style=\"background:grey;\">'t</span> <span style=\"background:#1d1700;\"> want</span> <span style=\"background:grey;\"> to</span> <span style=\"background:grey;\"> wait</span> <span style=\"background:grey;\"> to</span> <span style=\"background:grey;\"> deliver</span> <span style=\"background:#070500;\"> on</span> <span style=\"background:#392d00;\"> the</span> <span style=\"background:#0b0900;\"> commitments</span> <span style=\"background:#7b6100;\"> we</span> <span style=\"background:#594500;\"> have</span> <span style=\"background:#0d0a00;\"> made</span> <span style=\"background:#0f0c00;\"> to</span> <span style=\"background:grey;\"> working</span> <span style=\"background:#0d0a00;\"> people</span> <span style=\"background:grey;\">,\"</span> <span style=\"background:grey;\"> said</span> <span style=\"background:#171200;\"> an</span> <span style=\"background:grey;\"> impatient</span> <span style=\"background:grey;\"> Mr</span> <span style=\"background:grey;\"> Osborne</span> <span style=\"background:#251d00;\">.</span> <span style=\"background:#473800;\">\n",
       "</span> <span style=\"background:#433400;\">\n",
       "</span> <span style=\"background:grey;\">Thanks</span> <span style=\"background:grey;\"> for</span> <span style=\"background:grey;\"> reading</span> <span style=\"background:grey;\">.</span> <span style=\"background:#060500;\"> More</span> <span style=\"background:grey;\"> coverage</span> <span style=\"background:grey;\"> tomorrow</span> <span style=\"background:grey;\">,</span> <span style=\"background:#090700;\"> when</span> <span style=\"background:#1a1400;\"> the</span> <span style=\"background:grey;\"> Andrew</span> <span style=\"background:#bb9300;\"> Mar</span> <span style=\"background:#332800;\">r</span> <span style=\"background:grey;\"> Show</span> <span style=\"background:#0b0900;\"> is</span></p>"
      ],
      "text/plain": [
       "<IPython.core.display.HTML object>"
      ]
     },
     "metadata": {},
     "output_type": "display_data"
    },
    {
     "data": {
      "text/html": [
       "<p style='background: grey;'><span style=\"background:grey;\"> for</span> <span style=\"background:grey;\"> their</span> <span style=\"background:grey;\"> newest</span> <span style=\"background:grey;\"> releases</span> <span style=\"background:grey;\">,</span> <span style=\"background:grey;\"> though</span> <span style=\"background:grey;\"> the</span> <span style=\"background:grey;\"> source</span> <span style=\"background:grey;\"> that</span> <span style=\"background:grey;\"> caused</span> <span style=\"background:grey;\"> the</span> <span style=\"background:grey;\"> store</span> <span style=\"background:grey;\"> page</span> <span style=\"background:grey;\"> removal</span> <span style=\"background:grey;\"> is</span> <span style=\"background:grey;\"> still</span> <span style=\"background:grey;\"> as</span> <span style=\"background:grey;\"> yet</span> <span style=\"background:grey;\"> un</span> <span style=\"background:grey;\">confirmed</span> <span style=\"background:grey;\">.</span> <span style=\"background:grey;\">\n",
       "</span> <span style=\"background:grey;\">\n",
       "</span> <span style=\"background:grey;\">What</span> <span style=\"background:#020100;\"> do</span> <span style=\"background:#2b2100;\"> you</span> <span style=\"background:grey;\"> think</span> <span style=\"background:grey;\"> of</span> <span style=\"background:grey;\"> this</span> <span style=\"background:grey;\"> happening</span> <span style=\"background:grey;\">?</span> <span style=\"background:grey;\"> Do</span> <span style=\"background:grey;\"> you</span> <span style=\"background:grey;\"> think</span> <span style=\"background:#040300;\"> that</span> <span style=\"background:grey;\"> the</span> <span style=\"background:grey;\"> Formula</span> <span style=\"background:grey;\"> One</span> <span style=\"background:grey;\"> mods</span> <span style=\"background:#231c00;\"> has</span> <span style=\"background:#453600;\"> any</span> <span style=\"background:grey;\"> relation</span> <span style=\"background:grey;\"> to</span> <span style=\"background:grey;\"> the</span> <span style=\"background:#171200;\"> main</span> <span style=\"background:#0e0b00;\"> game</span> <span style=\"background:#151000;\"> being</span> <span style=\"background:grey;\"> taken</span> <span style=\"background:grey;\"> down</span> <span style=\"background:grey;\">?</span> <span style=\"background:#130f00;\"> Share</span> <span style=\"background:grey;\"> your</span> <span style=\"background:grey;\"> thoughts</span> <span style=\"background:#000000;\"> in</span> <span style=\"background:#0e0b00;\"> the</span> <span style=\"background:grey;\"> comments</span> <span style=\"background:grey;\"> below</span> <span style=\"background:grey;\">!</span> <span style=\"background:grey;\">\n",
       "</span> <span style=\"background:grey;\">\n",
       "</span> <span style=\"background:#0f0b00;\">Share</span> <span style=\"background:#1c1600;\"> Have</span> <span style=\"background:#b48d00;\"> a</span> <span style=\"background:grey;\"> tip</span></p>"
      ],
      "text/plain": [
       "<IPython.core.display.HTML object>"
      ]
     },
     "metadata": {},
     "output_type": "display_data"
    },
    {
     "data": {
      "text/html": [
       "<p style='color: red;'>Feature exp., #32: numerical data, especially dates and percentages.</p>"
      ],
      "text/plain": [
       "<IPython.core.display.HTML object>"
      ]
     },
     "metadata": {},
     "output_type": "display_data"
    },
    {
     "data": {
      "text/html": [
       "<p style='background: grey;'><span style=\"background:grey;\"> director</span> <span style=\"background:#2a2100;\">.</span> <span style=\"background:grey;\">\n",
       "</span> <span style=\"background:#050400;\">\n",
       "</span> <span style=\"background:grey;\">The</span> <span style=\"background:#0c0900;\"> most</span> <span style=\"background:#564300;\"> reliable</span> <span style=\"background:#1e1700;\"> politics</span> <span style=\"background:#0f0c00;\"> newsletter</span> <span style=\"background:#8d6f00;\">.</span> <span style=\"background:#2e2400;\"> Sign</span> <span style=\"background:grey;\"> up</span> <span style=\"background:#ecb900;\"> for</span> <span style=\"background:#161100;\"> POLITICO</span> <span style=\"background:#322700;\"> Play</span> <span style=\"background:grey;\">book</span> <span style=\"background:#d9aa00;\"> and</span> <span style=\"background:#2f2500;\"> get</span> <span style=\"background:#8b6d00;\"> the</span> <span style=\"background:#a17e00;\"> latest</span> <span style=\"background:#392d00;\"> news</span> <span style=\"background:#7a5f00;\">,</span> <span style=\"background:#ffc800;\"> every</span> <span style=\"background:#463700;\"> morning</span> <span style=\"background:#382c00;\"> —</span> <span style=\"background:#4e3d00;\"> in</span> <span style=\"background:grey;\"> your</span> <span style=\"background:#0d0a00;\"> inbox</span> <span style=\"background:#594600;\">.</span> <span style=\"background:#141000;\"> Email</span> <span style=\"background:#594600;\"> Sign</span> <span style=\"background:#362a00;\"> Up</span> <span style=\"background:#624d00;\"> By</span> <span style=\"background:#5d4900;\"> signing</span> <span style=\"background:#2a2100;\"> up</span> <span style=\"background:#3e3000;\"> you</span> <span style=\"background:grey;\"> agree</span> <span style=\"background:#413300;\"> to</span> <span style=\"background:#644e00;\"> receive</span> <span style=\"background:#312600;\"> email</span> <span style=\"background:grey;\"> newsletters</span> <span style=\"background:grey;\"> or</span> <span style=\"background:#1b1500;\"> alerts</span> <span style=\"background:#ab8600;\"> from</span> <span style=\"background:grey;\"> POLITICO</span> <span style=\"background:#1d1600;\">.</span> <span style=\"background:grey;\"> You</span> <span style=\"background:grey;\"> can</span> <span style=\"background:#665000;\"> unsub</span> <span style=\"background:grey;\">scribe</span> <span style=\"background:grey;\"> at</span> <span style=\"background:grey;\"> any</span> <span style=\"background:grey;\"> time</span> <span style=\"background:#0e0b00;\">.</span> <span style=\"background:grey;\">\n",
       "</span> <span style=\"background:grey;\">\n",
       "</span> <span style=\"background:grey;\">Sanders</span> <span style=\"background:grey;\">,</span> <span style=\"background:grey;\"> who</span> <span style=\"background:#2e2400;\"> occasionally</span> <span style=\"background:#201900;\"> fills</span> <span style=\"background:grey;\"> in</span> <span style=\"background:grey;\"> for</span> <span style=\"background:grey;\"> Spicer</span></p>"
      ],
      "text/plain": [
       "<IPython.core.display.HTML object>"
      ]
     },
     "metadata": {},
     "output_type": "display_data"
    },
    {
     "data": {
      "text/html": [
       "<p style='background: grey;'><span style=\"background:grey;\"> reported</span> <span style=\"background:grey;\"> margins</span> <span style=\"background:#0f0c00;\"> of</span> <span style=\"background:grey;\"> sampling</span> <span style=\"background:grey;\"> error</span> <span style=\"background:grey;\"> include</span> <span style=\"background:grey;\"> computed</span> <span style=\"background:grey;\"> design</span> <span style=\"background:grey;\"> effects</span> <span style=\"background:grey;\"> for</span> <span style=\"background:grey;\"> weight</span> <span style=\"background:grey;\">ing</span> <span style=\"background:#000000;\">.</span> <span style=\"background:grey;\">\n",
       "</span> <span style=\"background:#020100;\">\n",
       "</span> <span style=\"background:#604b00;\">Each</span> <span style=\"background:#0e0b00;\"> sample</span> <span style=\"background:#715800;\"> of</span> <span style=\"background:#110d00;\"> national</span> <span style=\"background:#0f0c00;\"> adults</span> <span style=\"background:#d1a400;\"> includes</span> <span style=\"background:#c79c00;\"> a</span> <span style=\"background:grey;\"> minimum</span> <span style=\"background:#483900;\"> quota</span> <span style=\"background:#463700;\"> of</span> <span style=\"background:#7f6400;\"> 60</span> <span style=\"background:grey;\">%</span> <span style=\"background:#403200;\"> cellphone</span> <span style=\"background:#1e1700;\"> respondents</span> <span style=\"background:grey;\"> and</span> <span style=\"background:#665000;\"> 40</span> <span style=\"background:#070500;\">%</span> <span style=\"background:grey;\"> land</span> <span style=\"background:#010100;\">line</span> <span style=\"background:#574400;\"> respondents</span> <span style=\"background:grey;\">,</span> <span style=\"background:#836700;\"> with</span> <span style=\"background:#eeba00;\"> additional</span> <span style=\"background:#5a4600;\"> minimum</span> <span style=\"background:grey;\"> quotas</span> <span style=\"background:#080600;\"> by</span> <span style=\"background:#ca9e00;\"> time</span> <span style=\"background:#100d00;\"> zone</span> <span style=\"background:#4f3e00;\"> within</span> <span style=\"background:grey;\"> region</span> <span style=\"background:grey;\">.</span> <span style=\"background:grey;\"> Land</span> <span style=\"background:#1b1500;\">line</span> <span style=\"background:#6b5400;\"> and</span> <span style=\"background:#0a0800;\"> cellular</span> <span style=\"background:#5f4b00;\"> telephone</span> <span style=\"background:#a88300;\"> numbers</span> <span style=\"background:#d8a900;\"> are</span> <span style=\"background:#584500;\"> selected</span> <span style=\"background:#3e3100;\"> using</span> <span style=\"background:grey;\"> random</span> <span style=\"background:#866900;\">-</span> <span style=\"background:#ffc800;\">digit</span> <span style=\"background:#b58e00;\">-</span> <span style=\"background:#dcac00;\">dial</span> <span style=\"background:grey;\"> methods</span> <span style=\"background:#765d00;\">.</span> <span style=\"background:#967600;\">\n",
       "</span> <span style=\"background:#947400;\">\n",
       "</span></p>"
      ],
      "text/plain": [
       "<IPython.core.display.HTML object>"
      ]
     },
     "metadata": {},
     "output_type": "display_data"
    },
    {
     "data": {
      "text/html": [
       "<p style='background: grey;'><span style=\"background:grey;\"> 1981</span> <span style=\"background:grey;\"> 1980</span> <span style=\"background:grey;\"> 1979</span> <span style=\"background:grey;\"> 1978</span> <span style=\"background:grey;\"> 1977</span> <span style=\"background:#110d00;\"> 1976</span> <span style=\"background:#544100;\"> 1975</span> <span style=\"background:#aa8500;\"> 1974</span> <span style=\"background:#705800;\"> 1973</span> <span style=\"background:#201900;\"> 1972</span> <span style=\"background:#130e00;\"> 1971</span> <span style=\"background:#423400;\"> 1970</span> <span style=\"background:#ca9f00;\"> 1969</span> <span style=\"background:#9c7a00;\"> 1968</span> <span style=\"background:#866900;\"> 1967</span> <span style=\"background:#9c7b00;\"> 1966</span> <span style=\"background:#b79000;\"> 1965</span> <span style=\"background:#d6a800;\"> 1964</span> <span style=\"background:#7d6200;\"> 1963</span> <span style=\"background:#1f1900;\"> 1962</span> <span style=\"background:#271f00;\"> 1961</span> <span style=\"background:#755c00;\"> 1960</span> <span style=\"background:#e7b500;\"> 1959</span> <span style=\"background:#ecb900;\"> 1958</span> <span style=\"background:#7f6400;\"> 1957</span> <span style=\"background:#7c6100;\"> 1956</span> <span style=\"background:#9b7900;\"> 1955</span> <span style=\"background:#ffc800;\"> 1954</span> <span style=\"background:#c59b00;\"> 1953</span> <span style=\"background:#332800;\"> 1952</span> <span style=\"background:grey;\"> 1951</span> <span style=\"background:#251d00;\"> 1950</span> <span style=\"background:#c29800;\"> 1949</span> <span style=\"background:#665000;\"> 1948</span> <span style=\"background:#413300;\"> 1947</span> <span style=\"background:#413300;\"> 1946</span> <span style=\"background:#a78300;\"> 1945</span> <span style=\"background:#e7b500;\"> 1944</span> <span style=\"background:#e3b200;\"> 1943</span> <span style=\"background:#050400;\"> 1942</span> <span style=\"background:grey;\"> 1941</span> <span style=\"background:#231b00;\"> 1940</span> <span style=\"background:#070500;\"> 1939</span> <span style=\"background:#0a0800;\"> 1938</span> <span style=\"background:grey;\"> 1937</span> <span style=\"background:#261e00;\"> 1936</span> <span style=\"background:#342900;\"> 1935</span> <span style=\"background:#b99100;\"> 1934</span> <span style=\"background:#382b00;\"> 1933</span> <span style=\"background:#251d00;\"> 1932</span> <span style=\"background:#060500;\"> 1931</span> <span style=\"background:#050400;\"> 1930</span> <span style=\"background:grey;\">\n",
       "</span> <span style=\"background:grey;\">\n",
       "</span> <span style=\"background:grey;\">Check</span> <span style=\"background:#0f0c00;\"> this</span> <span style=\"background:grey;\"> box</span> <span style=\"background:grey;\"> if</span> <span style=\"background:#070500;\"> you</span> <span style=\"background:grey;\"> want</span> <span style=\"background:grey;\"> us</span> <span style=\"background:grey;\"> to</span> <span style=\"background:#000000;\"> inform</span> <span style=\"background:grey;\"> you</span></p>"
      ],
      "text/plain": [
       "<IPython.core.display.HTML object>"
      ]
     },
     "metadata": {},
     "output_type": "display_data"
    },
    {
     "data": {
      "text/html": [
       "<p style='background: grey;'><span style=\"background:grey;\"> say</span> <span style=\"background:grey;\"> illegally</span> <span style=\"background:#000000;\"> shield</span> <span style=\"background:grey;\"> immigrants</span> <span style=\"background:#2b2200;\">.</span> <span style=\"background:grey;\">\n",
       "</span> <span style=\"background:grey;\">\n",
       "</span> <span style=\"background:#010100;\">The</span> <span style=\"background:#372b00;\"> Texas</span> <span style=\"background:#4c3c00;\"> law</span> <span style=\"background:grey;\">,</span> <span style=\"background:#382c00;\"> which</span> <span style=\"background:grey;\"> takes</span> <span style=\"background:grey;\"> aim</span> <span style=\"background:grey;\"> at</span> <span style=\"background:#201900;\"> any</span> <span style=\"background:grey;\"> jurisdiction</span> <span style=\"background:#1b1500;\"> that</span> <span style=\"background:grey;\"> refuses</span> <span style=\"background:#322700;\"> to</span> <span style=\"background:grey;\"> cooperate</span> <span style=\"background:grey;\"> with</span> <span style=\"background:#0b0900;\"> federal</span> <span style=\"background:#604b00;\"> immigration</span> <span style=\"background:grey;\"> authorities</span> <span style=\"background:#1a1400;\">,</span> <span style=\"background:grey;\"> is</span> <span style=\"background:grey;\"> considered</span> <span style=\"background:grey;\"> one</span> <span style=\"background:grey;\"> of</span> <span style=\"background:#271e00;\"> the</span> <span style=\"background:#362a00;\"> toughest</span> <span style=\"background:#362a00;\"> anti</span> <span style=\"background:#000000;\">-</span> <span style=\"background:grey;\">illegal</span> <span style=\"background:#856800;\"> immigration</span> <span style=\"background:grey;\"> efforts</span> <span style=\"background:grey;\"> in</span> <span style=\"background:#3f3100;\"> the</span> <span style=\"background:grey;\"> country</span> <span style=\"background:#020200;\">.</span> <span style=\"background:grey;\">\n",
       "</span> <span style=\"background:grey;\">\n",
       "</span> <span style=\"background:#3a2d00;\">The</span> <span style=\"background:#372b00;\"> ruling</span> <span style=\"background:#2c2200;\"> will</span> <span style=\"background:#0e0b00;\"> make</span> <span style=\"background:grey;\"> Texas</span> <span style=\"background:#261e00;\"> communities</span> <span style=\"background:grey;\"> less</span> <span style=\"background:grey;\"> safe</span> <span style=\"background:#060400;\">,</span> <span style=\"background:#1a1400;\"> Texas</span> <span style=\"background:#927300;\"> Governor</span> <span style=\"background:#ffc800;\"> Greg</span> <span style=\"background:grey;\"> Abbott</span> <span style=\"background:grey;\">,</span> <span style=\"background:#110d00;\"> a</span> <span style=\"background:grey;\"> Republican</span> <span style=\"background:grey;\">,</span> <span style=\"background:#050300;\"> said</span> <span style=\"background:grey;\"> in</span> <span style=\"background:#544200;\"> a</span> <span style=\"background:grey;\"> statement</span></p>"
      ],
      "text/plain": [
       "<IPython.core.display.HTML object>"
      ]
     },
     "metadata": {},
     "output_type": "display_data"
    },
    {
     "data": {
      "text/html": [
       "<p style='background: grey;'><span style=\"background:grey;\">.\"</span> <span style=\"background:grey;\">\n",
       "</span> <span style=\"background:grey;\">\n",
       "</span> <span style=\"background:grey;\">Besides</span> <span style=\"background:grey;\"> Ohio</span> <span style=\"background:#0c0a00;\">,</span> <span style=\"background:grey;\"> many</span> <span style=\"background:grey;\"> other</span> <span style=\"background:#060400;\"> states</span> <span style=\"background:#221a00;\"> have</span> <span style=\"background:grey;\"> deployed</span> <span style=\"background:grey;\"> reinforcements</span> <span style=\"background:grey;\"> to</span> <span style=\"background:#0d0a00;\"> North</span> <span style=\"background:grey;\"> Dakota</span> <span style=\"background:#161100;\"> after</span> <span style=\"background:#332800;\"> Gov</span> <span style=\"background:#ffc800;\">.</span> <span style=\"background:#6d5500;\"> Jack</span> <span style=\"background:#5e4a00;\"> Dal</span> <span style=\"background:grey;\">ry</span> <span style=\"background:grey;\">m</span> <span style=\"background:grey;\">ple</span> <span style=\"background:#2a2100;\"> declared</span> <span style=\"background:#110e00;\"> a</span> <span style=\"background:#090700;\"> state</span> <span style=\"background:#0a0800;\"> of</span> <span style=\"background:grey;\"> emergency</span> <span style=\"background:grey;\"> surrounding</span> <span style=\"background:#010100;\"> the</span> <span style=\"background:#010100;\"> ongoing</span> <span style=\"background:grey;\"> protests</span> <span style=\"background:#181300;\">.</span> <span style=\"background:grey;\"> Wisconsin</span> <span style=\"background:grey;\">,</span> <span style=\"background:grey;\"> Indiana</span> <span style=\"background:grey;\">,</span> <span style=\"background:#020200;\"> South</span> <span style=\"background:grey;\"> Dakota</span> <span style=\"background:#0d0a00;\">,</span> <span style=\"background:grey;\"> Minnesota</span> <span style=\"background:#120e00;\">,</span> <span style=\"background:grey;\"> Wyoming</span> <span style=\"background:#2b2100;\"> and</span> <span style=\"background:grey;\"> Nebraska</span> <span style=\"background:#282000;\"> have</span> <span style=\"background:#2a2100;\"> all</span> <span style=\"background:#1d1600;\"> sent</span> <span style=\"background:grey;\"> personnel</span> <span style=\"background:#0e0b00;\">,</span> <span style=\"background:grey;\"> according</span> <span style=\"background:grey;\"> to</span> <span style=\"background:#261e00;\"> an</span> <span style=\"background:#140f00;\"> Oct</span> <span style=\"background:#443500;\">.</span> <span style=\"background:#413300;\"> 23</span> <span style=\"background:#161200;\"> release</span> <span style=\"background:grey;\"> from</span> <span style=\"background:#2b2200;\"> the</span> <span style=\"background:#4f3e00;\"> Morton</span> <span style=\"background:#342900;\"> County</span> <span style=\"background:#050400;\"> Sheriff</span> <span style=\"background:#483800;\">'s</span> <span style=\"background:#020100;\"> Department</span></p>"
      ],
      "text/plain": [
       "<IPython.core.display.HTML object>"
      ]
     },
     "metadata": {},
     "output_type": "display_data"
    },
    {
     "data": {
      "text/html": [
       "<p style='color: red;'>Feature exp., #33: instances of the subjective pronoun 'I'.</p>"
      ],
      "text/plain": [
       "<IPython.core.display.HTML object>"
      ]
     },
     "metadata": {},
     "output_type": "display_data"
    },
    {
     "data": {
      "text/html": [
       "<p style='background: grey;'><span style=\"background:grey;\"> http</span> <span style=\"background:#010100;\">://</span> <span style=\"background:grey;\">h</span> <span style=\"background:grey;\">g</span> <span style=\"background:grey;\">.</span> <span style=\"background:grey;\">python</span> <span style=\"background:grey;\">.</span> <span style=\"background:grey;\">org</span> <span style=\"background:grey;\">/</span> <span style=\"background:grey;\">cp</span> <span style=\"background:grey;\">ython</span> <span style=\"background:grey;\">/</span> <span style=\"background:grey;\">rev</span> <span style=\"background:grey;\">/</span> <span style=\"background:grey;\">12</span> <span style=\"background:grey;\">58</span> <span style=\"background:grey;\">87</span> <span style=\"background:grey;\">a</span> <span style=\"background:grey;\">41</span> <span style=\"background:grey;\">a</span> <span style=\"background:grey;\">6</span> <span style=\"background:grey;\">f</span> <span style=\"background:#0d0a00;\"> +</span> <span style=\"background:#0b0900;\"> if</span> <span style=\"background:grey;\"> (</span> <span style=\"background:grey;\">stat</span> <span style=\"background:grey;\">(</span> <span style=\"background:grey;\">buf</span> <span style=\"background:grey;\">,</span> <span style=\"background:grey;\"> &</span> <span style=\"background:grey;\">stat</span> <span style=\"background:grey;\">buf</span> <span style=\"background:grey;\">)</span> <span style=\"background:grey;\"> ==</span> <span style=\"background:#000000;\"> 0</span> <span style=\"background:grey;\"> &&</span> <span style=\"background:#1f1800;\"> S</span> <span style=\"background:#090700;\">_</span> <span style=\"background:#0b0900;\">IS</span> <span style=\"background:grey;\">DIR</span> <span style=\"background:grey;\">(</span> <span style=\"background:grey;\">stat</span> <span style=\"background:#010100;\">buf</span> <span style=\"background:grey;\">.</span> <span style=\"background:grey;\">st</span> <span style=\"background:grey;\">_</span> <span style=\"background:#020100;\">mode</span> <span style=\"background:grey;\">))</span> <span style=\"background:grey;\"> +</span> <span style=\"background:#211a00;\"> /*</span> <span style=\"background:#685200;\"> it</span> <span style=\"background:grey;\">'s</span> <span style=\"background:grey;\"> a</span> <span style=\"background:grey;\"> directory</span> <span style=\"background:grey;\"> */</span> <span style=\"background:grey;\"> +</span> <span style=\"background:#0e0b00;\"> f</span> <span style=\"background:grey;\">p</span> <span style=\"background:grey;\"> =</span> <span style=\"background:#1f1900;\"> NULL</span> <span style=\"background:grey;\">;</span> <span style=\"background:grey;\"> +</span> <span style=\"background:grey;\"> else</span> <span style=\"background:#ffc800;\"> I</span></p>"
      ],
      "text/plain": [
       "<IPython.core.display.HTML object>"
      ]
     },
     "metadata": {},
     "output_type": "display_data"
    },
    {
     "data": {
      "text/html": [
       "<p style='background: grey;'><span style=\"background:grey;\"> until</span> <span style=\"background:#120e00;\"> the</span> <span style=\"background:grey;\"> next</span> <span style=\"background:#020200;\"> version</span> <span style=\"background:grey;\">,</span> <span style=\"background:grey;\"> release</span> <span style=\"background:grey;\">,</span> <span style=\"background:grey;\"> or</span> <span style=\"background:grey;\"> modification</span> <span style=\"background:grey;\"> level</span> <span style=\"background:grey;\"> R</span> <span style=\"background:#000000;\">LS</span> <span style=\"background:#191400;\">_</span> <span style=\"background:#392c00;\">LV</span> <span style=\"background:#493900;\">L</span> <span style=\"background:grey;\"> Version</span> <span style=\"background:grey;\">,</span> <span style=\"background:grey;\"> release</span> <span style=\"background:grey;\">,</span> <span style=\"background:grey;\"> and</span> <span style=\"background:grey;\"> modification</span> <span style=\"background:#130f00;\"> of</span> <span style=\"background:#030300;\"> the</span> <span style=\"background:grey;\"> product</span> <span style=\"background:grey;\"> FE</span> <span style=\"background:#292000;\">ATURE</span> <span style=\"background:#3d3000;\"> Feature</span> <span style=\"background:#1b1500;\"> number</span> <span style=\"background:#130e00;\"> of</span> <span style=\"background:#0e0b00;\"> the</span> <span style=\"background:#120e00;\"> product</span> <span style=\"background:grey;\"> PROC</span> <span style=\"background:#0e0b00;\">_</span> <span style=\"background:grey;\">GROUP</span> <span style=\"background:grey;\"> Processor</span> <span style=\"background:grey;\"> group</span> <span style=\"background:grey;\"> of</span> <span style=\"background:grey;\"> this</span> <span style=\"background:#2a2100;\"> IBM</span> <span style=\"background:#141000;\"> i</span> <span style=\"background:#2b2200;\"> L</span> <span style=\"background:#261d00;\">AB</span> <span style=\"background:#040300;\">EL</span> <span style=\"background:grey;\"> Product</span> <span style=\"background:grey;\"> description</span> <span style=\"background:grey;\">\n",
       "</span> <span style=\"background:grey;\">\n",
       "</span> <span style=\"background:#060500;\">If</span> <span style=\"background:#a88400;\"> I</span> <span style=\"background:#0c0900;\"> put</span> <span style=\"background:grey;\"> that</span> <span style=\"background:#3b2e00;\"> in</span> <span style=\"background:#0a0700;\"> a</span> <span style=\"background:#1f1800;\"> SQL</span> <span style=\"background:#372b00;\"> select</span> <span style=\"background:#221a00;\"> statement</span> <span style=\"background:#ffc800;\"> I</span> <span style=\"background:#eab700;\"> can</span> <span style=\"background:grey;\"> see</span> <span style=\"background:grey;\"> all</span> <span style=\"background:grey;\"> licensed</span> <span style=\"background:#030200;\"> products</span> <span style=\"background:grey;\"> with</span> <span style=\"background:grey;\"> their</span></p>"
      ],
      "text/plain": [
       "<IPython.core.display.HTML object>"
      ]
     },
     "metadata": {},
     "output_type": "display_data"
    },
    {
     "data": {
      "text/html": [
       "<p style='background: grey;'><span style=\"background:grey;\"> also</span> <span style=\"background:grey;\"> 128</span> <span style=\"background:#0d0a00;\"> Ki</span> <span style=\"background:grey;\">B</span> <span style=\"background:grey;\"> in</span> <span style=\"background:grey;\"> [</span> <span style=\"background:#3b2e00;\">0</span> <span style=\"background:#221b00;\">x</span> <span style=\"background:#2e2400;\">8</span> <span style=\"background:#151100;\">0000</span> <span style=\"background:grey;\">,</span> <span style=\"background:#281f00;\"> 0</span> <span style=\"background:grey;\">x</span> <span style=\"background:#503f00;\">A</span> <span style=\"background:#070500;\">0000</span> <span style=\"background:grey;\">),</span> <span style=\"background:#090700;\"> but</span> <span style=\"background:grey;\"> some</span> <span style=\"background:grey;\"> systems</span> <span style=\"background:grey;\"> consume</span> <span style=\"background:#1e1700;\"> part</span> <span style=\"background:#090700;\"> of</span> <span style=\"background:grey;\"> this</span> <span style=\"background:#000000;\"> region</span> <span style=\"background:#030300;\"> for</span> <span style=\"background:grey;\"> the</span> <span style=\"background:grey;\"> extended</span> <span style=\"background:grey;\"> BIOS</span> <span style=\"background:grey;\"> data</span> <span style=\"background:#070500;\"> area</span> <span style=\"background:grey;\">.</span> <span style=\"background:grey;\">\n",
       "</span> <span style=\"background:grey;\">\n",
       "</span> <span style=\"background:grey;\">Free</span> <span style=\"background:grey;\">,</span> <span style=\"background:grey;\"> partial</span> <span style=\"background:grey;\">,</span> <span style=\"background:#271e00;\"> and</span> <span style=\"background:grey;\"> reserved</span> <span style=\"background:grey;\"> bytes</span> <span style=\"background:#3a2d00;\"> in</span> <span style=\"background:#2c2200;\"> conventional</span> <span style=\"background:grey;\"> memory</span> <span style=\"background:grey;\"> (</span> <span style=\"background:#080600;\">1</span> <span style=\"background:#100d00;\"> Ki</span> <span style=\"background:grey;\">B</span> <span style=\"background:#110d00;\"> per</span> <span style=\"background:#614c00;\"> square</span> <span style=\"background:grey;\">)</span> <span style=\"background:grey;\">\n",
       "</span> <span style=\"background:grey;\">\n",
       "</span> <span style=\"background:#1e1700;\">In</span> <span style=\"background:#130f00;\"> my</span> <span style=\"background:grey;\"> boot</span> <span style=\"background:grey;\"> sector</span> <span style=\"background:grey;\"> implementation</span> <span style=\"background:grey;\">,</span> <span style=\"background:#ffc800;\"> I</span> <span style=\"background:#4b3b00;\"> use</span> <span style=\"background:#020100;\"> 5</span> <span style=\"background:grey;\"> B</span> <span style=\"background:#564300;\"> in</span> <span style=\"background:grey;\"> [</span></p>"
      ],
      "text/plain": [
       "<IPython.core.display.HTML object>"
      ]
     },
     "metadata": {},
     "output_type": "display_data"
    },
    {
     "data": {
      "text/html": [
       "<p style='background: grey;'><span style=\"background:grey;\">::</span> <span style=\"background:grey;\">Method</span> <span style=\"background:#120e00;\">::</span> <span style=\"background:grey;\">Sign</span> <span style=\"background:#030200;\">atures</span> <span style=\"background:#332800;\"> incurred</span> <span style=\"background:#000000;\"> a</span> <span style=\"background:#332800;\"> substantial</span> <span style=\"background:grey;\"> runtime</span> <span style=\"background:grey;\"> performance</span> <span style=\"background:#271f00;\"> hit</span> <span style=\"background:grey;\">.</span> <span style=\"background:#ffc800;\"> I</span> <span style=\"background:grey;\"> wanted</span> <span style=\"background:#846700;\"> to</span> <span style=\"background:#151100;\"> test</span> <span style=\"background:grey;\"> if</span> <span style=\"background:#000000;\"> that</span> <span style=\"background:#0e0b00;\"> was</span> <span style=\"background:grey;\"> true</span> <span style=\"background:#524000;\"> so</span> <span style=\"background:#ffc800;\"> I</span> <span style=\"background:#483900;\"> tried</span> <span style=\"background:#100d00;\"> converting</span> <span style=\"background:#1d1600;\"> Hail</span> <span style=\"background:grey;\">o</span> <span style=\"background:#0f0c00;\"> to</span> <span style=\"background:grey;\"> use</span> <span style=\"background:grey;\"> it</span> <span style=\"background:grey;\">.</span> <span style=\"background:grey;\"> The</span> <span style=\"background:#1d1700;\"> result</span> <span style=\"background:grey;\">:</span> <span style=\"background:grey;\"> Yes</span> <span style=\"background:grey;\">,</span> <span style=\"background:#3a2e00;\"> it</span> <span style=\"background:grey;\">'s</span> <span style=\"background:grey;\"> slow</span> <span style=\"background:grey;\">:</span> <span style=\"background:grey;\">\n",
       "</span> <span style=\"background:grey;\">\n",
       "</span> <span style=\"background:grey;\">Here</span> <span style=\"background:grey;\">'s</span> <span style=\"background:grey;\"> how</span> <span style=\"background:grey;\"> long</span> <span style=\"background:#130f00;\"> it</span> <span style=\"background:grey;\"> takes</span> <span style=\"background:grey;\"> (</span> <span style=\"background:grey;\">real</span> <span style=\"background:grey;\"> time</span> <span style=\"background:grey;\">)</span> <span style=\"background:#7c6100;\"> to</span> <span style=\"background:grey;\"> train</span> <span style=\"background:grey;\"> Hail</span> <span style=\"background:grey;\">o</span> <span style=\"background:grey;\"> with</span> <span style=\"background:grey;\"> a</span> <span style=\"background:grey;\"> new</span> <span style=\"background:#090700;\"> brain</span> <span style=\"background:grey;\">,</span> <span style=\"background:grey;\"> the</span> <span style=\"background:#080600;\"> command</span> <span style=\"background:grey;\"> is</span> <span style=\"background:grey;\">:</span></p>"
      ],
      "text/plain": [
       "<IPython.core.display.HTML object>"
      ]
     },
     "metadata": {},
     "output_type": "display_data"
    },
    {
     "data": {
      "text/html": [
       "<p style='background: grey;'><span style=\"background:grey;\">av</span> <span style=\"background:#221b00;\">ol</span> <span style=\"background:grey;\">aj</span> <span style=\"background:grey;\">.</span> <span style=\"background:grey;\">\n",
       "</span> <span style=\"background:grey;\">\n",
       "</span> <span style=\"background:#110d00;\">Mor</span> <span style=\"background:#080600;\">itz</span> <span style=\"background:grey;\"> continued</span> <span style=\"background:grey;\"> development</span> <span style=\"background:grey;\"> this</span> <span style=\"background:grey;\"> week</span> <span style=\"background:grey;\"> of</span> <span style=\"background:grey;\"> content</span> <span style=\"background:grey;\"> for</span> <span style=\"background:grey;\"> the</span> <span style=\"background:grey;\"> new</span> <span style=\"background:grey;\"> p</span> <span style=\"background:#302500;\">6</span> <span style=\"background:#000000;\">doc</span> <span style=\"background:grey;\"> (\"</span> <span style=\"background:#060500;\">Official</span> <span style=\"background:grey;\"> Perl</span> <span style=\"background:grey;\"> 6</span> <span style=\"background:grey;\"> documentation</span> <span style=\"background:grey;\">\"</span> <span style=\"background:grey;\"> for</span> <span style=\"background:grey;\"> end</span> <span style=\"background:grey;\">users</span> <span style=\"background:grey;\">).</span> <span style=\"background:grey;\">\n",
       "</span> <span style=\"background:grey;\">\n",
       "</span> <span style=\"background:#281f00;\">2012</span> <span style=\"background:grey;\">-</span> <span style=\"background:#141000;\">08</span> <span style=\"background:grey;\">-</span> <span style=\"background:grey;\">27</span> <span style=\"background:grey;\">:</span> <span style=\"background:grey;\">\n",
       "</span> <span style=\"background:grey;\">\n",
       "</span> <span style=\"background:#0e0b00;\">di</span> <span style=\"background:#110d00;\">ak</span> <span style=\"background:grey;\">opter</span> <span style=\"background:grey;\"> said</span> <span style=\"background:grey;\"> \"</span> <span style=\"background:grey;\">should</span> <span style=\"background:grey;\"> Perl</span> <span style=\"background:grey;\"> 6</span> <span style=\"background:grey;\"> encode</span> <span style=\"background:#100c00;\"> to</span> <span style=\"background:grey;\"> N</span> <span style=\"background:grey;\">FD</span> <span style=\"background:#020100;\"> on</span> <span style=\"background:#ffc800;\"> I</span> <span style=\"background:#3f3100;\">/</span> <span style=\"background:grey;\">O</span> <span style=\"background:grey;\"> output</span> <span style=\"background:#110d00;\">?</span> <span style=\"background:#513f00;\"> or</span> <span style=\"background:#040300;\"> leave</span> <span style=\"background:#1e1700;\"> in</span> <span style=\"background:#0c0900;\"> NFC</span> <span style=\"background:#604b00;\"> +</span> <span style=\"background:grey;\"> exploded</span></p>"
      ],
      "text/plain": [
       "<IPython.core.display.HTML object>"
      ]
     },
     "metadata": {},
     "output_type": "display_data"
    },
    {
     "data": {
      "text/html": [
       "<p style='color: red;'>Feature exp., #34: names and titles of individuals, particularly in a political or official context.</p>"
      ],
      "text/plain": [
       "<IPython.core.display.HTML object>"
      ]
     },
     "metadata": {},
     "output_type": "display_data"
    },
    {
     "data": {
      "text/html": [
       "<p style='background: grey;'><span style=\"background:grey;\"> be</span> <span style=\"background:grey;\"> chosen</span> <span style=\"background:grey;\"> as</span> <span style=\"background:grey;\"> the</span> <span style=\"background:grey;\"> iconic</span> <span style=\"background:#020100;\"> Canadian</span> <span style=\"background:#110d00;\"> woman</span> <span style=\"background:grey;\"> to</span> <span style=\"background:#0c0900;\"> be</span> <span style=\"background:grey;\"> featured</span> <span style=\"background:grey;\"> on</span> <span style=\"background:grey;\"> the</span> <span style=\"background:grey;\"> next</span> <span style=\"background:#020200;\"> series</span> <span style=\"background:grey;\"> of</span> <span style=\"background:#171200;\"> bank</span> <span style=\"background:grey;\">notes</span> <span style=\"background:#090700;\">,</span> <span style=\"background:grey;\"> the</span> <span style=\"background:#070500;\"> Bank</span> <span style=\"background:#161100;\"> of</span> <span style=\"background:grey;\"> Canada</span> <span style=\"background:grey;\"> said</span> <span style=\"background:grey;\"> Thursday</span> <span style=\"background:grey;\">.</span> <span style=\"background:grey;\">\n",
       "</span> <span style=\"background:grey;\">\n",
       "</span> <span style=\"background:grey;\">The</span> <span style=\"background:#070500;\"> final</span> <span style=\"background:#0a0800;\"> selection</span> <span style=\"background:#130e00;\"> and</span> <span style=\"background:#110d00;\"> the</span> <span style=\"background:#0c0900;\"> denomination</span> <span style=\"background:grey;\"> of</span> <span style=\"background:#070500;\"> the</span> <span style=\"background:#322700;\"> bill</span> <span style=\"background:grey;\"> on</span> <span style=\"background:grey;\"> which</span> <span style=\"background:#100d00;\"> she</span> <span style=\"background:grey;\"> will</span> <span style=\"background:#3a2d00;\"> appear</span> <span style=\"background:#1e1800;\"> is</span> <span style=\"background:#2a2100;\"> to</span> <span style=\"background:#141000;\"> be</span> <span style=\"background:#221b00;\"> announced</span> <span style=\"background:grey;\"> on</span> <span style=\"background:grey;\"> Dec</span> <span style=\"background:#050400;\">.</span> <span style=\"background:grey;\"> 8</span> <span style=\"background:grey;\"> by</span> <span style=\"background:#2d2300;\"> Finance</span> <span style=\"background:#6f5700;\"> Minister</span> <span style=\"background:#fac400;\"> Bill</span> <span style=\"background:#a38000;\"> Mor</span> <span style=\"background:#1b1500;\">neau</span> <span style=\"background:grey;\"> and</span> <span style=\"background:grey;\"> Bank</span> <span style=\"background:#000000;\"> of</span> <span style=\"background:grey;\"> Canada</span> <span style=\"background:#6b5400;\"> governor</span> <span style=\"background:#816500;\"> Stephen</span> <span style=\"background:#5a4600;\"> Pol</span> <span style=\"background:#0d0a00;\">oz</span> <span style=\"background:grey;\">.</span></p>"
      ],
      "text/plain": [
       "<IPython.core.display.HTML object>"
      ]
     },
     "metadata": {},
     "output_type": "display_data"
    },
    {
     "data": {
      "text/html": [
       "<p style='background: grey;'><span style=\"background:grey;\">\n",
       "</span> <span style=\"background:grey;\">This</span> <span style=\"background:grey;\"> year</span> <span style=\"background:grey;\">'s</span> <span style=\"background:grey;\"> election</span> <span style=\"background:grey;\"> will</span> <span style=\"background:#030200;\"> be</span> <span style=\"background:grey;\"> the</span> <span style=\"background:grey;\"> first</span> <span style=\"background:#010100;\"> since</span> <span style=\"background:#040300;\"> Kim</span> <span style=\"background:grey;\"> took</span> <span style=\"background:grey;\"> power</span> <span style=\"background:grey;\"> after</span> <span style=\"background:grey;\"> the</span> <span style=\"background:grey;\"> death</span> <span style=\"background:grey;\"> of</span> <span style=\"background:grey;\"> his</span> <span style=\"background:grey;\"> father</span> <span style=\"background:#010000;\"> Kim</span> <span style=\"background:grey;\"> Jong</span> <span style=\"background:grey;\"> Il</span> <span style=\"background:#0a0700;\"> in</span> <span style=\"background:grey;\"> late</span> <span style=\"background:grey;\"> 2011</span> <span style=\"background:grey;\">.</span> <span style=\"background:grey;\">\n",
       "</span> <span style=\"background:grey;\">\n",
       "</span> <span style=\"background:grey;\">The</span> <span style=\"background:#060500;\"> announcement</span> <span style=\"background:grey;\"> comes</span> <span style=\"background:#161100;\"> a</span> <span style=\"background:#251d00;\"> month</span> <span style=\"background:grey;\"> after</span> <span style=\"background:grey;\"> Kim</span> <span style=\"background:grey;\"> Jong</span> <span style=\"background:grey;\"> Un</span> <span style=\"background:#060500;\"> had</span> <span style=\"background:grey;\"> his</span> <span style=\"background:grey;\"> uncle</span> <span style=\"background:grey;\"> and</span> <span style=\"background:grey;\"> top</span> <span style=\"background:#000000;\"> official</span> <span style=\"background:#453600;\"> J</span> <span style=\"background:#261e00;\">ang</span> <span style=\"background:#050400;\"> Song</span> <span style=\"background:#e0af00;\"> Th</span> <span style=\"background:#5b4700;\">a</span> <span style=\"background:#130f00;\">ek</span> <span style=\"background:#151000;\"> executed</span> <span style=\"background:grey;\"> on</span> <span style=\"background:#080600;\"> treason</span> <span style=\"background:grey;\"> charges</span> <span style=\"background:grey;\">.</span> <span style=\"background:grey;\">\n",
       "</span> <span style=\"background:grey;\">\n",
       "</span> <span style=\"background:#110d00;\">Obs</span> <span style=\"background:grey;\">er</span> <span style=\"background:grey;\">vers</span> <span style=\"background:grey;\"> said</span> <span style=\"background:grey;\"> the</span> <span style=\"background:grey;\"> execution</span> <span style=\"background:#1a1500;\"> was</span> <span style=\"background:grey;\"> aimed</span></p>"
      ],
      "text/plain": [
       "<IPython.core.display.HTML object>"
      ]
     },
     "metadata": {},
     "output_type": "display_data"
    },
    {
     "data": {
      "text/html": [
       "<p style='background: grey;'><span style=\"background:grey;\"> euphem</span> <span style=\"background:#0c0a00;\">istically</span> <span style=\"background:grey;\"> referred</span> <span style=\"background:grey;\"> to</span> <span style=\"background:grey;\"> as</span> <span style=\"background:#1d1600;\"> \"</span> <span style=\"background:grey;\">comfort</span> <span style=\"background:#0a0800;\"> women</span> <span style=\"background:#251d00;\">\".</span> <span style=\"background:grey;\">\n",
       "</span> <span style=\"background:grey;\">\n",
       "</span> <span style=\"background:#453600;\">\"</span> <span style=\"background:#1a1400;\">Japan</span> <span style=\"background:grey;\"> and</span> <span style=\"background:grey;\"> South</span> <span style=\"background:grey;\"> Korea</span> <span style=\"background:grey;\"> will</span> <span style=\"background:grey;\"> welcome</span> <span style=\"background:#0c0900;\"> a</span> <span style=\"background:grey;\"> new</span> <span style=\"background:#040300;\"> era</span> <span style=\"background:grey;\">,\"</span> <span style=\"background:grey;\"> Abe</span> <span style=\"background:grey;\"> told</span> <span style=\"background:#423400;\"> reporters</span> <span style=\"background:grey;\"> after</span> <span style=\"background:#1e1700;\"> speaking</span> <span style=\"background:grey;\"> by</span> <span style=\"background:#060400;\"> phone</span> <span style=\"background:grey;\"> with</span> <span style=\"background:grey;\"> South</span> <span style=\"background:grey;\"> Korean</span> <span style=\"background:#2b2200;\"> President</span> <span style=\"background:grey;\"> Park</span> <span style=\"background:#886a00;\"> Ge</span> <span style=\"background:#4f3e00;\">un</span> <span style=\"background:#ab8600;\">-</span> <span style=\"background:#cda000;\">H</span> <span style=\"background:#040300;\">ye</span> <span style=\"background:grey;\">.</span> <span style=\"background:grey;\"> \"</span> <span style=\"background:#201900;\">Both</span> <span style=\"background:grey;\"> countries</span> <span style=\"background:grey;\"> will</span> <span style=\"background:#141000;\"> cooperate</span> <span style=\"background:#1e1700;\"> together</span> <span style=\"background:grey;\"> to</span> <span style=\"background:grey;\"> open</span> <span style=\"background:grey;\">\"</span> <span style=\"background:#0b0800;\"> it</span> <span style=\"background:grey;\">,</span> <span style=\"background:#080600;\"> he</span> <span style=\"background:#030200;\"> added</span> <span style=\"background:grey;\">.</span> <span style=\"background:grey;\">\n",
       "</span> <span style=\"background:grey;\">\n",
       "</span> <span style=\"background:#060400;\">The</span> <span style=\"background:#181300;\"> deal</span> <span style=\"background:#352900;\"> was</span> <span style=\"background:#161100;\"> reached</span> <span style=\"background:grey;\"> in</span> <span style=\"background:grey;\"> South</span> <span style=\"background:grey;\"> Korea</span> <span style=\"background:#1d1700;\">'s</span></p>"
      ],
      "text/plain": [
       "<IPython.core.display.HTML object>"
      ]
     },
     "metadata": {},
     "output_type": "display_data"
    },
    {
     "data": {
      "text/html": [
       "<p style='background: grey;'><span style=\"background:grey;\"> en</span> <span style=\"background:grey;\"> masse</span> <span style=\"background:grey;\"> to</span> <span style=\"background:#191300;\"> one</span> <span style=\"background:grey;\"> candidate</span> <span style=\"background:grey;\">,\"</span> <span style=\"background:grey;\"> she</span> <span style=\"background:#141000;\"> said</span> <span style=\"background:grey;\">,</span> <span style=\"background:#060500;\"> \"</span> <span style=\"background:grey;\">or</span> <span style=\"background:grey;\"> if</span> <span style=\"background:grey;\"> they</span> <span style=\"background:grey;\"> will</span> <span style=\"background:grey;\"> get</span> <span style=\"background:#0f0b00;\"> spread</span> <span style=\"background:#191300;\"> out</span> <span style=\"background:grey;\"> across</span> <span style=\"background:#1f1800;\"> a</span> <span style=\"background:#090700;\"> number</span> <span style=\"background:grey;\"> of</span> <span style=\"background:#1c1600;\"> candidates</span> <span style=\"background:grey;\">.\"</span> <span style=\"background:#080700;\"> There</span> <span style=\"background:grey;\"> are</span> <span style=\"background:grey;\"> more</span> <span style=\"background:grey;\"> than</span> <span style=\"background:grey;\"> a</span> <span style=\"background:grey;\"> dozen</span> <span style=\"background:#000000;\"> candidates</span> <span style=\"background:grey;\"> in</span> <span style=\"background:grey;\"> the</span> <span style=\"background:grey;\"> Seattle</span> <span style=\"background:grey;\"> mayor</span> <span style=\"background:grey;\">'s</span> <span style=\"background:grey;\"> race</span> <span style=\"background:grey;\">.</span> <span style=\"background:grey;\"> The</span> <span style=\"background:grey;\"> list</span> <span style=\"background:grey;\"> includes</span> <span style=\"background:grey;\">:</span> <span style=\"background:grey;\"> Former</span> <span style=\"background:grey;\"> U</span> <span style=\"background:grey;\">.</span> <span style=\"background:grey;\">S</span> <span style=\"background:grey;\">.</span> <span style=\"background:grey;\"> Attorney</span> <span style=\"background:#3b2e00;\"> Jenny</span> <span style=\"background:#c59b00;\"> Dur</span> <span style=\"background:grey;\">kan</span> <span style=\"background:grey;\">\n",
       "</span> <span style=\"background:grey;\">\n",
       "</span> <span style=\"background:grey;\">State</span> <span style=\"background:grey;\"> Representative</span> <span style=\"background:grey;\"> Jess</span> <span style=\"background:#000000;\">yn</span> <span style=\"background:grey;\"> Farrell</span> <span style=\"background:grey;\">\n",
       "</span> <span style=\"background:grey;\">\n",
       "</span> <span style=\"background:grey;\">State</span> <span style=\"background:grey;\"> Senator</span> <span style=\"background:grey;\"> Bob</span> <span style=\"background:grey;\"> H</span> <span style=\"background:grey;\">ase</span></p>"
      ],
      "text/plain": [
       "<IPython.core.display.HTML object>"
      ]
     },
     "metadata": {},
     "output_type": "display_data"
    },
    {
     "data": {
      "text/html": [
       "<p style='background: grey;'><span style=\"background:grey;\">th</span> <span style=\"background:grey;\"> century</span> <span style=\"background:grey;\"> onward</span> <span style=\"background:#1b1500;\">.</span> <span style=\"background:grey;\">\n",
       "</span> <span style=\"background:grey;\">\n",
       "</span> <span style=\"background:grey;\">My</span> <span style=\"background:#120e00;\">stic</span> <span style=\"background:#090700;\"> roots</span> <span style=\"background:grey;\">\n",
       "</span> <span style=\"background:grey;\">\n",
       "</span> <span style=\"background:grey;\">Keep</span> <span style=\"background:grey;\"> updated</span> <span style=\"background:grey;\">:</span> <span style=\"background:grey;\"> Sign</span> <span style=\"background:grey;\"> up</span> <span style=\"background:grey;\"> to</span> <span style=\"background:grey;\"> our</span> <span style=\"background:grey;\"> newsletter</span> <span style=\"background:grey;\"> Email</span> <span style=\"background:grey;\"> *</span> <span style=\"background:#060400;\"> Please</span> <span style=\"background:grey;\"> enter</span> <span style=\"background:#241c00;\"> a</span> <span style=\"background:#171200;\"> valid</span> <span style=\"background:#2c2200;\"> email</span> <span style=\"background:#2a2100;\"> address</span> <span style=\"background:grey;\"> Sign</span> <span style=\"background:#5a4700;\"> up</span> <span style=\"background:#1e1700;\"> Please</span> <span style=\"background:#060400;\"> wait</span> <span style=\"background:#584500;\">…</span> <span style=\"background:#1b1500;\"> Thank</span> <span style=\"background:grey;\"> you</span> <span style=\"background:#332800;\"> for</span> <span style=\"background:grey;\"> signing</span> <span style=\"background:#342900;\"> up</span> <span style=\"background:#0d0a00;\">.</span> <span style=\"background:#bf9500;\"> We</span> <span style=\"background:#6f5700;\">'ve</span> <span style=\"background:#060500;\"> got</span> <span style=\"background:#261d00;\"> more</span> <span style=\"background:grey;\"> newsletters</span> <span style=\"background:#8c6d00;\"> we</span> <span style=\"background:#0e0b00;\"> think</span> <span style=\"background:grey;\"> you</span> <span style=\"background:#1d1600;\">'ll</span> <span style=\"background:grey;\"> find</span> <span style=\"background:#070600;\"> interesting</span> <span style=\"background:grey;\">.</span> <span style=\"background:grey;\"> Click</span> <span style=\"background:grey;\"> here</span> <span style=\"background:grey;\"> Oops</span> <span style=\"background:#090700;\">.</span> <span style=\"background:grey;\"> Something</span> <span style=\"background:grey;\"> went</span> <span style=\"background:#2d2300;\"> wrong</span> <span style=\"background:#201900;\">.</span> <span style=\"background:grey;\"> Please</span> <span style=\"background:grey;\"> try</span> <span style=\"background:#141000;\"> again</span> <span style=\"background:grey;\"> later</span> <span style=\"background:#231b00;\">.</span> <span style=\"background:grey;\"> Try</span></p>"
      ],
      "text/plain": [
       "<IPython.core.display.HTML object>"
      ]
     },
     "metadata": {},
     "output_type": "display_data"
    },
    {
     "data": {
      "text/html": [
       "<p style='color: red;'>Feature exp., #35: words associated with rules, laws, and restrictions.</p>"
      ],
      "text/plain": [
       "<IPython.core.display.HTML object>"
      ]
     },
     "metadata": {},
     "output_type": "display_data"
    },
    {
     "data": {
      "text/html": [
       "<p style='background: grey;'><span style=\"background:#110d00;\">BE</span> <span style=\"background:#211a00;\"> is</span> <span style=\"background:grey;\"> a</span> <span style=\"background:grey;\"> testing</span> <span style=\"background:#140f00;\"> grounds</span> <span style=\"background:grey;\"> for</span> <span style=\"background:grey;\"> new</span> <span style=\"background:grey;\">,</span> <span style=\"background:#0b0900;\"> tentative</span> <span style=\"background:#2d2300;\">,</span> <span style=\"background:#644e00;\"> and</span> <span style=\"background:#392d00;\"> sometimes</span> <span style=\"background:#100d00;\"> radical</span> <span style=\"background:grey;\"> changes</span> <span style=\"background:#151100;\">.</span> <span style=\"background:#4c3c00;\"> The</span> <span style=\"background:#241c00;\"> changes</span> <span style=\"background:grey;\"> you</span> <span style=\"background:grey;\"> see</span> <span style=\"background:#1b1500;\"> below</span> <span style=\"background:#251d00;\"> may</span> <span style=\"background:#8d6f00;\"> be</span> <span style=\"background:#352a00;\"> lacking</span> <span style=\"background:#2c2200;\"> context</span> <span style=\"background:#8c6d00;\"> or</span> <span style=\"background:#413300;\"> other</span> <span style=\"background:#765c00;\"> accompanying</span> <span style=\"background:#1f1900;\"> changes</span> <span style=\"background:#2e2400;\"> that</span> <span style=\"background:grey;\"> didn</span> <span style=\"background:grey;\">'t</span> <span style=\"background:#362b00;\"> make</span> <span style=\"background:grey;\"> it</span> <span style=\"background:grey;\"> in</span> <span style=\"background:grey;\"> -</span> <span style=\"background:grey;\"> don</span> <span style=\"background:grey;\">'t</span> <span style=\"background:grey;\"> freak</span> <span style=\"background:grey;\"> out</span> <span style=\"background:#5f4b00;\">!</span> <span style=\"background:#2c2300;\"> These</span> <span style=\"background:#957500;\"> are</span> <span style=\"background:#6a5300;\"> not</span> <span style=\"background:#705800;\"> official</span> <span style=\"background:grey;\"> notes</span> <span style=\"background:#0b0900;\">.</span> <span style=\"background:#241c00;\"> *</span> <span style=\"background:grey;\"> Remember</span> <span style=\"background:#261d00;\"> *</span> <span style=\"background:#201900;\">:</span> <span style=\"background:#3b2e00;\"> The</span> <span style=\"background:#050400;\"> P</span> <span style=\"background:#967600;\">BE</span> <span style=\"background:#f0bc00;\"> is</span> <span style=\"background:#ffc800;\"> a</span> <span style=\"background:#271f00;\"> testing</span> <span style=\"background:#302600;\"> grounds</span> <span style=\"background:#2d2300;\"> for</span> <span style=\"background:grey;\"> new</span> <span style=\"background:#1c1600;\">,</span> <span style=\"background:grey;\"> tentative</span> <span style=\"background:grey;\">,</span> <span style=\"background:#1a1400;\"> and</span> <span style=\"background:#1a1400;\"> sometimes</span></p>"
      ],
      "text/plain": [
       "<IPython.core.display.HTML object>"
      ]
     },
     "metadata": {},
     "output_type": "display_data"
    },
    {
     "data": {
      "text/html": [
       "<p style='background: grey;'><span style=\"background:#151000;\">br</span> <span style=\"background:#000000;\">ite</span> <span style=\"background:#100c00;\"> extracts</span> <span style=\"background:grey;\"> information</span> <span style=\"background:#030200;\"> from</span> <span style=\"background:grey;\"> a</span> <span style=\"background:grey;\"> cell</span> <span style=\"background:#000000;\"> phone</span> <span style=\"background:#090700;\">.</span> <span style=\"background:#0b0800;\"> The</span> <span style=\"background:#070500;\"> company</span> <span style=\"background:grey;\"> specializes</span> <span style=\"background:#120e00;\"> in</span> <span style=\"background:grey;\"> digital</span> <span style=\"background:grey;\"> data</span> <span style=\"background:#020200;\"> extraction</span> <span style=\"background:grey;\">.</span> <span style=\"background:grey;\"> According</span> <span style=\"background:grey;\"> to</span> <span style=\"background:#171200;\"> press</span> <span style=\"background:grey;\"> reports</span> <span style=\"background:grey;\"> in</span> <span style=\"background:grey;\"> Israeli</span> <span style=\"background:grey;\"> media</span> <span style=\"background:grey;\">,</span> <span style=\"background:grey;\"> the</span> <span style=\"background:grey;\"> FBI</span> <span style=\"background:grey;\"> is</span> <span style=\"background:grey;\"> working</span> <span style=\"background:grey;\"> with</span> <span style=\"background:grey;\"> C</span> <span style=\"background:grey;\">elle</span> <span style=\"background:grey;\">br</span> <span style=\"background:grey;\">ite</span> <span style=\"background:grey;\"> to</span> <span style=\"background:#020100;\"> access</span> <span style=\"background:#050400;\"> the</span> <span style=\"background:grey;\"> data</span> <span style=\"background:grey;\"> in</span> <span style=\"background:grey;\"> the</span> <span style=\"background:grey;\"> locked</span> <span style=\"background:#120e00;\"> iPhone</span> <span style=\"background:grey;\"> used</span> <span style=\"background:grey;\"> by</span> <span style=\"background:#070500;\"> San</span> <span style=\"background:#130f00;\"> Bernardino</span> <span style=\"background:#281f00;\"> shooter</span> <span style=\"background:#3c2f00;\"> Sy</span> <span style=\"background:#2c2300;\">ed</span> <span style=\"background:#cda100;\"> R</span> <span style=\"background:grey;\">iz</span> <span style=\"background:#271e00;\">wan</span> <span style=\"background:#524000;\"> Far</span> <span style=\"background:grey;\">ook</span> <span style=\"background:grey;\">.</span> <span style=\"background:#130f00;\"> (</span> <span style=\"background:#080600;\">Photo</span> <span style=\"background:grey;\">:</span> <span style=\"background:grey;\"> C</span> <span style=\"background:grey;\">elle</span> <span style=\"background:grey;\">br</span> <span style=\"background:grey;\">ite</span> <span style=\"background:grey;\">)</span> <span style=\"background:grey;\">\n",
       "</span></p>"
      ],
      "text/plain": [
       "<IPython.core.display.HTML object>"
      ]
     },
     "metadata": {},
     "output_type": "display_data"
    },
    {
     "data": {
      "text/html": [
       "<p style='background: grey;'><span style=\"background:#191300;\">eter</span> <span style=\"background:#140f00;\">-</span> <span style=\"background:#110d00;\">F</span> <span style=\"background:grey;\">err</span> <span style=\"background:grey;\">ari</span> <span style=\"background:grey;\"> said</span> <span style=\"background:grey;\">,</span> <span style=\"background:#090700;\"> Trump</span> <span style=\"background:#020100;\">'s</span> <span style=\"background:#161100;\"> executive</span> <span style=\"background:grey;\"> order</span> <span style=\"background:#100c00;\"> in</span> <span style=\"background:grey;\"> January</span> <span style=\"background:grey;\"> temporarily</span> <span style=\"background:#3d3000;\"> banning</span> <span style=\"background:#332800;\"> travel</span> <span style=\"background:#725900;\"> from</span> <span style=\"background:#bd9400;\"> seven</span> <span style=\"background:#907100;\"> Muslim</span> <span style=\"background:#8f7000;\">-</span> <span style=\"background:#977700;\">majority</span> <span style=\"background:grey;\"> nations</span> <span style=\"background:#1f1800;\"> came</span> <span style=\"background:#141000;\"> at</span> <span style=\"background:#1d1600;\"> the</span> <span style=\"background:#040300;\"> worst</span> <span style=\"background:grey;\"> possible</span> <span style=\"background:#120e00;\"> time</span> <span style=\"background:grey;\"> -</span> <span style=\"background:#000000;\"> just</span> <span style=\"background:grey;\"> as</span> <span style=\"background:#020100;\"> the</span> <span style=\"background:#342900;\"> admissions</span> <span style=\"background:#1c1600;\"> period</span> <span style=\"background:#1a1400;\"> for</span> <span style=\"background:grey;\"> next</span> <span style=\"background:#1b1500;\"> year</span> <span style=\"background:#281f00;\"> opened</span> <span style=\"background:grey;\">.</span> <span style=\"background:grey;\">\n",
       "</span> <span style=\"background:grey;\">\n",
       "</span> <span style=\"background:grey;\">Cour</span> <span style=\"background:grey;\">ts</span> <span style=\"background:#060400;\"> overturned</span> <span style=\"background:grey;\"> both</span> <span style=\"background:grey;\"> that</span> <span style=\"background:grey;\"> order</span> <span style=\"background:grey;\"> and</span> <span style=\"background:#201900;\"> a</span> <span style=\"background:#181300;\"> similar</span> <span style=\"background:#130f00;\"> subsequent</span> <span style=\"background:grey;\"> order</span> <span style=\"background:grey;\">,</span> <span style=\"background:grey;\"> which</span> <span style=\"background:#302600;\"> affected</span> <span style=\"background:#181300;\"> 53</span> <span style=\"background:#271e00;\"> Wright</span> <span style=\"background:#271f00;\"> State</span> <span style=\"background:#564300;\"> international</span> <span style=\"background:grey;\"> students</span> <span style=\"background:#0b0900;\"> from</span> <span style=\"background:#493900;\"> those</span> <span style=\"background:#5c4800;\"> seven</span> <span style=\"background:grey;\"> countries</span></p>"
      ],
      "text/plain": [
       "<IPython.core.display.HTML object>"
      ]
     },
     "metadata": {},
     "output_type": "display_data"
    },
    {
     "data": {
      "text/html": [
       "<p style='background: grey;'><span style=\"background:#110d00;\"> can</span> <span style=\"background:#1f1800;\"> be</span> <span style=\"background:grey;\"> sm</span> <span style=\"background:#070600;\">elly</span> <span style=\"background:grey;\"> beasts</span> <span style=\"background:grey;\">:</span> <span style=\"background:#0a0800;\"> they</span> <span style=\"background:grey;\"> fart</span> <span style=\"background:grey;\"> and</span> <span style=\"background:grey;\"> poop</span> <span style=\"background:grey;\"> constantly</span> <span style=\"background:grey;\">,</span> <span style=\"background:grey;\"> filling</span> <span style=\"background:grey;\"> the</span> <span style=\"background:grey;\"> air</span> <span style=\"background:grey;\"> for</span> <span style=\"background:grey;\"> miles</span> <span style=\"background:grey;\"> with</span> <span style=\"background:grey;\"> the</span> <span style=\"background:grey;\"> ac</span> <span style=\"background:grey;\">rid</span> <span style=\"background:grey;\"> scent</span> <span style=\"background:#050300;\"> of</span> <span style=\"background:grey;\"> their</span> <span style=\"background:grey;\"> bow</span> <span style=\"background:grey;\">els</span> <span style=\"background:grey;\">.</span> <span style=\"background:#010100;\"> For</span> <span style=\"background:grey;\"> anyone</span> <span style=\"background:#191300;\"> who</span> <span style=\"background:grey;\"> may</span> <span style=\"background:#100d00;\"> find</span> <span style=\"background:#181200;\"> that</span> <span style=\"background:#110e00;\"> aroma</span> <span style=\"background:#0f0c00;\"> rep</span> <span style=\"background:grey;\">ulsive</span> <span style=\"background:grey;\">,</span> <span style=\"background:#2c2200;\"> California</span> <span style=\"background:grey;\"> is</span> <span style=\"background:grey;\"> on</span> <span style=\"background:grey;\"> the</span> <span style=\"background:grey;\"> case</span> <span style=\"background:grey;\">.</span> <span style=\"background:grey;\">\n",
       "</span> <span style=\"background:grey;\">\n",
       "</span> <span style=\"background:#2c2200;\">California</span> <span style=\"background:#161100;\"> Gov</span> <span style=\"background:#b18b00;\">.</span> <span style=\"background:#795f00;\"> Jerry</span> <span style=\"background:grey;\"> Brown</span> <span style=\"background:#292000;\"> this</span> <span style=\"background:grey;\"> week</span> <span style=\"background:grey;\"> signed</span> <span style=\"background:grey;\"> into</span> <span style=\"background:grey;\"> law</span> <span style=\"background:grey;\"> a</span> <span style=\"background:grey;\"> bill</span> <span style=\"background:grey;\"> that</span> <span style=\"background:grey;\"> would</span> <span style=\"background:#0f0c00;\"> place</span> <span style=\"background:grey;\"> limitations</span> <span style=\"background:#1c1600;\"> on</span> <span style=\"background:#392d00;\"> emissions</span> <span style=\"background:#010100;\"> of</span></p>"
      ],
      "text/plain": [
       "<IPython.core.display.HTML object>"
      ]
     },
     "metadata": {},
     "output_type": "display_data"
    },
    {
     "data": {
      "text/html": [
       "<p style='background: grey;'><span style=\"background:#1b1500;\"> accord</span> <span style=\"background:#0d0a00;\"> hold</span> <span style=\"background:#0d0a00;\">?</span> <span style=\"background:#0d0a00;\"> It</span> <span style=\"background:#312600;\"> is</span> <span style=\"background:grey;\"> an</span> <span style=\"background:#0f0b00;\"> ambitious</span> <span style=\"background:grey;\">,</span> <span style=\"background:grey;\"> saint</span> <span style=\"background:#010100;\">ly</span> <span style=\"background:grey;\"> document</span> <span style=\"background:#3d3000;\"> that</span> <span style=\"background:grey;\"> specifies</span> <span style=\"background:grey;\"> a</span> <span style=\"background:#1f1800;\"> term</span> <span style=\"background:grey;\"> of</span> <span style=\"background:#201900;\"> four</span> <span style=\"background:grey;\"> years</span> <span style=\"background:grey;\">.</span> <span style=\"background:grey;\"> But</span> <span style=\"background:grey;\"> the</span> <span style=\"background:#000000;\"> effective</span> <span style=\"background:grey;\"> majority</span> <span style=\"background:grey;\"> of</span> <span style=\"background:grey;\"> an</span> <span style=\"background:#010100;\"> NDP</span> <span style=\"background:grey;\"> government</span> <span style=\"background:#050400;\"> with</span> <span style=\"background:grey;\"> Green</span> <span style=\"background:grey;\"> support</span> <span style=\"background:#090700;\">,</span> <span style=\"background:#080600;\"> assuming</span> <span style=\"background:grey;\"> a</span> <span style=\"background:grey;\"> Liberal</span> <span style=\"background:#130f00;\"> speaker</span> <span style=\"background:#030200;\">,</span> <span style=\"background:grey;\"> will</span> <span style=\"background:#1b1500;\"> be</span> <span style=\"background:#0e0b00;\"> just</span> <span style=\"background:#332800;\"> two</span> <span style=\"background:grey;\"> seats</span> <span style=\"background:grey;\">.</span> <span style=\"background:#020100;\"> (</span> <span style=\"background:grey;\">The</span> <span style=\"background:#0d0a00;\"> convention</span> <span style=\"background:#171200;\"> preventing</span> <span style=\"background:grey;\"> a</span> <span style=\"background:#211a00;\"> government</span> <span style=\"background:grey;\"> from</span> <span style=\"background:grey;\"> being</span> <span style=\"background:grey;\"> ousted</span> <span style=\"background:grey;\"> on</span> <span style=\"background:grey;\"> a</span> <span style=\"background:grey;\"> casting</span> <span style=\"background:grey;\"> vote</span> <span style=\"background:#010100;\"> will</span> <span style=\"background:grey;\"> definitely</span> <span style=\"background:grey;\"> apply</span> <span style=\"background:#0b0900;\"> once</span> <span style=\"background:grey;\"> NDP</span> <span style=\"background:grey;\"> leader</span> <span style=\"background:#b08a00;\"> John</span> <span style=\"background:#312700;\"> Hor</span> <span style=\"background:#050400;\">gan</span></p>"
      ],
      "text/plain": [
       "<IPython.core.display.HTML object>"
      ]
     },
     "metadata": {},
     "output_type": "display_data"
    },
    {
     "data": {
      "text/html": [
       "<p style='color: red;'>Feature exp., #36: the initials and the first syllables of personal names.</p>"
      ],
      "text/plain": [
       "<IPython.core.display.HTML object>"
      ]
     },
     "metadata": {},
     "output_type": "display_data"
    },
    {
     "data": {
      "text/html": [
       "<p style='background: grey;'><span style=\"background:grey;\"> breakup</span> <span style=\"background:grey;\"> commandments</span> <span style=\"background:#171200;\">:</span> <span style=\"background:grey;\">\n",
       "</span> <span style=\"background:grey;\">\n",
       "</span> <span style=\"background:grey;\">1</span> <span style=\"background:grey;\">.</span> <span style=\"background:grey;\"> A</span> <span style=\"background:#ffc800;\">cknow</span> <span style=\"background:grey;\">ledge</span> <span style=\"background:grey;\">,</span> <span style=\"background:#423300;\"> feel</span> <span style=\"background:grey;\"> and</span> <span style=\"background:grey;\"> accept</span> <span style=\"background:grey;\"> your</span> <span style=\"background:grey;\"> emotions</span> <span style=\"background:#201900;\">.</span> <span style=\"background:grey;\">\n",
       "</span> <span style=\"background:grey;\">\n",
       "</span> <span style=\"background:#927200;\">Bur</span> <span style=\"background:grey;\">ying</span> <span style=\"background:grey;\"> your</span> <span style=\"background:grey;\"> emotions</span> <span style=\"background:grey;\"> and</span> <span style=\"background:grey;\"> refusing</span> <span style=\"background:grey;\"> to</span> <span style=\"background:grey;\"> acknowledge</span> <span style=\"background:grey;\"> them</span> <span style=\"background:grey;\"> is</span> <span style=\"background:grey;\"> the</span> <span style=\"background:grey;\"> worst</span> <span style=\"background:grey;\"> thing</span> <span style=\"background:grey;\"> you</span> <span style=\"background:grey;\"> can</span> <span style=\"background:grey;\"> do</span> <span style=\"background:grey;\"> in</span> <span style=\"background:#241c00;\"> such</span> <span style=\"background:#493900;\"> a</span> <span style=\"background:grey;\"> vulnerable</span> <span style=\"background:grey;\"> situation</span> <span style=\"background:#141000;\">.</span> <span style=\"background:grey;\"> L</span> <span style=\"background:grey;\">osing</span> <span style=\"background:grey;\"> someone</span> <span style=\"background:grey;\"> is</span> <span style=\"background:grey;\"> confusing</span> <span style=\"background:grey;\">,</span> <span style=\"background:grey;\"> heartbreaking</span> <span style=\"background:grey;\"> and</span> <span style=\"background:grey;\"> sometimes</span> <span style=\"background:grey;\"> it</span> <span style=\"background:grey;\"> even</span> <span style=\"background:grey;\"> feels</span> <span style=\"background:grey;\"> earth</span> <span style=\"background:#0e0b00;\">-</span> <span style=\"background:grey;\">sh</span> <span style=\"background:grey;\">attering</span> <span style=\"background:grey;\">.</span> <span style=\"background:grey;\">\n",
       "</span> <span style=\"background:grey;\">\n",
       "</span> <span style=\"background:grey;\">But</span> <span style=\"background:grey;\"> you</span> <span style=\"background:grey;\">'re</span> <span style=\"background:grey;\"> not</span></p>"
      ],
      "text/plain": [
       "<IPython.core.display.HTML object>"
      ]
     },
     "metadata": {},
     "output_type": "display_data"
    },
    {
     "data": {
      "text/html": [
       "<p style='background: grey;'><span style=\"background:grey;\">ism</span> <span style=\"background:#433400;\">.</span> <span style=\"background:grey;\"> Roth</span> <span style=\"background:#130e00;\">bard</span> <span style=\"background:grey;\"> is</span> <span style=\"background:grey;\"> the</span> <span style=\"background:grey;\"> single</span> <span style=\"background:grey;\"> most</span> <span style=\"background:grey;\"> important</span> <span style=\"background:grey;\"> figure</span> <span style=\"background:grey;\">,</span> <span style=\"background:grey;\"> after</span> <span style=\"background:#463700;\"> Ludwig</span> <span style=\"background:#a78300;\"> von</span> <span style=\"background:#ffc800;\"> M</span> <span style=\"background:grey;\">ises</span> <span style=\"background:#614c00;\"> and</span> <span style=\"background:#8c6d00;\"> Friedrich</span> <span style=\"background:#0a0700;\"> Hay</span> <span style=\"background:grey;\">ek</span> <span style=\"background:grey;\"> themselves</span> <span style=\"background:grey;\">,</span> <span style=\"background:grey;\"> in</span> <span style=\"background:#8d6e00;\"> the</span> <span style=\"background:grey;\"> strains</span> <span style=\"background:#4d3c00;\"> of</span> <span style=\"background:#5e4a00;\"> libertarian</span> <span style=\"background:grey;\"> thought</span> <span style=\"background:grey;\"> that</span> <span style=\"background:#191300;\"> claim</span> <span style=\"background:#020100;\"> adherence</span> <span style=\"background:#282000;\"> to</span> <span style=\"background:#130f00;\"> Austrian</span> <span style=\"background:#070500;\"> economic</span> <span style=\"background:grey;\"> principles</span> <span style=\"background:#020200;\"> --</span> <span style=\"background:#040300;\"> and</span> <span style=\"background:grey;\"> is</span> <span style=\"background:grey;\"> the</span> <span style=\"background:grey;\"> subject</span> <span style=\"background:grey;\"> of</span> <span style=\"background:grey;\"> breath</span> <span style=\"background:grey;\">less</span> <span style=\"background:grey;\"> ad</span> <span style=\"background:grey;\">ulation</span> <span style=\"background:#030200;\"> by</span> <span style=\"background:grey;\"> his</span> <span style=\"background:grey;\"> followers</span> <span style=\"background:#070600;\">.</span> <span style=\"background:grey;\">\n",
       "</span> <span style=\"background:grey;\">\n",
       "</span> <span style=\"background:grey;\">R</span> <span style=\"background:#3e3100;\">oth</span> <span style=\"background:grey;\">bard</span> <span style=\"background:grey;\"> founded</span> <span style=\"background:#0d0a00;\"> the</span> <span style=\"background:#554300;\"> Center</span> <span style=\"background:#130f00;\"> for</span> <span style=\"background:#010100;\"> Libertarian</span> <span style=\"background:grey;\"> Studies</span> <span style=\"background:grey;\"> in</span> <span style=\"background:grey;\"> 1976</span> <span style=\"background:#3c2f00;\"> and</span> <span style=\"background:#060500;\"> the</span></p>"
      ],
      "text/plain": [
       "<IPython.core.display.HTML object>"
      ]
     },
     "metadata": {},
     "output_type": "display_data"
    },
    {
     "data": {
      "text/html": [
       "<p style='background: grey;'><span style=\"background:grey;\">ipop</span> <span style=\"background:#0b0800;\"> to</span> <span style=\"background:grey;\"> the</span> <span style=\"background:grey;\"> ground</span> <span style=\"background:#0b0800;\">.</span> <span style=\"background:grey;\"> I</span> <span style=\"background:grey;\"> fell</span> <span style=\"background:#0d0a00;\"> on</span> <span style=\"background:#2b2100;\"> my</span> <span style=\"background:grey;\"> leg</span> <span style=\"background:grey;\">,</span> <span style=\"background:grey;\"> onto</span> <span style=\"background:grey;\"> my</span> <span style=\"background:grey;\"> whole</span> <span style=\"background:grey;\"> right</span> <span style=\"background:grey;\"> side</span> <span style=\"background:grey;\">.</span> <span style=\"background:#3c2f00;\">\n",
       "</span> <span style=\"background:#1e1800;\">\n",
       "</span> <span style=\"background:grey;\">Download</span> <span style=\"background:#090700;\"> Your</span> <span style=\"background:#cb9f00;\"> First</span> <span style=\"background:#ffc800;\"> Issue</span> <span style=\"background:grey;\"> Free</span> <span style=\"background:#302500;\">!</span> <span style=\"background:#2c2300;\"> Do</span> <span style=\"background:#715900;\"> You</span> <span style=\"background:#332800;\"> Want</span> <span style=\"background:#675100;\"> to</span> <span style=\"background:#ffc800;\"> Learn</span> <span style=\"background:#ffc800;\"> How</span> <span style=\"background:#c59a00;\"> to</span> <span style=\"background:#ffc800;\"> Become</span> <span style=\"background:#9c7a00;\"> Fin</span> <span style=\"background:#0b0900;\">an</span> <span style=\"background:#0b0800;\">cially</span> <span style=\"background:#ffc800;\"> Independent</span> <span style=\"background:#ffc800;\">,</span> <span style=\"background:#ffc800;\"> Make</span> <span style=\"background:#c19700;\"> a</span> <span style=\"background:#594600;\"> Living</span> <span style=\"background:#ffc800;\"> Without</span> <span style=\"background:#ffc800;\"> a</span> <span style=\"background:#9e7c00;\"> Traditional</span> <span style=\"background:grey;\"> Job</span> <span style=\"background:#d4a700;\"> &</span> <span style=\"background:#4c3b00;\"> Finally</span> <span style=\"background:#1e1800;\"> Live</span> <span style=\"background:grey;\"> Free</span> <span style=\"background:grey;\">?</span> <span style=\"background:grey;\">\n",
       "</span> <span style=\"background:grey;\">\n",
       "</span> <span style=\"background:#2d2300;\">Download</span> <span style=\"background:grey;\"> Your</span> <span style=\"background:#5a4700;\"> Free</span> <span style=\"background:grey;\"> Copy</span> <span style=\"background:grey;\"> of</span> <span style=\"background:grey;\"> Counter</span> <span style=\"background:grey;\"> Markets</span> <span style=\"background:grey;\">\n",
       "</span> <span style=\"background:grey;\">\n",
       "</span> <span style=\"background:grey;\">She</span> <span style=\"background:grey;\"> must</span> <span style=\"background:grey;\"> be</span></p>"
      ],
      "text/plain": [
       "<IPython.core.display.HTML object>"
      ]
     },
     "metadata": {},
     "output_type": "display_data"
    },
    {
     "data": {
      "text/html": [
       "<p style='background: grey;'><span style=\"background:grey;\"> want</span> <span style=\"background:#080600;\"> to</span> <span style=\"background:grey;\"> bring</span> <span style=\"background:grey;\"> him</span> <span style=\"background:grey;\"> back</span> <span style=\"background:#382c00;\"> to</span> <span style=\"background:grey;\"> Europe</span> <span style=\"background:grey;\">,</span> <span style=\"background:grey;\"> where</span> <span style=\"background:#020100;\"> he</span> <span style=\"background:#281f00;\"> spent</span> <span style=\"background:#352900;\"> nine</span> <span style=\"background:grey;\"> years</span> <span style=\"background:grey;\"> with</span> <span style=\"background:grey;\"> West</span> <span style=\"background:grey;\"> Ham</span> <span style=\"background:grey;\">,</span> <span style=\"background:#261d00;\"> both</span> <span style=\"background:#665000;\"> Manchester</span> <span style=\"background:#161100;\"> clubs</span> <span style=\"background:#141000;\"> and</span> <span style=\"background:#433500;\"> Antonio</span> <span style=\"background:#ffc800;\"> Con</span> <span style=\"background:grey;\">te</span> <span style=\"background:#4a3a00;\">'s</span> <span style=\"background:#2f2500;\"> Juventus</span> <span style=\"background:grey;\">.</span> <span style=\"background:grey;\">\n",
       "</span> <span style=\"background:#1a1400;\">\n",
       "</span> <span style=\"background:grey;\">Te</span> <span style=\"background:grey;\">vez</span> <span style=\"background:grey;\"> returned</span> <span style=\"background:grey;\"> to</span> <span style=\"background:grey;\"> Buenos</span> <span style=\"background:grey;\"> Aires</span> <span style=\"background:grey;\"> and</span> <span style=\"background:grey;\"> first</span> <span style=\"background:#110d00;\"> club</span> <span style=\"background:grey;\"> B</span> <span style=\"background:#4e3d00;\">oca</span> <span style=\"background:grey;\"> in</span> <span style=\"background:grey;\"> 2015</span> <span style=\"background:grey;\">,</span> <span style=\"background:grey;\"> and</span> <span style=\"background:#161100;\"> the</span> <span style=\"background:grey;\"> message</span> <span style=\"background:#251d00;\"> to</span> <span style=\"background:#3e3000;\"> interested</span> <span style=\"background:#695300;\"> European</span> <span style=\"background:grey;\"> clubs</span> <span style=\"background:grey;\"> is</span> <span style=\"background:grey;\"> clear</span> <span style=\"background:#2e2400;\">:</span> <span style=\"background:grey;\"> '</span> <span style=\"background:grey;\">I</span> <span style=\"background:grey;\">'m</span> <span style=\"background:grey;\"> not</span> <span style=\"background:grey;\"> coming</span> <span style=\"background:grey;\"> back</span> <span style=\"background:grey;\">'.</span> <span style=\"background:grey;\">\n",
       "</span> <span style=\"background:grey;\">\n",
       "</span> <span style=\"background:grey;\">\"</span> <span style=\"background:grey;\">I</span></p>"
      ],
      "text/plain": [
       "<IPython.core.display.HTML object>"
      ]
     },
     "metadata": {},
     "output_type": "display_data"
    },
    {
     "data": {
      "text/html": [
       "<p style='background: grey;'><span style=\"background:grey;\">B</span> <span style=\"background:grey;\">apt</span> <span style=\"background:#0b0900;\">iste</span> <span style=\"background:#100d00;\">.</span> <span style=\"background:grey;\"> From</span> <span style=\"background:grey;\"> Metro</span> <span style=\"background:#151100;\">-</span> <span style=\"background:#0c0900;\">Gold</span> <span style=\"background:grey;\">wyn</span> <span style=\"background:#2e2400;\">-</span> <span style=\"background:#ffc800;\">M</span> <span style=\"background:grey;\">ayer</span> <span style=\"background:grey;\"> Pictures</span> <span style=\"background:grey;\"> and</span> <span style=\"background:grey;\"> Columbia</span> <span style=\"background:grey;\"> Pictures</span> <span style=\"background:#251d00;\">,</span> <span style=\"background:grey;\"> the</span> <span style=\"background:grey;\"> film</span> <span style=\"background:grey;\"> was</span> <span style=\"background:grey;\"> written</span> <span style=\"background:grey;\"> by</span> <span style=\"background:grey;\"> Josh</span> <span style=\"background:grey;\"> Z</span> <span style=\"background:#100d00;\">et</span> <span style=\"background:grey;\">umer</span> <span style=\"background:grey;\"> and</span> <span style=\"background:grey;\"> Nick</span> <span style=\"background:#080600;\"> Sc</span> <span style=\"background:#443600;\">hen</span> <span style=\"background:grey;\">k</span> <span style=\"background:#070500;\">,</span> <span style=\"background:grey;\"> based</span> <span style=\"background:grey;\"> on</span> <span style=\"background:#322700;\"> the</span> <span style=\"background:grey;\"> 1987</span> <span style=\"background:grey;\"> motion</span> <span style=\"background:grey;\"> picture</span> <span style=\"background:grey;\"> written</span> <span style=\"background:grey;\"> by</span> <span style=\"background:grey;\"> Edward</span> <span style=\"background:grey;\"> Ne</span> <span style=\"background:grey;\">ume</span> <span style=\"background:grey;\">ier</span> <span style=\"background:grey;\"> &</span> <span style=\"background:grey;\"> Michael</span> <span style=\"background:#130f00;\"> Miner</span> <span style=\"background:#2e2400;\">.</span> <span style=\"background:#0c0900;\"> The</span> <span style=\"background:grey;\"> film</span> <span style=\"background:grey;\"> is</span> <span style=\"background:grey;\"> produced</span> <span style=\"background:grey;\"> by</span> <span style=\"background:grey;\"> Marc</span> <span style=\"background:grey;\"> Abraham</span> <span style=\"background:grey;\"> and</span> <span style=\"background:grey;\"> Eric</span> <span style=\"background:grey;\"> Newman</span> <span style=\"background:grey;\">,</span> <span style=\"background:#161100;\"> with</span> <span style=\"background:grey;\"> Bill</span> <span style=\"background:grey;\"> Carr</span> <span style=\"background:grey;\">aro</span> <span style=\"background:#221a00;\"> serving</span></p>"
      ],
      "text/plain": [
       "<IPython.core.display.HTML object>"
      ]
     },
     "metadata": {},
     "output_type": "display_data"
    },
    {
     "data": {
      "text/html": [
       "<p style='color: red;'>Feature exp., #37: words related to legal or official terms and names.</p>"
      ],
      "text/plain": [
       "<IPython.core.display.HTML object>"
      ]
     },
     "metadata": {},
     "output_type": "display_data"
    },
    {
     "data": {
      "text/html": [
       "<p style='background: grey;'><span style=\"background:grey;\"> post</span> <span style=\"background:grey;\"> was</span> <span style=\"background:grey;\"> submitted</span> <span style=\"background:grey;\"> by</span> <span style=\"background:grey;\"> a</span> <span style=\"background:grey;\"> volunteer</span> <span style=\"background:grey;\"> contributor</span> <span style=\"background:grey;\"> who</span> <span style=\"background:grey;\"> has</span> <span style=\"background:grey;\"> agreed</span> <span style=\"background:#070500;\"> to</span> <span style=\"background:grey;\"> our</span> <span style=\"background:grey;\"> [</span> <span style=\"background:grey;\">LESS</span> <span style=\"background:grey;\">]</span> <span style=\"background:grey;\"> :</span> <span style=\"background:grey;\"> Comic</span> <span style=\"background:#110d00;\">Book</span> <span style=\"background:#120e00;\">Movie</span> <span style=\"background:grey;\">.</span> <span style=\"background:grey;\">com</span> <span style=\"background:#2b2200;\"> is</span> <span style=\"background:grey;\"> protected</span> <span style=\"background:#281f00;\"> from</span> <span style=\"background:grey;\"> liability</span> <span style=\"background:#0b0900;\"> under</span> <span style=\"background:#2d2300;\"> the</span> <span style=\"background:#2d2300;\"> DMCA</span> <span style=\"background:#110d00;\"> (</span> <span style=\"background:#957500;\">Digital</span> <span style=\"background:#403200;\"> Mill</span> <span style=\"background:#060500;\">enium</span> <span style=\"background:#fac400;\"> Copyright</span> <span style=\"background:#876a00;\"> Act</span> <span style=\"background:grey;\">)</span> <span style=\"background:#0c0900;\"> and</span> <span style=\"background:#7d6200;\"> \"</span> <span style=\"background:#1a1500;\">Safe</span> <span style=\"background:#5d4800;\"> Harbor</span> <span style=\"background:#0f0b00;\">\"</span> <span style=\"background:grey;\"> provisions</span> <span style=\"background:#2c2200;\">.</span> <span style=\"background:#332800;\"> This</span> <span style=\"background:#423300;\"> post</span> <span style=\"background:#100c00;\"> was</span> <span style=\"background:#0f0b00;\"> submitted</span> <span style=\"background:grey;\"> by</span> <span style=\"background:grey;\"> a</span> <span style=\"background:#382c00;\"> volunteer</span> <span style=\"background:#181200;\"> contributor</span> <span style=\"background:#332800;\"> who</span> <span style=\"background:#1c1600;\"> has</span> <span style=\"background:#3f3200;\"> agreed</span> <span style=\"background:#110d00;\"> to</span> <span style=\"background:grey;\"> our</span> <span style=\"background:#7e6300;\"> Code</span> <span style=\"background:#1b1500;\"> of</span> <span style=\"background:#4d3c00;\"> Conduct</span> <span style=\"background:grey;\"> .</span> <span style=\"background:#614c00;\"> CB</span> <span style=\"background:#312600;\">M</span> <span style=\"background:#221b00;\"> will</span> <span style=\"background:#735a00;\"> disable</span> <span style=\"background:grey;\"> users</span></p>"
      ],
      "text/plain": [
       "<IPython.core.display.HTML object>"
      ]
     },
     "metadata": {},
     "output_type": "display_data"
    },
    {
     "data": {
      "text/html": [
       "<p style='background: grey;'><span style=\"background:grey;\"> the</span> <span style=\"background:#140f00;\"> wife</span> <span style=\"background:grey;\"> of</span> <span style=\"background:#0a0800;\"> disgr</span> <span style=\"background:grey;\">aced</span> <span style=\"background:grey;\"> Communist</span> <span style=\"background:grey;\"> Party</span> <span style=\"background:grey;\"> figure</span> <span style=\"background:grey;\"> Bo</span> <span style=\"background:#443600;\"> X</span> <span style=\"background:#cb9f00;\">il</span> <span style=\"background:grey;\">ai</span> <span style=\"background:grey;\">,</span> <span style=\"background:grey;\"> a</span> <span style=\"background:grey;\"> new</span> <span style=\"background:#0d0a00;\"> step</span> <span style=\"background:grey;\"> in</span> <span style=\"background:grey;\"> a</span> <span style=\"background:grey;\"> scandal</span> <span style=\"background:grey;\"> China</span> <span style=\"background:grey;\">'s</span> <span style=\"background:grey;\"> ruling</span> <span style=\"background:grey;\"> hierarchy</span> <span style=\"background:grey;\"> is</span> <span style=\"background:grey;\"> scrambling</span> <span style=\"background:grey;\"> to</span> <span style=\"background:grey;\"> put</span> <span style=\"background:#070500;\"> behind</span> <span style=\"background:grey;\"> them</span> <span style=\"background:grey;\">.</span> <span style=\"background:#1c1600;\">\n",
       "</span> <span style=\"background:#191300;\">\n",
       "</span> <span style=\"background:#040300;\">Bo</span> <span style=\"background:grey;\">'s</span> <span style=\"background:#130f00;\"> wife</span> <span style=\"background:grey;\">,</span> <span style=\"background:grey;\"> Gu</span> <span style=\"background:grey;\"> K</span> <span style=\"background:#181300;\">ail</span> <span style=\"background:#0e0b00;\">ai</span> <span style=\"background:#010100;\">,</span> <span style=\"background:grey;\"> is</span> <span style=\"background:#1f1800;\"> accused</span> <span style=\"background:grey;\"> of</span> <span style=\"background:grey;\"> killing</span> <span style=\"background:grey;\"> British</span> <span style=\"background:grey;\"> businessman</span> <span style=\"background:grey;\"> Neil</span> <span style=\"background:#1c1600;\"> Hey</span> <span style=\"background:grey;\">wood</span> <span style=\"background:grey;\"> in</span> <span style=\"background:#1a1400;\"> November</span> <span style=\"background:grey;\">,</span> <span style=\"background:grey;\"> the</span> <span style=\"background:grey;\"> state</span> <span style=\"background:grey;\"> news</span> <span style=\"background:#120e00;\"> agency</span> <span style=\"background:grey;\"> Xin</span> <span style=\"background:#1d1700;\">hua</span> <span style=\"background:#0b0800;\"> reported</span> <span style=\"background:#120e00;\">.</span> <span style=\"background:grey;\"> Gu</span> <span style=\"background:grey;\"> and</span> <span style=\"background:grey;\"> a</span></p>"
      ],
      "text/plain": [
       "<IPython.core.display.HTML object>"
      ]
     },
     "metadata": {},
     "output_type": "display_data"
    },
    {
     "data": {
      "text/html": [
       "<p style='background: grey;'><span style=\"background:grey;\"> nearly</span> <span style=\"background:#201900;\"> all</span> <span style=\"background:grey;\"> the</span> <span style=\"background:grey;\"> suspects</span> <span style=\"background:grey;\"> in</span> <span style=\"background:grey;\"> a</span> <span style=\"background:grey;\"> rash</span> <span style=\"background:grey;\"> of</span> <span style=\"background:grey;\"> New</span> <span style=\"background:grey;\"> Year</span> <span style=\"background:grey;\">'s</span> <span style=\"background:grey;\"> Eve</span> <span style=\"background:grey;\"> violence</span> <span style=\"background:grey;\"> against</span> <span style=\"background:grey;\"> women</span> <span style=\"background:grey;\"> in</span> <span style=\"background:grey;\"> Cologne</span> <span style=\"background:grey;\"> were</span> <span style=\"background:grey;\"> '</span> <span style=\"background:grey;\">of</span> <span style=\"background:grey;\"> foreign</span> <span style=\"background:grey;\"> origin</span> <span style=\"background:grey;\">'</span> <span style=\"background:grey;\"> as</span> <span style=\"background:grey;\"> foreigners</span> <span style=\"background:grey;\"> came</span> <span style=\"background:#0c0900;\"> under</span> <span style=\"background:grey;\"> attack</span> <span style=\"background:grey;\"> amid</span> <span style=\"background:#0d0a00;\"> surging</span> <span style=\"background:grey;\"> tensions</span> <span style=\"background:grey;\">.</span> <span style=\"background:grey;\">\n",
       "</span> <span style=\"background:grey;\">\n",
       "</span> <span style=\"background:#1e1700;\">R</span> <span style=\"background:grey;\">alf</span> <span style=\"background:grey;\"> Jae</span> <span style=\"background:grey;\">ger</span> <span style=\"background:grey;\">,</span> <span style=\"background:grey;\"> the</span> <span style=\"background:#0e0b00;\"> interior</span> <span style=\"background:grey;\"> minister</span> <span style=\"background:grey;\"> of</span> <span style=\"background:grey;\"> North</span> <span style=\"background:grey;\"> Rh</span> <span style=\"background:#403200;\">ine</span> <span style=\"background:#5b4700;\">-</span> <span style=\"background:#3d3000;\">West</span> <span style=\"background:#c49a00;\">ph</span> <span style=\"background:#1b1500;\">alia</span> <span style=\"background:#241c00;\"> state</span> <span style=\"background:grey;\">,</span> <span style=\"background:grey;\"> released</span> <span style=\"background:grey;\"> initial</span> <span style=\"background:grey;\"> findings</span> <span style=\"background:grey;\"> of</span> <span style=\"background:grey;\"> a</span> <span style=\"background:grey;\"> criminal</span> <span style=\"background:#0a0800;\"> probe</span> <span style=\"background:grey;\"> over</span> <span style=\"background:grey;\"> the</span> <span style=\"background:grey;\"> crime</span> <span style=\"background:grey;\"> spree</span> <span style=\"background:#0e0b00;\"> that</span></p>"
      ],
      "text/plain": [
       "<IPython.core.display.HTML object>"
      ]
     },
     "metadata": {},
     "output_type": "display_data"
    },
    {
     "data": {
      "text/html": [
       "<p style='background: grey;'><span style=\"background:grey;\">Man</span> <span style=\"background:#050400;\"> United</span> <span style=\"background:grey;\"> are</span> <span style=\"background:grey;\"> preparing</span> <span style=\"background:grey;\"> for</span> <span style=\"background:grey;\"> one</span> <span style=\"background:grey;\"> last</span> <span style=\"background:grey;\"> push</span> <span style=\"background:grey;\"> to</span> <span style=\"background:grey;\"> get</span> <span style=\"background:grey;\"> Mats</span> <span style=\"background:#c19700;\"> Hum</span> <span style=\"background:#544100;\">m</span> <span style=\"background:grey;\">els</span> <span style=\"background:grey;\"> from</span> <span style=\"background:grey;\"> Dortmund</span> <span style=\"background:grey;\">.</span> <span style=\"background:#281f00;\">\n",
       "</span> <span style=\"background:#271e00;\">\n",
       "</span> <span style=\"background:#090700;\">Old</span> <span style=\"background:#060500;\"> Trafford</span> <span style=\"background:grey;\"> officials</span> <span style=\"background:grey;\"> will</span> <span style=\"background:grey;\"> attempt</span> <span style=\"background:grey;\"> to</span> <span style=\"background:grey;\"> force</span> <span style=\"background:grey;\"> the</span> <span style=\"background:grey;\"> situation</span> <span style=\"background:grey;\"> this</span> <span style=\"background:grey;\"> weekend</span> <span style=\"background:grey;\">,</span> <span style=\"background:grey;\"> but</span> <span style=\"background:grey;\"> it</span> <span style=\"background:grey;\"> is</span> <span style=\"background:grey;\"> still</span> <span style=\"background:#110d00;\"> seen</span> <span style=\"background:#070500;\"> as</span> <span style=\"background:#140f00;\"> unlikely</span> <span style=\"background:grey;\"> that</span> <span style=\"background:grey;\"> Dortmund</span> <span style=\"background:grey;\"> will</span> <span style=\"background:grey;\"> allow</span> <span style=\"background:grey;\"> the</span> <span style=\"background:grey;\"> 26</span> <span style=\"background:grey;\">-</span> <span style=\"background:grey;\">year</span> <span style=\"background:grey;\">-</span> <span style=\"background:grey;\">old</span> <span style=\"background:grey;\"> to</span> <span style=\"background:grey;\"> leave</span> <span style=\"background:grey;\"> in</span> <span style=\"background:grey;\"> the</span> <span style=\"background:#1d1700;\"> middle</span> <span style=\"background:grey;\"> of</span> <span style=\"background:grey;\"> such</span> <span style=\"background:#100c00;\"> a</span> <span style=\"background:grey;\"> difficult</span> <span style=\"background:grey;\"> season</span> <span style=\"background:grey;\">.</span> <span style=\"background:#080600;\">\n",
       "</span> <span style=\"background:#070500;\">\n",
       "</span> <span style=\"background:#100d00;\">United</span> <span style=\"background:grey;\"> are</span> <span style=\"background:grey;\"> also</span></p>"
      ],
      "text/plain": [
       "<IPython.core.display.HTML object>"
      ]
     },
     "metadata": {},
     "output_type": "display_data"
    },
    {
     "data": {
      "text/html": [
       "<p style='background: grey;'><span style=\"background:grey;\"> have</span> <span style=\"background:grey;\"> an</span> <span style=\"background:#060500;\"> account</span> <span style=\"background:#0a0700;\">.</span> <span style=\"background:#0a0700;\"> Please</span> <span style=\"background:grey;\"> log</span> <span style=\"background:grey;\"> in</span> <span style=\"background:grey;\"> or</span> <span style=\"background:grey;\"> register</span> <span style=\"background:grey;\"> with</span> <span style=\"background:grey;\"> your</span> <span style=\"background:grey;\"> social</span> <span style=\"background:grey;\"> account</span> <span style=\"background:#1a1400;\">\n",
       "</span> <span style=\"background:#100d00;\">\n",
       "</span> <span style=\"background:#070600;\">Andre</span> <span style=\"background:#8b6d00;\"> Vill</span> <span style=\"background:#191400;\">as</span> <span style=\"background:#b28b00;\">-</span> <span style=\"background:#352a00;\">Bo</span> <span style=\"background:grey;\">as</span> <span style=\"background:grey;\"> has</span> <span style=\"background:grey;\"> dismissed</span> <span style=\"background:grey;\"> reports</span> <span style=\"background:grey;\"> linking</span> <span style=\"background:#161100;\"> Jer</span> <span style=\"background:grey;\">main</span> <span style=\"background:#4d3c00;\"> Def</span> <span style=\"background:grey;\">oe</span> <span style=\"background:grey;\"> with</span> <span style=\"background:grey;\"> a</span> <span style=\"background:grey;\"> move</span> <span style=\"background:grey;\"> to</span> <span style=\"background:grey;\"> the</span> <span style=\"background:grey;\"> MLS</span> <span style=\"background:#000000;\"> and</span> <span style=\"background:grey;\"> expects</span> <span style=\"background:grey;\"> the</span> <span style=\"background:grey;\"> England</span> <span style=\"background:grey;\"> striker</span> <span style=\"background:grey;\"> to</span> <span style=\"background:grey;\"> play</span> <span style=\"background:grey;\"> out</span> <span style=\"background:grey;\"> the</span> <span style=\"background:#2c2200;\"> remainder</span> <span style=\"background:grey;\"> of</span> <span style=\"background:grey;\"> his</span> <span style=\"background:grey;\"> contract</span> <span style=\"background:grey;\"> at</span> <span style=\"background:#201900;\"> White</span> <span style=\"background:#161100;\"> Hart</span> <span style=\"background:grey;\"> Lane</span> <span style=\"background:grey;\">.</span> <span style=\"background:#161100;\">\n",
       "</span> <span style=\"background:#050300;\">\n",
       "</span> <span style=\"background:grey;\">Toronto</span> <span style=\"background:#040300;\"> FC</span> <span style=\"background:#080600;\"> manager</span> <span style=\"background:grey;\"> and</span> <span style=\"background:grey;\"> former</span> <span style=\"background:grey;\"> Tottenham</span> <span style=\"background:grey;\"> teammate</span> <span style=\"background:grey;\"> Ryan</span> <span style=\"background:#0b0800;\"> N</span></p>"
      ],
      "text/plain": [
       "<IPython.core.display.HTML object>"
      ]
     },
     "metadata": {},
     "output_type": "display_data"
    },
    {
     "data": {
      "text/html": [
       "<p style='color: red;'>Feature exp., #38: words related to internet and communication terminology.</p>"
      ],
      "text/plain": [
       "<IPython.core.display.HTML object>"
      ]
     },
     "metadata": {},
     "output_type": "display_data"
    },
    {
     "data": {
      "text/html": [
       "<p style='background: grey;'><span style=\"background:grey;\">,</span> <span style=\"background:#201900;\"> and</span> <span style=\"background:#ffc800;\"> tox</span> <span style=\"background:#271f00;\">j</span> <span style=\"background:#191300;\">q</span> <span style=\"background:grey;\"> will</span> <span style=\"background:grey;\"> take</span> <span style=\"background:grey;\"> over</span> <span style=\"background:grey;\"> the</span> <span style=\"background:grey;\"> stream</span> <span style=\"background:grey;\"> with</span> <span style=\"background:grey;\"> their</span> <span style=\"background:grey;\"> own</span> <span style=\"background:grey;\"> play</span> <span style=\"background:grey;\"> beginning</span> <span style=\"background:#473800;\"> at</span> <span style=\"background:grey;\"> 10</span> <span style=\"background:grey;\">:</span> <span style=\"background:grey;\">30</span> <span style=\"background:#090700;\"> am</span> <span style=\"background:#463600;\"> Pacific</span> <span style=\"background:#181300;\">.</span> <span style=\"background:grey;\">\n",
       "</span> <span style=\"background:grey;\">\n",
       "</span> <span style=\"background:grey;\">Qu</span> <span style=\"background:grey;\">ake</span> <span style=\"background:grey;\"> Champions</span> <span style=\"background:grey;\"> is</span> <span style=\"background:grey;\"> currently</span> <span style=\"background:grey;\"> available</span> <span style=\"background:grey;\"> in</span> <span style=\"background:grey;\"> Beta</span> <span style=\"background:grey;\"> on</span> <span style=\"background:grey;\"> PC</span> <span style=\"background:grey;\">.</span> <span style=\"background:#030200;\"> Players</span> <span style=\"background:grey;\"> can</span> <span style=\"background:grey;\"> join</span> <span style=\"background:grey;\"> the</span> <span style=\"background:grey;\"> Beta</span> <span style=\"background:grey;\"> right</span> <span style=\"background:grey;\"> now</span> <span style=\"background:#191300;\"> at</span> <span style=\"background:grey;\"> www</span> <span style=\"background:grey;\">.</span> <span style=\"background:#060500;\">Qu</span> <span style=\"background:grey;\">ake</span> <span style=\"background:grey;\">.</span> <span style=\"background:grey;\">com</span> <span style=\"background:grey;\">.</span> <span style=\"background:grey;\">\n",
       "</span> <span style=\"background:grey;\">\n",
       "</span> <span style=\"background:grey;\">Share</span> <span style=\"background:#110d00;\"> this</span> <span style=\"background:#0d0a00;\">:</span> <span style=\"background:#231b00;\"> Facebook</span> <span style=\"background:grey;\">\n",
       "</span> <span style=\"background:grey;\">\n",
       "</span> <span style=\"background:#4a3a00;\">Twitter</span> <span style=\"background:grey;\">\n",
       "</span> <span style=\"background:grey;\">\n",
       "</span> <span style=\"background:#241c00;\">Reddit</span> <span style=\"background:grey;\">\n",
       "</span> <span style=\"background:grey;\">\n",
       "</span></p>"
      ],
      "text/plain": [
       "<IPython.core.display.HTML object>"
      ]
     },
     "metadata": {},
     "output_type": "display_data"
    },
    {
     "data": {
      "text/html": [
       "<p style='background: grey;'><span style=\"background:grey;\"> Bernard</span> <span style=\"background:grey;\"> (</span> <span style=\"background:grey;\">Bernie</span> <span style=\"background:grey;\">)</span> <span style=\"background:grey;\"> Sanders</span> <span style=\"background:grey;\">Push</span> <span style=\"background:grey;\"> to</span> <span style=\"background:grey;\"> end</span> <span style=\"background:grey;\"> U</span> <span style=\"background:grey;\">.</span> <span style=\"background:grey;\">S</span> <span style=\"background:grey;\">.</span> <span style=\"background:grey;\"> support</span> <span style=\"background:grey;\"> for</span> <span style=\"background:#3a2d00;\"> Saudi</span> <span style=\"background:grey;\"> war</span> <span style=\"background:#9f7d00;\"> hits</span> <span style=\"background:grey;\"> Senate</span> <span style=\"background:#130f00;\"> setback</span> <span style=\"background:grey;\"> Sanders</span> <span style=\"background:grey;\">:</span> <span style=\"background:grey;\"> '</span> <span style=\"background:grey;\">I</span> <span style=\"background:grey;\"> fully</span> <span style=\"background:grey;\"> expect</span> <span style=\"background:#281f00;\">'</span> <span style=\"background:#1d1700;\"> fair</span> <span style=\"background:#060500;\"> treatment</span> <span style=\"background:grey;\"> by</span> <span style=\"background:grey;\"> DNC</span> <span style=\"background:grey;\"> in</span> <span style=\"background:#342800;\"> 2020</span> <span style=\"background:grey;\"> after</span> <span style=\"background:grey;\"> '</span> <span style=\"background:#322700;\">not</span> <span style=\"background:grey;\"> quite</span> <span style=\"background:#2c2200;\"> even</span> <span style=\"background:#292000;\"> handed</span> <span style=\"background:#765c00;\">'</span> <span style=\"background:#503e00;\"> 2016</span> <span style=\"background:grey;\"> primary</span> <span style=\"background:grey;\"> Sanders</span> <span style=\"background:#000000;\">:</span> <span style=\"background:#251d00;\"> '</span> <span style=\"background:grey;\">Damn</span> <span style=\"background:grey;\"> right</span> <span style=\"background:#c69b00;\">'</span> <span style=\"background:grey;\"> I</span> <span style=\"background:grey;\">'ll</span> <span style=\"background:#090700;\"> make</span> <span style=\"background:#ffc800;\"> the</span> <span style=\"background:#f2be00;\"> large</span> <span style=\"background:#1f1800;\"> corporations</span> <span style=\"background:#281f00;\"> pay</span> <span style=\"background:#3c2f00;\"> '</span> <span style=\"background:grey;\">fair</span> <span style=\"background:grey;\"> share</span> <span style=\"background:#332800;\"> of</span> <span style=\"background:#040300;\"> taxes</span> <span style=\"background:#140f00;\">'</span> <span style=\"background:grey;\"> MORE</span> <span style=\"background:grey;\"> has</span> <span style=\"background:grey;\"> raised</span> <span style=\"background:grey;\"> more</span></p>"
      ],
      "text/plain": [
       "<IPython.core.display.HTML object>"
      ]
     },
     "metadata": {},
     "output_type": "display_data"
    },
    {
     "data": {
      "text/html": [
       "<p style='background: grey;'><span style=\"background:grey;\"> not</span> <span style=\"background:grey;\"> elected</span> <span style=\"background:grey;\"> in</span> <span style=\"background:grey;\"> November</span> <span style=\"background:#010000;\">.</span> <span style=\"background:grey;\">\n",
       "</span> <span style=\"background:grey;\">\n",
       "</span> <span style=\"background:grey;\">\"</span> <span style=\"background:grey;\">I</span> <span style=\"background:grey;\"> think</span> <span style=\"background:grey;\"> Hillary</span> <span style=\"background:grey;\"> Clinton</span> <span style=\"background:grey;\"> Hillary</span> <span style=\"background:grey;\"> Diane</span> <span style=\"background:grey;\"> Rodham</span> <span style=\"background:#010100;\"> Clinton</span> <span style=\"background:#140f00;\">Sanders</span> <span style=\"background:#070500;\">:</span> <span style=\"background:#1d1700;\"> '</span> <span style=\"background:grey;\">I</span> <span style=\"background:grey;\"> fully</span> <span style=\"background:grey;\"> expect</span> <span style=\"background:#3f3100;\">'</span> <span style=\"background:grey;\"> fair</span> <span style=\"background:#140f00;\"> treatment</span> <span style=\"background:grey;\"> by</span> <span style=\"background:grey;\"> DNC</span> <span style=\"background:grey;\"> in</span> <span style=\"background:#6d5600;\"> 2020</span> <span style=\"background:grey;\"> after</span> <span style=\"background:grey;\"> '</span> <span style=\"background:#0e0b00;\">not</span> <span style=\"background:grey;\"> quite</span> <span style=\"background:#0d0a00;\"> even</span> <span style=\"background:#241c00;\"> handed</span> <span style=\"background:#947400;\">'</span> <span style=\"background:#665000;\"> 2016</span> <span style=\"background:#413300;\"> primary</span> <span style=\"background:grey;\"> Sanders</span> <span style=\"background:#251d00;\">:</span> <span style=\"background:#6c5500;\"> '</span> <span style=\"background:grey;\">Damn</span> <span style=\"background:grey;\"> right</span> <span style=\"background:#e5b300;\">'</span> <span style=\"background:grey;\"> I</span> <span style=\"background:grey;\">'ll</span> <span style=\"background:#010100;\"> make</span> <span style=\"background:#ffc800;\"> the</span> <span style=\"background:#ffc800;\"> large</span> <span style=\"background:#503f00;\"> corporations</span> <span style=\"background:#1a1400;\"> pay</span> <span style=\"background:grey;\"> '</span> <span style=\"background:grey;\">fair</span> <span style=\"background:grey;\"> share</span> <span style=\"background:#3a2e00;\"> of</span> <span style=\"background:#050400;\"> taxes</span> <span style=\"background:#2c2200;\">'</span> <span style=\"background:grey;\"> Former</span> <span style=\"background:grey;\"> Sanders</span> <span style=\"background:grey;\"> campaign</span> <span style=\"background:grey;\"> spokesman</span> <span style=\"background:#614c00;\">:</span> <span style=\"background:grey;\"> Clinton</span> <span style=\"background:grey;\"> staff</span></p>"
      ],
      "text/plain": [
       "<IPython.core.display.HTML object>"
      ]
     },
     "metadata": {},
     "output_type": "display_data"
    },
    {
     "data": {
      "text/html": [
       "<p style='background: grey;'><span style=\"background:grey;\"> favor</span> <span style=\"background:grey;\"> in</span> <span style=\"background:grey;\"> her</span> <span style=\"background:grey;\"> home</span> <span style=\"background:grey;\"> state</span> <span style=\"background:grey;\"> of</span> <span style=\"background:grey;\"> Massachusetts</span> <span style=\"background:grey;\">,</span> <span style=\"background:grey;\"> where</span> <span style=\"background:grey;\"> Hillary</span> <span style=\"background:grey;\"> Clinton</span> <span style=\"background:grey;\"> Hillary</span> <span style=\"background:grey;\"> Diane</span> <span style=\"background:grey;\"> Rodham</span> <span style=\"background:grey;\"> Clinton</span> <span style=\"background:grey;\">Sanders</span> <span style=\"background:#040300;\">:</span> <span style=\"background:grey;\"> '</span> <span style=\"background:grey;\">I</span> <span style=\"background:grey;\"> fully</span> <span style=\"background:grey;\"> expect</span> <span style=\"background:#151000;\">'</span> <span style=\"background:grey;\"> fair</span> <span style=\"background:#0d0a00;\"> treatment</span> <span style=\"background:grey;\"> by</span> <span style=\"background:grey;\"> DNC</span> <span style=\"background:grey;\"> in</span> <span style=\"background:#634e00;\"> 2020</span> <span style=\"background:grey;\"> after</span> <span style=\"background:grey;\"> '</span> <span style=\"background:#030200;\">not</span> <span style=\"background:grey;\"> quite</span> <span style=\"background:#090700;\"> even</span> <span style=\"background:#2f2400;\"> handed</span> <span style=\"background:#8a6c00;\">'</span> <span style=\"background:#473800;\"> 2016</span> <span style=\"background:#413300;\"> primary</span> <span style=\"background:grey;\"> Sanders</span> <span style=\"background:#0d0a00;\">:</span> <span style=\"background:#503f00;\"> '</span> <span style=\"background:grey;\">Damn</span> <span style=\"background:grey;\"> right</span> <span style=\"background:#d2a500;\">'</span> <span style=\"background:grey;\"> I</span> <span style=\"background:grey;\">'ll</span> <span style=\"background:grey;\"> make</span> <span style=\"background:#ffc800;\"> the</span> <span style=\"background:#fbc500;\"> large</span> <span style=\"background:#3a2d00;\"> corporations</span> <span style=\"background:grey;\"> pay</span> <span style=\"background:grey;\"> '</span> <span style=\"background:grey;\">fair</span> <span style=\"background:grey;\"> share</span> <span style=\"background:#2d2300;\"> of</span> <span style=\"background:#000000;\"> taxes</span> <span style=\"background:#161100;\">'</span> <span style=\"background:grey;\"> Former</span> <span style=\"background:grey;\"> Sanders</span> <span style=\"background:grey;\"> campaign</span> <span style=\"background:grey;\"> spokesman</span> <span style=\"background:#513f00;\">:</span> <span style=\"background:grey;\"> Clinton</span> <span style=\"background:grey;\"> staff</span> <span style=\"background:grey;\"> are</span></p>"
      ],
      "text/plain": [
       "<IPython.core.display.HTML object>"
      ]
     },
     "metadata": {},
     "output_type": "display_data"
    },
    {
     "data": {
      "text/html": [
       "<p style='background: grey;'><span style=\"background:grey;\"> toll</span> <span style=\"background:grey;\">-</span> <span style=\"background:grey;\">free</span> <span style=\"background:grey;\"> bank</span> <span style=\"background:grey;\"> line</span> <span style=\"background:grey;\"> to</span> <span style=\"background:grey;\"> get</span> <span style=\"background:grey;\"> the</span> <span style=\"background:grey;\"> latest</span> <span style=\"background:grey;\"> foreign</span> <span style=\"background:grey;\"> exchange</span> <span style=\"background:grey;\"> rates</span> <span style=\"background:grey;\">,</span> <span style=\"background:#161100;\"> only</span> <span style=\"background:grey;\"> to</span> <span style=\"background:grey;\"> be</span> <span style=\"background:grey;\"> connected</span> <span style=\"background:grey;\"> with</span> <span style=\"background:#251d00;\"> an</span> <span style=\"background:grey;\"> agent</span> <span style=\"background:grey;\"> who</span> <span style=\"background:grey;\"> gives</span> <span style=\"background:grey;\"> out</span> <span style=\"background:grey;\"> personalized</span> <span style=\"background:grey;\"> advice</span> <span style=\"background:grey;\"> on</span> <span style=\"background:grey;\"> balancing</span> <span style=\"background:grey;\"> the</span> <span style=\"background:grey;\"> household</span> <span style=\"background:grey;\"> budget</span> <span style=\"background:#000000;\">.</span> <span style=\"background:grey;\">\n",
       "</span> <span style=\"background:grey;\">\n",
       "</span> <span style=\"background:grey;\">The</span> <span style=\"background:grey;\"> Brief</span> <span style=\"background:grey;\"> Newsletter</span> <span style=\"background:grey;\"> Sign</span> <span style=\"background:#6a5300;\"> up</span> <span style=\"background:#ffc800;\"> to</span> <span style=\"background:grey;\"> receive</span> <span style=\"background:#483900;\"> the</span> <span style=\"background:#161100;\"> top</span> <span style=\"background:grey;\"> stories</span> <span style=\"background:#dbac00;\"> you</span> <span style=\"background:#372b00;\"> need</span> <span style=\"background:#0b0900;\"> to</span> <span style=\"background:#7f6400;\"> know</span> <span style=\"background:grey;\"> right</span> <span style=\"background:#604b00;\"> now</span> <span style=\"background:#ffc800;\">.</span> <span style=\"background:#161100;\"> View</span> <span style=\"background:grey;\"> Sample</span> <span style=\"background:grey;\"> Sign</span> <span style=\"background:grey;\"> Up</span> <span style=\"background:grey;\"> Now</span> <span style=\"background:grey;\">\n",
       "</span> <span style=\"background:grey;\">\n",
       "</span> <span style=\"background:grey;\">When</span> <span style=\"background:#423400;\"> call</span> <span style=\"background:grey;\">ers</span> <span style=\"background:grey;\"> dial</span> <span style=\"background:grey;\"> in</span> <span style=\"background:grey;\">,</span> <span style=\"background:grey;\"> they</span></p>"
      ],
      "text/plain": [
       "<IPython.core.display.HTML object>"
      ]
     },
     "metadata": {},
     "output_type": "display_data"
    },
    {
     "data": {
      "text/html": [
       "<p style='color: red;'>Feature exp., #39: professional titles, especially those related to leadership positions.</p>"
      ],
      "text/plain": [
       "<IPython.core.display.HTML object>"
      ]
     },
     "metadata": {},
     "output_type": "display_data"
    },
    {
     "data": {
      "text/html": [
       "<p style='background: grey;'><span style=\"background:grey;\"> to</span> <span style=\"background:#201900;\"> a</span> <span style=\"background:grey;\"> pick</span> <span style=\"background:grey;\">-</span> <span style=\"background:#000000;\">up</span> <span style=\"background:#040300;\"> truck</span> <span style=\"background:#241c00;\">\n",
       "</span> <span style=\"background:#201900;\">\n",
       "</span> <span style=\"background:#100d00;\">T</span> <span style=\"background:#040300;\">un</span> <span style=\"background:#060500;\">is</span> <span style=\"background:#120e00;\">ians</span> <span style=\"background:#050400;\"> have</span> <span style=\"background:grey;\"> unveiled</span> <span style=\"background:#020100;\"> a</span> <span style=\"background:#120e00;\"> statue</span> <span style=\"background:grey;\"> in</span> <span style=\"background:#030200;\"> honour</span> <span style=\"background:grey;\"> of</span> <span style=\"background:#110d00;\"> the</span> <span style=\"background:grey;\"> man</span> <span style=\"background:grey;\"> who</span> <span style=\"background:grey;\"> set</span> <span style=\"background:grey;\"> himself</span> <span style=\"background:grey;\"> al</span> <span style=\"background:grey;\">ight</span> <span style=\"background:grey;\"> a</span> <span style=\"background:grey;\"> year</span> <span style=\"background:grey;\"> ago</span> <span style=\"background:grey;\">,</span> <span style=\"background:grey;\"> unle</span> <span style=\"background:#130e00;\">ashing</span> <span style=\"background:#1a1500;\"> a</span> <span style=\"background:#0f0c00;\"> protest</span> <span style=\"background:#040300;\"> movement</span> <span style=\"background:grey;\"> that</span> <span style=\"background:#251d00;\"> ended</span> <span style=\"background:#292000;\"> President</span> <span style=\"background:#2c2200;\"> Z</span> <span style=\"background:#2d2300;\">ine</span> <span style=\"background:#423300;\"> el</span> <span style=\"background:#7a6000;\">-</span> <span style=\"background:#f2be00;\">Ab</span> <span style=\"background:#403200;\">idine</span> <span style=\"background:#594600;\"> Ben</span> <span style=\"background:#221a00;\"> Ali</span> <span style=\"background:#2b2100;\">'s</span> <span style=\"background:#181200;\"> 23</span> <span style=\"background:#271e00;\">-</span> <span style=\"background:#362a00;\">year</span> <span style=\"background:grey;\"> rule</span> <span style=\"background:grey;\">.</span> <span style=\"background:grey;\">\n",
       "</span> <span style=\"background:grey;\">\n",
       "</span> <span style=\"background:#050400;\">T</span> <span style=\"background:#151000;\">un</span> <span style=\"background:#030200;\">is</span> <span style=\"background:#090700;\">ia</span> <span style=\"background:#251d00;\">'s</span> <span style=\"background:#191400;\"> new</span> <span style=\"background:#1d1700;\"> President</span> <span style=\"background:grey;\"> Mon</span> <span style=\"background:grey;\">ce</span> <span style=\"background:grey;\">f</span></p>"
      ],
      "text/plain": [
       "<IPython.core.display.HTML object>"
      ]
     },
     "metadata": {},
     "output_type": "display_data"
    },
    {
     "data": {
      "text/html": [
       "<p style='background: grey;'><span style=\"background:grey;\"> back</span> <span style=\"background:#241c00;\"> and</span> <span style=\"background:#281f00;\"> forth</span> <span style=\"background:#130f00;\"> on</span> <span style=\"background:#161100;\"> this</span> <span style=\"background:#040300;\"> with</span> <span style=\"background:#241c00;\"> some</span> <span style=\"background:grey;\"> swearing</span> <span style=\"background:grey;\"> that</span> <span style=\"background:#040300;\"> TS</span> <span style=\"background:#060500;\">MC</span> <span style=\"background:#271f00;\"> will</span> <span style=\"background:grey;\"> get</span> <span style=\"background:#0d0a00;\"> the</span> <span style=\"background:#1a1400;\"> A</span> <span style=\"background:grey;\">9</span> <span style=\"background:grey;\"> business</span> <span style=\"background:grey;\"> and</span> <span style=\"background:grey;\"> others</span> <span style=\"background:grey;\"> insisting</span> <span style=\"background:grey;\"> that</span> <span style=\"background:grey;\"> the</span> <span style=\"background:grey;\"> chip</span> <span style=\"background:grey;\"> will</span> <span style=\"background:grey;\"> be</span> <span style=\"background:grey;\"> coming</span> <span style=\"background:grey;\"> out</span> <span style=\"background:grey;\"> of</span> <span style=\"background:grey;\"> a</span> <span style=\"background:grey;\"> Samsung</span> <span style=\"background:grey;\"> factory</span> <span style=\"background:grey;\">.</span> <span style=\"background:grey;\"> According</span> <span style=\"background:grey;\"> to</span> <span style=\"background:#1f1800;\"> analyst</span> <span style=\"background:#060400;\"> Ming</span> <span style=\"background:#141000;\">-</span> <span style=\"background:#cb9f00;\">Ch</span> <span style=\"background:#342900;\">i</span> <span style=\"background:#493900;\"> Ku</span> <span style=\"background:grey;\">o</span> <span style=\"background:#251d00;\"> from</span> <span style=\"background:#3e3100;\"> K</span> <span style=\"background:#403200;\">GI</span> <span style=\"background:grey;\"> Securities</span> <span style=\"background:grey;\">,</span> <span style=\"background:#0a0800;\"> TS</span> <span style=\"background:grey;\">MC</span> <span style=\"background:#1d1700;\"> will</span> <span style=\"background:grey;\"> get</span> <span style=\"background:grey;\"> 30</span> <span style=\"background:grey;\">%</span> <span style=\"background:grey;\"> of</span> <span style=\"background:grey;\"> the</span> <span style=\"background:grey;\"> business</span> <span style=\"background:grey;\"> which</span> <span style=\"background:#1a1400;\"> could</span> <span style=\"background:#050300;\"> leave</span> <span style=\"background:grey;\"> Samsung</span> <span style=\"background:grey;\"> with</span> <span style=\"background:grey;\"> the</span> <span style=\"background:#0c0900;\"> balance</span> <span style=\"background:grey;\">.</span> <span style=\"background:grey;\"> Last</span></p>"
      ],
      "text/plain": [
       "<IPython.core.display.HTML object>"
      ]
     },
     "metadata": {},
     "output_type": "display_data"
    },
    {
     "data": {
      "text/html": [
       "<p style='background: grey;'><span style=\"background:grey;\"> home</span> <span style=\"background:#030200;\"> to</span> <span style=\"background:#191300;\"> artists</span> <span style=\"background:grey;\"> including</span> <span style=\"background:grey;\"> Red</span> <span style=\"background:grey;\"> Hot</span> <span style=\"background:#0f0b00;\"> Chili</span> <span style=\"background:#1c1600;\"> Pe</span> <span style=\"background:grey;\">ppers</span> <span style=\"background:grey;\"> and</span> <span style=\"background:grey;\"> rapper</span> <span style=\"background:#030200;\"> T</span> <span style=\"background:#010100;\">.</span> <span style=\"background:grey;\">I</span> <span style=\"background:grey;\">.,</span> <span style=\"background:grey;\"> was</span> <span style=\"background:grey;\"> the</span> <span style=\"background:grey;\"> first</span> <span style=\"background:grey;\"> major</span> <span style=\"background:#030200;\"> media</span> <span style=\"background:#010100;\"> company</span> <span style=\"background:#302600;\"> to</span> <span style=\"background:grey;\"> negotiate</span> <span style=\"background:grey;\"> a</span> <span style=\"background:#120e00;\"> deal</span> <span style=\"background:grey;\"> with</span> <span style=\"background:grey;\"> YouTube</span> <span style=\"background:grey;\"> in</span> <span style=\"background:grey;\"> 2006</span> <span style=\"background:#0c0900;\">.</span> <span style=\"background:#110d00;\"> Its</span> <span style=\"background:#010100;\"> executives</span> <span style=\"background:grey;\"> believe</span> <span style=\"background:#050400;\"> that</span> <span style=\"background:grey;\"> deal</span> <span style=\"background:#100c00;\"> gave</span> <span style=\"background:grey;\"> the</span> <span style=\"background:grey;\"> site</span> <span style=\"background:grey;\"> legitimacy</span> <span style=\"background:grey;\"> in</span> <span style=\"background:#0f0c00;\"> the</span> <span style=\"background:#352900;\"> eyes</span> <span style=\"background:grey;\"> of</span> <span style=\"background:grey;\"> search</span> <span style=\"background:#2e2400;\"> giant</span> <span style=\"background:#020100;\"> Google</span> <span style=\"background:grey;\"> Inc</span> <span style=\"background:#4f3e00;\"> (</span> <span style=\"background:#b99100;\">G</span> <span style=\"background:#503e00;\">OO</span> <span style=\"background:#211900;\">G</span> <span style=\"background:#281f00;\">.</span> <span style=\"background:grey;\">O</span> <span style=\"background:grey;\">)</span> <span style=\"background:grey;\"> which</span> <span style=\"background:#100c00;\"> bought</span> <span style=\"background:grey;\"> it</span> <span style=\"background:grey;\"> soon</span> <span style=\"background:grey;\"> after</span> <span style=\"background:grey;\"> for</span> <span style=\"background:#0c0a00;\"> $</span> <span style=\"background:grey;\">1</span> <span style=\"background:#0d0a00;\">.</span> <span style=\"background:grey;\">65</span></p>"
      ],
      "text/plain": [
       "<IPython.core.display.HTML object>"
      ]
     },
     "metadata": {},
     "output_type": "display_data"
    },
    {
     "data": {
      "text/html": [
       "<p style='background: grey;'><span style=\"background:grey;\">.</span> <span style=\"background:#1b1500;\">\n",
       "</span> <span style=\"background:#221b00;\">\n",
       "</span> <span style=\"background:grey;\">It</span> <span style=\"background:#271e00;\"> will</span> <span style=\"background:#060400;\"> be</span> <span style=\"background:#110e00;\"> released</span> <span style=\"background:#080600;\"> physically</span> <span style=\"background:grey;\"> by</span> <span style=\"background:#000000;\"> Island</span> <span style=\"background:grey;\"> Records</span> <span style=\"background:grey;\"> on</span> <span style=\"background:grey;\"> 13</span> <span style=\"background:grey;\">th</span> <span style=\"background:grey;\"> October</span> <span style=\"background:grey;\">,</span> <span style=\"background:grey;\"> 2014</span> <span style=\"background:grey;\">.</span> <span style=\"background:#0b0800;\">\n",
       "</span> <span style=\"background:grey;\">\n",
       "</span> <span style=\"background:grey;\">But</span> <span style=\"background:grey;\">,</span> <span style=\"background:grey;\"> until</span> <span style=\"background:grey;\"> then</span> <span style=\"background:grey;\">,</span> <span style=\"background:grey;\"> it</span> <span style=\"background:#090700;\"> will</span> <span style=\"background:#110d00;\"> be</span> <span style=\"background:grey;\"> available</span> <span style=\"background:grey;\"> to</span> <span style=\"background:grey;\"> up</span> <span style=\"background:grey;\"> to</span> <span style=\"background:#3b2e00;\"> 500</span> <span style=\"background:#292000;\">m</span> <span style=\"background:#0a0800;\"> customers</span> <span style=\"background:grey;\"> in</span> <span style=\"background:#261e00;\"> 119</span> <span style=\"background:grey;\"> in</span> <span style=\"background:grey;\"> what</span> <span style=\"background:grey;\"> Apple</span> <span style=\"background:#b68f00;\"> CEO</span> <span style=\"background:#191300;\"> Tim</span> <span style=\"background:grey;\"> Cook</span> <span style=\"background:grey;\"> described</span> <span style=\"background:grey;\"> as</span> <span style=\"background:grey;\"> '</span> <span style=\"background:grey;\">the</span> <span style=\"background:grey;\"> largest</span> <span style=\"background:grey;\"> album</span> <span style=\"background:#030200;\"> release</span> <span style=\"background:grey;\"> of</span> <span style=\"background:grey;\"> all</span> <span style=\"background:grey;\"> time</span> <span style=\"background:grey;\">'</span> <span style=\"background:grey;\">\n",
       "</span> <span style=\"background:grey;\">\n",
       "</span> <span style=\"background:#050400;\">And</span> <span style=\"background:grey;\"> according</span> <span style=\"background:grey;\"> to</span> <span style=\"background:#010100;\"> the</span> <span style=\"background:#010100;\"> '</span> <span style=\"background:#020200;\">New</span> <span style=\"background:grey;\"> York</span> <span style=\"background:grey;\"> Times</span></p>"
      ],
      "text/plain": [
       "<IPython.core.display.HTML object>"
      ]
     },
     "metadata": {},
     "output_type": "display_data"
    },
    {
     "data": {
      "text/html": [
       "<p style='background: grey;'><span style=\"background:grey;\"> image</span> <span style=\"background:#271f00;\"> is</span> <span style=\"background:#151000;\"> supposed</span> <span style=\"background:#030300;\"> to</span> <span style=\"background:#0f0c00;\"> confirm</span> <span style=\"background:#191300;\"> the</span> <span style=\"background:#2d2300;\"> existence</span> <span style=\"background:grey;\"> of</span> <span style=\"background:#1e1800;\"> an</span> <span style=\"background:#000000;\"> imminent</span> <span style=\"background:grey;\"> larger</span> <span style=\"background:grey;\"> iPad</span> <span style=\"background:#030200;\">.</span> <span style=\"background:grey;\"> According</span> <span style=\"background:#120e00;\"> to</span> <span style=\"background:#1c1600;\"> the</span> <span style=\"background:#292000;\"> site</span> <span style=\"background:grey;\">,</span> <span style=\"background:#040300;\"> the</span> <span style=\"background:grey;\"> images</span> <span style=\"background:grey;\"> come</span> <span style=\"background:grey;\"> from</span> <span style=\"background:grey;\"> a</span> <span style=\"background:grey;\"> source</span> <span style=\"background:grey;\"> that</span> <span style=\"background:#060500;\"> was</span> <span style=\"background:grey;\"> reliable</span> <span style=\"background:grey;\"> in</span> <span style=\"background:grey;\"> the</span> <span style=\"background:grey;\"> past</span> <span style=\"background:grey;\">,</span> <span style=\"background:grey;\"> passing</span> <span style=\"background:grey;\"> over</span> <span style=\"background:grey;\"> sketches</span> <span style=\"background:grey;\"> of</span> <span style=\"background:grey;\"> iPhone</span> <span style=\"background:grey;\"> 6</span> <span style=\"background:grey;\"> chassis</span> <span style=\"background:grey;\"> that</span> <span style=\"background:#100d00;\"> turned</span> <span style=\"background:grey;\"> out</span> <span style=\"background:grey;\"> to</span> <span style=\"background:#1a1500;\"> be</span> <span style=\"background:#0f0b00;\"> the</span> <span style=\"background:#0b0900;\"> real</span> <span style=\"background:grey;\"> deal</span> <span style=\"background:#000000;\">.</span> <span style=\"background:#130f00;\">\n",
       "</span> <span style=\"background:#0e0b00;\">\n",
       "</span> <span style=\"background:#090700;\">Try</span> <span style=\"background:grey;\"> Amazon</span> <span style=\"background:#b28c00;\"> Prime</span> <span style=\"background:grey;\"> 30</span> <span style=\"background:#1a1400;\">-</span> <span style=\"background:#161100;\">Day</span> <span style=\"background:#100c00;\"> Free</span> <span style=\"background:grey;\"> Trial</span> <span style=\"background:grey;\">\n",
       "</span> <span style=\"background:grey;\">\n",
       "</span> <span style=\"background:#1f1900;\">The</span> <span style=\"background:#010100;\"> render</span> <span style=\"background:#020200;\"> is</span> <span style=\"background:grey;\"> rather</span> <span style=\"background:grey;\"> boring</span></p>"
      ],
      "text/plain": [
       "<IPython.core.display.HTML object>"
      ]
     },
     "metadata": {},
     "output_type": "display_data"
    }
   ],
   "source": [
    "from IPython.display import display, HTML\n",
    "\n",
    "def color_coded_display(data):\n",
    "    \"\"\"\n",
    "    Displays tokens color-coded by their activation levels.\n",
    "\n",
    "    Parameters:\n",
    "    data (list of dicts): A list where each element is a dictionary containing 'tokens' and 'activations'\n",
    "                          keys. The 'tokens' key should map to a list of token strings and 'activations'\n",
    "                          key should map to a list of corresponding activation values (floats).\n",
    "    \"\"\"\n",
    "    # Define a color gradient from blue (low activation) to red (high activation) in hexadecimal\n",
    "    def color_gradient(activation):\n",
    "        if activation > 10:\n",
    "            activation = 10\n",
    "        normalized_activation = activation / 10  # Normalizing as high activation is around 10\n",
    "        if normalized_activation == 0:\n",
    "            return 'grey'\n",
    "        blue = 0\n",
    "        green = int(200 * normalized_activation)\n",
    "        red = int(255 * (normalized_activation))\n",
    "        return f'#{red:02x}{green:02x}{blue:02x}'\n",
    "\n",
    "    # Iterate over each feature in the data\n",
    "    for j in range(len(data)):\n",
    "        feature = data[j]\n",
    "        length = len(feature['tokens'])\n",
    "        display(HTML(f\"<p style='color: red;'>Feature exp., #{j}: {feature['explanation']}</p>\"))\n",
    "        for i in range(length):\n",
    "            tokens = feature['tokens'][i]\n",
    "            activations = feature['activations'][i]\n",
    "\n",
    "            styled_tokens = []\n",
    "\n",
    "            # Prepare HTML string with tokens colored based on their corresponding activation\n",
    "            for i in range(len(tokens)):\n",
    "                color = color_gradient(activations[i])\n",
    "                styled_tokens.append(f'<span style=\"background:{color};\">{tokens[i]}</span>')\n",
    "\n",
    "            # Join all tokens into a single string with spaces and create an HTML display\n",
    "            html_output = ' '.join(styled_tokens)\n",
    "            display(HTML(f\"<p style='background: grey;'>{html_output}</p>\"))\n",
    "\n",
    "color_coded_display(data)"
   ]
  },
  {
   "cell_type": "code",
   "execution_count": null,
   "metadata": {},
   "outputs": [],
   "source": []
  }
 ],
 "metadata": {
  "kernelspec": {
   "display_name": "sparse",
   "language": "python",
   "name": "python3"
  },
  "language_info": {
   "codemirror_mode": {
    "name": "ipython",
    "version": 3
   },
   "file_extension": ".py",
   "mimetype": "text/x-python",
   "name": "python",
   "nbconvert_exporter": "python",
   "pygments_lexer": "ipython3",
   "version": "3.10.12"
  }
 },
 "nbformat": 4,
 "nbformat_minor": 2
}
